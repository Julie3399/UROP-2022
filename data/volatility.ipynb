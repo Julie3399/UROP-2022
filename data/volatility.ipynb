{
  "cells": [
    {
      "cell_type": "code",
      "execution_count": 1,
      "metadata": {
        "id": "V-COmbBmsudT"
      },
      "outputs": [],
      "source": [
        "import wrds\n",
        "import pandas as pd\n",
        "from helper import *\n",
        "db = wrds.Connection(wrds_username = 'jasminexx')"
      ]
    },
    {
      "cell_type": "markdown",
      "metadata": {
        "id": "rXrf0nbivPNZ"
      },
      "source": [
        "**Get historical realised volatility for 30 days prior to each data_traded.**"
      ]
    },
    {
      "cell_type": "code",
      "execution_count": null,
      "metadata": {
        "id": "WY5wv5Jusyb5"
      },
      "outputs": [],
      "source": [
        "vol_statement = f\"\"\"SELECT securityid, date AS date_traded, volatility\n",
        "                    FROM optionm.historical_volatility\n",
        "                    WHERE days = 30\n",
        "                        AND securityid in {tuple(data.securityid.unique())}\n",
        "                        AND date in {tuple(data.date_traded.drop_duplicates().dt.strftime('%Y-%m-%d'))}\n",
        "                    GROUP BY securityid, date, volatility\n",
        "                    ORDER BY securityid, date\"\"\"\n",
        "vols = get_data(db, vol_statement, 'date_traded')"
      ]
    }
  ],
  "metadata": {
    "colab": {
      "collapsed_sections": [],
      "name": "volatility.ipynb",
      "provenance": []
    },
    "kernelspec": {
      "display_name": "Python 3.9.13 ('base')",
      "language": "python",
      "name": "python3"
    },
    "language_info": {
      "codemirror_mode": {
        "name": "ipython",
        "version": 3
      },
      "file_extension": ".py",
      "mimetype": "text/x-python",
      "name": "python",
      "nbconvert_exporter": "python",
      "pygments_lexer": "ipython3",
      "version": "3.9.13"
    },
    "vscode": {
      "interpreter": {
        "hash": "c63bf7c73efbaa60a9891fdddd1e96dd0cc596469d20228077150d640c222586"
      }
    }
  },
  "nbformat": 4,
  "nbformat_minor": 0
}
