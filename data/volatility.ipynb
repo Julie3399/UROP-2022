{
  "nbformat": 4,
  "nbformat_minor": 0,
  "metadata": {
    "colab": {
      "name": "volatility.ipynb",
      "provenance": [],
      "collapsed_sections": []
    },
    "kernelspec": {
      "name": "python3",
      "display_name": "Python 3"
    },
    "language_info": {
      "name": "python"
    }
  },
  "cells": [
    {
      "cell_type": "code",
      "execution_count": null,
      "metadata": {
        "id": "V-COmbBmsudT"
      },
      "outputs": [],
      "source": [
        "import pandas as pd\n",
        "import helperfunctions"
      ]
    },
    {
      "cell_type": "markdown",
      "source": [
        "**Get historical realised volatility for 30 days prior to each data_traded.**"
      ],
      "metadata": {
        "id": "rXrf0nbivPNZ"
      }
    },
    {
      "cell_type": "code",
      "source": [
        "vol_statement = f\"\"\"SELECT securityid, date AS date_traded, volatility\n",
        "                    FROM optionm.historical_volatility\n",
        "                    WHERE days = 30\n",
        "                        AND securityid in {tuple(data.securityid.unique())}\n",
        "                        AND date in {tuple(data.date_traded.drop_duplicates().dt.strftime('%Y-%m-%d'))}\n",
        "                    GROUP BY securityid, date, volatility\n",
        "                    ORDER BY securityid, date\"\"\"\n",
        "vols = get_data(vol_statement, 'date_traded')"
      ],
      "metadata": {
        "id": "WY5wv5Jusyb5"
      },
      "execution_count": null,
      "outputs": []
    }
  ]
}