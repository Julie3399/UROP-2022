{
  "nbformat": 4,
  "nbformat_minor": 0,
  "metadata": {
    "colab": {
      "name": "interests_rate.ipynb",
      "provenance": [],
      "collapsed_sections": []
    },
    "kernelspec": {
      "name": "python3",
      "display_name": "Python 3"
    },
    "language_info": {
      "name": "python"
    }
  },
  "cells": [
    {
      "cell_type": "code",
      "source": [
        "import numpy as np\n",
        "import pandas as pd\n",
        "import sys\n",
        "import helperfunctions"
      ],
      "metadata": {
        "id": "2GU84nNCkxor"
      },
      "execution_count": null,
      "outputs": []
    },
    {
      "cell_type": "markdown",
      "source": [
        "Read `combined` from `combined.csv` where we stored options info each year from 2002 to 2021."
      ],
      "metadata": {
        "id": "XgDOMXkFkl5e"
      }
    },
    {
      "cell_type": "code",
      "execution_count": null,
      "metadata": {
        "id": "OvjQGpT-hW02"
      },
      "outputs": [],
      "source": [
        "combined = pd.read_csv('/content/combined/MyDrive/combined.csv')\n",
        "combined.date_traded = combined.date_traded.apply(lambda x: pd.Timestamp(x))"
      ]
    },
    {
      "cell_type": "markdown",
      "source": [
        "**Get interest rate info from `zerocd` file.**\n",
        "\n",
        "We extract data with maturity outside of our (2,365) range to help make splicing more accurate and allow more date rows to be spliced."
      ],
      "metadata": {
        "id": "MQmIXyYolOC2"
      }
    },
    {
      "cell_type": "code",
      "source": [
        "interest_statement = f\"\"\"SELECT date AS date_traded, days AS days_to_maturity, rate\n",
        "                         FROM optionm.zerocd\n",
        "                         WHERE days BETWEEN 1 AND 373\n",
        "                            AND date in {tuple(combined.date_traded.drop_duplicates().dt.strftime('%Y-%m-%d'))}\n",
        "                         GROUP BY date, days, rate\n",
        "                         ORDER BY date, days\"\"\"\n",
        "interests = get_data(interest_statement,'date_traded')"
      ],
      "metadata": {
        "id": "v64_F-l9jl-4"
      },
      "execution_count": null,
      "outputs": []
    },
    {
      "cell_type": "markdown",
      "source": [
        "**Prepare DataFrame for splicing.**\n",
        "\n",
        "\n",
        "*   `repeated_dates`: pd.DataFrame, one column named `date_traded`, each date in `interests.date_traded` repeated for 373 times.\n",
        "\n",
        "*   `repeated_maturities`: pd.DataFrame, one column named `days_to_maturity`, maturity of 1 to 373 repeated for `len(interests.date_traded.unique())` times.\n",
        "*   `dated_maturities`: pd.DataFrame, two columns, created by contacting `repeated_dates` and `repeated_maturities`.\n",
        "* `all_rates`: pd.DataFrame, three columns, contains dates with maturity and interest rates.\n",
        "*`all_rates_purged`: pd.DataFrame, three columns, contains dates with enough rates to be spliced.\n"
      ],
      "metadata": {
        "id": "b0MWtr-kmcaX"
      }
    },
    {
      "cell_type": "code",
      "source": [
        "repeated_dates = pd.DataFrame({'date_traded': np.repeat(interests.date_traded.unique(), 373)})\n",
        "repeated_maturities = pd.DataFrame({'days_to_maturity':np.tile(np.linspace(1,373,373), len(interests.date_traded.unique()))})\n",
        "dated_maturities = pd.concat([repeated_dates,repeated_maturities], axis = 1)"
      ],
      "metadata": {
        "id": "1ZuklhrXpZJ7"
      },
      "execution_count": null,
      "outputs": []
    },
    {
      "cell_type": "code",
      "source": [
        "all_rates = pd.merge(interests, dated_maturities, how='right', on=['date_traded','days_to_maturity'])"
      ],
      "metadata": {
        "id": "HDDyq2ecpl4j"
      },
      "execution_count": null,
      "outputs": []
    },
    {
      "cell_type": "code",
      "source": [
        "# Remove all dates with known interest rates less than 4 (too less data for cubic splicing).\n",
        "# Calculates the number of non NaN rates in each date(use groupby), assign True if that number > 3.\n",
        "non_nan_counts = all_rates.groupby('date_traded')['rate'].apply(lambda x: (len(x)-np.isnan(x).sum()) >3)\n",
        "toosmall(non_nan_counts)\n",
        "all_rates_purged = all_rates[np.repeat(non_nan_counts.values, 373)]"
      ],
      "metadata": {
        "id": "7bOSxRx0sOa3"
      },
      "execution_count": null,
      "outputs": []
    },
    {
      "cell_type": "markdown",
      "source": [
        "**Start Cubic-splice interpolating.**"
      ],
      "metadata": {
        "id": "JcpGwwDGpn04"
      }
    },
    {
      "cell_type": "markdown",
      "source": [
        "\n",
        "\n",
        "*   `inter_rates`: pd.DataFrame, applied cubic-splice interpolating to rates\n",
        "*   `req_rates_dated`: pd.DataFrame, added date and maturity columns to`inter_rates`, then discard rows with maturities not corresponding to option prices and remove any dates where the rate points led to extreme rate values from inter/extrapolation\n"
      ],
      "metadata": {
        "id": "fqkoqBkcpxBA"
      }
    },
    {
      "cell_type": "code",
      "source": [
        "def splicer(vec):\n",
        "  return vec.interpolate(method = 'spline', order = 3, s = 0.,limit_direction= 'both')"
      ],
      "metadata": {
        "id": "QRdvXIrnzzPA"
      },
      "execution_count": null,
      "outputs": []
    },
    {
      "cell_type": "code",
      "source": [
        "inter_rates = pd.DataFrame(all_rates_purged.groupby('date_traded')['rate'].apply(splicer))\n",
        "req_rates_dated = pd.concat([pd.DataFrame(all_rates.date_traded),pd.DataFrame(all_rates.days_to_maturity), inter_rates], axis = 1)\n",
        "req_rates_dated = req_rates_dated[req_rates_dated['days_to_maturity'].isin(combined.days_to_maturity.unique())].reset_index(drop=True)"
      ],
      "metadata": {
        "id": "WRj3f022pvrW"
      },
      "execution_count": null,
      "outputs": []
    },
    {
      "cell_type": "code",
      "source": [
        "# Remove any dates where the rate points led to extreme rate values from inter/extrapolation\n",
        "lim_min = min(interests.rate)\n",
        "lim_max = max(interests.rate)\n",
        "well_spliced_dates = pd.DataFrame(req_rates_dated.groupby('date_traded')['rate'].apply(\n",
        "                        lambda vec: (lim_min < min(vec)) & (max(vec) < lim_max) )).reset_index()\n",
        "req_rates_dated = req_rates_dated[req_rates_dated.date_traded.isin(well_spliced_dates.date_traded)]"
      ],
      "metadata": {
        "id": "Y0S7-hjD8gPe"
      },
      "execution_count": null,
      "outputs": []
    },
    {
      "cell_type": "code",
      "source": [
        "# Rates were reported as percentages\n",
        "req_rates_dated['rate'] = req_rates_dated['rate']/100"
      ],
      "metadata": {
        "id": "KlM2btFfAt4R"
      },
      "execution_count": null,
      "outputs": []
    }
  ]
}