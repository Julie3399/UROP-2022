{
  "cells": [
    {
      "cell_type": "code",
      "execution_count": 19,
      "metadata": {
        "id": "5xFLGmNF4Qbc"
      },
      "outputs": [],
      "source": [
        "!pip install wrds\n",
        "import pandas as pd\n",
        "import numpy as np\n",
        "import sys\n",
        "\n",
        "db = wrds.Connection(wrds_username = 'jasminexx')"
      ]
    },
    {
      "cell_type": "code",
      "execution_count": 10,
      "metadata": {
        "id": "0FKMo2224J_7"
      },
      "outputs": [],
      "source": [
        "def get_data(statement,date_col):\n",
        "  \"\"\"\n",
        "  Use SQL to get data and store in pandas DataFrames.\n",
        "  Standardise the format of dates to pd.Timestamp.\n",
        "\n",
        "  \"\"\"\n",
        "  res = db.raw_sql(statement)\n",
        "  res[f'{date_col}'] = res[f'{date_col}'].apply(lambda x: pd.Timestamp(x))\n",
        "  return res"
      ]
    },
    {
      "cell_type": "code",
      "execution_count": 11,
      "metadata": {
        "id": "VyCou2HO6CJM"
      },
      "outputs": [],
      "source": [
        "def contract_ids(capEforEuro, newYearDay, newYearEve):\n",
        "  \"\"\"\n",
        "  Get all call options info whose start date is between newYearDay and newYearEve from option_history file.\n",
        "  \n",
        "  \"\"\"\n",
        "  contract_statement = f\"\"\"SELECT optionid, securityid, strike/100000 as strike, expiration, callput\n",
        "                           FROM optionm.option_history\n",
        "                           WHERE exercisestyle = '{capEforEuro}' \n",
        "                                AND startdate BETWEEN '{newYearDay}' AND '{newYearEve}'\n",
        "                                AND callput = 'C'\n",
        "                           ORDER BY optionid ASC\"\"\"\n",
        "  return get_data(contract_statement, 'expiration')"
      ]
    },
    {
      "cell_type": "code",
      "execution_count": 12,
      "metadata": {
        "id": "84vFNwrK6bAE"
      },
      "outputs": [],
      "source": [
        "def option_prices(year, contracts):\n",
        "  \"\"\"\n",
        "  Get option prices (and other info) in contracts (contracts contain all options info which starts in one certain year). \n",
        "  We need contracts because `option_price_{year}` contains info of options that may not start at that year.\n",
        "\n",
        "  \"\"\"\n",
        "  option_statement = f\"\"\"SELECT optionid, date as date_traded, last/100 AS contract_price, \n",
        "                         underlyinglast/100 AS underlyings_price, volume AS contract_volume\n",
        "                         FROM optionm.option_price_{year}\n",
        "                         WHERE optionid in {tuple(contracts['optionid'])}\n",
        "                            AND volume > 2\n",
        "                            AND last > 5\n",
        "                            AND last < 40\n",
        "                            AND underlyinglast > 0.5\n",
        "                            AND specialsettlement = 0\n",
        "                          ORDER BY optionid, date\"\"\"\n",
        "  return get_data(option_statement, 'date_traded')"
      ]
    },
    {
      "cell_type": "code",
      "execution_count": 13,
      "metadata": {
        "id": "gfBXoOeG7Vus"
      },
      "outputs": [],
      "source": [
        "def combine_option_info(contracts, all_prices, combined):\n",
        "  \"\"\"\n",
        "  Create a pd.DataFrame that combines pd.DataFrame returned from contract_ids with that returned from option_prices (info in one year).\n",
        "  Order by optionid and label axis with indices starting from 0.\n",
        "  Add a new column to record days_to_maturity.\n",
        "  Only rows with 1 < days_to_maturity < 366 are retained.\n",
        "  Remove the column recording expiration.\n",
        "  Return this one-year info after combining it with combined (previous years info).\n",
        "\n",
        "  \"\"\"\n",
        "  combined_1yr = pd.merge(contracts, all_prices, how = \"right\", on = \"optionid\")\n",
        "  combined_1yr = combined_1yr.sort_values(by = ['optionid'], ignore_index = True)\n",
        "  combined_1yr['days_to_maturity'] = (combined_1yr['expiration']- combined_1yr['date_traded'])/np.timedelta64(1,'D')  # by dividing this we can get float (num of days)\n",
        "  combined_1yr = combined_1yr[(1< combined_1yr['days_to_maturity']) & (combined_1yr['days_to_maturity'] < 366)]\n",
        "  combined_1yr.drop(columns = ['expiration'], inplace = True)\n",
        "  return pd.concat([combined, combined_1yr], axis = 0, ignore_index = True)"
      ]
    },
    {
      "cell_type": "code",
      "execution_count": 14,
      "metadata": {
        "id": "fIejJbdv-_JG"
      },
      "outputs": [],
      "source": [
        "def toosmall(vec):\n",
        "  \"\"\"\n",
        "  Quotes traded on days on which there were insuffcient interest rate values (4 are required) available to perform cubic spline were discarded.\n",
        "  This function exits the script if all dates are not available.\n",
        "  \n",
        "  \"\"\"\n",
        "  if int(np.sum(vec)) == 0:\n",
        "    print('Number too small - not enough quotes for splicing rates')\n",
        "    print('Exiting script.')\n",
        "    sys.exit()"
      ]
    }
  ],
  "metadata": {
    "colab": {
      "collapsed_sections": [],
      "name": "helperfunctions.ipynb",
      "provenance": []
    },
    "kernelspec": {
      "display_name": "Python 3.9.13 ('base')",
      "language": "python",
      "name": "python3"
    },
    "language_info": {
      "name": "python",
      "version": "3.9.13"
    },
    "vscode": {
      "interpreter": {
        "hash": "c63bf7c73efbaa60a9891fdddd1e96dd0cc596469d20228077150d640c222586"
      }
    }
  },
  "nbformat": 4,
  "nbformat_minor": 0
}
