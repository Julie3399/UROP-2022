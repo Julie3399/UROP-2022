{
  "nbformat": 4,
  "nbformat_minor": 0,
  "metadata": {
    "colab": {
      "name": "combine_data.ipynb",
      "provenance": [],
      "collapsed_sections": []
    },
    "kernelspec": {
      "name": "python3",
      "display_name": "Python 3"
    },
    "language_info": {
      "name": "python"
    }
  },
  "cells": [
    {
      "cell_type": "code",
      "source": [
        "!pip install wrds\n",
        "import pandas as pd\n",
        "import sys\n",
        "import wrds\n",
        "from helperfunctions import *\n",
        "from interests_rate import *\n",
        "from volatility import vols"
      ],
      "metadata": {
        "id": "F9EZcHpWe5rs"
      },
      "execution_count": 24,
      "outputs": []
    },
    {
      "cell_type": "code",
      "source": [
        "db = wrds.Connection(wrds_username = 'jasminexx')"
      ],
      "metadata": {
        "id": "k1f3zf2OubFC"
      },
      "execution_count": null,
      "outputs": []
    },
    {
      "cell_type": "markdown",
      "source": [
        "**Combine options info with prices info**\n",
        "\n",
        "\n",
        "*   `contracts_ids` returns all options info in that year.\n",
        "\n",
        "*   `option_prices` returns price info on the traded_date. \n",
        "\n",
        "\n",
        "\n",
        "Problem is a contract may be traded in the next calendar year, so we need to check for last two years' optionids.\n",
        "i.e. `option_prices` for this year contains information of contracts that start in this year and may contains information of contracts that start in last year.\n",
        "\n",
        "`combined` contains info for an amount of `num_checked` Euro Call contracts each year from 2002 to 2021.\n"
      ],
      "metadata": {
        "id": "VQ5Ua8lUcuWU"
      }
    },
    {
      "cell_type": "code",
      "execution_count": null,
      "metadata": {
        "id": "eTvGL3NacgD0"
      },
      "outputs": [],
      "source": [
        "combined = pd.DataFrame()  # contain all option info from 2002 to 2021\n",
        "contract_list = []\n",
        "num_checked = pd.DataFrame()\n",
        "\n",
        "for year in range(2002, 2022):\n",
        "  newYearDay = f'{year}-01-01'\n",
        "  newYearEve = f'{year}-12-31'\n",
        "  contracts = contract_ids('E',newYearDay,newYearEve)\n",
        "  contract_list.append(contracts)\n",
        "  if year != 2002:\n",
        "    # contracts now contain info of contracts in year and year - 1\n",
        "    contracts = pd.concat([contract_list.pop(0),contracts], axis = 0, ignore_index = True)\n",
        "  num_checked = pd.concat([num_checked, contracts.optionid], axis = 0, ignore_index = True)\n",
        "  all_prices = option_prices(year,contracts)\n",
        "  combined = combine_option_info(contracts,all_prices,combined)\n",
        "combined.sort_values(by = ['securityid', 'callput', 'optionid', 'date_traded'], inplace = True, ignore_index = True)\n",
        "num_checked = len(num_checked[0].unique())\n",
        "\n",
        "# add a column of moneyness\n",
        "combined['moneyness'] = combined['underlyings_price'] / combined['strike']"
      ]
    },
    {
      "cell_type": "markdown",
      "source": [
        "**Add interest rates information**"
      ],
      "metadata": {
        "id": "ftTcWesAsc2g"
      }
    },
    {
      "cell_type": "code",
      "source": [
        "data = pd.merge(combined, req_rates_dated, on=['date_traded','days_to_maturity'])\n",
        "\n",
        "# Company mergers lead to existing contracts being quoted for both securityid's.\n",
        "data.drop_duplicates(subset = data.columns.difference(['securityid']), ignore_index = True, inplace = True)\n",
        "# Some repetition of quotes where only difference is strike being slightly changed.\n",
        "data.drop_duplicates(subset = data.columns.difference(['strike']), ignore_index = True, inplace = True)\n",
        "# Calculation of days_to_maturity has two answers, typically one day off.\n",
        "data.drop_duplicates(subset = data.columns.difference(['days_to_maturity', 'rate']), ignore_index = True, inplace = True)\n",
        "# Some calls are duplicated -- Not sure why.\n",
        "data.drop_duplicates(subset = data.columns.difference(['optionid']), ignore_index = True, inplace = True)\n",
        "# Some quotes duplicated across exchanges.\n",
        "data.drop_duplicates(subset = data.columns.difference(['optionid', 'contract_volume']), ignore_index = True, inplace = True)\n",
        "\n",
        "\n",
        "# Remove any companys with dividends or stock splits (62% of companies but 1.4% of quotes including puts)\n",
        "data = data[~data['securityid'].isin(db.get_table('optionm', 'distribution').securityid.unique())]\n",
        "# There are some outlier contracts which are either accidental trades or the strike/quote multiplier was missed\n",
        "data = data[(0.5 < data['moneyness']) & (data['moneyness'] < 1.5)]"
      ],
      "metadata": {
        "id": "x87qVnBNju_l"
      },
      "execution_count": null,
      "outputs": []
    },
    {
      "cell_type": "markdown",
      "source": [
        "**Add historical realised volatility information**"
      ],
      "metadata": {
        "id": "s95vTGh_tM5a"
      }
    },
    {
      "cell_type": "code",
      "source": [
        "data = pd.merge(data, vols, how = 'left').dropna()"
      ],
      "metadata": {
        "id": "vq14xqFytLxg"
      },
      "execution_count": null,
      "outputs": []
    },
    {
      "cell_type": "markdown",
      "source": [
        "**Summary**"
      ],
      "metadata": {
        "id": "a0vCal18uoyJ"
      }
    },
    {
      "cell_type": "code",
      "source": [
        "num_contracts = len(data.optionid.unique())\n",
        "num_quotes    = len(data.index)\n",
        "num_calls     = len(data[data['callput'] == 'C'])\n",
        "num_puts      = len(data.index) - num_calls\n",
        "\n",
        "data = data[['strike', 'moneyness', 'rate', 'volatility', 'days_to_maturity', 'contract_price']]\n",
        "data = save_reopen_no_num(data, f'calls_OMrates{len(data.index)}')\n",
        "\n",
        "if True: print(f\"\"\"\n",
        "\n",
        "This script uses the OptionMetrics interest rates.\n",
        "These are inconsistent with put-call parity so only\n",
        "real calls are returned. Another script uses\n",
        "put-call parity to deduce the rate.\n",
        "\n",
        "For 2002 to 2021 inclusive, this database has\n",
        "3,301,638 (to be modified) positive-volume quotes on\n",
        "1,267,300 (to be modified) distinct Euro call contracts.\n",
        "\n",
        "This script checked {num_checked:,} Euro-call contracts\n",
        "and after removing unsuitable quotes, we returned\n",
        "{num_quotes:,} quotes from {num_contracts:,} contracts;\n",
        "{100*num_quotes/(3301638):,.1f}% and {100*num_contracts/(1267300):,.1f}% of quotes and contracts respectively.\n",
        "All are converted to call prices in the output file.\n",
        "\n",
        "Two-thirds of quotes are unfortunately filtered out\n",
        "because the Black-Scholes accuracy benchmark performs\n",
        "exceptionally poorly for quotes with very large volatility\n",
        "or prices near the ticksize so these are removed as\n",
        "the error appears systematic (extreme market stress on\n",
        "particular days rather than the volatility smile itself).\n",
        "\n",
        "Also, this database is truly enormous: there are\n",
        "1,096,159,594 (to be modified) total quotes for 2002-2021,\n",
        "107,988,528 (to be modified) of which are for Euro calls.\"\"\")\n",
        "\n",
        "\n",
        "db.close()"
      ],
      "metadata": {
        "id": "3W8XCz6cuqN6"
      },
      "execution_count": null,
      "outputs": []
    }
  ]
}