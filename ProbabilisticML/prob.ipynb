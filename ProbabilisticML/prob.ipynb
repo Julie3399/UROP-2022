{
 "cells": [
  {
   "cell_type": "markdown",
   "metadata": {},
   "source": [
    "# A Probabilistic Approach  "
   ]
  },
  {
   "cell_type": "code",
   "execution_count": 1,
   "metadata": {},
   "outputs": [],
   "source": [
    "import os\n",
    "import gzip\n",
    "import pathlib\n",
    "import numpy as np\n",
    "import pandas as pd\n",
    "import tensorflow as tf\n",
    "import keras_tuner as kt\n",
    "import tensorflow_probability as tfp\n",
    "\n",
    "tfd = tfp.distributions\n",
    "tfpl = tfp.layers\n",
    "\n",
    "from trainer import *\n",
    "# The experiment for tuning and searching can be found in the notebook:\n",
    "# https://colab.research.google.com/drive/1CXthH4dujMu475C-9G9FyLul6Ritrts1?usp=sharing\n",
    "# (the code has not been optimized for readability)"
   ]
  },
  {
   "cell_type": "markdown",
   "metadata": {},
   "source": [
    "## 0 Motivation"
   ]
  },
  {
   "cell_type": "markdown",
   "metadata": {},
   "source": [
    "In fields like finance and medicine, it is often insufficient to provide a single point estimate of certain values: the desired estimations should come with a probability or confidence level, in order to answer questions like: \n",
    "- How sure are we to make this prediction? \n",
    "  \n",
    "- What is the probability that the actual value is higher than our estimate? \n",
    "  \n",
    "- What is the probability for the case where it is lower?    \n",
    "\n",
    "Therefore, it is natural to consider probabilistic machine learning techniques for tasks like these. Probabilistic methods allow us to take both **epistemic uncertainty** and **aleatoric uncertainty** into consideration, where epistemic uncertainty describes the uncertainty that are due to things one could in principle know but does not in practice (*e.g.* it is impossible to achieve zero measurement error) and aleatoric uncertainty refers to the data's inherent randomness (*e.g.* the data are generated from a random process).   "
   ]
  },
  {
   "cell_type": "markdown",
   "metadata": {},
   "source": [
    "We first get the data and view it."
   ]
  },
  {
   "cell_type": "code",
   "execution_count": 10,
   "metadata": {},
   "outputs": [
    {
     "data": {
      "text/html": [
       "<div>\n",
       "<style scoped>\n",
       "    .dataframe tbody tr th:only-of-type {\n",
       "        vertical-align: middle;\n",
       "    }\n",
       "\n",
       "    .dataframe tbody tr th {\n",
       "        vertical-align: top;\n",
       "    }\n",
       "\n",
       "    .dataframe thead th {\n",
       "        text-align: right;\n",
       "    }\n",
       "</style>\n",
       "<table border=\"1\" class=\"dataframe\">\n",
       "  <thead>\n",
       "    <tr style=\"text-align: right;\">\n",
       "      <th></th>\n",
       "      <th>optionid</th>\n",
       "      <th>securityid</th>\n",
       "      <th>strike</th>\n",
       "      <th>callput</th>\n",
       "      <th>date_traded</th>\n",
       "      <th>contract_price</th>\n",
       "      <th>market_price</th>\n",
       "      <th>underlyings_price</th>\n",
       "      <th>contract_volume</th>\n",
       "      <th>days_to_maturity</th>\n",
       "      <th>moneyness</th>\n",
       "      <th>rate</th>\n",
       "      <th>volatility</th>\n",
       "    </tr>\n",
       "  </thead>\n",
       "  <tbody>\n",
       "    <tr>\n",
       "      <th>90660</th>\n",
       "      <td>163311271.0</td>\n",
       "      <td>702263.0</td>\n",
       "      <td>16.50</td>\n",
       "      <td>C</td>\n",
       "      <td>2018-10-10</td>\n",
       "      <td>0.0870</td>\n",
       "      <td>0.090</td>\n",
       "      <td>15.945500</td>\n",
       "      <td>143.0</td>\n",
       "      <td>37.0</td>\n",
       "      <td>0.966394</td>\n",
       "      <td>0.023185</td>\n",
       "      <td>0.120411</td>\n",
       "    </tr>\n",
       "    <tr>\n",
       "      <th>76559</th>\n",
       "      <td>161071371.0</td>\n",
       "      <td>702263.0</td>\n",
       "      <td>14.30</td>\n",
       "      <td>C</td>\n",
       "      <td>2016-09-14</td>\n",
       "      <td>0.2275</td>\n",
       "      <td>0.215</td>\n",
       "      <td>14.095000</td>\n",
       "      <td>169.0</td>\n",
       "      <td>37.0</td>\n",
       "      <td>0.985664</td>\n",
       "      <td>0.005697</td>\n",
       "      <td>0.093564</td>\n",
       "    </tr>\n",
       "    <tr>\n",
       "      <th>39014</th>\n",
       "      <td>155067308.0</td>\n",
       "      <td>701057.0</td>\n",
       "      <td>190.00</td>\n",
       "      <td>C</td>\n",
       "      <td>2013-01-30</td>\n",
       "      <td>0.0800</td>\n",
       "      <td>0.095</td>\n",
       "      <td>172.899004</td>\n",
       "      <td>19.0</td>\n",
       "      <td>16.0</td>\n",
       "      <td>0.909995</td>\n",
       "      <td>0.001910</td>\n",
       "      <td>0.193863</td>\n",
       "    </tr>\n",
       "    <tr>\n",
       "      <th>57528</th>\n",
       "      <td>155921940.0</td>\n",
       "      <td>702263.0</td>\n",
       "      <td>16.35</td>\n",
       "      <td>C</td>\n",
       "      <td>2015-07-16</td>\n",
       "      <td>0.3015</td>\n",
       "      <td>0.290</td>\n",
       "      <td>16.328500</td>\n",
       "      <td>200.0</td>\n",
       "      <td>36.0</td>\n",
       "      <td>0.998685</td>\n",
       "      <td>0.001990</td>\n",
       "      <td>0.240134</td>\n",
       "    </tr>\n",
       "    <tr>\n",
       "      <th>83587</th>\n",
       "      <td>163019515.0</td>\n",
       "      <td>702263.0</td>\n",
       "      <td>16.65</td>\n",
       "      <td>C</td>\n",
       "      <td>2018-05-18</td>\n",
       "      <td>0.0610</td>\n",
       "      <td>0.050</td>\n",
       "      <td>16.185500</td>\n",
       "      <td>50.0</td>\n",
       "      <td>28.0</td>\n",
       "      <td>0.972102</td>\n",
       "      <td>0.019632</td>\n",
       "      <td>0.123697</td>\n",
       "    </tr>\n",
       "  </tbody>\n",
       "</table>\n",
       "</div>"
      ],
      "text/plain": [
       "          optionid  securityid  strike callput date_traded  contract_price  \\\n",
       "90660  163311271.0    702263.0   16.50       C  2018-10-10          0.0870   \n",
       "76559  161071371.0    702263.0   14.30       C  2016-09-14          0.2275   \n",
       "39014  155067308.0    701057.0  190.00       C  2013-01-30          0.0800   \n",
       "57528  155921940.0    702263.0   16.35       C  2015-07-16          0.3015   \n",
       "83587  163019515.0    702263.0   16.65       C  2018-05-18          0.0610   \n",
       "\n",
       "       market_price  underlyings_price  contract_volume  days_to_maturity  \\\n",
       "90660         0.090          15.945500            143.0              37.0   \n",
       "76559         0.215          14.095000            169.0              37.0   \n",
       "39014         0.095         172.899004             19.0              16.0   \n",
       "57528         0.290          16.328500            200.0              36.0   \n",
       "83587         0.050          16.185500             50.0              28.0   \n",
       "\n",
       "       moneyness      rate  volatility  \n",
       "90660   0.966394  0.023185    0.120411  \n",
       "76559   0.985664  0.005697    0.093564  \n",
       "39014   0.909995  0.001910    0.193863  \n",
       "57528   0.998685  0.001990    0.240134  \n",
       "83587   0.972102  0.019632    0.123697  "
      ]
     },
     "execution_count": 10,
     "metadata": {},
     "output_type": "execute_result"
    }
   ],
   "source": [
    "parent_path = str(pathlib.Path(os.getcwd()).parent)\n",
    "df = viewData(parent_path)\n",
    "df.sample(5)"
   ]
  },
  {
   "cell_type": "code",
   "execution_count": 3,
   "metadata": {},
   "outputs": [
    {
     "name": "stdout",
     "output_type": "stream",
     "text": [
      "train: (85999, 6), val: (10750, 6), test: (10750, 6)\n"
     ]
    }
   ],
   "source": [
    "train_ds, valid_ds, test_ds = pipeline(parent_path)"
   ]
  },
  {
   "cell_type": "markdown",
   "metadata": {},
   "source": [
    "We also get some samples"
   ]
  },
  {
   "cell_type": "code",
   "execution_count": 4,
   "metadata": {},
   "outputs": [],
   "source": [
    "sample_x, sample_y = takeSample(test_ds)"
   ]
  },
  {
   "cell_type": "markdown",
   "metadata": {},
   "source": [
    "## 1 Bayesian Neural Networks"
   ]
  },
  {
   "cell_type": "markdown",
   "metadata": {},
   "source": [
    "### 1.1 Introduction  \n",
    "\n",
    "A **Bayesian Neural Network (BNN)** is a network is stochastic weights, that is, the weights follow some probability distribution, say $p(\\theta)$ follows a normal distribution $N_{\\theta}(0, \\eta I)$ . Then we can define an observation model as \n",
    "\n",
    "$$\n",
    "p(t \\mid \\mathbf{x}, \\theta) = N_t(f_\\theta(\\mathbf{x}), \\sigma^2) \n",
    "$$  \n",
    "\n",
    "Then we can use Bayes' Rule to update the parameters  \n",
    "\n",
    "$$\n",
    "p(\\theta \\mid \\mathcal{D}) \\propto p(\\theta) \\prod_{i=1}^N p(t^{(i)} \\mid x^{(i)}, \\theta)\n",
    "$$"
   ]
  },
  {
   "cell_type": "markdown",
   "metadata": {},
   "source": [
    "The marginal distribution is often intractable to compute, so we maximize the lower bound of the log likelihood instead. (Just like in VAEs)  \n",
    "\n",
    "$$\n",
    "\\log p(\\mathcal{D}) \\geq \\mathbb{E}_{q(\\theta)}[\\log p(\\mathcal{D}|\\theta)]-D_{KL}(q(\\theta)||p(\\theta))\n",
    "$$  \n",
    "\n",
    "where the term $D_{KL}(q(\\theta)||p(\\theta))$ is the Kullback-Leibler divergence between our variational distribution $q(\\theta)$ and the true distribution $p(\\theta)$. This term encourages $q(\\theta)$ to match the prior distribution, which is often taken as a normal $N(0, \\eta^{\\frac{1}{2}})$, so the distribution is more spread out. \n",
    "\n",
    "Our goal is thus maximizing the RHS or equivalently, minimizing the negative of the RHS.  \n"
   ]
  },
  {
   "cell_type": "markdown",
   "metadata": {},
   "source": [
    "### 1.2 The Model  \n",
    "\n",
    "We use a Bayesian Neural Network with a hidden layer of `[300,100,100]`. The code for creating the model and training&evaluating are in the scripts"
   ]
  },
  {
   "cell_type": "code",
   "execution_count": null,
   "metadata": {},
   "outputs": [],
   "source": [
    "BNN = trainBNN(train_ds, valid_ds)"
   ]
  },
  {
   "cell_type": "markdown",
   "metadata": {},
   "source": [
    "To exploit the probabilistic nature of the BNN, we can draw many samples for a single input and use the Central Limit Theorem to approximate a normal distribution. An $\\alpha=0.05$ is used here with $30$ samples. (the value of $30$ is only used here for the ease of illustration, in reality, a greater number of samples is often needed; in fact, $30$ is shown to be a fallacy [Cohen 1990](https://psycnet.apa.org/doiLanding?doi=10.1037%2F0003-066X.45.12.1304))"
   ]
  },
  {
   "cell_type": "code",
   "execution_count": null,
   "metadata": {},
   "outputs": [],
   "source": [
    "samples = np.array([BNN(sample_x) for _ in range(30)])\n",
    "approx_mean = samples.mean(axis=-1)\n",
    "apporx_var  = samples.var(axis=-1)\n",
    "eps         = 1.96 * np.sqrt(apporx_var/30)"
   ]
  },
  {
   "cell_type": "code",
   "execution_count": 9,
   "metadata": {},
   "outputs": [
    {
     "data": {
      "text/plain": [
       "array([0.67236662, 0.58932049, 0.44789469])"
      ]
     },
     "execution_count": 9,
     "metadata": {},
     "output_type": "execute_result"
    }
   ],
   "source": [
    "print(f\"The confidence interval is: {approx_mean - eps} to {approx_mean + eps}\")"
   ]
  },
  {
   "cell_type": "markdown",
   "metadata": {},
   "source": [
    "### 1.3 Remarks"
   ]
  },
  {
   "cell_type": "markdown",
   "metadata": {},
   "source": [
    "Apart from the advantage of being able to provide a probabilistic estimate, BNNs do not usually overfit the data. In fact, it is often true that they underfit the data, as the prior and posterior are usually normal distributions, which may fail to capture some complicated true distribution. Some research have been done in investigating this performance issue of BNNs, for instance, [Wenzel et al. 2020](https://arxiv.org/abs/2002.02405) explored the cold posterior effect in BNNs, and [Fortuin et al, 2021](https://arxiv.org/abs/2102.06571) proposed to use the distribution of weights of a SGD trained network to inform the choice of prior of the BNN.  \n",
    "\n",
    "We have carried out some experiments along the lines of [Fortuin et al, 2021](https://arxiv.org/abs/2102.06571) but the results were not as promising, possibly due to the type of problem we are trying to solve being a regression one and it is also hard to use a negative log-likelihood function.  "
   ]
  },
  {
   "cell_type": "markdown",
   "metadata": {},
   "source": [
    "## 2 Mixture Density Networks"
   ]
  },
  {
   "cell_type": "markdown",
   "metadata": {},
   "source": [
    "**Mixture Density Networks (MDN)** [Bishop 1994](https://publications.aston.ac.uk/id/eprint/373/1/NCRG_94_004.pdf) learn the mixing coefficients and parameters for normal distirbutions and output the prediction as a sample drawn from a Gaussian Mixture Model (GMM). It is particularly useful when the distribution of data is multi-modal, which is the case here.  \n",
    "\n",
    "More precisely, the value $\\mathbf{t}$ we would like to estimate can be viewed as a random variable with the following density function given input data $\\mathbf{x}$  \n",
    "\n",
    "$$\n",
    "p(\\mathbf{t}|\\mathbf{x}) = \\sum_{k=1}^{K} \\pi_k(\\mathbf{x}) \\mathcal{N}(\\mathbf{t} \\mid \\mathbf{\\mu}_k (\\mathbf{x}), \\sigma_k^2(\\mathbf{x}))\n",
    "$$  \n",
    "\n",
    "where we have  \n",
    "\n",
    "- $\\sum_{k=1}^{K} \\pi_k(\\mathbf{x})=1$ being the mixing coefficients of a GMM\n",
    "\n",
    "- $\\mathbf{\\mu}_k (\\mathbf{x})$ are the means\n",
    "\n",
    "- $\\sigma_k^2(\\mathbf{x})$ are the variances, which are positive\n",
    "\n",
    "Our neural network $f(\\mathbf{x}|\\Theta)$ can thus learn $\\Theta$ from the data $\\mathbf{x}$ and output the three terms described above.  \n",
    "\n",
    "To ensure all the restrictions are met, we use softmax activations for the mixing coefficients   \n",
    "\n",
    "$$\n",
    "\\pi_k(\\mathbf{x}) = \\dfrac{\\exp(a_k^{\\pi})}{\\sum_{l=1}^K \\exp(a_l^{\\pi})}\n",
    "$$  \n",
    "\n",
    "where $a_k^{\\pi}$ is the output for the neuron corresponding to the $k^{th}$ mixing coefficient.  \n",
    "\n",
    "And we use an exponential function for the variances  \n",
    "\n",
    "$$\n",
    "\\sigma_k(\\mathbf{x}) = \\exp(a_k^{\\sigma})\n",
    "$$  \n",
    "\n",
    "The means are not altered  \n",
    "\n",
    "$$\n",
    "\\mathbf{\\mu}_k (\\mathbf{x}) = a_k^{\\mu}\n",
    "$$"
   ]
  },
  {
   "cell_type": "markdown",
   "metadata": {},
   "source": [
    "The network loss is given by the negative log-likelihood function summed over the data  \n",
    "\n",
    "$$\n",
    "    \\mathcal{L}(\\Theta; \\mathcal{D}) = - \\sum_{\\mathbf{x} \\in \\mathcal{D}} \\log \\sum_{k=1}^K \\bigg \\{\\pi_k(\\mathbf{x}; \\Theta) \\mathcal{N}(\\mathbf{t} \\mid \\mathbf{\\mu}_k (\\mathbf{x}; \\Theta), \\sigma_k^2(\\mathbf{x}; \\Theta)) \\bigg \\}\n",
    "$$"
   ]
  },
  {
   "cell_type": "markdown",
   "metadata": {},
   "source": [
    "To motivate the use of MDN, we visualize the data below"
   ]
  },
  {
   "cell_type": "code",
   "execution_count": 13,
   "metadata": {},
   "outputs": [
    {
     "data": {
      "image/png": "[encoded data removed]",
      "text/plain": [
       "<Figure size 640x480 with 1 Axes>"
      ]
     },
     "metadata": {},
     "output_type": "display_data"
    }
   ],
   "source": [
    "import matplotlib.pyplot as plt\n",
    "plt.hist(df.contract_price, bins=100);"
   ]
  },
  {
   "cell_type": "markdown",
   "metadata": {},
   "source": [
    "This suggests the data is multi-modal, which can be modelled as a mixture of distributions. In fact, instead of MDNs, we can also use a mixture of skewed distributions."
   ]
  },
  {
   "cell_type": "code",
   "execution_count": null,
   "metadata": {},
   "outputs": [],
   "source": [
    "MDN = trainMDN(train_ds, valid_ds)"
   ]
  },
  {
   "cell_type": "markdown",
   "metadata": {},
   "source": [
    "Again, we can construct a confidence interval from the model. Note here the model outputs a `tfp.Distribution` instance which is a probability distribution."
   ]
  },
  {
   "cell_type": "code",
   "execution_count": null,
   "metadata": {},
   "outputs": [],
   "source": [
    "samples = MDN(sample_x).sample(30).numpy()\n",
    "approx_mean = samples.mean(axis=-1)\n",
    "apporx_var  = samples.var(axis=-1)\n",
    "eps         = 1.96 * np.sqrt(apporx_var/30)"
   ]
  },
  {
   "cell_type": "code",
   "execution_count": null,
   "metadata": {},
   "outputs": [],
   "source": [
    "print(f\"The confidence interval is: {approx_mean - eps} to {approx_mean + eps}\")"
   ]
  },
  {
   "cell_type": "markdown",
   "metadata": {},
   "source": [
    "## 3 Ensemble of MDNs"
   ]
  },
  {
   "cell_type": "markdown",
   "metadata": {},
   "source": [
    "This has not yet been implemented. The idea is that through the use of **bagging**, the different MDNs can learn the different modals in the data, thus they can be used together to give a better estimate."
   ]
  }
 ],
 "metadata": {
  "kernelspec": {
   "display_name": "Python 3.7.9 ('my')",
   "language": "python",
   "name": "python3"
  },
  "language_info": {
   "codemirror_mode": {
    "name": "ipython",
    "version": 3
   },
   "file_extension": ".py",
   "mimetype": "text/x-python",
   "name": "python",
   "nbconvert_exporter": "python",
   "pygments_lexer": "ipython3",
   "version": "3.7.9"
  },
  "orig_nbformat": 4,
  "vscode": {
   "interpreter": {
    "hash": "ae074981885b87eddeb2f9c2c772d0c6068182876a016d28b3a0c777d45839f8"
   }
  }
 },
 "nbformat": 4,
 "nbformat_minor": 2
}
