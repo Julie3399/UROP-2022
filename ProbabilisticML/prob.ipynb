{
 "cells": [
  {
   "cell_type": "markdown",
   "metadata": {},
   "source": [
    "# A Probabilistic Approach  "
   ]
  },
  {
   "cell_type": "markdown",
   "metadata": {},
   "source": [
    "## 0 Motivation"
   ]
  },
  {
   "cell_type": "markdown",
   "metadata": {},
   "source": [
    "In fields like finance and medicine, it is often insufficient to provide a single point estimate of certain values: the desired estimations should come with a probability or confidence level, in order to answer questions like: \n",
    "- How sure are we to make this prediction? \n",
    "  \n",
    "- What is the probability that the actual value is higher than our estimate? \n",
    "  \n",
    "- What is the probability for the case where it is lower?    \n",
    "\n",
    "Therefore, it is natural to consider probabilistic machine learning techniques for tasks like these. Probabilistic methods allow us to take both **epistemic uncertainty** and **aleatoric uncertainty** into consideration, where epistemic uncertainty describes the uncertainty that are due to things one could in principle know but does not in practice (*e.g.* it is impossible to achieve zero measurement error) and aleatoric uncertainty refers to the data's inherent randomness (*e.g.* the data are generated from a random process).   "
   ]
  },
  {
   "cell_type": "markdown",
   "metadata": {},
   "source": [
    "## 1 Bayesian Neural Networks"
   ]
  },
  {
   "cell_type": "markdown",
   "metadata": {},
   "source": [
    "### 1.1 Introduction  \n",
    "\n",
    "A Bayesian Neural Network (BNN) is a network is stochastic weights, that is, the weights follow some probability distribution, say $p(\\theta)$ follows a normal distribution $N_{\\theta}(0, \\eta I)$ . Then we can define an observation model as \n",
    "\n",
    "$$\n",
    "p(t \\mid \\mathbf{x}, \\theta) = N_t(f_\\theta(\\mathbf{x}), \\sigma^2) \n",
    "$$  \n",
    "\n",
    "Then we can use Bayes' Rule to update the parameters  \n",
    "\n",
    "$$\n",
    "p(\\theta \\mid \\mathcal{D}) \\propto p(\\theta) \\prod_{i=1}^N p(t^{(i)} \\mid x^{(i)}, \\theta)\n",
    "$$"
   ]
  },
  {
   "cell_type": "markdown",
   "metadata": {},
   "source": [
    "### 1.2 Training and Evaluation"
   ]
  },
  {
   "cell_type": "code",
   "execution_count": null,
   "metadata": {},
   "outputs": [],
   "source": []
  },
  {
   "cell_type": "markdown",
   "metadata": {},
   "source": [
    "### 1.3 Remarks"
   ]
  },
  {
   "cell_type": "code",
   "execution_count": null,
   "metadata": {},
   "outputs": [],
   "source": []
  },
  {
   "cell_type": "markdown",
   "metadata": {},
   "source": [
    "## 2 Mixture Density Networks"
   ]
  },
  {
   "cell_type": "markdown",
   "metadata": {},
   "source": []
  },
  {
   "cell_type": "code",
   "execution_count": null,
   "metadata": {},
   "outputs": [],
   "source": []
  },
  {
   "cell_type": "markdown",
   "metadata": {},
   "source": [
    "## 3 Ensemble of MDNs"
   ]
  },
  {
   "cell_type": "markdown",
   "metadata": {},
   "source": []
  },
  {
   "cell_type": "code",
   "execution_count": null,
   "metadata": {},
   "outputs": [],
   "source": []
  },
  {
   "cell_type": "markdown",
   "metadata": {},
   "source": [
    "## 3 Discussion"
   ]
  },
  {
   "cell_type": "markdown",
   "metadata": {},
   "source": [
    "A not so surprisingly common problem with BNNs is underfitting: the use of isotropic normal distributions are not sufficient to model high dimensional, high complexity true posteriors. To solve this issue, many approaches have been proposed, for instance a new posterior (ref. ) and a heavy tailed prior."
   ]
  },
  {
   "cell_type": "markdown",
   "metadata": {},
   "source": [
    "## References"
   ]
  }
 ],
 "metadata": {
  "kernelspec": {
   "display_name": "Python 3.7.9 ('my')",
   "language": "python",
   "name": "python3"
  },
  "language_info": {
   "name": "python",
   "version": "3.7.9"
  },
  "orig_nbformat": 4,
  "vscode": {
   "interpreter": {
    "hash": "ae074981885b87eddeb2f9c2c772d0c6068182876a016d28b3a0c777d45839f8"
   }
  }
 },
 "nbformat": 4,
 "nbformat_minor": 2
}
