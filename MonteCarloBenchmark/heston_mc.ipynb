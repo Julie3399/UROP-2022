{
  "cells": [
    {
      "cell_type": "markdown",
      "metadata": {
        "id": "Mvc_Q_FsIZdZ"
      },
      "source": [
        "# Option Pricing based on Heston and Black-Scholes Model\n",
        "\n",
        "We use Monte Carlo simulation to implement the Heston and Black-Scholes model"
      ]
    },
    {
      "cell_type": "code",
      "execution_count": 1,
      "metadata": {
        "id": "CTkX8VBCIsK5"
      },
      "outputs": [],
      "source": [
        "import os\n",
        "import time\n",
        "import pathlib\n",
        "import numpy as np\n",
        "import pandas as pd\n",
        "from tqdm import tqdm\n",
        "from scipy.stats import norm\n",
        "\n",
        "from heston import *\n",
        "from blackscholes import *"
      ]
    },
    {
      "cell_type": "markdown",
      "metadata": {},
      "source": [
        "## 0 Heston model for scalar values\n",
        "\n",
        "We first implement a scalar version of the model according to the following formulae.  \n",
        "\n",
        "$$d S_t  = \\mu S_t dt + \\sqrt{\\nu_t} S_t dW^S_t \\\\ d \\nu_t = \\kappa (\\theta - \\nu_t) dt + \\xi \\sqrt{\\nu_t} dW^\\nu_t$$  \n",
        "\n",
        "which is discretized as  \n",
        "\n",
        "$$\n",
        "S_{i+1} = S_i \\exp [\\left(\\mu - \\frac{1}{2} v_i^{+}\\right) \\Delta t + \\sqrt{v_i^{+}} \\sqrt{\\Delta t} \\Delta W^S_{i+1}] \\\\\n",
        "\\nu_{i+1} = \\nu_i + \\kappa (\\theta - \\nu_i^{+}) \\Delta t + \\xi \\sqrt{\\nu_i^{+}} \\Delta W^\\nu_{i+1}\n",
        "$$"
      ]
    },
    {
      "cell_type": "code",
      "execution_count": 2,
      "metadata": {
        "id": "D4WVTVvwI1na"
      },
      "outputs": [],
      "source": [
        "# set some parameters\n",
        "num_sims = 100000;   # Number of simulated asset paths\n",
        "num_intervals = 1000;  # Number of intervals for the asset path to be sampled \n",
        "\n",
        "S_0 = 100.0;    # Initial spot price\n",
        "K = 100.0;      # Strike price\n",
        "r = 0.0319;     # Risk-free rate\n",
        "v_0 = 0.010201; # Initial volatility \n",
        "T = 1.00;       # One year until expiry\n",
        "\n",
        "rho = -0.7;     # Correlation of asset and volatility\n",
        "kappa = 6.21;   # Mean-reversion rate\n",
        "theta = 0.019;  # Long run average volatility\n",
        "xi = 0.61;      # \"Vol of vol\""
      ]
    },
    {
      "cell_type": "code",
      "execution_count": 3,
      "metadata": {
        "colab": {
          "base_uri": "https://localhost:8080/"
        },
        "id": "1B1Y1SE1Jycb",
        "outputId": "2ce01137-1f68-4ba1-d25e-c5aceb85f284"
      },
      "outputs": [
        {
          "name": "stderr",
          "output_type": "stream",
          "text": [
            "100%|\u001b[32m██████████\u001b[0m| 1000/1000 [00:04<00:00, 237.62it/s]\n"
          ]
        }
      ],
      "source": [
        "result = generate_heston_paths(S_0, T, K, r, kappa, theta, v_0,\n",
        "                      rho, xi, num_intervals, num_sims)"
      ]
    },
    {
      "cell_type": "code",
      "execution_count": 4,
      "metadata": {
        "colab": {
          "base_uri": "https://localhost:8080/"
        },
        "id": "OHwntRdAKB2s",
        "outputId": "776ccfd7-1fe7-4e8a-8b77-9c91c48bc332"
      },
      "outputs": [
        {
          "name": "stdout",
          "output_type": "stream",
          "text": [
            "6.857745620433957\n",
            "3.7042566528167202\n",
            "0.019215234072840794\n"
          ]
        }
      ],
      "source": [
        "for x in result:\n",
        "  print(x)"
      ]
    },
    {
      "cell_type": "markdown",
      "metadata": {},
      "source": [
        "## 1 Heston model for vector values \n",
        "\n",
        "To produce a large number of results, we need to utilize the built-in vectorization in `numpy`."
      ]
    },
    {
      "cell_type": "markdown",
      "metadata": {},
      "source": [
        "We first load data for experiment and preprocess (roughly)"
      ]
    },
    {
      "cell_type": "code",
      "execution_count": 12,
      "metadata": {
        "id": "7xWcyBCC7Rxu"
      },
      "outputs": [],
      "source": [
        "parent_path = str(pathlib.Path(os.getcwd()).parent)\n",
        "compressed = False\n",
        "if compressed:\n",
        "    import zipfile\n",
        "    parent_path = str(pathlib.Path(os.getcwd()).parent)\n",
        "    with zipfile.ZipFile(parent_path + \"/data/combined.zip\",\"r\") as zip_ref:\n",
        "        zip_ref.extractall(parent_path+\"/data/\")"
      ]
    },
    {
      "cell_type": "code",
      "execution_count": 16,
      "metadata": {},
      "outputs": [
        {
          "name": "stdout",
          "output_type": "stream",
          "text": [
            "(107499, 14)\n"
          ]
        },
        {
          "data": {
            "text/html": [
              "<div>\n",
              "<style scoped>\n",
              "    .dataframe tbody tr th:only-of-type {\n",
              "        vertical-align: middle;\n",
              "    }\n",
              "\n",
              "    .dataframe tbody tr th {\n",
              "        vertical-align: top;\n",
              "    }\n",
              "\n",
              "    .dataframe thead th {\n",
              "        text-align: right;\n",
              "    }\n",
              "</style>\n",
              "<table border=\"1\" class=\"dataframe\">\n",
              "  <thead>\n",
              "    <tr style=\"text-align: right;\">\n",
              "      <th></th>\n",
              "      <th>Unnamed: 0</th>\n",
              "      <th>optionid</th>\n",
              "      <th>securityid</th>\n",
              "      <th>strike</th>\n",
              "      <th>callput</th>\n",
              "      <th>date_traded</th>\n",
              "      <th>contract_price</th>\n",
              "      <th>market_price</th>\n",
              "      <th>underlyings_price</th>\n",
              "      <th>contract_volume</th>\n",
              "      <th>days_to_maturity</th>\n",
              "      <th>moneyness</th>\n",
              "      <th>rate</th>\n",
              "      <th>volatility</th>\n",
              "    </tr>\n",
              "  </thead>\n",
              "  <tbody>\n",
              "    <tr>\n",
              "      <th>71090</th>\n",
              "      <td>71616</td>\n",
              "      <td>158035361.0</td>\n",
              "      <td>702263.0</td>\n",
              "      <td>14.75</td>\n",
              "      <td>C</td>\n",
              "      <td>2014-12-05</td>\n",
              "      <td>0.0725</td>\n",
              "      <td>0.07625</td>\n",
              "      <td>14.717500</td>\n",
              "      <td>175.0</td>\n",
              "      <td>7.0</td>\n",
              "      <td>0.997797</td>\n",
              "      <td>0.001361</td>\n",
              "      <td>0.106912</td>\n",
              "    </tr>\n",
              "    <tr>\n",
              "      <th>79565</th>\n",
              "      <td>80091</td>\n",
              "      <td>161441744.0</td>\n",
              "      <td>702263.0</td>\n",
              "      <td>17.20</td>\n",
              "      <td>C</td>\n",
              "      <td>2019-07-19</td>\n",
              "      <td>0.1450</td>\n",
              "      <td>0.14875</td>\n",
              "      <td>16.031750</td>\n",
              "      <td>40.0</td>\n",
              "      <td>154.0</td>\n",
              "      <td>0.932079</td>\n",
              "      <td>0.021512</td>\n",
              "      <td>0.140598</td>\n",
              "    </tr>\n",
              "    <tr>\n",
              "      <th>12914</th>\n",
              "      <td>13302</td>\n",
              "      <td>150256638.0</td>\n",
              "      <td>506528.0</td>\n",
              "      <td>62.25</td>\n",
              "      <td>C</td>\n",
              "      <td>2006-09-14</td>\n",
              "      <td>0.2050</td>\n",
              "      <td>0.20000</td>\n",
              "      <td>58.772202</td>\n",
              "      <td>111.0</td>\n",
              "      <td>64.0</td>\n",
              "      <td>0.944132</td>\n",
              "      <td>0.054346</td>\n",
              "      <td>0.259342</td>\n",
              "    </tr>\n",
              "    <tr>\n",
              "      <th>88120</th>\n",
              "      <td>88646</td>\n",
              "      <td>163738109.0</td>\n",
              "      <td>702263.0</td>\n",
              "      <td>15.70</td>\n",
              "      <td>C</td>\n",
              "      <td>2019-03-04</td>\n",
              "      <td>0.2775</td>\n",
              "      <td>0.27250</td>\n",
              "      <td>15.892000</td>\n",
              "      <td>43.0</td>\n",
              "      <td>11.0</td>\n",
              "      <td>1.012229</td>\n",
              "      <td>0.024492</td>\n",
              "      <td>0.099781</td>\n",
              "    </tr>\n",
              "    <tr>\n",
              "      <th>26057</th>\n",
              "      <td>26570</td>\n",
              "      <td>156827924.0</td>\n",
              "      <td>506534.0</td>\n",
              "      <td>5.25</td>\n",
              "      <td>C</td>\n",
              "      <td>2007-09-07</td>\n",
              "      <td>0.0600</td>\n",
              "      <td>0.06050</td>\n",
              "      <td>5.174300</td>\n",
              "      <td>1634.0</td>\n",
              "      <td>14.0</td>\n",
              "      <td>0.985581</td>\n",
              "      <td>0.058290</td>\n",
              "      <td>0.244493</td>\n",
              "    </tr>\n",
              "  </tbody>\n",
              "</table>\n",
              "</div>"
            ],
            "text/plain": [
              "       Unnamed: 0     optionid  securityid  strike callput date_traded  \\\n",
              "71090       71616  158035361.0    702263.0   14.75       C  2014-12-05   \n",
              "79565       80091  161441744.0    702263.0   17.20       C  2019-07-19   \n",
              "12914       13302  150256638.0    506528.0   62.25       C  2006-09-14   \n",
              "88120       88646  163738109.0    702263.0   15.70       C  2019-03-04   \n",
              "26057       26570  156827924.0    506534.0    5.25       C  2007-09-07   \n",
              "\n",
              "       contract_price  market_price  underlyings_price  contract_volume  \\\n",
              "71090          0.0725       0.07625          14.717500            175.0   \n",
              "79565          0.1450       0.14875          16.031750             40.0   \n",
              "12914          0.2050       0.20000          58.772202            111.0   \n",
              "88120          0.2775       0.27250          15.892000             43.0   \n",
              "26057          0.0600       0.06050           5.174300           1634.0   \n",
              "\n",
              "       days_to_maturity  moneyness      rate  volatility  \n",
              "71090               7.0   0.997797  0.001361    0.106912  \n",
              "79565             154.0   0.932079  0.021512    0.140598  \n",
              "12914              64.0   0.944132  0.054346    0.259342  \n",
              "88120              11.0   1.012229  0.024492    0.099781  \n",
              "26057              14.0   0.985581  0.058290    0.244493  "
            ]
          },
          "execution_count": 16,
          "metadata": {},
          "output_type": "execute_result"
        }
      ],
      "source": [
        "df = pd.read_csv(os.path.join(parent_path, 'data/data.csv'))\n",
        "\n",
        "print(df.shape)\n",
        "\n",
        "df.sample(5)"
      ]
    },
    {
      "cell_type": "markdown",
      "metadata": {},
      "source": [
        "Here we use (almost) the same approach to model average long run volatility $\\theta$, mean reversion rate of volatility $\\kappa$, and the variance of volatility $\\xi$.  \n",
        "\n",
        "**Question:** Is this the best approach? Are there better approaches? Perhaps options with the same underlying asset should take correlated values?"
      ]
    },
    {
      "cell_type": "code",
      "execution_count": 17,
      "metadata": {},
      "outputs": [
        {
          "data": {
            "text/html": [
              "<div>\n",
              "<style scoped>\n",
              "    .dataframe tbody tr th:only-of-type {\n",
              "        vertical-align: middle;\n",
              "    }\n",
              "\n",
              "    .dataframe tbody tr th {\n",
              "        vertical-align: top;\n",
              "    }\n",
              "\n",
              "    .dataframe thead th {\n",
              "        text-align: right;\n",
              "    }\n",
              "</style>\n",
              "<table border=\"1\" class=\"dataframe\">\n",
              "  <thead>\n",
              "    <tr style=\"text-align: right;\">\n",
              "      <th></th>\n",
              "      <th>Unnamed: 0</th>\n",
              "      <th>optionid</th>\n",
              "      <th>securityid</th>\n",
              "      <th>strike</th>\n",
              "      <th>callput</th>\n",
              "      <th>date_traded</th>\n",
              "      <th>contract_price</th>\n",
              "      <th>market_price</th>\n",
              "      <th>underlyings_price</th>\n",
              "      <th>contract_volume</th>\n",
              "      <th>days_to_maturity</th>\n",
              "      <th>moneyness</th>\n",
              "      <th>rate</th>\n",
              "      <th>volatility</th>\n",
              "      <th>mean_volatility</th>\n",
              "      <th>reversion</th>\n",
              "      <th>var_of_vol</th>\n",
              "      <th>rho</th>\n",
              "    </tr>\n",
              "  </thead>\n",
              "  <tbody>\n",
              "    <tr>\n",
              "      <th>0</th>\n",
              "      <td>0</td>\n",
              "      <td>150034236.0</td>\n",
              "      <td>504569.0</td>\n",
              "      <td>0.42</td>\n",
              "      <td>C</td>\n",
              "      <td>2006-10-18</td>\n",
              "      <td>0.0715</td>\n",
              "      <td>0.07025</td>\n",
              "      <td>0.488500</td>\n",
              "      <td>5.0</td>\n",
              "      <td>2.0</td>\n",
              "      <td>1.163095</td>\n",
              "      <td>0.053646</td>\n",
              "      <td>0.022956</td>\n",
              "      <td>0.034938</td>\n",
              "      <td>3.024025</td>\n",
              "      <td>0.171832</td>\n",
              "      <td>-0.269833</td>\n",
              "    </tr>\n",
              "    <tr>\n",
              "      <th>1</th>\n",
              "      <td>1</td>\n",
              "      <td>150247468.0</td>\n",
              "      <td>504880.0</td>\n",
              "      <td>40.00</td>\n",
              "      <td>C</td>\n",
              "      <td>2006-10-18</td>\n",
              "      <td>0.1240</td>\n",
              "      <td>0.12250</td>\n",
              "      <td>39.913799</td>\n",
              "      <td>56137.0</td>\n",
              "      <td>2.0</td>\n",
              "      <td>0.997845</td>\n",
              "      <td>0.053646</td>\n",
              "      <td>0.114784</td>\n",
              "      <td>0.009892</td>\n",
              "      <td>1.367820</td>\n",
              "      <td>0.695079</td>\n",
              "      <td>-0.062408</td>\n",
              "    </tr>\n",
              "    <tr>\n",
              "      <th>2</th>\n",
              "      <td>2</td>\n",
              "      <td>150255000.0</td>\n",
              "      <td>506496.0</td>\n",
              "      <td>62.00</td>\n",
              "      <td>C</td>\n",
              "      <td>2006-10-18</td>\n",
              "      <td>0.1720</td>\n",
              "      <td>0.17400</td>\n",
              "      <td>61.827798</td>\n",
              "      <td>27369.0</td>\n",
              "      <td>2.0</td>\n",
              "      <td>0.997223</td>\n",
              "      <td>0.053646</td>\n",
              "      <td>0.106823</td>\n",
              "      <td>0.017232</td>\n",
              "      <td>4.551421</td>\n",
              "      <td>0.366965</td>\n",
              "      <td>-0.609384</td>\n",
              "    </tr>\n",
              "    <tr>\n",
              "      <th>3</th>\n",
              "      <td>3</td>\n",
              "      <td>150255496.0</td>\n",
              "      <td>506497.0</td>\n",
              "      <td>53.50</td>\n",
              "      <td>C</td>\n",
              "      <td>2006-10-18</td>\n",
              "      <td>0.2960</td>\n",
              "      <td>0.26550</td>\n",
              "      <td>53.612900</td>\n",
              "      <td>1224.0</td>\n",
              "      <td>2.0</td>\n",
              "      <td>1.002110</td>\n",
              "      <td>0.053646</td>\n",
              "      <td>0.110336</td>\n",
              "      <td>0.004480</td>\n",
              "      <td>0.939388</td>\n",
              "      <td>0.357749</td>\n",
              "      <td>-0.685540</td>\n",
              "    </tr>\n",
              "    <tr>\n",
              "      <th>4</th>\n",
              "      <td>4</td>\n",
              "      <td>150255498.0</td>\n",
              "      <td>506497.0</td>\n",
              "      <td>54.00</td>\n",
              "      <td>C</td>\n",
              "      <td>2006-10-18</td>\n",
              "      <td>0.0750</td>\n",
              "      <td>0.06450</td>\n",
              "      <td>53.612900</td>\n",
              "      <td>963.0</td>\n",
              "      <td>2.0</td>\n",
              "      <td>0.992831</td>\n",
              "      <td>0.053646</td>\n",
              "      <td>0.110336</td>\n",
              "      <td>0.013351</td>\n",
              "      <td>1.627237</td>\n",
              "      <td>0.627991</td>\n",
              "      <td>-0.066153</td>\n",
              "    </tr>\n",
              "  </tbody>\n",
              "</table>\n",
              "</div>"
            ],
            "text/plain": [
              "   Unnamed: 0     optionid  securityid  strike callput date_traded  \\\n",
              "0           0  150034236.0    504569.0    0.42       C  2006-10-18   \n",
              "1           1  150247468.0    504880.0   40.00       C  2006-10-18   \n",
              "2           2  150255000.0    506496.0   62.00       C  2006-10-18   \n",
              "3           3  150255496.0    506497.0   53.50       C  2006-10-18   \n",
              "4           4  150255498.0    506497.0   54.00       C  2006-10-18   \n",
              "\n",
              "   contract_price  market_price  underlyings_price  contract_volume  \\\n",
              "0          0.0715       0.07025           0.488500              5.0   \n",
              "1          0.1240       0.12250          39.913799          56137.0   \n",
              "2          0.1720       0.17400          61.827798          27369.0   \n",
              "3          0.2960       0.26550          53.612900           1224.0   \n",
              "4          0.0750       0.06450          53.612900            963.0   \n",
              "\n",
              "   days_to_maturity  moneyness      rate  volatility  mean_volatility  \\\n",
              "0               2.0   1.163095  0.053646    0.022956         0.034938   \n",
              "1               2.0   0.997845  0.053646    0.114784         0.009892   \n",
              "2               2.0   0.997223  0.053646    0.106823         0.017232   \n",
              "3               2.0   1.002110  0.053646    0.110336         0.004480   \n",
              "4               2.0   0.992831  0.053646    0.110336         0.013351   \n",
              "\n",
              "   reversion  var_of_vol       rho  \n",
              "0   3.024025    0.171832 -0.269833  \n",
              "1   1.367820    0.695079 -0.062408  \n",
              "2   4.551421    0.366965 -0.609384  \n",
              "3   0.939388    0.357749 -0.685540  \n",
              "4   1.627237    0.627991 -0.066153  "
            ]
          },
          "execution_count": 17,
          "metadata": {},
          "output_type": "execute_result"
        }
      ],
      "source": [
        "# drop contract volume\n",
        "df.drop(['contract_volume'], axis = 1)\n",
        "\n",
        "# drop small strike prices\n",
        "df = df.drop(df[df.strike<0.1].index)\n",
        "\n",
        "# We may  add the following to the function for heston simulation\n",
        "\n",
        "# add average long run volatility (theta)\n",
        "df['mean_volatility'] = 0.001 + 0.05 * np.random.rand(len(df))\n",
        "\n",
        "# add mean reversion rate of volatility (kappa)\n",
        "df['reversion'] = 0.01 + 5 * np.random.rand(len(df))\n",
        "\n",
        "# add variance of volatility\n",
        "df['var_of_vol'] = 0.01 + 0.7 * np.random.rand(len(df))\n",
        "\n",
        "# add correlation between random processes  \n",
        "df['rho'] = -0.05 - 0.7 * np.random.rand(len(df))\n",
        "\n",
        "df.head()"
      ]
    },
    {
      "cell_type": "markdown",
      "metadata": {},
      "source": [
        "For the ease of computation, we halve/reduce the size of `df`"
      ]
    },
    {
      "cell_type": "code",
      "execution_count": 18,
      "metadata": {},
      "outputs": [
        {
          "name": "stdout",
          "output_type": "stream",
          "text": [
            "The dataframe now has a length 537\n"
          ]
        }
      ],
      "source": [
        "df = df.sample(int(0.005*len(df)))\n",
        "print(f\"The dataframe now has a length {len(df)}\")"
      ]
    },
    {
      "cell_type": "markdown",
      "metadata": {},
      "source": [
        "## 2 Black-Scholes Model for vector values  \n",
        "\n",
        "We implement the call/put option price of a Black-Scholes Model analystically according the following formulae.  \n",
        "\n",
        "$$\n",
        "\\begin{aligned}\n",
        "C(S,t) &= SN(d_1) - Ke^{-rT} N(d_2) \\\\\n",
        "P(S,t) &= Ke^{-rT} - S + (SN(d_1) - Ke^{-rT} N(d_2))\n",
        "\\end{aligned}\n",
        "$$  \n",
        "\n",
        "where $N(x)$ is the cdf. of a standard normal distribution and $d_1,d_2$ are defined as  \n",
        "\n",
        "$$\n",
        "\\begin{aligned}\n",
        "d_1 &= \\frac{\\log(S/K) + (r+\\frac{\\sigma^2}{2})T}{\\sigma \\sqrt{T} }\\\\\n",
        "d_2 &= d_1 - \\sigma \\sqrt{T}\n",
        "\\end{aligned}\n",
        "$$  \n",
        "\n",
        "The implementation of the Black-Scholes model can be found in `blackscholes.py` and for the Heston model it can be found in `heston.py`"
      ]
    },
    {
      "cell_type": "markdown",
      "metadata": {},
      "source": [
        "## 1.1 Testing implementation  \n",
        "\n",
        "We test the implementation and observe the MSE computed with the historical contract prices"
      ]
    },
    {
      "cell_type": "code",
      "execution_count": 20,
      "metadata": {},
      "outputs": [
        {
          "name": "stderr",
          "output_type": "stream",
          "text": [
            "100%|\u001b[32m██████████\u001b[0m| 1000/1000 [00:02<00:00, 424.70it/s]"
          ]
        },
        {
          "name": "stdout",
          "output_type": "stream",
          "text": [
            "MSE for Heston:  0.05061445005096539\n",
            "MSE for B-S:  0.019314992276848564\n"
          ]
        },
        {
          "name": "stderr",
          "output_type": "stream",
          "text": [
            "\n",
            "/Users/customer/projects/UROP-2022/MonteCarloBenchmark/blackscholes.py:29: RuntimeWarning: divide by zero encountered in true_divide\n",
            "  d1 = (np.log(m) + (r + 0.5 * vol ** 2) * T) / (vol * np.sqrt(T))\n"
          ]
        }
      ],
      "source": [
        "# test_output = generate_heston_vec(dummy, 1000, 100)\n",
        "output_heston = generate_heston_vec(df, 1000, 100)\n",
        "output_bs = generate_bs_vec(df)\n",
        "\n",
        "test_output_heston = np.sum((output_heston - df['contract_price'].values)**2) / len(df)\n",
        "test_output_bs = np.sum((output_bs - df['contract_price'].values)**2) / len(df)\n",
        "\n",
        "print('MSE for Heston: ', test_output_heston)\n",
        "print('MSE for B-S: ', test_output_bs)"
      ]
    }
  ],
  "metadata": {
    "colab": {
      "collapsed_sections": [],
      "name": "heston.ipynb",
      "provenance": []
    },
    "kernelspec": {
      "display_name": "Python 3.9.12",
      "language": "python",
      "name": "python3"
    },
    "language_info": {
      "codemirror_mode": {
        "name": "ipython",
        "version": 3
      },
      "file_extension": ".py",
      "mimetype": "text/x-python",
      "name": "python",
      "nbconvert_exporter": "python",
      "pygments_lexer": "ipython3",
      "version": "3.9.12"
    },
    "vscode": {
      "interpreter": {
        "hash": "38cca0c38332a56087b24af0bc80247f4fced29cb4f7f437d91dc159adec9c4e"
      }
    }
  },
  "nbformat": 4,
  "nbformat_minor": 0
}
