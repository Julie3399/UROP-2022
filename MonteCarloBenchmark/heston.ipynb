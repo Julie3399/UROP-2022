{
  "cells": [
    {
      "cell_type": "markdown",
      "metadata": {
        "id": "Mvc_Q_FsIZdZ"
      },
      "source": [
        "# Option Pricing based on Heston and Black-Scholes Model\n",
        "\n",
        "We use Monte Carlo simulation to implement the Heston and Black-Scholes model"
      ]
    },
    {
      "cell_type": "code",
      "execution_count": 1,
      "metadata": {
        "id": "CTkX8VBCIsK5"
      },
      "outputs": [],
      "source": [
        "import os\n",
        "import time\n",
        "import scipy\n",
        "import pathlib\n",
        "# import numba # potential speed up here\n",
        "# import cupy as cp # only works with nvidia gpu\n",
        "import numpy as np\n",
        "import pandas as pd\n",
        "from tqdm import tqdm"
      ]
    },
    {
      "cell_type": "markdown",
      "metadata": {},
      "source": [
        "## 0 Heston model for scalar values\n",
        "\n",
        "We first implement a scalar version of the model according to the following formulae.  \n",
        "\n",
        "$$d S_t  = \\mu S_t dt + \\sqrt{\\nu_t} S_t dW^S_t \\\\ d \\nu_t = \\kappa (\\theta - \\nu_t) dt + \\xi \\sqrt{\\nu_t} dW^\\nu_t$$  \n",
        "\n",
        "which is discretized as  \n",
        "\n",
        "$$\n",
        "S_{i+1} = S_i \\exp [\\left(\\mu - \\frac{1}{2} v_i^{+}\\right) \\Delta t + \\sqrt{v_i^{+}} \\sqrt{\\Delta t} \\Delta W^S_{i+1}] \\\\\n",
        "\\nu_{i+1} = \\nu_i + \\kappa (\\theta - \\nu_i^{+}) \\Delta t + \\xi \\sqrt{\\nu_i^{+}} \\Delta W^\\nu_{i+1}\n",
        "$$"
      ]
    },
    {
      "cell_type": "code",
      "execution_count": 2,
      "metadata": {
        "id": "D4WVTVvwI1na"
      },
      "outputs": [],
      "source": [
        "# set some parameters\n",
        "num_sims = 100000;   # Number of simulated asset paths\n",
        "num_intervals = 1000;  # Number of intervals for the asset path to be sampled \n",
        "\n",
        "S_0 = 100.0;    # Initial spot price\n",
        "K = 100.0;      # Strike price\n",
        "r = 0.0319;     # Risk-free rate\n",
        "v_0 = 0.010201; # Initial volatility \n",
        "T = 1.00;       # One year until expiry\n",
        "\n",
        "rho = -0.7;     # Correlation of asset and volatility\n",
        "kappa = 6.21;   # Mean-reversion rate\n",
        "theta = 0.019;  # Long run average volatility\n",
        "xi = 0.61;      # \"Vol of vol\""
      ]
    },
    {
      "cell_type": "code",
      "execution_count": 3,
      "metadata": {
        "id": "l4_WHKwOIj0s"
      },
      "outputs": [],
      "source": [
        "def generate_heston_paths(S, T, r, kappa, theta, v_0, rho, xi, \n",
        "                          steps, num_sims):  \n",
        "    '''\n",
        "    Produces result for a single heston run.\n",
        "    \n",
        "    '''\n",
        "    dt = T/steps\n",
        "    # size = (num_sims, steps)\n",
        "    # prices = np.zeros(size)\n",
        "    # vols = np.zeros(size)\n",
        "    S_t = S + np.zeros(num_sims)\n",
        "    v_t = v_0 + np.zeros(num_sims)\n",
        "    for t in tqdm(range(steps), colour=\"green\"):\n",
        "    # for t in range(steps):\n",
        "        # [hex (#00ff00), BLACK, RED, GREEN, YELLOW, BLUE, MAGENTA, CYAN, WHITE]\n",
        "        WT1 = np.random.normal(0,1,size=num_sims)\n",
        "        WT2 = np.random.normal(0,1,size=num_sims)\n",
        "        WT3 = rho * WT1 + np.sqrt(1-rho**2)*WT2\n",
        "        # WT = np.vstack((WT1, WT3)).T\n",
        "\n",
        "        v_t = np.maximum(v_t, 0)\n",
        "        S_t = S_t*(np.exp( (r- 0.5*v_t)*dt+ np.sqrt(v_t * dt) * WT1 )) #WT[:,0]\n",
        "        v_t = v_t + kappa*(theta-v_t)*dt + xi*np.sqrt(v_t * dt)*WT3    #WT[:,1]\n",
        "        # prices[:, t] = S_t # can be returned when plotting is required\n",
        "        # vols[:, t] = v_t   # omitted to save memory \n",
        "    \n",
        "    S_call = np.exp(-1 * r * T) * np.sum(np.maximum(S_t - K, 0)) / num_sims\n",
        "    S_put = np.exp(-1 * r * T) * np.sum(np.maximum(K-S_t, 0)) / num_sims\n",
        "    nu_avg = np.mean(v_t)\n",
        "    \n",
        "    return [S_call, S_put, nu_avg]"
      ]
    },
    {
      "cell_type": "code",
      "execution_count": 4,
      "metadata": {
        "colab": {
          "base_uri": "https://localhost:8080/"
        },
        "id": "1B1Y1SE1Jycb",
        "outputId": "2ce01137-1f68-4ba1-d25e-c5aceb85f284"
      },
      "outputs": [
        {
          "name": "stderr",
          "output_type": "stream",
          "text": [
            "100%|\u001b[32m██████████\u001b[0m| 1000/1000 [00:08<00:00, 121.31it/s]\n"
          ]
        }
      ],
      "source": [
        "result = generate_heston_paths(S_0, T, r, kappa, theta, v_0,\n",
        "                      rho, xi, num_intervals, num_sims)"
      ]
    },
    {
      "cell_type": "code",
      "execution_count": 5,
      "metadata": {
        "colab": {
          "base_uri": "https://localhost:8080/"
        },
        "id": "OHwntRdAKB2s",
        "outputId": "776ccfd7-1fe7-4e8a-8b77-9c91c48bc332"
      },
      "outputs": [
        {
          "name": "stdout",
          "output_type": "stream",
          "text": [
            "6.859398806658789\n",
            "3.688731528432195\n",
            "0.019424100090998125\n"
          ]
        }
      ],
      "source": [
        "for x in result:\n",
        "  print(x)"
      ]
    },
    {
      "cell_type": "markdown",
      "metadata": {},
      "source": [
        "## 1 Heston model for vector values \n",
        "\n",
        "To produce a large number of results, we need to utilize the built-in vectorization in `numpy`."
      ]
    },
    {
      "cell_type": "markdown",
      "metadata": {},
      "source": [
        "We first load data for experiment and preprocess (roughly)"
      ]
    },
    {
      "cell_type": "code",
      "execution_count": 12,
      "metadata": {
        "id": "7xWcyBCC7Rxu"
      },
      "outputs": [
        {
          "data": {
            "text/html": [
              "<div>\n",
              "<style scoped>\n",
              "    .dataframe tbody tr th:only-of-type {\n",
              "        vertical-align: middle;\n",
              "    }\n",
              "\n",
              "    .dataframe tbody tr th {\n",
              "        vertical-align: top;\n",
              "    }\n",
              "\n",
              "    .dataframe thead th {\n",
              "        text-align: right;\n",
              "    }\n",
              "</style>\n",
              "<table border=\"1\" class=\"dataframe\">\n",
              "  <thead>\n",
              "    <tr style=\"text-align: right;\">\n",
              "      <th></th>\n",
              "      <th>Unnamed: 0</th>\n",
              "      <th>optionid</th>\n",
              "      <th>securityid</th>\n",
              "      <th>strike</th>\n",
              "      <th>expiration</th>\n",
              "      <th>callput</th>\n",
              "      <th>contractsize</th>\n",
              "      <th>date_traded</th>\n",
              "      <th>contract_price</th>\n",
              "      <th>asset_price</th>\n",
              "      <th>contract_volume</th>\n",
              "      <th>days_to_maturity</th>\n",
              "      <th>rate</th>\n",
              "      <th>volatility</th>\n",
              "    </tr>\n",
              "  </thead>\n",
              "  <tbody>\n",
              "    <tr>\n",
              "      <th>0</th>\n",
              "      <td>0</td>\n",
              "      <td>164100236.0</td>\n",
              "      <td>701057.0</td>\n",
              "      <td>22500.0</td>\n",
              "      <td>2020-03-20</td>\n",
              "      <td>C</td>\n",
              "      <td>2.0</td>\n",
              "      <td>2020-03-13</td>\n",
              "      <td>7.0</td>\n",
              "      <td>15938.0</td>\n",
              "      <td>152.0</td>\n",
              "      <td>7.0</td>\n",
              "      <td>0.858947</td>\n",
              "      <td>0.78887</td>\n",
              "    </tr>\n",
              "    <tr>\n",
              "      <th>1</th>\n",
              "      <td>1</td>\n",
              "      <td>164100240.0</td>\n",
              "      <td>701057.0</td>\n",
              "      <td>24500.0</td>\n",
              "      <td>2020-03-20</td>\n",
              "      <td>C</td>\n",
              "      <td>2.0</td>\n",
              "      <td>2020-03-13</td>\n",
              "      <td>22.0</td>\n",
              "      <td>15938.0</td>\n",
              "      <td>31.0</td>\n",
              "      <td>7.0</td>\n",
              "      <td>0.858947</td>\n",
              "      <td>0.78887</td>\n",
              "    </tr>\n",
              "    <tr>\n",
              "      <th>2</th>\n",
              "      <td>2</td>\n",
              "      <td>165303462.0</td>\n",
              "      <td>701057.0</td>\n",
              "      <td>22750.0</td>\n",
              "      <td>2020-03-20</td>\n",
              "      <td>C</td>\n",
              "      <td>2.0</td>\n",
              "      <td>2020-03-13</td>\n",
              "      <td>10.0</td>\n",
              "      <td>15938.0</td>\n",
              "      <td>7.0</td>\n",
              "      <td>7.0</td>\n",
              "      <td>0.858947</td>\n",
              "      <td>0.78887</td>\n",
              "    </tr>\n",
              "    <tr>\n",
              "      <th>3</th>\n",
              "      <td>3</td>\n",
              "      <td>165303464.0</td>\n",
              "      <td>701057.0</td>\n",
              "      <td>23750.0</td>\n",
              "      <td>2020-03-20</td>\n",
              "      <td>C</td>\n",
              "      <td>2.0</td>\n",
              "      <td>2020-03-13</td>\n",
              "      <td>6.0</td>\n",
              "      <td>15938.0</td>\n",
              "      <td>14.0</td>\n",
              "      <td>7.0</td>\n",
              "      <td>0.858947</td>\n",
              "      <td>0.78887</td>\n",
              "    </tr>\n",
              "    <tr>\n",
              "      <th>4</th>\n",
              "      <td>4</td>\n",
              "      <td>165303465.0</td>\n",
              "      <td>701057.0</td>\n",
              "      <td>24250.0</td>\n",
              "      <td>2020-03-20</td>\n",
              "      <td>C</td>\n",
              "      <td>2.0</td>\n",
              "      <td>2020-03-13</td>\n",
              "      <td>7.0</td>\n",
              "      <td>15938.0</td>\n",
              "      <td>3.0</td>\n",
              "      <td>7.0</td>\n",
              "      <td>0.858947</td>\n",
              "      <td>0.78887</td>\n",
              "    </tr>\n",
              "  </tbody>\n",
              "</table>\n",
              "</div>"
            ],
            "text/plain": [
              "   Unnamed: 0     optionid  securityid   strike  expiration callput  \\\n",
              "0           0  164100236.0    701057.0  22500.0  2020-03-20       C   \n",
              "1           1  164100240.0    701057.0  24500.0  2020-03-20       C   \n",
              "2           2  165303462.0    701057.0  22750.0  2020-03-20       C   \n",
              "3           3  165303464.0    701057.0  23750.0  2020-03-20       C   \n",
              "4           4  165303465.0    701057.0  24250.0  2020-03-20       C   \n",
              "\n",
              "   contractsize date_traded  contract_price  asset_price  contract_volume  \\\n",
              "0           2.0  2020-03-13             7.0      15938.0            152.0   \n",
              "1           2.0  2020-03-13            22.0      15938.0             31.0   \n",
              "2           2.0  2020-03-13            10.0      15938.0              7.0   \n",
              "3           2.0  2020-03-13             6.0      15938.0             14.0   \n",
              "4           2.0  2020-03-13             7.0      15938.0              3.0   \n",
              "\n",
              "   days_to_maturity      rate  volatility  \n",
              "0               7.0  0.858947     0.78887  \n",
              "1               7.0  0.858947     0.78887  \n",
              "2               7.0  0.858947     0.78887  \n",
              "3               7.0  0.858947     0.78887  \n",
              "4               7.0  0.858947     0.78887  "
            ]
          },
          "execution_count": 12,
          "metadata": {},
          "output_type": "execute_result"
        }
      ],
      "source": [
        "parent_path = str(pathlib.Path(os.getcwd()).parent)\n",
        "df = pd.read_csv(os.path.join(parent_path, 'data/roughwork.csv'))\n",
        "df.head()"
      ]
    },
    {
      "cell_type": "markdown",
      "metadata": {},
      "source": [
        "Here we use (almost) the same approach to model average long run volatility $\\theta$, mean reversion rate of volatility $\\kappa$, and the variance of volatility $\\xi$.  \n",
        "\n",
        "**Question:** Is this the best approach? Are there better approaches? Perhaps options with the same underlying assest should take correlated values?"
      ]
    },
    {
      "cell_type": "code",
      "execution_count": 13,
      "metadata": {},
      "outputs": [],
      "source": [
        "# divide by contract size for single share\n",
        "df.strike = df.strike / (df.contractsize*1000)\n",
        "df.asset_price = df.asset_price / (df.contractsize*1000)\n",
        "df.contract_price = df.contract_price / df.contractsize\n",
        "\n",
        "# divide by 365 for days to maturity ?\n",
        "df.days_to_maturity = df.days_to_maturity #/ 365\n",
        "\n",
        "# drop contract volume\n",
        "df.drop(['contract_volume'], axis = 1)\n",
        "\n",
        "# drop small strike prices\n",
        "df = df.drop(df[df.strike<0.1].index)\n",
        "\n",
        "\n",
        "# add moneyness\n",
        "df['moneyness'] = df.strike / df.asset_price\n",
        "\n",
        "# We may  add the following to the function for heston simulation\n",
        "\n",
        "# add average long run volatility (theta)\n",
        "df['mean_volatility'] = 0.001 + 0.05 * np.random.rand(len(df))\n",
        "\n",
        "# add mean reversion rate of volatility (kappa)\n",
        "df['reversion'] = 0.01 + 5 * np.random.rand(len(df))\n",
        "\n",
        "# add variance of volatility\n",
        "df['var_of_vol'] = 0.01 + 0.7 * np.random.rand(len(df))\n",
        "\n",
        "# add correlation between random processes  \n",
        "df['rho'] = -0.05 - 0.7 * np.random.rand(len(df))\n",
        "\n",
        "df.head()\n",
        "\n",
        "df.to_csv(os.path.join(parent_path, 'data/processed_data.csv'))"
      ]
    },
    {
      "cell_type": "code",
      "execution_count": 52,
      "metadata": {},
      "outputs": [],
      "source": [
        "def generate_heston_vec(df, steps=1000, num_sims=100000):  \n",
        "\n",
        "    '''\n",
        "    Produces result for multiple heston runs for call options only.\n",
        "\n",
        "    Args:  \n",
        "        - df: dataframe, containing all parameters\n",
        "        - steps: int, num time steps\n",
        "        - num_sims: int, no. of simulations for each sample  \n",
        "\n",
        "    Output:  \n",
        "        - result: ndarray, containing average prices over num_sims\n",
        "    '''  \n",
        "\n",
        "    N     = len(df)\n",
        "    # out   = np.zeros((N, ))\n",
        "    dt    = df['days_to_maturity'].values /steps \n",
        "    S_t   = df['asset_price'].values \n",
        "    v_t   = df['volatility'].values \n",
        "    r     = df['rate'].values \n",
        "    theta = df['mean_volatility'].values \n",
        "    kappa = df['reversion'].values \n",
        "    xi    = df['var_of_vol'].values \n",
        "    K     = df['strike'].values \n",
        "    rho   = df['rho'].values \n",
        "    T     = df['days_to_maturity'].values\n",
        "    \n",
        "    for t in tqdm(range(steps), colour=\"green\"):\n",
        "        \n",
        "        # the random normal samples are of shape (num_sims, N)\n",
        "        WT1 = np.random.normal(0,1,size=(num_sims, N))\n",
        "        WT2 = np.random.normal(0,1,size=(num_sims, N))\n",
        "        WT3 = rho * WT1 + np.sqrt(1-rho**2)*WT2\n",
        "\n",
        "        v_t = np.maximum(v_t, 0)\n",
        "        S_t = S_t*(np.exp( (r- 0.5*v_t)*dt+ np.sqrt(v_t * dt) * WT1 )) \n",
        "        v_t = v_t + kappa*(theta-v_t)*dt + xi*np.sqrt(v_t * dt)*WT3\n",
        "    \n",
        "    S_call = np.exp(-1 * r * T) * np.sum(np.maximum(S_t - K, 0), axis = 0) / num_sims\n",
        "    \n",
        "    # S_put = np.exp(-1 * r * T) * np.sum(np.maximum(K-S_t, 0)) / num_sims\n",
        "    nu_avg = np.mean(v_t)\n",
        "    \n",
        "    return S_call"
      ]
    },
    {
      "cell_type": "markdown",
      "metadata": {},
      "source": [
        "## 2 Black-Scholes Model for vector values  \n",
        "\n",
        "We implement the call/put option price of a Black-Scholes Model analystically according the following formulae.  \n",
        "\n",
        "$$\n",
        "\\begin{aligned}\n",
        "C(S,t) &= SN(d_1) - Ke^{-rT} N(d_2) \\\\\n",
        "P(S,t) &= Ke^{-rT} - S + (SN(d_1) - Ke^{-rT} N(d_2))\n",
        "\\end{aligned}\n",
        "$$  \n",
        "\n",
        "where $N(x)$ is the cdf. of a standard normal distribution and $d_1,d_2$ are defined as  \n",
        "\n",
        "$$\n",
        "\\begin{aligned}\n",
        "d_1 &= \\frac{\\log(S/K) + (r+\\frac{\\sigma^2}{2})T}{\\sigma \\sqrt{T} }\\\\\n",
        "d_2 &= d_1 - \\sigma \\sqrt{T}\n",
        "\\end{aligned}\n",
        "$$"
      ]
    },
    {
      "cell_type": "code",
      "execution_count": null,
      "metadata": {},
      "outputs": [],
      "source": [
        "def generate_bs_vec(df):\n",
        "    \"\"\"\n",
        "    Produces result for multiple B-S runs for call options only (analytical).  \n",
        "\n",
        "    Args:\n",
        "        - df: dataframe, containing all parameters\n",
        "\n",
        "    Output:\n",
        "        - result: ndarray, containing prices for each sample\n",
        "    \"\"\"\n",
        "    S   = df['asset_price'].values \n",
        "    vol   = df['volatility'].values \n",
        "    r     = df['rate'].values   \n",
        "    K     = df['strike'].values  \n",
        "    T     = df['days_to_maturity'].values / 365\n",
        "    m     = df['moneyness'].values\n",
        "\n",
        "    d1 = (np.log(m) + (r + 0.5 * vol ** 2) * T) / (vol * np.sqrt(T))\n",
        "    d2 = d1 - vol * np.sqrt(T)\n",
        "\n",
        "    S_call = S * scipy.stats.norm.cdf(d1) - \\\n",
        "        K * np.exp(-r * T) * scipy.stats.norm.cdf(d2)\n",
        "\n",
        "    return S_call\n"
      ]
    },
    {
      "cell_type": "markdown",
      "metadata": {},
      "source": [
        "## 1.1 Testing implementation  \n",
        "\n",
        "We will test the implementation on a dummy dataset with repeated values; this is also useful for trying out models for the aforementioned constants."
      ]
    },
    {
      "cell_type": "code",
      "execution_count": 53,
      "metadata": {},
      "outputs": [
        {
          "data": {
            "text/html": [
              "<div>\n",
              "<style scoped>\n",
              "    .dataframe tbody tr th:only-of-type {\n",
              "        vertical-align: middle;\n",
              "    }\n",
              "\n",
              "    .dataframe tbody tr th {\n",
              "        vertical-align: top;\n",
              "    }\n",
              "\n",
              "    .dataframe thead th {\n",
              "        text-align: right;\n",
              "    }\n",
              "</style>\n",
              "<table border=\"1\" class=\"dataframe\">\n",
              "  <thead>\n",
              "    <tr style=\"text-align: right;\">\n",
              "      <th></th>\n",
              "      <th>asset_price</th>\n",
              "      <th>strike</th>\n",
              "      <th>rate</th>\n",
              "      <th>days_to_maturity</th>\n",
              "      <th>volatility</th>\n",
              "      <th>mean_volatility</th>\n",
              "      <th>reversion</th>\n",
              "      <th>var_of_vol</th>\n",
              "      <th>rho</th>\n",
              "    </tr>\n",
              "  </thead>\n",
              "  <tbody>\n",
              "    <tr>\n",
              "      <th>0</th>\n",
              "      <td>100.0</td>\n",
              "      <td>100.0</td>\n",
              "      <td>0.0319</td>\n",
              "      <td>1.0</td>\n",
              "      <td>0.010201</td>\n",
              "      <td>0.019</td>\n",
              "      <td>6.21</td>\n",
              "      <td>0.61</td>\n",
              "      <td>-0.7</td>\n",
              "    </tr>\n",
              "    <tr>\n",
              "      <th>1</th>\n",
              "      <td>100.0</td>\n",
              "      <td>100.0</td>\n",
              "      <td>0.0319</td>\n",
              "      <td>1.0</td>\n",
              "      <td>0.010201</td>\n",
              "      <td>0.019</td>\n",
              "      <td>6.21</td>\n",
              "      <td>0.61</td>\n",
              "      <td>-0.7</td>\n",
              "    </tr>\n",
              "    <tr>\n",
              "      <th>2</th>\n",
              "      <td>100.0</td>\n",
              "      <td>100.0</td>\n",
              "      <td>0.0319</td>\n",
              "      <td>1.0</td>\n",
              "      <td>0.010201</td>\n",
              "      <td>0.019</td>\n",
              "      <td>6.21</td>\n",
              "      <td>0.61</td>\n",
              "      <td>-0.7</td>\n",
              "    </tr>\n",
              "    <tr>\n",
              "      <th>3</th>\n",
              "      <td>100.0</td>\n",
              "      <td>100.0</td>\n",
              "      <td>0.0319</td>\n",
              "      <td>1.0</td>\n",
              "      <td>0.010201</td>\n",
              "      <td>0.019</td>\n",
              "      <td>6.21</td>\n",
              "      <td>0.61</td>\n",
              "      <td>-0.7</td>\n",
              "    </tr>\n",
              "    <tr>\n",
              "      <th>4</th>\n",
              "      <td>100.0</td>\n",
              "      <td>100.0</td>\n",
              "      <td>0.0319</td>\n",
              "      <td>1.0</td>\n",
              "      <td>0.010201</td>\n",
              "      <td>0.019</td>\n",
              "      <td>6.21</td>\n",
              "      <td>0.61</td>\n",
              "      <td>-0.7</td>\n",
              "    </tr>\n",
              "  </tbody>\n",
              "</table>\n",
              "</div>"
            ],
            "text/plain": [
              "   asset_price  strike    rate  days_to_maturity  volatility  mean_volatility  \\\n",
              "0        100.0   100.0  0.0319               1.0    0.010201            0.019   \n",
              "1        100.0   100.0  0.0319               1.0    0.010201            0.019   \n",
              "2        100.0   100.0  0.0319               1.0    0.010201            0.019   \n",
              "3        100.0   100.0  0.0319               1.0    0.010201            0.019   \n",
              "4        100.0   100.0  0.0319               1.0    0.010201            0.019   \n",
              "\n",
              "   reversion  var_of_vol  rho  \n",
              "0       6.21        0.61 -0.7  \n",
              "1       6.21        0.61 -0.7  \n",
              "2       6.21        0.61 -0.7  \n",
              "3       6.21        0.61 -0.7  \n",
              "4       6.21        0.61 -0.7  "
            ]
          },
          "execution_count": 53,
          "metadata": {},
          "output_type": "execute_result"
        }
      ],
      "source": [
        "# creates dummy dataset\n",
        "\n",
        "N = len(df)\n",
        "\n",
        "S_0 = np.repeat(100.0, N)     # Initial spot price\n",
        "K = np.repeat(100.0, N)       # Strike price\n",
        "r = np.repeat(0.0319, N)      # Risk-free rate\n",
        "v_0 = np.repeat(0.010201,N)   # Initial volatility \n",
        "T = np.repeat(1.0, N)         # One year until expiry\n",
        "\n",
        "rho = np.repeat(-0.7, N)      # Correlation of asset and volatility\n",
        "kappa = np.repeat(6.21, N)    # Mean-reversion rate\n",
        "theta = np.repeat(0.019,N)    # Long run average volatility\n",
        "xi = np.repeat(0.61,N)        # \"Vol of vol\"  \n",
        "\n",
        "dummy = pd.DataFrame(columns=['asset_price', 'strike', 'rate', \n",
        "                    'days_to_maturity', 'volatility', 'mean_volatility', \n",
        "                    'reversion', 'var_of_vol', 'rho'])\n",
        "\n",
        "dummy['days_to_maturity'] = T\n",
        "dummy['asset_price'] = S_0\n",
        "dummy['volatility'] = v_0\n",
        "dummy['rate'] = r\n",
        "dummy['mean_volatility'] = theta\n",
        "dummy['reversion'] = kappa\n",
        "dummy['var_of_vol'] = xi\n",
        "dummy['strike'] = K\n",
        "dummy['rho'] = rho\n",
        "\n",
        "dummy.head()"
      ]
    },
    {
      "cell_type": "markdown",
      "metadata": {},
      "source": [
        "If tested on dummy dataset, then output should be approx. normally distributed which verifies the implementation of the heston model"
      ]
    },
    {
      "cell_type": "code",
      "execution_count": 56,
      "metadata": {},
      "outputs": [
        {
          "name": "stderr",
          "output_type": "stream",
          "text": [
            "100%|\u001b[32m██████████\u001b[0m| 1000/1000 [00:04<00:00, 232.45it/s]\n"
          ]
        }
      ],
      "source": [
        "# test_output = generate_heston_vec(dummy, 1000, 100)\n",
        "test_output_heston = generate_heston_vec(df, 1000, 100)\n",
        "test_output_bs = generate_bs_vec(df)\n",
        "\n",
        "test_output_heston = np.sum((test_output_heston - df['contract_price'].values)**2) / len(df)\n",
        "test_output_bs = np.sum((generate_bs_vec(df) - df['contract_price'].values)**2) / len(df)\n",
        "\n",
        "print('MSE for Heston: ', test_output_heston)\n",
        "print('MSE for B-S: ', test_output_bs)"
      ]
    },
    {
      "cell_type": "code",
      "execution_count": 57,
      "metadata": {},
      "outputs": [
        {
          "data": {
            "text/plain": [
              "(array([ 94., 105.,  98.,  83.,  74.,  54.,  65.,  57.,  47.,  43.,  37.,\n",
              "         20.,  21.,  12.,   8.,  21.,   8.,   7.,  11.,  10.,   5.,   2.,\n",
              "          4.,   1.,   3.,   6.,   5.,   5.,   2.,   2.,   4.,   3.,   4.,\n",
              "          1.,   2.,   4.,   8.,   0.,   1.,   4.,   3.,   2.,   3.,   4.,\n",
              "          1.,   2.,   1.,   0.,   1.,   0.,   1.,   1.,   2.,   1.,   1.,\n",
              "          0.,   1.,   0.,   2.,   0.,   0.,   0.,   0.,   1.,   1.,   0.,\n",
              "          1.,   2.,   0.,   0.,   0.,   0.,   1.,   0.,   1.,   0.,   1.,\n",
              "          0.,   0.,   0.,   1.,   0.,   0.,   0.,   0.,   1.,   1.,   1.,\n",
              "          0.,   1.,   1.,   2.,   0.,   0.,   0.,   0.,   0.,   0.,   0.,\n",
              "          2.]),\n",
              " array([2.28359452e-03, 3.39461230e-01, 6.76638865e-01, 1.01381650e+00,\n",
              "        1.35099413e+00, 1.68817177e+00, 2.02534940e+00, 2.36252704e+00,\n",
              "        2.69970467e+00, 3.03688231e+00, 3.37405994e+00, 3.71123758e+00,\n",
              "        4.04841522e+00, 4.38559285e+00, 4.72277049e+00, 5.05994812e+00,\n",
              "        5.39712576e+00, 5.73430339e+00, 6.07148103e+00, 6.40865866e+00,\n",
              "        6.74583630e+00, 7.08301393e+00, 7.42019157e+00, 7.75736920e+00,\n",
              "        8.09454684e+00, 8.43172447e+00, 8.76890211e+00, 9.10607974e+00,\n",
              "        9.44325738e+00, 9.78043501e+00, 1.01176126e+01, 1.04547903e+01,\n",
              "        1.07919679e+01, 1.11291456e+01, 1.14663232e+01, 1.18035008e+01,\n",
              "        1.21406785e+01, 1.24778561e+01, 1.28150337e+01, 1.31522114e+01,\n",
              "        1.34893890e+01, 1.38265666e+01, 1.41637443e+01, 1.45009219e+01,\n",
              "        1.48380995e+01, 1.51752772e+01, 1.55124548e+01, 1.58496324e+01,\n",
              "        1.61868101e+01, 1.65239877e+01, 1.68611653e+01, 1.71983430e+01,\n",
              "        1.75355206e+01, 1.78726983e+01, 1.82098759e+01, 1.85470535e+01,\n",
              "        1.88842312e+01, 1.92214088e+01, 1.95585864e+01, 1.98957641e+01,\n",
              "        2.02329417e+01, 2.05701193e+01, 2.09072970e+01, 2.12444746e+01,\n",
              "        2.15816522e+01, 2.19188299e+01, 2.22560075e+01, 2.25931851e+01,\n",
              "        2.29303628e+01, 2.32675404e+01, 2.36047180e+01, 2.39418957e+01,\n",
              "        2.42790733e+01, 2.46162510e+01, 2.49534286e+01, 2.52906062e+01,\n",
              "        2.56277839e+01, 2.59649615e+01, 2.63021391e+01, 2.66393168e+01,\n",
              "        2.69764944e+01, 2.73136720e+01, 2.76508497e+01, 2.79880273e+01,\n",
              "        2.83252049e+01, 2.86623826e+01, 2.89995602e+01, 2.93367378e+01,\n",
              "        2.96739155e+01, 3.00110931e+01, 3.03482707e+01, 3.06854484e+01,\n",
              "        3.10226260e+01, 3.13598037e+01, 3.16969813e+01, 3.20341589e+01,\n",
              "        3.23713366e+01, 3.27085142e+01, 3.30456918e+01, 3.33828695e+01,\n",
              "        3.37200471e+01]),\n",
              " <BarContainer object of 100 artists>)"
            ]
          },
          "execution_count": 57,
          "metadata": {},
          "output_type": "execute_result"
        },
        {
          "data": {
            "image/png": "[encoded data removed]",
            "text/plain": [
              "<Figure size 432x288 with 1 Axes>"
            ]
          },
          "metadata": {
            "needs_background": "light"
          },
          "output_type": "display_data"
        }
      ],
      "source": [
        "import matplotlib.pyplot as plt\n",
        "plt.hist(test_output, bins = 100)"
      ]
    },
    {
      "cell_type": "code",
      "execution_count": null,
      "metadata": {},
      "outputs": [],
      "source": []
    }
  ],
  "metadata": {
    "colab": {
      "collapsed_sections": [],
      "name": "heston.ipynb",
      "provenance": []
    },
    "kernelspec": {
      "display_name": "Python 3.9.12",
      "language": "python",
      "name": "python3"
    },
    "language_info": {
      "codemirror_mode": {
        "name": "ipython",
        "version": 3
      },
      "file_extension": ".py",
      "mimetype": "text/x-python",
      "name": "python",
      "nbconvert_exporter": "python",
      "pygments_lexer": "ipython3",
      "version": "3.9.12"
    },
    "vscode": {
      "interpreter": {
        "hash": "38cca0c38332a56087b24af0bc80247f4fced29cb4f7f437d91dc159adec9c4e"
      }
    }
  },
  "nbformat": 4,
  "nbformat_minor": 0
}
