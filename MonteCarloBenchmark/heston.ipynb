{
  "cells": [
    {
      "cell_type": "markdown",
      "metadata": {
        "id": "Mvc_Q_FsIZdZ"
      },
      "source": [
        "# Option Pricing based on Heston and Black-Scholes Model\n",
        "\n",
        "We use Monte Carlo simulation to implement the Heston and Black-Scholes model"
      ]
    },
    {
      "cell_type": "code",
      "execution_count": 7,
      "metadata": {
        "id": "CTkX8VBCIsK5"
      },
      "outputs": [],
      "source": [
        "import os\n",
        "import time\n",
        "import pathlib\n",
        "# import numba # potential speed up here\n",
        "# import cupy as cp # only works with nvidia gpu\n",
        "import numpy as np\n",
        "import pandas as pd\n",
        "from tqdm import tqdm\n",
        "from scipy.stats import norm"
      ]
    },
    {
      "cell_type": "markdown",
      "metadata": {},
      "source": [
        "## 0 Heston model for scalar values\n",
        "\n",
        "We first implement a scalar version of the model according to the following formulae.  \n",
        "\n",
        "$$d S_t  = \\mu S_t dt + \\sqrt{\\nu_t} S_t dW^S_t \\\\ d \\nu_t = \\kappa (\\theta - \\nu_t) dt + \\xi \\sqrt{\\nu_t} dW^\\nu_t$$  \n",
        "\n",
        "which is discretized as  \n",
        "\n",
        "$$\n",
        "S_{i+1} = S_i \\exp [\\left(\\mu - \\frac{1}{2} v_i^{+}\\right) \\Delta t + \\sqrt{v_i^{+}} \\sqrt{\\Delta t} \\Delta W^S_{i+1}] \\\\\n",
        "\\nu_{i+1} = \\nu_i + \\kappa (\\theta - \\nu_i^{+}) \\Delta t + \\xi \\sqrt{\\nu_i^{+}} \\Delta W^\\nu_{i+1}\n",
        "$$"
      ]
    },
    {
      "cell_type": "code",
      "execution_count": 8,
      "metadata": {
        "id": "D4WVTVvwI1na"
      },
      "outputs": [],
      "source": [
        "# set some parameters\n",
        "num_sims = 100000;   # Number of simulated asset paths\n",
        "num_intervals = 1000;  # Number of intervals for the asset path to be sampled \n",
        "\n",
        "S_0 = 100.0;    # Initial spot price\n",
        "K = 100.0;      # Strike price\n",
        "r = 0.0319;     # Risk-free rate\n",
        "v_0 = 0.010201; # Initial volatility \n",
        "T = 1.00;       # One year until expiry\n",
        "\n",
        "rho = -0.7;     # Correlation of asset and volatility\n",
        "kappa = 6.21;   # Mean-reversion rate\n",
        "theta = 0.019;  # Long run average volatility\n",
        "xi = 0.61;      # \"Vol of vol\""
      ]
    },
    {
      "cell_type": "code",
      "execution_count": 9,
      "metadata": {
        "id": "l4_WHKwOIj0s"
      },
      "outputs": [],
      "source": [
        "def generate_heston_paths(S, T, r, kappa, theta, v_0, rho, xi, \n",
        "                          steps, num_sims):  \n",
        "    '''\n",
        "    Produces result for a single heston run.\n",
        "    \n",
        "    '''\n",
        "    dt = T/steps\n",
        "    # size = (num_sims, steps)\n",
        "    # prices = np.zeros(size)\n",
        "    # vols = np.zeros(size)\n",
        "    S_t = S + np.zeros(num_sims)\n",
        "    v_t = v_0 + np.zeros(num_sims)\n",
        "    for t in tqdm(range(steps), colour=\"green\"):\n",
        "    # for t in range(steps):\n",
        "        # [hex (#00ff00), BLACK, RED, GREEN, YELLOW, BLUE, MAGENTA, CYAN, WHITE]\n",
        "        WT1 = np.random.normal(0,1,size=num_sims)\n",
        "        WT2 = np.random.normal(0,1,size=num_sims)\n",
        "        WT3 = rho * WT1 + np.sqrt(1-rho**2)*WT2\n",
        "        # WT = np.vstack((WT1, WT3)).T\n",
        "\n",
        "        v_t = np.maximum(v_t, 0)\n",
        "        S_t = S_t*(np.exp( (r- 0.5*v_t)*dt+ np.sqrt(v_t * dt) * WT1 )) #WT[:,0]\n",
        "        v_t = v_t + kappa*(theta-v_t)*dt + xi*np.sqrt(v_t * dt)*WT3    #WT[:,1]\n",
        "        # prices[:, t] = S_t # can be returned when plotting is required\n",
        "        # vols[:, t] = v_t   # omitted to save memory \n",
        "    \n",
        "    S_call = np.exp(-1 * r * T) * np.sum(np.maximum(S_t - K, 0)) / num_sims\n",
        "    S_put = np.exp(-1 * r * T) * np.sum(np.maximum(K-S_t, 0)) / num_sims\n",
        "    nu_avg = np.mean(v_t)\n",
        "    \n",
        "    return [S_call, S_put, nu_avg]"
      ]
    },
    {
      "cell_type": "code",
      "execution_count": 10,
      "metadata": {
        "colab": {
          "base_uri": "https://localhost:8080/"
        },
        "id": "1B1Y1SE1Jycb",
        "outputId": "2ce01137-1f68-4ba1-d25e-c5aceb85f284"
      },
      "outputs": [
        {
          "name": "stderr",
          "output_type": "stream",
          "text": [
            "100%|\u001b[32m██████████\u001b[0m| 1000/1000 [00:04<00:00, 234.87it/s]\n"
          ]
        }
      ],
      "source": [
        "result = generate_heston_paths(S_0, T, r, kappa, theta, v_0,\n",
        "                      rho, xi, num_intervals, num_sims)"
      ]
    },
    {
      "cell_type": "code",
      "execution_count": 11,
      "metadata": {
        "colab": {
          "base_uri": "https://localhost:8080/"
        },
        "id": "OHwntRdAKB2s",
        "outputId": "776ccfd7-1fe7-4e8a-8b77-9c91c48bc332"
      },
      "outputs": [
        {
          "name": "stdout",
          "output_type": "stream",
          "text": [
            "6.860338360872788\n",
            "3.6995363861917063\n",
            "0.019109166689533073\n"
          ]
        }
      ],
      "source": [
        "for x in result:\n",
        "  print(x)"
      ]
    },
    {
      "cell_type": "markdown",
      "metadata": {},
      "source": [
        "## 1 Heston model for vector values \n",
        "\n",
        "To produce a large number of results, we need to utilize the built-in vectorization in `numpy`."
      ]
    },
    {
      "cell_type": "code",
      "execution_count": 33,
      "metadata": {},
      "outputs": [],
      "source": [
        "def generate_heston_vec(df, steps=1000, num_sims=100000):  \n",
        "\n",
        "    '''\n",
        "    Produces result for multiple heston runs for call options only.\n",
        "\n",
        "    Args:  \n",
        "        - df: dataframe, containing all parameters\n",
        "        - steps: int, num time steps\n",
        "        - num_sims: int, no. of simulations for each sample  \n",
        "\n",
        "    Output:  \n",
        "        - result: ndarray, containing average prices over num_sims\n",
        "    '''  \n",
        "\n",
        "    N     = len(df)\n",
        "    # out   = np.zeros((N, ))\n",
        "    dt    = df['days_to_maturity'].values /steps \n",
        "    S_t   = df['underlyings_price'].values \n",
        "    v_t   = df['volatility'].values \n",
        "    r     = df['rate'].values \n",
        "    theta = df['mean_volatility'].values \n",
        "    kappa = df['reversion'].values \n",
        "    xi    = df['var_of_vol'].values \n",
        "    K     = df['strike'].values \n",
        "    rho   = df['rho'].values \n",
        "    T     = df['days_to_maturity'].values * 365\n",
        "    \n",
        "    for t in tqdm(range(steps), colour=\"green\"):\n",
        "        \n",
        "        # the random normal samples are of shape (num_sims, N)\n",
        "        WT1 = np.random.normal(0,1,size=(num_sims, N))\n",
        "        WT2 = np.random.normal(0,1,size=(num_sims, N))\n",
        "        WT3 = rho * WT1 + np.sqrt(1-rho**2)*WT2\n",
        "\n",
        "        v_t = np.maximum(v_t, 0)\n",
        "        S_t = S_t*(np.exp( (r- 0.5*v_t)*dt+ np.sqrt(v_t * dt) * WT1 )) \n",
        "        v_t = v_t + kappa*(theta-v_t)*dt + xi*np.sqrt(v_t * dt)*WT3\n",
        "    \n",
        "    S_call = np.exp(-1 * r * T) * np.sum(np.maximum(S_t - K, 0), axis = 0) / num_sims\n",
        "    \n",
        "    # S_put = np.exp(-1 * r * T) * np.sum(np.maximum(K-S_t, 0)) / num_sims\n",
        "    nu_avg = np.mean(v_t)\n",
        "    \n",
        "    return S_call"
      ]
    },
    {
      "cell_type": "markdown",
      "metadata": {},
      "source": [
        "We first load data for experiment and preprocess (roughly)"
      ]
    },
    {
      "cell_type": "code",
      "execution_count": 34,
      "metadata": {
        "id": "7xWcyBCC7Rxu"
      },
      "outputs": [],
      "source": [
        "parent_path = str(pathlib.Path(os.getcwd()).parent)\n",
        "compressed = False\n",
        "if compressed:\n",
        "    import zipfile\n",
        "    parent_path = str(pathlib.Path(os.getcwd()).parent)\n",
        "    with zipfile.ZipFile(parent_path + \"/data/combined.zip\",\"r\") as zip_ref:\n",
        "        zip_ref.extractall(parent_path+\"/data/\")"
      ]
    },
    {
      "cell_type": "code",
      "execution_count": 35,
      "metadata": {},
      "outputs": [
        {
          "name": "stdout",
          "output_type": "stream",
          "text": [
            "(107499, 14)\n"
          ]
        },
        {
          "data": {
            "text/html": [
              "<div>\n",
              "<style scoped>\n",
              "    .dataframe tbody tr th:only-of-type {\n",
              "        vertical-align: middle;\n",
              "    }\n",
              "\n",
              "    .dataframe tbody tr th {\n",
              "        vertical-align: top;\n",
              "    }\n",
              "\n",
              "    .dataframe thead th {\n",
              "        text-align: right;\n",
              "    }\n",
              "</style>\n",
              "<table border=\"1\" class=\"dataframe\">\n",
              "  <thead>\n",
              "    <tr style=\"text-align: right;\">\n",
              "      <th></th>\n",
              "      <th>Unnamed: 0</th>\n",
              "      <th>optionid</th>\n",
              "      <th>securityid</th>\n",
              "      <th>strike</th>\n",
              "      <th>callput</th>\n",
              "      <th>date_traded</th>\n",
              "      <th>contract_price</th>\n",
              "      <th>market_price</th>\n",
              "      <th>underlyings_price</th>\n",
              "      <th>contract_volume</th>\n",
              "      <th>days_to_maturity</th>\n",
              "      <th>moneyness</th>\n",
              "      <th>rate</th>\n",
              "      <th>volatility</th>\n",
              "    </tr>\n",
              "  </thead>\n",
              "  <tbody>\n",
              "    <tr>\n",
              "      <th>24140</th>\n",
              "      <td>24634</td>\n",
              "      <td>150080692.0</td>\n",
              "      <td>506534.0</td>\n",
              "      <td>4.40</td>\n",
              "      <td>C</td>\n",
              "      <td>2006-06-22</td>\n",
              "      <td>0.2150</td>\n",
              "      <td>0.22225</td>\n",
              "      <td>4.292600</td>\n",
              "      <td>546.0</td>\n",
              "      <td>358.0</td>\n",
              "      <td>0.975591</td>\n",
              "      <td>0.056686</td>\n",
              "      <td>0.224718</td>\n",
              "    </tr>\n",
              "    <tr>\n",
              "      <th>30057</th>\n",
              "      <td>30570</td>\n",
              "      <td>156798592.0</td>\n",
              "      <td>506534.0</td>\n",
              "      <td>4.80</td>\n",
              "      <td>C</td>\n",
              "      <td>2007-08-07</td>\n",
              "      <td>0.3900</td>\n",
              "      <td>0.39000</td>\n",
              "      <td>5.214300</td>\n",
              "      <td>5.0</td>\n",
              "      <td>10.0</td>\n",
              "      <td>1.086312</td>\n",
              "      <td>0.053915</td>\n",
              "      <td>0.153294</td>\n",
              "    </tr>\n",
              "    <tr>\n",
              "      <th>47850</th>\n",
              "      <td>48371</td>\n",
              "      <td>153930305.0</td>\n",
              "      <td>702263.0</td>\n",
              "      <td>12.60</td>\n",
              "      <td>C</td>\n",
              "      <td>2013-07-12</td>\n",
              "      <td>0.0550</td>\n",
              "      <td>0.05500</td>\n",
              "      <td>12.133000</td>\n",
              "      <td>435.0</td>\n",
              "      <td>35.0</td>\n",
              "      <td>0.962937</td>\n",
              "      <td>0.001999</td>\n",
              "      <td>0.210271</td>\n",
              "    </tr>\n",
              "    <tr>\n",
              "      <th>29244</th>\n",
              "      <td>29757</td>\n",
              "      <td>156791771.0</td>\n",
              "      <td>506534.0</td>\n",
              "      <td>6.40</td>\n",
              "      <td>C</td>\n",
              "      <td>2007-07-09</td>\n",
              "      <td>0.0785</td>\n",
              "      <td>0.07800</td>\n",
              "      <td>5.574300</td>\n",
              "      <td>10.0</td>\n",
              "      <td>347.0</td>\n",
              "      <td>0.870984</td>\n",
              "      <td>0.053989</td>\n",
              "      <td>0.104922</td>\n",
              "    </tr>\n",
              "    <tr>\n",
              "      <th>7485</th>\n",
              "      <td>7622</td>\n",
              "      <td>150042968.0</td>\n",
              "      <td>506528.0</td>\n",
              "      <td>63.75</td>\n",
              "      <td>C</td>\n",
              "      <td>2006-10-30</td>\n",
              "      <td>0.1800</td>\n",
              "      <td>0.19000</td>\n",
              "      <td>61.267998</td>\n",
              "      <td>357.0</td>\n",
              "      <td>46.0</td>\n",
              "      <td>0.961067</td>\n",
              "      <td>0.054120</td>\n",
              "      <td>0.077493</td>\n",
              "    </tr>\n",
              "  </tbody>\n",
              "</table>\n",
              "</div>"
            ],
            "text/plain": [
              "       Unnamed: 0     optionid  securityid  strike callput date_traded  \\\n",
              "24140       24634  150080692.0    506534.0    4.40       C  2006-06-22   \n",
              "30057       30570  156798592.0    506534.0    4.80       C  2007-08-07   \n",
              "47850       48371  153930305.0    702263.0   12.60       C  2013-07-12   \n",
              "29244       29757  156791771.0    506534.0    6.40       C  2007-07-09   \n",
              "7485         7622  150042968.0    506528.0   63.75       C  2006-10-30   \n",
              "\n",
              "       contract_price  market_price  underlyings_price  contract_volume  \\\n",
              "24140          0.2150       0.22225           4.292600            546.0   \n",
              "30057          0.3900       0.39000           5.214300              5.0   \n",
              "47850          0.0550       0.05500          12.133000            435.0   \n",
              "29244          0.0785       0.07800           5.574300             10.0   \n",
              "7485           0.1800       0.19000          61.267998            357.0   \n",
              "\n",
              "       days_to_maturity  moneyness      rate  volatility  \n",
              "24140             358.0   0.975591  0.056686    0.224718  \n",
              "30057              10.0   1.086312  0.053915    0.153294  \n",
              "47850              35.0   0.962937  0.001999    0.210271  \n",
              "29244             347.0   0.870984  0.053989    0.104922  \n",
              "7485               46.0   0.961067  0.054120    0.077493  "
            ]
          },
          "execution_count": 35,
          "metadata": {},
          "output_type": "execute_result"
        }
      ],
      "source": [
        "df = pd.read_csv(os.path.join(parent_path, 'data/data.csv'))\n",
        "\n",
        "print(df.shape)\n",
        "\n",
        "df.sample(5)"
      ]
    },
    {
      "cell_type": "markdown",
      "metadata": {},
      "source": [
        "Here we use (almost) the same approach to model average long run volatility $\\theta$, mean reversion rate of volatility $\\kappa$, and the variance of volatility $\\xi$.  \n",
        "\n",
        "**Question:** Is this the best approach? Are there better approaches? Perhaps options with the same underlying asset should take correlated values?"
      ]
    },
    {
      "cell_type": "code",
      "execution_count": 36,
      "metadata": {},
      "outputs": [
        {
          "data": {
            "text/html": [
              "<div>\n",
              "<style scoped>\n",
              "    .dataframe tbody tr th:only-of-type {\n",
              "        vertical-align: middle;\n",
              "    }\n",
              "\n",
              "    .dataframe tbody tr th {\n",
              "        vertical-align: top;\n",
              "    }\n",
              "\n",
              "    .dataframe thead th {\n",
              "        text-align: right;\n",
              "    }\n",
              "</style>\n",
              "<table border=\"1\" class=\"dataframe\">\n",
              "  <thead>\n",
              "    <tr style=\"text-align: right;\">\n",
              "      <th></th>\n",
              "      <th>Unnamed: 0</th>\n",
              "      <th>optionid</th>\n",
              "      <th>securityid</th>\n",
              "      <th>strike</th>\n",
              "      <th>callput</th>\n",
              "      <th>date_traded</th>\n",
              "      <th>contract_price</th>\n",
              "      <th>market_price</th>\n",
              "      <th>underlyings_price</th>\n",
              "      <th>contract_volume</th>\n",
              "      <th>days_to_maturity</th>\n",
              "      <th>moneyness</th>\n",
              "      <th>rate</th>\n",
              "      <th>volatility</th>\n",
              "      <th>mean_volatility</th>\n",
              "      <th>reversion</th>\n",
              "      <th>var_of_vol</th>\n",
              "      <th>rho</th>\n",
              "    </tr>\n",
              "  </thead>\n",
              "  <tbody>\n",
              "    <tr>\n",
              "      <th>0</th>\n",
              "      <td>0</td>\n",
              "      <td>150034236.0</td>\n",
              "      <td>504569.0</td>\n",
              "      <td>0.42</td>\n",
              "      <td>C</td>\n",
              "      <td>2006-10-18</td>\n",
              "      <td>0.0715</td>\n",
              "      <td>0.07025</td>\n",
              "      <td>0.488500</td>\n",
              "      <td>5.0</td>\n",
              "      <td>2.0</td>\n",
              "      <td>1.163095</td>\n",
              "      <td>0.053646</td>\n",
              "      <td>0.022956</td>\n",
              "      <td>0.011451</td>\n",
              "      <td>2.802118</td>\n",
              "      <td>0.101625</td>\n",
              "      <td>-0.162263</td>\n",
              "    </tr>\n",
              "    <tr>\n",
              "      <th>1</th>\n",
              "      <td>1</td>\n",
              "      <td>150247468.0</td>\n",
              "      <td>504880.0</td>\n",
              "      <td>40.00</td>\n",
              "      <td>C</td>\n",
              "      <td>2006-10-18</td>\n",
              "      <td>0.1240</td>\n",
              "      <td>0.12250</td>\n",
              "      <td>39.913799</td>\n",
              "      <td>56137.0</td>\n",
              "      <td>2.0</td>\n",
              "      <td>0.997845</td>\n",
              "      <td>0.053646</td>\n",
              "      <td>0.114784</td>\n",
              "      <td>0.035902</td>\n",
              "      <td>4.767512</td>\n",
              "      <td>0.578068</td>\n",
              "      <td>-0.193211</td>\n",
              "    </tr>\n",
              "    <tr>\n",
              "      <th>2</th>\n",
              "      <td>2</td>\n",
              "      <td>150255000.0</td>\n",
              "      <td>506496.0</td>\n",
              "      <td>62.00</td>\n",
              "      <td>C</td>\n",
              "      <td>2006-10-18</td>\n",
              "      <td>0.1720</td>\n",
              "      <td>0.17400</td>\n",
              "      <td>61.827798</td>\n",
              "      <td>27369.0</td>\n",
              "      <td>2.0</td>\n",
              "      <td>0.997223</td>\n",
              "      <td>0.053646</td>\n",
              "      <td>0.106823</td>\n",
              "      <td>0.016338</td>\n",
              "      <td>0.025482</td>\n",
              "      <td>0.238603</td>\n",
              "      <td>-0.563278</td>\n",
              "    </tr>\n",
              "    <tr>\n",
              "      <th>3</th>\n",
              "      <td>3</td>\n",
              "      <td>150255496.0</td>\n",
              "      <td>506497.0</td>\n",
              "      <td>53.50</td>\n",
              "      <td>C</td>\n",
              "      <td>2006-10-18</td>\n",
              "      <td>0.2960</td>\n",
              "      <td>0.26550</td>\n",
              "      <td>53.612900</td>\n",
              "      <td>1224.0</td>\n",
              "      <td>2.0</td>\n",
              "      <td>1.002110</td>\n",
              "      <td>0.053646</td>\n",
              "      <td>0.110336</td>\n",
              "      <td>0.006554</td>\n",
              "      <td>3.623960</td>\n",
              "      <td>0.145991</td>\n",
              "      <td>-0.415630</td>\n",
              "    </tr>\n",
              "    <tr>\n",
              "      <th>4</th>\n",
              "      <td>4</td>\n",
              "      <td>150255498.0</td>\n",
              "      <td>506497.0</td>\n",
              "      <td>54.00</td>\n",
              "      <td>C</td>\n",
              "      <td>2006-10-18</td>\n",
              "      <td>0.0750</td>\n",
              "      <td>0.06450</td>\n",
              "      <td>53.612900</td>\n",
              "      <td>963.0</td>\n",
              "      <td>2.0</td>\n",
              "      <td>0.992831</td>\n",
              "      <td>0.053646</td>\n",
              "      <td>0.110336</td>\n",
              "      <td>0.048223</td>\n",
              "      <td>2.524372</td>\n",
              "      <td>0.392393</td>\n",
              "      <td>-0.322703</td>\n",
              "    </tr>\n",
              "  </tbody>\n",
              "</table>\n",
              "</div>"
            ],
            "text/plain": [
              "   Unnamed: 0     optionid  securityid  strike callput date_traded  \\\n",
              "0           0  150034236.0    504569.0    0.42       C  2006-10-18   \n",
              "1           1  150247468.0    504880.0   40.00       C  2006-10-18   \n",
              "2           2  150255000.0    506496.0   62.00       C  2006-10-18   \n",
              "3           3  150255496.0    506497.0   53.50       C  2006-10-18   \n",
              "4           4  150255498.0    506497.0   54.00       C  2006-10-18   \n",
              "\n",
              "   contract_price  market_price  underlyings_price  contract_volume  \\\n",
              "0          0.0715       0.07025           0.488500              5.0   \n",
              "1          0.1240       0.12250          39.913799          56137.0   \n",
              "2          0.1720       0.17400          61.827798          27369.0   \n",
              "3          0.2960       0.26550          53.612900           1224.0   \n",
              "4          0.0750       0.06450          53.612900            963.0   \n",
              "\n",
              "   days_to_maturity  moneyness      rate  volatility  mean_volatility  \\\n",
              "0               2.0   1.163095  0.053646    0.022956         0.011451   \n",
              "1               2.0   0.997845  0.053646    0.114784         0.035902   \n",
              "2               2.0   0.997223  0.053646    0.106823         0.016338   \n",
              "3               2.0   1.002110  0.053646    0.110336         0.006554   \n",
              "4               2.0   0.992831  0.053646    0.110336         0.048223   \n",
              "\n",
              "   reversion  var_of_vol       rho  \n",
              "0   2.802118    0.101625 -0.162263  \n",
              "1   4.767512    0.578068 -0.193211  \n",
              "2   0.025482    0.238603 -0.563278  \n",
              "3   3.623960    0.145991 -0.415630  \n",
              "4   2.524372    0.392393 -0.322703  "
            ]
          },
          "execution_count": 36,
          "metadata": {},
          "output_type": "execute_result"
        }
      ],
      "source": [
        "# drop contract volume\n",
        "df.drop(['contract_volume'], axis = 1)\n",
        "\n",
        "# drop small strike prices\n",
        "df = df.drop(df[df.strike<0.1].index)\n",
        "\n",
        "# We may  add the following to the function for heston simulation\n",
        "\n",
        "# add average long run volatility (theta)\n",
        "df['mean_volatility'] = 0.001 + 0.05 * np.random.rand(len(df))\n",
        "\n",
        "# add mean reversion rate of volatility (kappa)\n",
        "df['reversion'] = 0.01 + 5 * np.random.rand(len(df))\n",
        "\n",
        "# add variance of volatility\n",
        "df['var_of_vol'] = 0.01 + 0.7 * np.random.rand(len(df))\n",
        "\n",
        "# add correlation between random processes  \n",
        "df['rho'] = -0.05 - 0.7 * np.random.rand(len(df))\n",
        "\n",
        "df.head()"
      ]
    },
    {
      "cell_type": "markdown",
      "metadata": {},
      "source": [
        "For the ease of computation, we halve/reduce the size of `df`"
      ]
    },
    {
      "cell_type": "code",
      "execution_count": 37,
      "metadata": {},
      "outputs": [],
      "source": [
        "df = df.sample(int(0.01*len(df)))"
      ]
    },
    {
      "cell_type": "code",
      "execution_count": 38,
      "metadata": {},
      "outputs": [
        {
          "data": {
            "text/plain": [
              "(1074, 18)"
            ]
          },
          "execution_count": 38,
          "metadata": {},
          "output_type": "execute_result"
        }
      ],
      "source": [
        "df.shape"
      ]
    },
    {
      "cell_type": "markdown",
      "metadata": {},
      "source": [
        "## 2 Black-Scholes Model for vector values  \n",
        "\n",
        "We implement the call/put option price of a Black-Scholes Model analystically according the following formulae.  \n",
        "\n",
        "$$\n",
        "\\begin{aligned}\n",
        "C(S,t) &= SN(d_1) - Ke^{-rT} N(d_2) \\\\\n",
        "P(S,t) &= Ke^{-rT} - S + (SN(d_1) - Ke^{-rT} N(d_2))\n",
        "\\end{aligned}\n",
        "$$  \n",
        "\n",
        "where $N(x)$ is the cdf. of a standard normal distribution and $d_1,d_2$ are defined as  \n",
        "\n",
        "$$\n",
        "\\begin{aligned}\n",
        "d_1 &= \\frac{\\log(S/K) + (r+\\frac{\\sigma^2}{2})T}{\\sigma \\sqrt{T} }\\\\\n",
        "d_2 &= d_1 - \\sigma \\sqrt{T}\n",
        "\\end{aligned}\n",
        "$$"
      ]
    },
    {
      "cell_type": "code",
      "execution_count": 39,
      "metadata": {},
      "outputs": [],
      "source": [
        "def generate_bs_vec(df):\n",
        "    \"\"\"\n",
        "    Produces result for multiple B-S runs for call options only (analytical).  \n",
        "\n",
        "    Args:\n",
        "        - df: dataframe, containing all parameters\n",
        "\n",
        "    Output:\n",
        "        - result: ndarray, containing prices for each sample\n",
        "    \"\"\"\n",
        "    S   = df['underlyings_price'].values \n",
        "    vol   = df['volatility'].values \n",
        "    r     = df['rate'].values   \n",
        "    K     = df['strike'].values  \n",
        "    T     = df['days_to_maturity'].values / 365\n",
        "    m     = df['moneyness'].values\n",
        "\n",
        "    d1 = (np.log(m) + (r + 0.5 * vol ** 2) * T) / (vol * np.sqrt(T))\n",
        "    d2 = d1 - vol * np.sqrt(T)\n",
        "\n",
        "    S_call = S * norm.cdf(d1) - K * np.exp(-r * T) * norm.cdf(d2)\n",
        "\n",
        "    return S_call\n"
      ]
    },
    {
      "cell_type": "markdown",
      "metadata": {},
      "source": [
        "## 1.1 Testing implementation  \n",
        "\n",
        "We will test the implementation on a dummy dataset with repeated values; this is also useful for trying out models for the aforementioned constants."
      ]
    },
    {
      "cell_type": "code",
      "execution_count": 40,
      "metadata": {},
      "outputs": [
        {
          "data": {
            "text/html": [
              "<div>\n",
              "<style scoped>\n",
              "    .dataframe tbody tr th:only-of-type {\n",
              "        vertical-align: middle;\n",
              "    }\n",
              "\n",
              "    .dataframe tbody tr th {\n",
              "        vertical-align: top;\n",
              "    }\n",
              "\n",
              "    .dataframe thead th {\n",
              "        text-align: right;\n",
              "    }\n",
              "</style>\n",
              "<table border=\"1\" class=\"dataframe\">\n",
              "  <thead>\n",
              "    <tr style=\"text-align: right;\">\n",
              "      <th></th>\n",
              "      <th>underlyings_price</th>\n",
              "      <th>strike</th>\n",
              "      <th>rate</th>\n",
              "      <th>days_to_maturity</th>\n",
              "      <th>volatility</th>\n",
              "      <th>mean_volatility</th>\n",
              "      <th>reversion</th>\n",
              "      <th>var_of_vol</th>\n",
              "      <th>rho</th>\n",
              "    </tr>\n",
              "  </thead>\n",
              "  <tbody>\n",
              "    <tr>\n",
              "      <th>0</th>\n",
              "      <td>100.0</td>\n",
              "      <td>100.0</td>\n",
              "      <td>0.0319</td>\n",
              "      <td>1.0</td>\n",
              "      <td>0.010201</td>\n",
              "      <td>0.019</td>\n",
              "      <td>6.21</td>\n",
              "      <td>0.61</td>\n",
              "      <td>-0.7</td>\n",
              "    </tr>\n",
              "    <tr>\n",
              "      <th>1</th>\n",
              "      <td>100.0</td>\n",
              "      <td>100.0</td>\n",
              "      <td>0.0319</td>\n",
              "      <td>1.0</td>\n",
              "      <td>0.010201</td>\n",
              "      <td>0.019</td>\n",
              "      <td>6.21</td>\n",
              "      <td>0.61</td>\n",
              "      <td>-0.7</td>\n",
              "    </tr>\n",
              "    <tr>\n",
              "      <th>2</th>\n",
              "      <td>100.0</td>\n",
              "      <td>100.0</td>\n",
              "      <td>0.0319</td>\n",
              "      <td>1.0</td>\n",
              "      <td>0.010201</td>\n",
              "      <td>0.019</td>\n",
              "      <td>6.21</td>\n",
              "      <td>0.61</td>\n",
              "      <td>-0.7</td>\n",
              "    </tr>\n",
              "    <tr>\n",
              "      <th>3</th>\n",
              "      <td>100.0</td>\n",
              "      <td>100.0</td>\n",
              "      <td>0.0319</td>\n",
              "      <td>1.0</td>\n",
              "      <td>0.010201</td>\n",
              "      <td>0.019</td>\n",
              "      <td>6.21</td>\n",
              "      <td>0.61</td>\n",
              "      <td>-0.7</td>\n",
              "    </tr>\n",
              "    <tr>\n",
              "      <th>4</th>\n",
              "      <td>100.0</td>\n",
              "      <td>100.0</td>\n",
              "      <td>0.0319</td>\n",
              "      <td>1.0</td>\n",
              "      <td>0.010201</td>\n",
              "      <td>0.019</td>\n",
              "      <td>6.21</td>\n",
              "      <td>0.61</td>\n",
              "      <td>-0.7</td>\n",
              "    </tr>\n",
              "  </tbody>\n",
              "</table>\n",
              "</div>"
            ],
            "text/plain": [
              "   underlyings_price  strike    rate  days_to_maturity  volatility  \\\n",
              "0              100.0   100.0  0.0319               1.0    0.010201   \n",
              "1              100.0   100.0  0.0319               1.0    0.010201   \n",
              "2              100.0   100.0  0.0319               1.0    0.010201   \n",
              "3              100.0   100.0  0.0319               1.0    0.010201   \n",
              "4              100.0   100.0  0.0319               1.0    0.010201   \n",
              "\n",
              "   mean_volatility  reversion  var_of_vol  rho  \n",
              "0            0.019       6.21        0.61 -0.7  \n",
              "1            0.019       6.21        0.61 -0.7  \n",
              "2            0.019       6.21        0.61 -0.7  \n",
              "3            0.019       6.21        0.61 -0.7  \n",
              "4            0.019       6.21        0.61 -0.7  "
            ]
          },
          "execution_count": 40,
          "metadata": {},
          "output_type": "execute_result"
        }
      ],
      "source": [
        "# creates dummy dataset\n",
        "\n",
        "N = len(df)\n",
        "\n",
        "S_0 = np.repeat(100.0, N)     # Initial spot price\n",
        "K = np.repeat(100.0, N)       # Strike price\n",
        "r = np.repeat(0.0319, N)      # Risk-free rate\n",
        "v_0 = np.repeat(0.010201,N)   # Initial volatility \n",
        "T = np.repeat(1.0, N)         # One year until expiry\n",
        "\n",
        "rho = np.repeat(-0.7, N)      # Correlation of asset and volatility\n",
        "kappa = np.repeat(6.21, N)    # Mean-reversion rate\n",
        "theta = np.repeat(0.019,N)    # Long run average volatility\n",
        "xi = np.repeat(0.61,N)        # \"Vol of vol\"  \n",
        "\n",
        "dummy = pd.DataFrame(columns=['underlyings_price', 'strike', 'rate', \n",
        "                    'days_to_maturity', 'volatility', 'mean_volatility', \n",
        "                    'reversion', 'var_of_vol', 'rho'])\n",
        "\n",
        "dummy['days_to_maturity'] = T\n",
        "dummy['underlyings_price'] = S_0\n",
        "dummy['volatility'] = v_0\n",
        "dummy['rate'] = r\n",
        "dummy['mean_volatility'] = theta\n",
        "dummy['reversion'] = kappa\n",
        "dummy['var_of_vol'] = xi\n",
        "dummy['strike'] = K\n",
        "dummy['rho'] = rho\n",
        "\n",
        "dummy.head()"
      ]
    },
    {
      "cell_type": "markdown",
      "metadata": {},
      "source": [
        "If tested on dummy dataset, then output should be approx. normally distributed which verifies the implementation of the heston model"
      ]
    },
    {
      "cell_type": "code",
      "execution_count": 42,
      "metadata": {},
      "outputs": [
        {
          "name": "stderr",
          "output_type": "stream",
          "text": [
            "100%|\u001b[32m██████████\u001b[0m| 1000/1000 [00:04<00:00, 212.21it/s]"
          ]
        },
        {
          "name": "stdout",
          "output_type": "stream",
          "text": [
            "MSE for Heston:  0.09078084079816295\n",
            "MSE for B-S:  0.24962708393787258\n"
          ]
        },
        {
          "name": "stderr",
          "output_type": "stream",
          "text": [
            "\n",
            "/var/folders/qd/mrmrksmj4v792bqkk9kgwv380000gn/T/ipykernel_96642/499682573.py:18: RuntimeWarning: divide by zero encountered in true_divide\n",
            "  d1 = (np.log(m) + (r + 0.5 * vol ** 2) * T) / (vol * np.sqrt(T))\n"
          ]
        }
      ],
      "source": [
        "# test_output = generate_heston_vec(dummy, 1000, 100)\n",
        "test_output_heston = generate_heston_vec(df, 1000, 100)\n",
        "test_output_bs = generate_bs_vec(df)\n",
        "\n",
        "test_output_heston = np.sum((test_output_heston - df['contract_price'].values)**2) / len(df)\n",
        "test_output_bs = np.sum((generate_bs_vec(df) - df['contract_price'].values)**2) / len(df)\n",
        "\n",
        "print('MSE for Heston: ', test_output_heston)\n",
        "print('MSE for B-S: ', test_output_bs)"
      ]
    },
    {
      "cell_type": "code",
      "execution_count": 19,
      "metadata": {},
      "outputs": [
        {
          "data": {
            "text/plain": [
              "(array([0., 0., 0., 0., 0., 0., 0., 0., 0., 0., 0., 0., 0., 0., 0., 0., 0.,\n",
              "        0., 0., 0., 0., 0., 0., 0., 0., 0., 0., 0., 0., 0., 0., 0., 0., 0.,\n",
              "        0., 0., 0., 0., 0., 0., 0., 0., 0., 0., 0., 0., 0., 0., 0., 0., 1.,\n",
              "        0., 0., 0., 0., 0., 0., 0., 0., 0., 0., 0., 0., 0., 0., 0., 0., 0.,\n",
              "        0., 0., 0., 0., 0., 0., 0., 0., 0., 0., 0., 0., 0., 0., 0., 0., 0.,\n",
              "        0., 0., 0., 0., 0., 0., 0., 0., 0., 0., 0., 0., 0., 0., 0.]),\n",
              " array([62.55822394, 62.56822394, 62.57822394, 62.58822394, 62.59822394,\n",
              "        62.60822394, 62.61822394, 62.62822394, 62.63822394, 62.64822394,\n",
              "        62.65822394, 62.66822394, 62.67822394, 62.68822394, 62.69822394,\n",
              "        62.70822394, 62.71822394, 62.72822394, 62.73822394, 62.74822394,\n",
              "        62.75822394, 62.76822394, 62.77822394, 62.78822394, 62.79822394,\n",
              "        62.80822394, 62.81822394, 62.82822394, 62.83822394, 62.84822394,\n",
              "        62.85822394, 62.86822394, 62.87822394, 62.88822394, 62.89822394,\n",
              "        62.90822394, 62.91822394, 62.92822394, 62.93822394, 62.94822394,\n",
              "        62.95822394, 62.96822394, 62.97822394, 62.98822394, 62.99822394,\n",
              "        63.00822394, 63.01822394, 63.02822394, 63.03822394, 63.04822394,\n",
              "        63.05822394, 63.06822394, 63.07822394, 63.08822394, 63.09822394,\n",
              "        63.10822394, 63.11822394, 63.12822394, 63.13822394, 63.14822394,\n",
              "        63.15822394, 63.16822394, 63.17822394, 63.18822394, 63.19822394,\n",
              "        63.20822394, 63.21822394, 63.22822394, 63.23822394, 63.24822394,\n",
              "        63.25822394, 63.26822394, 63.27822394, 63.28822394, 63.29822394,\n",
              "        63.30822394, 63.31822394, 63.32822394, 63.33822394, 63.34822394,\n",
              "        63.35822394, 63.36822394, 63.37822394, 63.38822394, 63.39822394,\n",
              "        63.40822394, 63.41822394, 63.42822394, 63.43822394, 63.44822394,\n",
              "        63.45822394, 63.46822394, 63.47822394, 63.48822394, 63.49822394,\n",
              "        63.50822394, 63.51822394, 63.52822394, 63.53822394, 63.54822394,\n",
              "        63.55822394]),\n",
              " <BarContainer object of 100 artists>)"
            ]
          },
          "execution_count": 19,
          "metadata": {},
          "output_type": "execute_result"
        },
        {
          "data": {
            "image/png": "[encoded data removed]",
            "text/plain": [
              "<Figure size 432x288 with 1 Axes>"
            ]
          },
          "metadata": {
            "needs_background": "light"
          },
          "output_type": "display_data"
        }
      ],
      "source": [
        "import matplotlib.pyplot as plt\n",
        "plt.hist(test_output_heston, bins = 100)\n",
        "plt.hist(test_output_bs, bins = 100)"
      ]
    },
    {
      "cell_type": "code",
      "execution_count": null,
      "metadata": {},
      "outputs": [],
      "source": []
    }
  ],
  "metadata": {
    "colab": {
      "collapsed_sections": [],
      "name": "heston.ipynb",
      "provenance": []
    },
    "kernelspec": {
      "display_name": "Python 3.9.12",
      "language": "python",
      "name": "python3"
    },
    "language_info": {
      "codemirror_mode": {
        "name": "ipython",
        "version": 3
      },
      "file_extension": ".py",
      "mimetype": "text/x-python",
      "name": "python",
      "nbconvert_exporter": "python",
      "pygments_lexer": "ipython3",
      "version": "3.9.12"
    },
    "vscode": {
      "interpreter": {
        "hash": "38cca0c38332a56087b24af0bc80247f4fced29cb4f7f437d91dc159adec9c4e"
      }
    }
  },
  "nbformat": 4,
  "nbformat_minor": 0
}
