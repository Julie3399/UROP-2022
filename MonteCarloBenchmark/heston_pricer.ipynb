{
  "nbformat": 4,
  "nbformat_minor": 0,
  "metadata": {
    "colab": {
      "name": "heston_pricer.ipynb",
      "provenance": []
    },
    "kernelspec": {
      "name": "python3",
      "display_name": "Python 3"
    },
    "language_info": {
      "name": "python"
    }
  },
  "cells": [
    {
      "cell_type": "code",
      "source": [
        "import numpy as np\n",
        "from scipy.integrate import quad"
      ],
      "metadata": {
        "id": "V4OvKLjKjcTS"
      },
      "execution_count": null,
      "outputs": []
    },
    {
      "cell_type": "markdown",
      "source": [
        "#Heston’s Stochastic Volatility Model"
      ],
      "metadata": {
        "id": "gJyDGMNOW_dc"
      }
    },
    {
      "cell_type": "markdown",
      "source": [
        "Heston’s Stochastic Volatility Model under real world probability measure:\n",
        "\n",
        "$$\\begin{aligned}\n",
        "&d S_{t}=\\mu S_{t} d t+\\sqrt{v_{t}} S_{t} d W_{1, t}^{\\mathbb{P}} \\\\\n",
        "&d v_{t}=\\kappa\\left(\\theta-v_{t}\\right) d t+\\sigma \\sqrt{v_{t}} d W_{2, t}^{\\mathbb{P}} \\\\\n",
        "&\\rho d t=d W_{2, t}^{\\mathbb{P}} d W_{2, t}^{\\mathbb{P}}\n",
        "\\end{aligned}$$"
      ],
      "metadata": {
        "id": "lU9wrHvgXWVj"
      }
    },
    {
      "cell_type": "markdown",
      "source": [
        "Using Girsanov's Thereom to $\\mathbb{P} \\rightarrow \\mathbb{Q}$:\n",
        "\n",
        "$$\n",
        "\\begin{aligned}\n",
        "&d W_{S, t}^{\\mathbb{Q}}=d W_{S, t}^{\\mathbb{P}}+\\alpha_{S} d t, \\alpha_{S}=\\frac{\\mu_{\\mathrm{p}}-r}{v_{t}} \\\\\n",
        "&d W_{v, t}^{\\mathbb{Q}}=d W_{v, t}^{\\mathbb{P}}+\\alpha_{v} d t, \\alpha_{v}=\\frac{\\lambda}{\\sigma^{\\mathbb{P}}} \\sqrt{v_{t}}\n",
        "\\end{aligned}\n",
        "$$\n",
        "\n",
        "We then obtain Heston’s Stochastic Volatility Model under risk-neutral measure:\n",
        "\n",
        "$$\n",
        "\\begin{aligned}\n",
        "&d S_{t}=r S_{t} d t+\\sqrt{v_{t}} S_{t} d W_{1, t}^{\\mathbb{Q}} \\\\\n",
        "&d v_{t}=\\kappa^{\\mathbb{Q}}\\left(\\theta^{\\mathbb{Q}}-v_{t}\\right) d t+\\sigma \\sqrt{v_{t}} d W_{2, t}^{\\mathbb{Q}} \\\\\n",
        "&\\rho^{\\mathbb{Q}} d t=d W_{2, t}^{\\mathbb{Q}} d W_{2, t}^{\\mathbb{Q}}\n",
        "\\end{aligned}\n",
        "$$\n",
        "\n",
        "$$\n",
        "\\rho^{\\mathbb{Q}}=\\rho, \\kappa^{\\mathbb{Q}}=\\kappa+\\lambda, \\theta^{\\mathbb{Q}}=\\kappa \\theta /(\\kappa+\\lambda)\n",
        "$$"
      ],
      "metadata": {
        "id": "V75ssTxyhAeI"
      }
    },
    {
      "cell_type": "markdown",
      "source": [
        "Notations:\n",
        "\n",
        "*   $S(t)$: Equity spot price, financial index\n",
        "*   $V(t)$: Variance\n",
        "* $C$: European call option price\n",
        "* $K$: Strike price\n",
        "* $W_{1,2}$: Standard Brownian movements\n",
        "*$r$: Interest rate\n",
        "*$q$: Dividend yield\n",
        "*$\\kappa $: Mean reversion rate\n",
        "*$θ$: Long run variance\n",
        "*$V_0$: Initial variance\n",
        "*$σ$: Volatility of variance\n",
        "*$ρ$: Correlation parameter\n",
        "*$t_0$: Current date\n",
        "*$T$: Maturity date\n",
        "*$\\lambda$: Variance risk premium\n"
      ],
      "metadata": {
        "id": "NHu5M8QZXHo9"
      }
    },
    {
      "cell_type": "markdown",
      "source": [
        "The paper [Heston’s Stochastic Volatility\n",
        "Model Implementation,\n",
        "Calibration and Some Extensions](https://www.maths.univ-evry.fr/pages_perso/crepey/Finance/051111_mikh%20heston.pdf) provided the following solution to Heston model. \n",
        "\n",
        "First, using standard arbitrage arguments we arrive at Garman’s partial differential equation:\n",
        "$$\n",
        "\\frac{\\delta C}{\\delta t}+\\frac{S^{2} v}{2} \\frac{\\delta^{2} C}{\\delta S^{2}}+r S \\frac{\\delta C}{\\delta S}-r C+[\\kappa(\\theta-v)-\\lambda v] \\frac{\\delta C}{\\delta v}+\\frac{\\sigma^{2} v}{2} \\frac{\\delta^{2} C}{\\delta v^{2}}+\\rho \\sigma S v \\frac{\\delta^{2} C}{\\delta S \\delta v}=0\n",
        "$$ "
      ],
      "metadata": {
        "id": "MJZ6auNWa9Jm"
      }
    },
    {
      "cell_type": "markdown",
      "source": [
        "Using method of characteristic functions, we bulit a solution to the above PDE in a similar form to the  Black-Scholes model:\n",
        "\n",
        "$$\n",
        "C\\left(S_{0}, K, v_{0}, \\tau\\right)=S P_{1}-K e^{-r \\tau} P_{2}\n",
        "$$\n",
        "where\n",
        "- $P_{1}$ is the delta of the European call option and\n",
        "- $P_{2}$ is the conditional risk neutral probability that the asset price will be greater than $\\mathrm{K}$ at the maturit\n",
        "$y .$"
      ],
      "metadata": {
        "id": "9hHrhYlClW1i"
      }
    },
    {
      "cell_type": "markdown",
      "source": [
        "Given characteristic functions $\\varphi_{1,2}$, both probabilities $P_{1,2}$ satisfy Garman’s PDE.  $P_{1,2}$ defined via the inverse Fourier transformation:\n",
        "\n",
        "$$\n",
        "\\begin{aligned}\n",
        "&X=\\ln (S) \\\\\n",
        "&P_{j}=\\frac{1}{2}+\\frac{1}{\\pi} \\int_{0}^{\\inf } \\Re\\left[\\frac{e^{-i \\phi \\ln K} \\varphi_{j}\\left(X_{0}, K, v_{0}, \\tau ; \\phi\\right)}{i \\phi}\\right] d \\phi, j \\in\\{1,2\\}\n",
        "\\end{aligned}\n",
        "$$"
      ],
      "metadata": {
        "id": "L9pdK-Kllw7D"
      }
    },
    {
      "cell_type": "markdown",
      "source": [
        "While the characteristic functions have the form:\n",
        "\n",
        "$\\varphi_{j}\\left(X_{0}, K, v_{0}, \\tau ; \\phi\\right)=e^{C(\\tau ; \\phi)+D(\\tau ; \\phi) v+i \\phi X},\\ j = 1,2$\n"
      ],
      "metadata": {
        "id": "Oy_92InhlVCS"
      }
    },
    {
      "cell_type": "markdown",
      "source": [
        "With:\n",
        "\n",
        "$\\begin{aligned}\n",
        "&\\left.C(\\tau ; \\phi)=r \\phi i \\tau+\\frac{a}{\\sigma^{2}}\\left[\\left(b_{j}-\\rho \\sigma \\phi i+d\\right) \\tau-2 \\ln \\left[\\frac{1-g e^{d \\tau}}{1-g}\\right]\\right)\\right] \\\\\n",
        "&D(\\tau ; \\phi)=\\frac{b_{j}-\\rho \\sigma \\phi i+d}{\\sigma^{2}}\\left[\\frac{1-e^{d \\tau}}{1-g e^{d \\tau}}\\right] \\\\\n",
        "&-g=\\frac{b_{j}-\\rho \\sigma \\phi i+d}{b_{j}-\\rho \\sigma \\phi i-d} \\\\\n",
        "&-d=\\sqrt{\\left(\\rho \\sigma \\phi i-b_{j}\\right)^{2}-\\sigma^{2}\\left(2 u_{j} \\phi i-\\phi^{2}\\right)} \\\\\n",
        "&-u_{1}=0.5, u_{2}=-0.5-a=\\kappa \\theta \\\\\n",
        "&-b_{1}=\\kappa+\\lambda-\\rho \\sigma \\\\\n",
        "&-b_{2}=\\kappa+\\lambda\n",
        "\\end{aligned}$"
      ],
      "metadata": {
        "id": "4IwqnA_Hmr0S"
      }
    },
    {
      "cell_type": "markdown",
      "source": [
        "## Implement the characteristic function\n",
        "\n",
        "$\\varphi\\left(X_{0}, K, v_{0}, \\tau ; \\phi\\right)=e^{r \\phi i \\tau} S^{i \\phi}\\left[\\frac{1-g e^{d \\tau}}{1-g}\\right]^{\\frac{2 a}{\\sigma^{2}}} \\exp \\left[\\frac{a \\tau}{\\sigma^{2}}\\left(b_{2}-\\rho \\sigma \\phi i+d\\right)+\\frac{v_{0}}{\\sigma^{2}}\\left(b_{2}-\\rho \\sigma \\phi i+d\\right)\\left[\\frac{1-e^{d \\tau}}{1-g e^{d \\tau}}\\right]\\right]$\n",
        "\n",
        "where d and g no longer change with b1, b2 or u1, u2.\n",
        "\n",
        "\n",
        "$\\begin{aligned}\n",
        "-\\ d &=\\sqrt{(\\rho \\sigma \\phi i-b)^{2}+\\sigma^{2}\\left(\\phi i+\\phi^{2}\\right)} \\\\\n",
        "-\\ g &=\\frac{b-\\rho \\sigma \\phi i+d}{b-\\rho \\sigma \\phi i-d} \\\\\n",
        "-\\ a &=\\kappa \\theta \\\\\n",
        "-\\ b &=\\kappa+\\lambda\n",
        "\\end{aligned}$"
      ],
      "metadata": {
        "id": "EQ08w03Ed0n3"
      }
    },
    {
      "cell_type": "code",
      "execution_count": null,
      "metadata": {
        "id": "p2gdAfGyW6QU"
      },
      "outputs": [],
      "source": [
        "def heston_charfunc(phi, S0, v0, kappa, theta, sigma, rho, lambd, tau, r):\n",
        "  \"\"\"\n",
        "  Returns the result of implementing the characteristic function.\n",
        "\n",
        "  Args:\n",
        "  - phi: variable in characteristic function\n",
        "  - S0: float, initial spot price\n",
        "  - v0: float, initial volatility\n",
        "  - kappa: float, mean reversion rate\n",
        "  - theta: float, long run variance\n",
        "  - sigma: float, volatility of variance\n",
        "  - rho: correlation parameter between price and volatility process\n",
        "  - lambd: variance risk premium\n",
        "  - tau: day to maturity\n",
        "  - r: interest rate\n",
        "  \"\"\"\n",
        "  a = kappa*theta\n",
        "  b = kappa+lambd\n",
        "\n",
        "  rspi = rho*sigma*phi*1j\n",
        "  d = np.sqrt( (rspi - b)**2 + sigma**2*(phi*1j + phi**2) )\n",
        "  g = (b - rspi + d)/(b - rspi - d)\n",
        "\n",
        "  exp1 = np.exp(r*phi*1j*tau)\n",
        "  term2 = S0**(phi*1j) * ( (1-g*np.exp(d*tau))/(1-g) )**(-2*a/sigma**2)\n",
        "  exp2 = np.exp(a*tau*(b-rspi+d)/sigma**2 + v0*(b-rspi+d)*( (1-np.exp(d*tau))/(1-g*np.exp(d*tau)) )/sigma**2)\n",
        "  return exp1*term2*exp2"
      ]
    },
    {
      "cell_type": "markdown",
      "source": [
        "## Define the integrand as a function\n",
        "$$\n",
        "\\int_{0}^{\\inf } \\Re\\left[e^{r \\tau} \\frac{\\varphi(\\phi-i)}{i \\phi K^{i \\phi}}-K \\frac{\\varphi(\\phi)}{i \\phi K^{i \\phi}}\\right] d \\phi\n",
        "$$"
      ],
      "metadata": {
        "id": "CEflU1fakBxy"
      }
    },
    {
      "cell_type": "code",
      "source": [
        "def integrand(phi, S0, v0, kappa, theta, sigma, rho, lambd, tau, r):\n",
        "  \"\"\"\n",
        "  Returns the result of implementing the integrand.\n",
        "\n",
        "  Args:\n",
        "  - phi: variable in characteristic function\n",
        "  - S0: float, initial spot price\n",
        "  - v0: float, initial volatility\n",
        "  - kappa: float, mean reversion rate\n",
        "  - theta: float, long run variance\n",
        "  - sigma: float, volatility of variance\n",
        "  - rho: correlation parameter between price and volatility process\n",
        "  - lambd: variance risk premium\n",
        "  - tau: day to maturity\n",
        "  - r: interest rate\n",
        "  \"\"\"\n",
        "  args = (S0, v0, kappa, theta, sigma, rho, lambd, tau, r)\n",
        "  numerator = np.exp(r*tau) * heston_charfunc(phi-1j, *args) - K * heston_charfunc(phi, *args)\n",
        "  denominator = 1j*phi*K**(1j*phi)\n",
        "  return numerator/denominator\n"
      ],
      "metadata": {
        "id": "R-kly_qXdMKn"
      },
      "execution_count": null,
      "outputs": []
    },
    {
      "cell_type": "markdown",
      "source": [
        "## Perform numerical integration over integrand and calculate option price.\n",
        "$$\n",
        "C\\left(S_{0}, K, v_{0}, \\tau\\right)=\\frac{1}{2}\\left(S_{0}-K e^{-r \\tau}\\right)+\\frac{1}{\\pi} \\int_{0}^{\\inf } \\Re\\left[e^{r \\tau} \\frac{\\varphi(\\phi-i)}{i \\phi K^{i \\phi}}-K \\frac{\\varphi(\\phi)}{i \\phi K^{i \\phi}}\\right] d \\phi\n",
        "$$"
      ],
      "metadata": {
        "id": "PG4ixc8X4uVI"
      }
    },
    {
      "cell_type": "code",
      "source": [
        "def heston_price(K, S0, v0, kappa, theta, sigma, rho, lambd, tau, r):\n",
        "  \"\"\"\n",
        "  Return the option price calculated by heston model.\n",
        "\n",
        "  Args:\n",
        "  - phi: variable in characteristic function\n",
        "  - S0: float, initial spot price\n",
        "  - v0: float, initial volatility\n",
        "  - kappa: float, mean reversion rate\n",
        "  - theta: float, long run variance\n",
        "  - sigma: float, volatility of variance\n",
        "  - rho: correlation parameter between price and volatility process\n",
        "  - lambd: variance risk premium\n",
        "  - tau: day to maturity\n",
        "  - r: interest rate\n",
        "  \"\"\"\n",
        "  args = (S0, v0, kappa, theta, sigma, rho, lambd, tau, r)\n",
        "  real_integral, err = np.real(quad(integrand, 0, 100, args = args))\n",
        "  return (S0 - K*np.exp(-r*tau))/2 + real_integral/np.pi"
      ],
      "metadata": {
        "id": "sLVuUMcJ42l5"
      },
      "execution_count": null,
      "outputs": []
    },
    {
      "cell_type": "markdown",
      "source": [
        "##Test the model with dummy parameters."
      ],
      "metadata": {
        "id": "olwvfltp8Wox"
      }
    },
    {
      "cell_type": "code",
      "source": [
        "S0 = 100. # initial asset price\n",
        "K = 100. # strike\n",
        "v0 = 0.1 # initial variance\n",
        "r = 0.03 # risk free rate\n",
        "kappa = 1.5768 # rate of mean reversion of variance process\n",
        "theta = 0.0398 # long-term mean variance\n",
        "sigma = 0.3 # volatility of volatility\n",
        "lambd = 0.575 # risk premium of variance\n",
        "rho = -0.5711 # correlation between variance and stock process\n",
        "tau = 1. # time to maturity\n",
        "\n",
        "heston_price(K, S0, v0, kappa, theta, sigma, rho, lambd, tau, r)"
      ],
      "metadata": {
        "colab": {
          "base_uri": "https://localhost:8080/"
        },
        "id": "X4Sk1stb8g0H",
        "outputId": "f1e89d1b-f486-4743-e425-c6ee987cb5a4"
      },
      "execution_count": null,
      "outputs": [
        {
          "output_type": "execute_result",
          "data": {
            "text/plain": [
              "11.540361819355377"
            ]
          },
          "metadata": {},
          "execution_count": 40
        }
      ]
    }
  ]
}