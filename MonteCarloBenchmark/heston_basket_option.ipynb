{
  "nbformat": 4,
  "nbformat_minor": 0,
  "metadata": {
    "colab": {
      "provenance": [],
      "collapsed_sections": []
    },
    "kernelspec": {
      "name": "python3",
      "display_name": "Python 3"
    },
    "language_info": {
      "name": "python"
    }
  },
  "cells": [
    {
      "cell_type": "markdown",
      "source": [
        "# 0 Data"
      ],
      "metadata": {
        "id": "kXzjiTjTgo5Y"
      }
    },
    {
      "cell_type": "code",
      "source": [
        "import pandas as pd\n",
        "import numpy as np\n",
        "import tensorflow as tf"
      ],
      "metadata": {
        "id": "KohUkyhKZ5Jr"
      },
      "execution_count": 383,
      "outputs": []
    },
    {
      "cell_type": "code",
      "execution_count": 384,
      "metadata": {
        "colab": {
          "base_uri": "https://localhost:8080/"
        },
        "id": "Jds_DYI7XbPj",
        "outputId": "71ca90c2-6fc1-4ee0-8509-c74a318bf277"
      },
      "outputs": [
        {
          "output_type": "stream",
          "name": "stdout",
          "text": [
            "Drive already mounted at /content/drive; to attempt to forcibly remount, call drive.mount(\"/content/drive\", force_remount=True).\n"
          ]
        }
      ],
      "source": [
        "from google.colab import drive\n",
        "drive.mount('/content/drive')"
      ]
    },
    {
      "cell_type": "code",
      "source": [
        "real_data = pd.read_csv('/content/drive/MyDrive/processed_data.csv')\n",
        "real_data.head()"
      ],
      "metadata": {
        "colab": {
          "base_uri": "https://localhost:8080/",
          "height": 287
        },
        "id": "LsCWLQ-_ZOSU",
        "outputId": "a543a1b8-2b55-442f-f1b2-6cf3c20c91c9"
      },
      "execution_count": 385,
      "outputs": [
        {
          "output_type": "execute_result",
          "data": {
            "text/plain": [
              "   Unnamed: 0    optionid  securityid  strike date_traded  contract_price  \\\n",
              "0           0  30246878.0    504880.0    27.0  2003-04-24           0.365   \n",
              "1           1  30246882.0    504880.0    28.0  2003-04-24           0.225   \n",
              "2           2  30246886.0    504880.0    29.0  2003-04-24           0.131   \n",
              "3           3  30246890.0    504880.0    30.0  2003-04-24           0.074   \n",
              "4           4  30262356.0    504889.0     2.8  2003-04-24           0.056   \n",
              "\n",
              "   underlyings_price  contract_volume  days_to_maturity  moneyness      rate  \\\n",
              "0          23.108701           5109.0          0.405479   0.855878  0.012725   \n",
              "1          23.108701            157.0          0.405479   0.825311  0.012725   \n",
              "2          23.108701            122.0          0.405479   0.796852  0.012725   \n",
              "3          23.108701           6020.0          0.405479   0.770290  0.012725   \n",
              "4           2.455500           1000.0          0.405479   0.876964  0.012725   \n",
              "\n",
              "   volatility  mean_volatility  reversion  var_of_vol       rho    lambda  \n",
              "0    0.344999         0.027174   2.514547    0.136556 -0.332888  0.860253  \n",
              "1    0.344999         0.035583   1.412536    0.043306 -0.189034  0.831190  \n",
              "2    0.344999         0.016089   2.366108    0.081914 -0.164918  0.519741  \n",
              "3    0.344999         0.004220   0.108479    0.546855 -0.167983  0.899078  \n",
              "4    0.265610         0.010153   3.142642    0.640966 -0.430974  1.020605  "
            ],
            "text/html": [
              "\n",
              "  <div id=\"df-cae2f23e-44f2-44a8-9acd-cded1e5970fb\">\n",
              "    <div class=\"colab-df-container\">\n",
              "      <div>\n",
              "<style scoped>\n",
              "    .dataframe tbody tr th:only-of-type {\n",
              "        vertical-align: middle;\n",
              "    }\n",
              "\n",
              "    .dataframe tbody tr th {\n",
              "        vertical-align: top;\n",
              "    }\n",
              "\n",
              "    .dataframe thead th {\n",
              "        text-align: right;\n",
              "    }\n",
              "</style>\n",
              "<table border=\"1\" class=\"dataframe\">\n",
              "  <thead>\n",
              "    <tr style=\"text-align: right;\">\n",
              "      <th></th>\n",
              "      <th>Unnamed: 0</th>\n",
              "      <th>optionid</th>\n",
              "      <th>securityid</th>\n",
              "      <th>strike</th>\n",
              "      <th>date_traded</th>\n",
              "      <th>contract_price</th>\n",
              "      <th>underlyings_price</th>\n",
              "      <th>contract_volume</th>\n",
              "      <th>days_to_maturity</th>\n",
              "      <th>moneyness</th>\n",
              "      <th>rate</th>\n",
              "      <th>volatility</th>\n",
              "      <th>mean_volatility</th>\n",
              "      <th>reversion</th>\n",
              "      <th>var_of_vol</th>\n",
              "      <th>rho</th>\n",
              "      <th>lambda</th>\n",
              "    </tr>\n",
              "  </thead>\n",
              "  <tbody>\n",
              "    <tr>\n",
              "      <th>0</th>\n",
              "      <td>0</td>\n",
              "      <td>30246878.0</td>\n",
              "      <td>504880.0</td>\n",
              "      <td>27.0</td>\n",
              "      <td>2003-04-24</td>\n",
              "      <td>0.365</td>\n",
              "      <td>23.108701</td>\n",
              "      <td>5109.0</td>\n",
              "      <td>0.405479</td>\n",
              "      <td>0.855878</td>\n",
              "      <td>0.012725</td>\n",
              "      <td>0.344999</td>\n",
              "      <td>0.027174</td>\n",
              "      <td>2.514547</td>\n",
              "      <td>0.136556</td>\n",
              "      <td>-0.332888</td>\n",
              "      <td>0.860253</td>\n",
              "    </tr>\n",
              "    <tr>\n",
              "      <th>1</th>\n",
              "      <td>1</td>\n",
              "      <td>30246882.0</td>\n",
              "      <td>504880.0</td>\n",
              "      <td>28.0</td>\n",
              "      <td>2003-04-24</td>\n",
              "      <td>0.225</td>\n",
              "      <td>23.108701</td>\n",
              "      <td>157.0</td>\n",
              "      <td>0.405479</td>\n",
              "      <td>0.825311</td>\n",
              "      <td>0.012725</td>\n",
              "      <td>0.344999</td>\n",
              "      <td>0.035583</td>\n",
              "      <td>1.412536</td>\n",
              "      <td>0.043306</td>\n",
              "      <td>-0.189034</td>\n",
              "      <td>0.831190</td>\n",
              "    </tr>\n",
              "    <tr>\n",
              "      <th>2</th>\n",
              "      <td>2</td>\n",
              "      <td>30246886.0</td>\n",
              "      <td>504880.0</td>\n",
              "      <td>29.0</td>\n",
              "      <td>2003-04-24</td>\n",
              "      <td>0.131</td>\n",
              "      <td>23.108701</td>\n",
              "      <td>122.0</td>\n",
              "      <td>0.405479</td>\n",
              "      <td>0.796852</td>\n",
              "      <td>0.012725</td>\n",
              "      <td>0.344999</td>\n",
              "      <td>0.016089</td>\n",
              "      <td>2.366108</td>\n",
              "      <td>0.081914</td>\n",
              "      <td>-0.164918</td>\n",
              "      <td>0.519741</td>\n",
              "    </tr>\n",
              "    <tr>\n",
              "      <th>3</th>\n",
              "      <td>3</td>\n",
              "      <td>30246890.0</td>\n",
              "      <td>504880.0</td>\n",
              "      <td>30.0</td>\n",
              "      <td>2003-04-24</td>\n",
              "      <td>0.074</td>\n",
              "      <td>23.108701</td>\n",
              "      <td>6020.0</td>\n",
              "      <td>0.405479</td>\n",
              "      <td>0.770290</td>\n",
              "      <td>0.012725</td>\n",
              "      <td>0.344999</td>\n",
              "      <td>0.004220</td>\n",
              "      <td>0.108479</td>\n",
              "      <td>0.546855</td>\n",
              "      <td>-0.167983</td>\n",
              "      <td>0.899078</td>\n",
              "    </tr>\n",
              "    <tr>\n",
              "      <th>4</th>\n",
              "      <td>4</td>\n",
              "      <td>30262356.0</td>\n",
              "      <td>504889.0</td>\n",
              "      <td>2.8</td>\n",
              "      <td>2003-04-24</td>\n",
              "      <td>0.056</td>\n",
              "      <td>2.455500</td>\n",
              "      <td>1000.0</td>\n",
              "      <td>0.405479</td>\n",
              "      <td>0.876964</td>\n",
              "      <td>0.012725</td>\n",
              "      <td>0.265610</td>\n",
              "      <td>0.010153</td>\n",
              "      <td>3.142642</td>\n",
              "      <td>0.640966</td>\n",
              "      <td>-0.430974</td>\n",
              "      <td>1.020605</td>\n",
              "    </tr>\n",
              "  </tbody>\n",
              "</table>\n",
              "</div>\n",
              "      <button class=\"colab-df-convert\" onclick=\"convertToInteractive('df-cae2f23e-44f2-44a8-9acd-cded1e5970fb')\"\n",
              "              title=\"Convert this dataframe to an interactive table.\"\n",
              "              style=\"display:none;\">\n",
              "        \n",
              "  <svg xmlns=\"http://www.w3.org/2000/svg\" height=\"24px\"viewBox=\"0 0 24 24\"\n",
              "       width=\"24px\">\n",
              "    <path d=\"M0 0h24v24H0V0z\" fill=\"none\"/>\n",
              "    <path d=\"M18.56 5.44l.94 2.06.94-2.06 2.06-.94-2.06-.94-.94-2.06-.94 2.06-2.06.94zm-11 1L8.5 8.5l.94-2.06 2.06-.94-2.06-.94L8.5 2.5l-.94 2.06-2.06.94zm10 10l.94 2.06.94-2.06 2.06-.94-2.06-.94-.94-2.06-.94 2.06-2.06.94z\"/><path d=\"M17.41 7.96l-1.37-1.37c-.4-.4-.92-.59-1.43-.59-.52 0-1.04.2-1.43.59L10.3 9.45l-7.72 7.72c-.78.78-.78 2.05 0 2.83L4 21.41c.39.39.9.59 1.41.59.51 0 1.02-.2 1.41-.59l7.78-7.78 2.81-2.81c.8-.78.8-2.07 0-2.86zM5.41 20L4 18.59l7.72-7.72 1.47 1.35L5.41 20z\"/>\n",
              "  </svg>\n",
              "      </button>\n",
              "      \n",
              "  <style>\n",
              "    .colab-df-container {\n",
              "      display:flex;\n",
              "      flex-wrap:wrap;\n",
              "      gap: 12px;\n",
              "    }\n",
              "\n",
              "    .colab-df-convert {\n",
              "      background-color: #E8F0FE;\n",
              "      border: none;\n",
              "      border-radius: 50%;\n",
              "      cursor: pointer;\n",
              "      display: none;\n",
              "      fill: #1967D2;\n",
              "      height: 32px;\n",
              "      padding: 0 0 0 0;\n",
              "      width: 32px;\n",
              "    }\n",
              "\n",
              "    .colab-df-convert:hover {\n",
              "      background-color: #E2EBFA;\n",
              "      box-shadow: 0px 1px 2px rgba(60, 64, 67, 0.3), 0px 1px 3px 1px rgba(60, 64, 67, 0.15);\n",
              "      fill: #174EA6;\n",
              "    }\n",
              "\n",
              "    [theme=dark] .colab-df-convert {\n",
              "      background-color: #3B4455;\n",
              "      fill: #D2E3FC;\n",
              "    }\n",
              "\n",
              "    [theme=dark] .colab-df-convert:hover {\n",
              "      background-color: #434B5C;\n",
              "      box-shadow: 0px 1px 3px 1px rgba(0, 0, 0, 0.15);\n",
              "      filter: drop-shadow(0px 1px 2px rgba(0, 0, 0, 0.3));\n",
              "      fill: #FFFFFF;\n",
              "    }\n",
              "  </style>\n",
              "\n",
              "      <script>\n",
              "        const buttonEl =\n",
              "          document.querySelector('#df-cae2f23e-44f2-44a8-9acd-cded1e5970fb button.colab-df-convert');\n",
              "        buttonEl.style.display =\n",
              "          google.colab.kernel.accessAllowed ? 'block' : 'none';\n",
              "\n",
              "        async function convertToInteractive(key) {\n",
              "          const element = document.querySelector('#df-cae2f23e-44f2-44a8-9acd-cded1e5970fb');\n",
              "          const dataTable =\n",
              "            await google.colab.kernel.invokeFunction('convertToInteractive',\n",
              "                                                     [key], {});\n",
              "          if (!dataTable) return;\n",
              "\n",
              "          const docLinkHtml = 'Like what you see? Visit the ' +\n",
              "            '<a target=\"_blank\" href=https://colab.research.google.com/notebooks/data_table.ipynb>data table notebook</a>'\n",
              "            + ' to learn more about interactive tables.';\n",
              "          element.innerHTML = '';\n",
              "          dataTable['output_type'] = 'display_data';\n",
              "          await google.colab.output.renderOutput(dataTable, element);\n",
              "          const docLink = document.createElement('div');\n",
              "          docLink.innerHTML = docLinkHtml;\n",
              "          element.appendChild(docLink);\n",
              "        }\n",
              "      </script>\n",
              "    </div>\n",
              "  </div>\n",
              "  "
            ]
          },
          "metadata": {},
          "execution_count": 385
        }
      ]
    },
    {
      "cell_type": "code",
      "source": [
        "dim  = 7                               # Dimension of basket (number of stocks)\n",
        "num_samples = 50                            # Output has length num_samples*num_mats*num_strikes."
      ],
      "metadata": {
        "id": "XOBtkg0aaWvL"
      },
      "execution_count": 386,
      "outputs": []
    },
    {
      "cell_type": "code",
      "source": [
        "def generate_inputs_nn(dim, num_samples):\n",
        "    \"\"\"\n",
        "    Returns num_samples numbers of 7 + 2*dim input features \n",
        "    which is later fed into the neural networks.\n",
        "\n",
        "    Arg:\n",
        "    - dim: int, the number of underlyings in the basket\n",
        "    \n",
        "    \"\"\"\n",
        "    def rand(num = num_samples):\n",
        "      return np.random.random(num)\n",
        "\n",
        "    def corr(dim):\n",
        "      return -0.05 - 0.7 * rand(dim) # \n",
        "\n",
        "    def spots(dim): # Initial spot price of each sampled from historical data\n",
        "      return np.array(real_data['underlyings_price'].sample(n=dim, replace=True))\n",
        "\n",
        "    maturity  = np.array(real_data['days_to_maturity'].sample(n = num_samples, replace = True))\n",
        "    rate    = np.array(real_data['rate'].sample(n = num_samples, replace = True))\n",
        "    strikes  = np.array(real_data['strike'].sample(n = num_samples, replace = True))\n",
        "    rate_reversion  = 0.01 + 5 * rand()          # kappa\n",
        "    vol_of_vol    = 0.01 + 0.7 * rand()         # lambda\n",
        "    long_term_var = 0.001 + 0.05 * rand()         # theta\n",
        "    initial_var  = 0.001 + 0.05 * rand()         # sqrt(v0)\n",
        "    inputs      = np.array([maturity, strikes, initial_var, long_term_var, rate_reversion,\n",
        "                               vol_of_vol, rate]).T.tolist()\n",
        "    for i in range(len(inputs)):\n",
        "        spot = spots(dim)\n",
        "        inputs[i].insert(0, spot)\n",
        "        inputs[i].insert(1, corr(dim))        \n",
        "\n",
        "    inputs = np.array(inputs, dtype = object)\n",
        "    return inputs"
      ],
      "metadata": {
        "id": "LmxzV9nUaFn7"
      },
      "execution_count": 395,
      "outputs": []
    },
    {
      "cell_type": "code",
      "source": [
        "inputs_array = generate_inputs_nn(dim)\n",
        "inputs = pd.DataFrame(inputs_array, columns = ['underlyings_prices', 'correlations', 'maturity', \n",
        "                        'strike', 'initial_var','long_term_var','mean_reversion_rate', 'vol_of_var','r'])\n",
        "inputs.head()"
      ],
      "metadata": {
        "colab": {
          "base_uri": "https://localhost:8080/",
          "height": 250
        },
        "id": "Gv07nOtcglZg",
        "outputId": "20093a72-b5ee-4fd3-e4e0-36f512c4e22d"
      },
      "execution_count": 394,
      "outputs": [
        {
          "output_type": "execute_result",
          "data": {
            "text/plain": [
              "                                  underlyings_prices  \\\n",
              "0  [13.5375, 48.967001953125, 36.17110107421875, ...   \n",
              "1  [26.982099609375, 48.925, 5.370599975585938, 1...   \n",
              "2  [28.83919921875, 98.5926953125, 53.13189941406...   \n",
              "3  [4.0455999755859375, 18.932750244140625, 58.66...   \n",
              "4  [3.3248001098632813, 206.15, 26.3610009765625,...   \n",
              "\n",
              "                                        correlations  maturity strike  \\\n",
              "0  [-0.3241979395618749, -0.2321104245306439, -0....  0.115068   76.0   \n",
              "1  [-0.5953097638933954, -0.45384822638079975, -0...  0.079452   63.5   \n",
              "2  [-0.5171559983858124, -0.7379814096026234, -0....  0.252055   41.5   \n",
              "3  [-0.5510596682114104, -0.057154264751898026, -...  0.046575  215.0   \n",
              "4  [-0.6876074065223343, -0.40780228482419945, -0...  0.717808   5.55   \n",
              "\n",
              "  initial_var long_term_var mean_reversion_rate vol_of_var         r  \n",
              "0    0.032922      0.019908            2.597988    0.32842  0.024225  \n",
              "1    0.049812      0.015425            3.686319     0.1414  0.004496  \n",
              "2    0.030222      0.001034            3.627484   0.180117  0.004135  \n",
              "3    0.035548      0.017094            3.971818   0.017584  0.022361  \n",
              "4    0.008076      0.011604            3.663596   0.487811  0.002377  "
            ],
            "text/html": [
              "\n",
              "  <div id=\"df-866846f3-8cb3-4a03-bcb0-adced28cdaac\">\n",
              "    <div class=\"colab-df-container\">\n",
              "      <div>\n",
              "<style scoped>\n",
              "    .dataframe tbody tr th:only-of-type {\n",
              "        vertical-align: middle;\n",
              "    }\n",
              "\n",
              "    .dataframe tbody tr th {\n",
              "        vertical-align: top;\n",
              "    }\n",
              "\n",
              "    .dataframe thead th {\n",
              "        text-align: right;\n",
              "    }\n",
              "</style>\n",
              "<table border=\"1\" class=\"dataframe\">\n",
              "  <thead>\n",
              "    <tr style=\"text-align: right;\">\n",
              "      <th></th>\n",
              "      <th>underlyings_prices</th>\n",
              "      <th>correlations</th>\n",
              "      <th>maturity</th>\n",
              "      <th>strike</th>\n",
              "      <th>initial_var</th>\n",
              "      <th>long_term_var</th>\n",
              "      <th>mean_reversion_rate</th>\n",
              "      <th>vol_of_var</th>\n",
              "      <th>r</th>\n",
              "    </tr>\n",
              "  </thead>\n",
              "  <tbody>\n",
              "    <tr>\n",
              "      <th>0</th>\n",
              "      <td>[13.5375, 48.967001953125, 36.17110107421875, ...</td>\n",
              "      <td>[-0.3241979395618749, -0.2321104245306439, -0....</td>\n",
              "      <td>0.115068</td>\n",
              "      <td>76.0</td>\n",
              "      <td>0.032922</td>\n",
              "      <td>0.019908</td>\n",
              "      <td>2.597988</td>\n",
              "      <td>0.32842</td>\n",
              "      <td>0.024225</td>\n",
              "    </tr>\n",
              "    <tr>\n",
              "      <th>1</th>\n",
              "      <td>[26.982099609375, 48.925, 5.370599975585938, 1...</td>\n",
              "      <td>[-0.5953097638933954, -0.45384822638079975, -0...</td>\n",
              "      <td>0.079452</td>\n",
              "      <td>63.5</td>\n",
              "      <td>0.049812</td>\n",
              "      <td>0.015425</td>\n",
              "      <td>3.686319</td>\n",
              "      <td>0.1414</td>\n",
              "      <td>0.004496</td>\n",
              "    </tr>\n",
              "    <tr>\n",
              "      <th>2</th>\n",
              "      <td>[28.83919921875, 98.5926953125, 53.13189941406...</td>\n",
              "      <td>[-0.5171559983858124, -0.7379814096026234, -0....</td>\n",
              "      <td>0.252055</td>\n",
              "      <td>41.5</td>\n",
              "      <td>0.030222</td>\n",
              "      <td>0.001034</td>\n",
              "      <td>3.627484</td>\n",
              "      <td>0.180117</td>\n",
              "      <td>0.004135</td>\n",
              "    </tr>\n",
              "    <tr>\n",
              "      <th>3</th>\n",
              "      <td>[4.0455999755859375, 18.932750244140625, 58.66...</td>\n",
              "      <td>[-0.5510596682114104, -0.057154264751898026, -...</td>\n",
              "      <td>0.046575</td>\n",
              "      <td>215.0</td>\n",
              "      <td>0.035548</td>\n",
              "      <td>0.017094</td>\n",
              "      <td>3.971818</td>\n",
              "      <td>0.017584</td>\n",
              "      <td>0.022361</td>\n",
              "    </tr>\n",
              "    <tr>\n",
              "      <th>4</th>\n",
              "      <td>[3.3248001098632813, 206.15, 26.3610009765625,...</td>\n",
              "      <td>[-0.6876074065223343, -0.40780228482419945, -0...</td>\n",
              "      <td>0.717808</td>\n",
              "      <td>5.55</td>\n",
              "      <td>0.008076</td>\n",
              "      <td>0.011604</td>\n",
              "      <td>3.663596</td>\n",
              "      <td>0.487811</td>\n",
              "      <td>0.002377</td>\n",
              "    </tr>\n",
              "  </tbody>\n",
              "</table>\n",
              "</div>\n",
              "      <button class=\"colab-df-convert\" onclick=\"convertToInteractive('df-866846f3-8cb3-4a03-bcb0-adced28cdaac')\"\n",
              "              title=\"Convert this dataframe to an interactive table.\"\n",
              "              style=\"display:none;\">\n",
              "        \n",
              "  <svg xmlns=\"http://www.w3.org/2000/svg\" height=\"24px\"viewBox=\"0 0 24 24\"\n",
              "       width=\"24px\">\n",
              "    <path d=\"M0 0h24v24H0V0z\" fill=\"none\"/>\n",
              "    <path d=\"M18.56 5.44l.94 2.06.94-2.06 2.06-.94-2.06-.94-.94-2.06-.94 2.06-2.06.94zm-11 1L8.5 8.5l.94-2.06 2.06-.94-2.06-.94L8.5 2.5l-.94 2.06-2.06.94zm10 10l.94 2.06.94-2.06 2.06-.94-2.06-.94-.94-2.06-.94 2.06-2.06.94z\"/><path d=\"M17.41 7.96l-1.37-1.37c-.4-.4-.92-.59-1.43-.59-.52 0-1.04.2-1.43.59L10.3 9.45l-7.72 7.72c-.78.78-.78 2.05 0 2.83L4 21.41c.39.39.9.59 1.41.59.51 0 1.02-.2 1.41-.59l7.78-7.78 2.81-2.81c.8-.78.8-2.07 0-2.86zM5.41 20L4 18.59l7.72-7.72 1.47 1.35L5.41 20z\"/>\n",
              "  </svg>\n",
              "      </button>\n",
              "      \n",
              "  <style>\n",
              "    .colab-df-container {\n",
              "      display:flex;\n",
              "      flex-wrap:wrap;\n",
              "      gap: 12px;\n",
              "    }\n",
              "\n",
              "    .colab-df-convert {\n",
              "      background-color: #E8F0FE;\n",
              "      border: none;\n",
              "      border-radius: 50%;\n",
              "      cursor: pointer;\n",
              "      display: none;\n",
              "      fill: #1967D2;\n",
              "      height: 32px;\n",
              "      padding: 0 0 0 0;\n",
              "      width: 32px;\n",
              "    }\n",
              "\n",
              "    .colab-df-convert:hover {\n",
              "      background-color: #E2EBFA;\n",
              "      box-shadow: 0px 1px 2px rgba(60, 64, 67, 0.3), 0px 1px 3px 1px rgba(60, 64, 67, 0.15);\n",
              "      fill: #174EA6;\n",
              "    }\n",
              "\n",
              "    [theme=dark] .colab-df-convert {\n",
              "      background-color: #3B4455;\n",
              "      fill: #D2E3FC;\n",
              "    }\n",
              "\n",
              "    [theme=dark] .colab-df-convert:hover {\n",
              "      background-color: #434B5C;\n",
              "      box-shadow: 0px 1px 3px 1px rgba(0, 0, 0, 0.15);\n",
              "      filter: drop-shadow(0px 1px 2px rgba(0, 0, 0, 0.3));\n",
              "      fill: #FFFFFF;\n",
              "    }\n",
              "  </style>\n",
              "\n",
              "      <script>\n",
              "        const buttonEl =\n",
              "          document.querySelector('#df-866846f3-8cb3-4a03-bcb0-adced28cdaac button.colab-df-convert');\n",
              "        buttonEl.style.display =\n",
              "          google.colab.kernel.accessAllowed ? 'block' : 'none';\n",
              "\n",
              "        async function convertToInteractive(key) {\n",
              "          const element = document.querySelector('#df-866846f3-8cb3-4a03-bcb0-adced28cdaac');\n",
              "          const dataTable =\n",
              "            await google.colab.kernel.invokeFunction('convertToInteractive',\n",
              "                                                     [key], {});\n",
              "          if (!dataTable) return;\n",
              "\n",
              "          const docLinkHtml = 'Like what you see? Visit the ' +\n",
              "            '<a target=\"_blank\" href=https://colab.research.google.com/notebooks/data_table.ipynb>data table notebook</a>'\n",
              "            + ' to learn more about interactive tables.';\n",
              "          element.innerHTML = '';\n",
              "          dataTable['output_type'] = 'display_data';\n",
              "          await google.colab.output.renderOutput(dataTable, element);\n",
              "          const docLink = document.createElement('div');\n",
              "          docLink.innerHTML = docLinkHtml;\n",
              "          element.appendChild(docLink);\n",
              "        }\n",
              "      </script>\n",
              "    </div>\n",
              "  </div>\n",
              "  "
            ]
          },
          "metadata": {},
          "execution_count": 394
        }
      ]
    },
    {
      "cell_type": "markdown",
      "source": [
        "# 1 Model for Scalar Values"
      ],
      "metadata": {
        "id": "Ku2dh4s07y8o"
      }
    },
    {
      "cell_type": "code",
      "source": [
        "def generate_heston_paths(S, T, r, kappa, theta, v_0, rho, xi, \n",
        "                          steps, num_sims):  \n",
        "    '''\n",
        "    Produces result for a single heston run.\n",
        "    \n",
        "    '''\n",
        "    dt = T/steps\n",
        "    dim = len(S)\n",
        "    S_t = np.repeat([S], num_sims,axis=0)\n",
        "    v_t = v_0 + np.zeros(num_sims)[:,np.newaxis]\n",
        "\n",
        "    for t in range(steps):\n",
        "        WT1 = np.random.normal(0,1,size=(num_sims,dim))\n",
        "        WT2 = np.random.normal(0,1,size=(num_sims,dim))\n",
        "        WT3 = rho * WT1 + np.sqrt(1-rho**2)*WT2\n",
        "\n",
        "        v_t = np.maximum(v_t, 0)\n",
        "        S_t = S_t*(np.exp( (r - 0.5*v_t)*dt+ np.sqrt(v_t * dt) * WT1)) \n",
        "        v_t = v_t + kappa*(theta-v_t)*dt + xi*np.sqrt(v_t * dt)*WT3    \n",
        "\n",
        "    S_t = np.mean(S_t,axis = 1)\n",
        "    S_call = np.exp(-1 * r * T) * np.sum(np.maximum(S_t - K, 0)) / num_sims\n",
        "    \n",
        "    return S_call"
      ],
      "metadata": {
        "id": "VnUZl9mZsFl8"
      },
      "execution_count": 389,
      "outputs": []
    },
    {
      "cell_type": "markdown",
      "source": [
        "# 2 Model for Vector Values"
      ],
      "metadata": {
        "id": "OEuEmrbnnjCD"
      }
    },
    {
      "cell_type": "code",
      "source": [
        "def generate_heston_paths_vec(df, steps=1000, num_sims=100000):  \n",
        "    '''\n",
        "    Produces result for nultiple heston runs.\n",
        "    \n",
        "    '''\n",
        "    N = len(df)\n",
        "    dt    = df['maturity'].values /steps \n",
        "    S_0   = df['underlyings_prices'].values \n",
        "    v_0   = df['initial_var'].values.astype('float')  \n",
        "    r     = df['r'].values.astype('float')  \n",
        "    theta = df['long_term_var'].values.astype('float')  \n",
        "    kappa = df['mean_reversion_rate'].values.astype('float')  \n",
        "    xi    = df['vol_of_var'].values.astype('float')  \n",
        "    K     = df['strike'].values.astype('float')[:,np.newaxis]  \n",
        "    rho   = np.array([x.astype('float64') for x in df['correlations'].values])\n",
        "    T     = df['maturity'].values.astype('float') \n",
        "\n",
        "    dim = len(S_0[0])\n",
        "    S_t = np.array([np.repeat([S_0[i]], num_sims, axis=0) for i in range(len(S_0))]).transpose(1,2,0)\n",
        "    v_t = (v_0 + np.zeros((num_sims,1))[:,np.newaxis])\n",
        "\n",
        "\n",
        "    for t in range(steps):\n",
        "        WT1 = np.random.normal(0,1,size=(num_sims, dim, N))\n",
        "        WT2 = np.random.normal(0,1,size=(num_sims,dim, N))\n",
        "        WT3 = rho.T * WT1 + np.sqrt(1-rho.T**2)*WT2\n",
        "\n",
        "        v_t = np.maximum(v_t, 0)\n",
        "        S_t = S_t*(np.exp( ((r- 0.5*v_t)*dt + np.sqrt((v_t * dt).astype('float')) * WT1 ).astype('float')))\n",
        "        v_t = v_t + kappa*(theta-v_t)*dt + xi*np.sqrt((v_t * dt).astype('float'))*WT3  \n",
        "        \n",
        "    S_t = S_t.transpose(2,0,1)\n",
        "    S_t = np.mean(S_t,axis = 2)\n",
        "    S_call = np.exp(-1 * r * T) * np.sum(np.maximum(S_t-K,0), axis = 1 )/ num_sims\n",
        "    \n",
        "    return S_call"
      ],
      "metadata": {
        "id": "lXYo06G-niKC"
      },
      "execution_count": 390,
      "outputs": []
    },
    {
      "cell_type": "markdown",
      "source": [
        "# 3 Test implementation"
      ],
      "metadata": {
        "id": "cLO8YV4h7rqR"
      }
    },
    {
      "cell_type": "markdown",
      "source": [
        "Test the scalar case."
      ],
      "metadata": {
        "id": "4yuSTbWGnZ1b"
      }
    },
    {
      "cell_type": "code",
      "source": [
        "S_0   = inputs['underlyings_prices'].values[0] \n",
        "v_0   = inputs['initial_var'].values[0] \n",
        "r     = inputs['r'].values[0] \n",
        "theta = inputs['long_term_var'].values[0] \n",
        "kappa = inputs['mean_reversion_rate'].values[0] \n",
        "xi    = inputs['vol_of_var'].values[0] \n",
        "K     = inputs['strike'].values[0] \n",
        "rho   = inputs['correlations'].values[0] \n",
        "T     = inputs['maturity'].values[0] \n",
        "\n",
        "generate_heston_paths(S_0, T, r, kappa, theta, v_0, rho, xi, \n",
        "                          100, 1000)"
      ],
      "metadata": {
        "id": "socISjcsxat5",
        "colab": {
          "base_uri": "https://localhost:8080/"
        },
        "outputId": "c52149cc-f12a-4f22-a270-36015196b161"
      },
      "execution_count": 391,
      "outputs": [
        {
          "output_type": "execute_result",
          "data": {
            "text/plain": [
              "31.454480635384787"
            ]
          },
          "metadata": {},
          "execution_count": 391
        }
      ]
    },
    {
      "cell_type": "markdown",
      "source": [
        "Test the vector case."
      ],
      "metadata": {
        "id": "gFRYVHywbdNO"
      }
    },
    {
      "cell_type": "code",
      "source": [
        "generate_heston_paths_vec(inputs, steps=100, num_sims=1000)"
      ],
      "metadata": {
        "colab": {
          "base_uri": "https://localhost:8080/"
        },
        "id": "6rjfa8uTbfzH",
        "outputId": "6ad40849-0114-4062-d3c0-b0a0f52e64a6"
      },
      "execution_count": 392,
      "outputs": [
        {
          "output_type": "execute_result",
          "data": {
            "text/plain": [
              "array([3.15097504e+01, 0.00000000e+00, 7.01865788e-03, 4.30968196e+00,\n",
              "       4.32209113e+01, 0.00000000e+00, 0.00000000e+00, 0.00000000e+00,\n",
              "       9.02865615e+01, 7.54711489e+01, 2.37761493e+01, 0.00000000e+00,\n",
              "       0.00000000e+00, 0.00000000e+00, 3.47905365e+01, 1.97614938e+01,\n",
              "       6.61765795e+01, 4.68403319e+01, 0.00000000e+00, 1.62771500e-02,\n",
              "       0.00000000e+00, 0.00000000e+00, 7.28868760e+01, 4.57586577e+01,\n",
              "       6.11409486e+01, 0.00000000e+00, 0.00000000e+00, 1.02508709e+01,\n",
              "       0.00000000e+00, 7.05058757e+01, 0.00000000e+00, 0.00000000e+00,\n",
              "       0.00000000e+00, 0.00000000e+00, 3.40904335e+01, 0.00000000e+00,\n",
              "       0.00000000e+00, 0.00000000e+00, 6.04270611e+01, 1.20223853e+01,\n",
              "       0.00000000e+00, 5.62211407e+01, 7.97904712e+00, 0.00000000e+00,\n",
              "       0.00000000e+00, 0.00000000e+00, 0.00000000e+00, 2.20260885e+01,\n",
              "       0.00000000e+00, 2.75572507e+01])"
            ]
          },
          "metadata": {},
          "execution_count": 392
        }
      ]
    },
    {
      "cell_type": "markdown",
      "source": [
        "We can see that the first element of `generate_heston_paths_vec` is approximately the same as `generate_heston_paths`. This verified that our models are correct."
      ],
      "metadata": {
        "id": "ApB6KPxOoN6W"
      }
    }
  ]
}