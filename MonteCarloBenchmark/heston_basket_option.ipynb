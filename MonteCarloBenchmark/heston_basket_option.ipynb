{
  "cells": [
    {
      "cell_type": "markdown",
      "metadata": {
        "id": "kXzjiTjTgo5Y"
      },
      "source": [
        "# Heston Basket Options  \n",
        "\n",
        "A basket option is a type of financial derivative where the underlying asset is a basket (group), of commodities, securities, or currencies. In some sense, it is a list of assests associated with a single option. Thus, our dataset will have a list of assest prices and correlations along with the other parameters in the normal case.   "
      ]
    },
    {
      "cell_type": "code",
      "execution_count": 1,
      "metadata": {
        "id": "KohUkyhKZ5Jr"
      },
      "outputs": [],
      "source": [
        "import os\n",
        "import time\n",
        "import pathlib\n",
        "import numpy as np\n",
        "import pandas as pd\n",
        "\n",
        "from heston import *\n",
        "from df_helper import *\n",
        "from blackscholes import *"
      ]
    },
    {
      "cell_type": "markdown",
      "metadata": {},
      "source": [
        "We first load the data to generate the baskets of options using `basket_data.csv`.  \n",
        "\n",
        "Note that the data here will be inputs to our Heston model, which will give simulated option prices for the training of our neural network.  "
      ]
    },
    {
      "cell_type": "code",
      "execution_count": 2,
      "metadata": {},
      "outputs": [
        {
          "data": {
            "text/html": [
              "<div>\n",
              "<style scoped>\n",
              "    .dataframe tbody tr th:only-of-type {\n",
              "        vertical-align: middle;\n",
              "    }\n",
              "\n",
              "    .dataframe tbody tr th {\n",
              "        vertical-align: top;\n",
              "    }\n",
              "\n",
              "    .dataframe thead th {\n",
              "        text-align: right;\n",
              "    }\n",
              "</style>\n",
              "<table border=\"1\" class=\"dataframe\">\n",
              "  <thead>\n",
              "    <tr style=\"text-align: right;\">\n",
              "      <th></th>\n",
              "      <th>optionid</th>\n",
              "      <th>securityid</th>\n",
              "      <th>strike</th>\n",
              "      <th>callput</th>\n",
              "      <th>date_traded</th>\n",
              "      <th>contract_price</th>\n",
              "      <th>market_price</th>\n",
              "      <th>underlyings_price</th>\n",
              "      <th>contract_volume</th>\n",
              "      <th>days_to_maturity</th>\n",
              "      <th>moneyness</th>\n",
              "      <th>rate</th>\n",
              "      <th>volatility</th>\n",
              "      <th>mean_volatility</th>\n",
              "      <th>reversion</th>\n",
              "      <th>var_of_vol</th>\n",
              "      <th>rho</th>\n",
              "    </tr>\n",
              "  </thead>\n",
              "  <tbody>\n",
              "    <tr>\n",
              "      <th>0</th>\n",
              "      <td>150034236.0</td>\n",
              "      <td>504569.0</td>\n",
              "      <td>0.42</td>\n",
              "      <td>C</td>\n",
              "      <td>2006-10-18</td>\n",
              "      <td>0.0715</td>\n",
              "      <td>0.07025</td>\n",
              "      <td>0.488500</td>\n",
              "      <td>5.0</td>\n",
              "      <td>2.0</td>\n",
              "      <td>1.163095</td>\n",
              "      <td>0.053646</td>\n",
              "      <td>0.022956</td>\n",
              "      <td>0.047665</td>\n",
              "      <td>1.741895</td>\n",
              "      <td>0.285332</td>\n",
              "      <td>-0.557252</td>\n",
              "    </tr>\n",
              "    <tr>\n",
              "      <th>1</th>\n",
              "      <td>150247468.0</td>\n",
              "      <td>504880.0</td>\n",
              "      <td>40.00</td>\n",
              "      <td>C</td>\n",
              "      <td>2006-10-18</td>\n",
              "      <td>0.1240</td>\n",
              "      <td>0.12250</td>\n",
              "      <td>39.913799</td>\n",
              "      <td>56137.0</td>\n",
              "      <td>2.0</td>\n",
              "      <td>0.997845</td>\n",
              "      <td>0.053646</td>\n",
              "      <td>0.114784</td>\n",
              "      <td>0.018427</td>\n",
              "      <td>0.765240</td>\n",
              "      <td>0.304296</td>\n",
              "      <td>-0.355317</td>\n",
              "    </tr>\n",
              "    <tr>\n",
              "      <th>2</th>\n",
              "      <td>150255000.0</td>\n",
              "      <td>506496.0</td>\n",
              "      <td>62.00</td>\n",
              "      <td>C</td>\n",
              "      <td>2006-10-18</td>\n",
              "      <td>0.1720</td>\n",
              "      <td>0.17400</td>\n",
              "      <td>61.827798</td>\n",
              "      <td>27369.0</td>\n",
              "      <td>2.0</td>\n",
              "      <td>0.997223</td>\n",
              "      <td>0.053646</td>\n",
              "      <td>0.106823</td>\n",
              "      <td>0.021562</td>\n",
              "      <td>1.578755</td>\n",
              "      <td>0.553407</td>\n",
              "      <td>-0.728337</td>\n",
              "    </tr>\n",
              "    <tr>\n",
              "      <th>3</th>\n",
              "      <td>150255496.0</td>\n",
              "      <td>506497.0</td>\n",
              "      <td>53.50</td>\n",
              "      <td>C</td>\n",
              "      <td>2006-10-18</td>\n",
              "      <td>0.2960</td>\n",
              "      <td>0.26550</td>\n",
              "      <td>53.612900</td>\n",
              "      <td>1224.0</td>\n",
              "      <td>2.0</td>\n",
              "      <td>1.002110</td>\n",
              "      <td>0.053646</td>\n",
              "      <td>0.110336</td>\n",
              "      <td>0.013416</td>\n",
              "      <td>2.370529</td>\n",
              "      <td>0.622139</td>\n",
              "      <td>-0.421136</td>\n",
              "    </tr>\n",
              "    <tr>\n",
              "      <th>4</th>\n",
              "      <td>150255498.0</td>\n",
              "      <td>506497.0</td>\n",
              "      <td>54.00</td>\n",
              "      <td>C</td>\n",
              "      <td>2006-10-18</td>\n",
              "      <td>0.0750</td>\n",
              "      <td>0.06450</td>\n",
              "      <td>53.612900</td>\n",
              "      <td>963.0</td>\n",
              "      <td>2.0</td>\n",
              "      <td>0.992831</td>\n",
              "      <td>0.053646</td>\n",
              "      <td>0.110336</td>\n",
              "      <td>0.011473</td>\n",
              "      <td>3.822598</td>\n",
              "      <td>0.616489</td>\n",
              "      <td>-0.572024</td>\n",
              "    </tr>\n",
              "  </tbody>\n",
              "</table>\n",
              "</div>"
            ],
            "text/plain": [
              "      optionid  securityid  strike callput date_traded  contract_price  \\\n",
              "0  150034236.0    504569.0    0.42       C  2006-10-18          0.0715   \n",
              "1  150247468.0    504880.0   40.00       C  2006-10-18          0.1240   \n",
              "2  150255000.0    506496.0   62.00       C  2006-10-18          0.1720   \n",
              "3  150255496.0    506497.0   53.50       C  2006-10-18          0.2960   \n",
              "4  150255498.0    506497.0   54.00       C  2006-10-18          0.0750   \n",
              "\n",
              "   market_price  underlyings_price  contract_volume  days_to_maturity  \\\n",
              "0       0.07025           0.488500              5.0               2.0   \n",
              "1       0.12250          39.913799          56137.0               2.0   \n",
              "2       0.17400          61.827798          27369.0               2.0   \n",
              "3       0.26550          53.612900           1224.0               2.0   \n",
              "4       0.06450          53.612900            963.0               2.0   \n",
              "\n",
              "   moneyness      rate  volatility  mean_volatility  reversion  var_of_vol  \\\n",
              "0   1.163095  0.053646    0.022956         0.047665   1.741895    0.285332   \n",
              "1   0.997845  0.053646    0.114784         0.018427   0.765240    0.304296   \n",
              "2   0.997223  0.053646    0.106823         0.021562   1.578755    0.553407   \n",
              "3   1.002110  0.053646    0.110336         0.013416   2.370529    0.622139   \n",
              "4   0.992831  0.053646    0.110336         0.011473   3.822598    0.616489   \n",
              "\n",
              "        rho  \n",
              "0 -0.557252  \n",
              "1 -0.355317  \n",
              "2 -0.728337  \n",
              "3 -0.421136  \n",
              "4 -0.572024  "
            ]
          },
          "execution_count": 2,
          "metadata": {},
          "output_type": "execute_result"
        }
      ],
      "source": [
        "parent_path = str(pathlib.Path(os.getcwd()).parent)\n",
        "df = pd.read_csv(os.path.join(parent_path, 'data/basket_data.csv'))\n",
        "df = df.drop(['Unnamed: 0'], axis=1)\n",
        "df.head()"
      ]
    },
    {
      "cell_type": "markdown",
      "metadata": {
        "id": "cLO8YV4h7rqR"
      },
      "source": [
        "## Test implementation"
      ]
    },
    {
      "cell_type": "markdown",
      "metadata": {},
      "source": [
        "We generate the basket options below"
      ]
    },
    {
      "cell_type": "code",
      "execution_count": 3,
      "metadata": {},
      "outputs": [
        {
          "name": "stdout",
          "output_type": "stream",
          "text": [
            "(100, 9)\n"
          ]
        },
        {
          "data": {
            "text/html": [
              "<div>\n",
              "<style scoped>\n",
              "    .dataframe tbody tr th:only-of-type {\n",
              "        vertical-align: middle;\n",
              "    }\n",
              "\n",
              "    .dataframe tbody tr th {\n",
              "        vertical-align: top;\n",
              "    }\n",
              "\n",
              "    .dataframe thead th {\n",
              "        text-align: right;\n",
              "    }\n",
              "</style>\n",
              "<table border=\"1\" class=\"dataframe\">\n",
              "  <thead>\n",
              "    <tr style=\"text-align: right;\">\n",
              "      <th></th>\n",
              "      <th>underlyings_price</th>\n",
              "      <th>rho</th>\n",
              "      <th>days_to_maturity</th>\n",
              "      <th>strike</th>\n",
              "      <th>volatility</th>\n",
              "      <th>mean_volatility</th>\n",
              "      <th>reversion</th>\n",
              "      <th>vol_of_var</th>\n",
              "      <th>rate</th>\n",
              "    </tr>\n",
              "  </thead>\n",
              "  <tbody>\n",
              "    <tr>\n",
              "      <th>0</th>\n",
              "      <td>[5.456900024414063, 148.78, 16.384000244140626...</td>\n",
              "      <td>[-0.7387560637776853, -0.6348247855328666, -0....</td>\n",
              "      <td>162.0</td>\n",
              "      <td>5.8</td>\n",
              "      <td>0.002939</td>\n",
              "      <td>0.013108</td>\n",
              "      <td>2.247971</td>\n",
              "      <td>0.179029</td>\n",
              "      <td>0.002164</td>\n",
              "    </tr>\n",
              "    <tr>\n",
              "      <th>1</th>\n",
              "      <td>[21.605, 13.3706298828125, 12.610999755859376,...</td>\n",
              "      <td>[-0.060916401680963655, -0.6696069122143352, -...</td>\n",
              "      <td>23.0</td>\n",
              "      <td>4.35</td>\n",
              "      <td>0.034961</td>\n",
              "      <td>0.003161</td>\n",
              "      <td>4.220833</td>\n",
              "      <td>0.631991</td>\n",
              "      <td>0.022401</td>\n",
              "    </tr>\n",
              "    <tr>\n",
              "      <th>2</th>\n",
              "      <td>[15.43, 64.76169921875, 60.727001953125, 55.62...</td>\n",
              "      <td>[-0.07254262892076208, -0.1454803115726743, -0...</td>\n",
              "      <td>59.0</td>\n",
              "      <td>4.4</td>\n",
              "      <td>0.018327</td>\n",
              "      <td>0.017306</td>\n",
              "      <td>3.557934</td>\n",
              "      <td>0.100893</td>\n",
              "      <td>0.0542</td>\n",
              "    </tr>\n",
              "    <tr>\n",
              "      <th>3</th>\n",
              "      <td>[15.52675048828125, 15.79, 16.66125, 11.560629...</td>\n",
              "      <td>[-0.6176187858910588, -0.13970772627889028, -0...</td>\n",
              "      <td>9.0</td>\n",
              "      <td>14.9</td>\n",
              "      <td>0.020028</td>\n",
              "      <td>0.026083</td>\n",
              "      <td>0.342213</td>\n",
              "      <td>0.288446</td>\n",
              "      <td>0.054175</td>\n",
              "    </tr>\n",
              "    <tr>\n",
              "      <th>4</th>\n",
              "      <td>[14.7175, 4.975199890136719, 16.02150024414062...</td>\n",
              "      <td>[-0.5679199804147083, -0.4457859567758694, -0....</td>\n",
              "      <td>331.0</td>\n",
              "      <td>9.2</td>\n",
              "      <td>0.023719</td>\n",
              "      <td>0.035229</td>\n",
              "      <td>1.324025</td>\n",
              "      <td>0.338052</td>\n",
              "      <td>0.001639</td>\n",
              "    </tr>\n",
              "  </tbody>\n",
              "</table>\n",
              "</div>"
            ],
            "text/plain": [
              "                                   underlyings_price  \\\n",
              "0  [5.456900024414063, 148.78, 16.384000244140626...   \n",
              "1  [21.605, 13.3706298828125, 12.610999755859376,...   \n",
              "2  [15.43, 64.76169921875, 60.727001953125, 55.62...   \n",
              "3  [15.52675048828125, 15.79, 16.66125, 11.560629...   \n",
              "4  [14.7175, 4.975199890136719, 16.02150024414062...   \n",
              "\n",
              "                                                 rho days_to_maturity strike  \\\n",
              "0  [-0.7387560637776853, -0.6348247855328666, -0....            162.0    5.8   \n",
              "1  [-0.060916401680963655, -0.6696069122143352, -...             23.0   4.35   \n",
              "2  [-0.07254262892076208, -0.1454803115726743, -0...             59.0    4.4   \n",
              "3  [-0.6176187858910588, -0.13970772627889028, -0...              9.0   14.9   \n",
              "4  [-0.5679199804147083, -0.4457859567758694, -0....            331.0    9.2   \n",
              "\n",
              "  volatility mean_volatility reversion vol_of_var      rate  \n",
              "0   0.002939        0.013108  2.247971   0.179029  0.002164  \n",
              "1   0.034961        0.003161  4.220833   0.631991  0.022401  \n",
              "2   0.018327        0.017306  3.557934   0.100893    0.0542  \n",
              "3   0.020028        0.026083  0.342213   0.288446  0.054175  \n",
              "4   0.023719        0.035229  1.324025   0.338052  0.001639  "
            ]
          },
          "execution_count": 3,
          "metadata": {},
          "output_type": "execute_result"
        }
      ],
      "source": [
        "dim  = 7     # Dimension of basket (number of stocks)\n",
        "num_samples = 100\n",
        "inputs_array = generate_inputs_nn(df, dim, num_samples)\n",
        "inputs = pd.DataFrame(inputs_array, columns = ['underlyings_price', 'rho', 'days_to_maturity', \n",
        "                        'strike', 'volatility','mean_volatility','reversion', 'vol_of_var','rate'])\n",
        "print(inputs.shape)\n",
        "inputs.head()"
      ]
    },
    {
      "cell_type": "markdown",
      "metadata": {
        "id": "4yuSTbWGnZ1b"
      },
      "source": [
        "Test the scalar case."
      ]
    },
    {
      "cell_type": "code",
      "execution_count": 4,
      "metadata": {
        "colab": {
          "base_uri": "https://localhost:8080/"
        },
        "id": "socISjcsxat5",
        "outputId": "61982fed-1d16-425d-8a3b-d00e9d51d188"
      },
      "outputs": [
        {
          "name": "stdout",
          "output_type": "stream",
          "text": [
            "The scalar result is 27.66047571732737\n"
          ]
        }
      ],
      "source": [
        "S_0   = inputs['underlyings_price'].values[0] \n",
        "v_0   = inputs['volatility'].values[0] \n",
        "r     = inputs['rate'].values[0] \n",
        "theta = inputs['mean_volatility'].values[0] \n",
        "kappa = inputs['reversion'].values[0] \n",
        "xi    = inputs['vol_of_var'].values[0] \n",
        "K     = inputs['strike'].values[0] \n",
        "rho   = inputs['rho'].values[0] \n",
        "T     = inputs['days_to_maturity'].values[0] \n",
        "\n",
        "scalar_result = generate_heston_paths_test(S_0, T, K, r, kappa, theta, v_0, rho, xi, \n",
        "                          100, 1000)\n",
        "print(f\"The scalar result is {scalar_result}\")"
      ]
    },
    {
      "cell_type": "markdown",
      "metadata": {
        "id": "gFRYVHywbdNO"
      },
      "source": [
        "Test the vector case."
      ]
    },
    {
      "cell_type": "code",
      "execution_count": 5,
      "metadata": {},
      "outputs": [
        {
          "data": {
            "text/plain": [
              "array(['days_to_maturity', 'strike', 'volatility', 'mean_volatility',\n",
              "       'reversion', 'vol_of_var', 'rate'], dtype=object)"
            ]
          },
          "execution_count": 5,
          "metadata": {},
          "output_type": "execute_result"
        }
      ],
      "source": [
        "inputs.columns.values[2:]"
      ]
    },
    {
      "cell_type": "code",
      "execution_count": 6,
      "metadata": {
        "colab": {
          "base_uri": "https://localhost:8080/"
        },
        "id": "6rjfa8uTbfzH",
        "outputId": "eea0b5ed-9720-4e44-8081-43f62315be08"
      },
      "outputs": [
        {
          "name": "stdout",
          "output_type": "stream",
          "text": [
            "The vector result is 30.0708477238639\n",
            "The shape of the result is (100,)\n",
            "Time taken is 3.5270090103149414 seconds\n"
          ]
        }
      ],
      "source": [
        "begin = time.time()\n",
        "result = generate_heston_paths_vec(inputs, num_samples, steps=100, num_sims=1000)\n",
        "end = time.time()\n",
        "print(f\"The vector result is {result[0]}\")\n",
        "print(f\"The shape of the result is {result.shape}\")\n",
        "print(f\"Time taken is {end-begin} seconds\")"
      ]
    },
    {
      "cell_type": "markdown",
      "metadata": {
        "id": "ApB6KPxOoN6W"
      },
      "source": [
        "We can see that the first element of `generate_heston_paths_vec` is approximately the same as `generate_heston_paths`. This verified that our models are correct."
      ]
    },
    {
      "cell_type": "markdown",
      "metadata": {},
      "source": [
        "## Processing  \n",
        "\n",
        "We now make the dataframe into the desired form for training the neural network"
      ]
    },
    {
      "cell_type": "code",
      "execution_count": 7,
      "metadata": {},
      "outputs": [
        {
          "data": {
            "text/html": [
              "<div>\n",
              "<style scoped>\n",
              "    .dataframe tbody tr th:only-of-type {\n",
              "        vertical-align: middle;\n",
              "    }\n",
              "\n",
              "    .dataframe tbody tr th {\n",
              "        vertical-align: top;\n",
              "    }\n",
              "\n",
              "    .dataframe thead th {\n",
              "        text-align: right;\n",
              "    }\n",
              "</style>\n",
              "<table border=\"1\" class=\"dataframe\">\n",
              "  <thead>\n",
              "    <tr style=\"text-align: right;\">\n",
              "      <th></th>\n",
              "      <th>days_to_maturity</th>\n",
              "      <th>strike</th>\n",
              "      <th>volatility</th>\n",
              "      <th>mean_volatility</th>\n",
              "      <th>reversion</th>\n",
              "      <th>vol_of_var</th>\n",
              "      <th>rate</th>\n",
              "      <th>contract_price</th>\n",
              "      <th>Underlying_0</th>\n",
              "      <th>Underlying_1</th>\n",
              "      <th>...</th>\n",
              "      <th>Underlying_4</th>\n",
              "      <th>Underlying_5</th>\n",
              "      <th>Underlying_6</th>\n",
              "      <th>Rho_0</th>\n",
              "      <th>Rho_1</th>\n",
              "      <th>Rho_2</th>\n",
              "      <th>Rho_3</th>\n",
              "      <th>Rho_4</th>\n",
              "      <th>Rho_5</th>\n",
              "      <th>Rho_6</th>\n",
              "    </tr>\n",
              "  </thead>\n",
              "  <tbody>\n",
              "    <tr>\n",
              "      <th>0</th>\n",
              "      <td>162.0</td>\n",
              "      <td>5.80</td>\n",
              "      <td>0.002939</td>\n",
              "      <td>0.013108</td>\n",
              "      <td>2.247971</td>\n",
              "      <td>0.179029</td>\n",
              "      <td>0.002164</td>\n",
              "      <td>30.070848</td>\n",
              "      <td>5.45690</td>\n",
              "      <td>148.780000</td>\n",
              "      <td>...</td>\n",
              "      <td>34.142100</td>\n",
              "      <td>5.32090</td>\n",
              "      <td>14.82250</td>\n",
              "      <td>-0.738756</td>\n",
              "      <td>-0.634825</td>\n",
              "      <td>-0.571776</td>\n",
              "      <td>-0.309349</td>\n",
              "      <td>-0.298349</td>\n",
              "      <td>-0.576349</td>\n",
              "      <td>-0.566990</td>\n",
              "    </tr>\n",
              "    <tr>\n",
              "      <th>1</th>\n",
              "      <td>23.0</td>\n",
              "      <td>4.35</td>\n",
              "      <td>0.034961</td>\n",
              "      <td>0.003161</td>\n",
              "      <td>4.220833</td>\n",
              "      <td>0.631991</td>\n",
              "      <td>0.022401</td>\n",
              "      <td>12.098573</td>\n",
              "      <td>21.60500</td>\n",
              "      <td>13.370630</td>\n",
              "      <td>...</td>\n",
              "      <td>16.554650</td>\n",
              "      <td>16.75125</td>\n",
              "      <td>13.99250</td>\n",
              "      <td>-0.060916</td>\n",
              "      <td>-0.669607</td>\n",
              "      <td>-0.467568</td>\n",
              "      <td>-0.310696</td>\n",
              "      <td>-0.659128</td>\n",
              "      <td>-0.616183</td>\n",
              "      <td>-0.700901</td>\n",
              "    </tr>\n",
              "    <tr>\n",
              "      <th>2</th>\n",
              "      <td>59.0</td>\n",
              "      <td>4.40</td>\n",
              "      <td>0.018327</td>\n",
              "      <td>0.017306</td>\n",
              "      <td>3.557934</td>\n",
              "      <td>0.100893</td>\n",
              "      <td>0.054200</td>\n",
              "      <td>34.357936</td>\n",
              "      <td>15.43000</td>\n",
              "      <td>64.761699</td>\n",
              "      <td>...</td>\n",
              "      <td>22.470750</td>\n",
              "      <td>15.00350</td>\n",
              "      <td>18.89875</td>\n",
              "      <td>-0.072543</td>\n",
              "      <td>-0.145480</td>\n",
              "      <td>-0.727849</td>\n",
              "      <td>-0.235879</td>\n",
              "      <td>-0.127984</td>\n",
              "      <td>-0.433218</td>\n",
              "      <td>-0.284496</td>\n",
              "    </tr>\n",
              "    <tr>\n",
              "      <th>3</th>\n",
              "      <td>9.0</td>\n",
              "      <td>14.90</td>\n",
              "      <td>0.020028</td>\n",
              "      <td>0.026083</td>\n",
              "      <td>0.342213</td>\n",
              "      <td>0.288446</td>\n",
              "      <td>0.054175</td>\n",
              "      <td>9.744849</td>\n",
              "      <td>15.52675</td>\n",
              "      <td>15.790000</td>\n",
              "      <td>...</td>\n",
              "      <td>51.603198</td>\n",
              "      <td>15.52450</td>\n",
              "      <td>4.54420</td>\n",
              "      <td>-0.617619</td>\n",
              "      <td>-0.139708</td>\n",
              "      <td>-0.623722</td>\n",
              "      <td>-0.181363</td>\n",
              "      <td>-0.144881</td>\n",
              "      <td>-0.397951</td>\n",
              "      <td>-0.358406</td>\n",
              "    </tr>\n",
              "    <tr>\n",
              "      <th>4</th>\n",
              "      <td>331.0</td>\n",
              "      <td>9.20</td>\n",
              "      <td>0.023719</td>\n",
              "      <td>0.035229</td>\n",
              "      <td>1.324025</td>\n",
              "      <td>0.338052</td>\n",
              "      <td>0.001639</td>\n",
              "      <td>0.988595</td>\n",
              "      <td>14.71750</td>\n",
              "      <td>4.975200</td>\n",
              "      <td>...</td>\n",
              "      <td>16.355750</td>\n",
              "      <td>16.92675</td>\n",
              "      <td>5.36400</td>\n",
              "      <td>-0.567920</td>\n",
              "      <td>-0.445786</td>\n",
              "      <td>-0.458572</td>\n",
              "      <td>-0.237322</td>\n",
              "      <td>-0.566020</td>\n",
              "      <td>-0.657473</td>\n",
              "      <td>-0.744682</td>\n",
              "    </tr>\n",
              "  </tbody>\n",
              "</table>\n",
              "<p>5 rows × 22 columns</p>\n",
              "</div>"
            ],
            "text/plain": [
              "   days_to_maturity  strike  volatility  mean_volatility  reversion  \\\n",
              "0             162.0    5.80    0.002939         0.013108   2.247971   \n",
              "1              23.0    4.35    0.034961         0.003161   4.220833   \n",
              "2              59.0    4.40    0.018327         0.017306   3.557934   \n",
              "3               9.0   14.90    0.020028         0.026083   0.342213   \n",
              "4             331.0    9.20    0.023719         0.035229   1.324025   \n",
              "\n",
              "   vol_of_var      rate  contract_price  Underlying_0  Underlying_1  ...  \\\n",
              "0    0.179029  0.002164       30.070848       5.45690    148.780000  ...   \n",
              "1    0.631991  0.022401       12.098573      21.60500     13.370630  ...   \n",
              "2    0.100893  0.054200       34.357936      15.43000     64.761699  ...   \n",
              "3    0.288446  0.054175        9.744849      15.52675     15.790000  ...   \n",
              "4    0.338052  0.001639        0.988595      14.71750      4.975200  ...   \n",
              "\n",
              "   Underlying_4  Underlying_5  Underlying_6     Rho_0     Rho_1     Rho_2  \\\n",
              "0     34.142100       5.32090      14.82250 -0.738756 -0.634825 -0.571776   \n",
              "1     16.554650      16.75125      13.99250 -0.060916 -0.669607 -0.467568   \n",
              "2     22.470750      15.00350      18.89875 -0.072543 -0.145480 -0.727849   \n",
              "3     51.603198      15.52450       4.54420 -0.617619 -0.139708 -0.623722   \n",
              "4     16.355750      16.92675       5.36400 -0.567920 -0.445786 -0.458572   \n",
              "\n",
              "      Rho_3     Rho_4     Rho_5     Rho_6  \n",
              "0 -0.309349 -0.298349 -0.576349 -0.566990  \n",
              "1 -0.310696 -0.659128 -0.616183 -0.700901  \n",
              "2 -0.235879 -0.127984 -0.433218 -0.284496  \n",
              "3 -0.181363 -0.144881 -0.397951 -0.358406  \n",
              "4 -0.237322 -0.566020 -0.657473 -0.744682  \n",
              "\n",
              "[5 rows x 22 columns]"
            ]
          },
          "execution_count": 7,
          "metadata": {},
          "output_type": "execute_result"
        }
      ],
      "source": [
        "inputs['contract_price'] = result\n",
        "inputs = flattenDim(7, inputs)\n",
        "inputs.head()"
      ]
    },
    {
      "cell_type": "code",
      "execution_count": 16,
      "metadata": {},
      "outputs": [],
      "source": [
        "# uncomment to save the data\n",
        "# inputs.to_csv(os.path.join(parent_path, 'data/small_basket_data.csv'))"
      ]
    }
  ],
  "metadata": {
    "colab": {
      "collapsed_sections": [],
      "provenance": []
    },
    "kernelspec": {
      "display_name": "Python 3.9.13 ('base')",
      "language": "python",
      "name": "python3"
    },
    "language_info": {
      "codemirror_mode": {
        "name": "ipython",
        "version": 3
      },
      "file_extension": ".py",
      "mimetype": "text/x-python",
      "name": "python",
      "nbconvert_exporter": "python",
      "pygments_lexer": "ipython3",
      "version": "3.9.13"
    },
    "vscode": {
      "interpreter": {
        "hash": "c63bf7c73efbaa60a9891fdddd1e96dd0cc596469d20228077150d640c222586"
      }
    }
  },
  "nbformat": 4,
  "nbformat_minor": 0
}
