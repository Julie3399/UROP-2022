{
  "cells": [
    {
      "cell_type": "markdown",
      "metadata": {
        "id": "kXzjiTjTgo5Y"
      },
      "source": [
        "# 0 Data"
      ]
    },
    {
      "cell_type": "code",
      "execution_count": 1,
      "metadata": {
        "id": "KohUkyhKZ5Jr"
      },
      "outputs": [],
      "source": [
        "import os\n",
        "import pathlib\n",
        "import numpy as np\n",
        "import pandas as pd\n",
        "import tensorflow as tf"
      ]
    },
    {
      "cell_type": "code",
      "execution_count": 2,
      "metadata": {},
      "outputs": [
        {
          "name": "stdout",
          "output_type": "stream",
          "text": [
            "/Users/customer/projects/UROP-2022\n"
          ]
        }
      ],
      "source": [
        "parent_path = str(pathlib.Path(os.getcwd()).parent.parent)\n",
        "print(parent_path)\n",
        "df = pd.read_csv(os.path.join(parent_path, 'data/data.csv'))\n",
        "df = df.drop(['Unnamed: 0'], axis=1)\n",
        "# add average long run volatility (theta)\n",
        "df['mean_volatility'] = 0.001 + 0.05 * np.random.rand(len(df))\n",
        "\n",
        "# add mean reversion rate of volatility (kappa)\n",
        "df['reversion'] = 0.01 + 5 * np.random.rand(len(df))\n",
        "\n",
        "# add variance of volatility\n",
        "df['var_of_vol'] = 0.01 + 0.7 * np.random.rand(len(df))\n",
        "\n",
        "# add correlation between random processes  \n",
        "df['rho'] = -0.05 - 0.7 * np.random.rand(len(df))\n",
        "\n",
        "df.sample(5)\n",
        "\n",
        "df.to_csv(os.path.join(parent_path, 'data/basket_data.csv'))"
      ]
    },
    {
      "cell_type": "code",
      "execution_count": 3,
      "metadata": {
        "colab": {
          "base_uri": "https://localhost:8080/"
        },
        "id": "Jds_DYI7XbPj",
        "outputId": "c9e3c48c-25bd-4d7f-9534-96bd38b53fa8"
      },
      "outputs": [],
      "source": [
        "# from google.colab import drive\n",
        "# drive.mount('/content/drive')\n",
        "# real_data = pd.read_csv('/content/drive/MyDrive/processed_data.csv')\n",
        "# real_data.head()"
      ]
    },
    {
      "cell_type": "code",
      "execution_count": 3,
      "metadata": {
        "id": "LmxzV9nUaFn7"
      },
      "outputs": [],
      "source": [
        "def generate_inputs_nn(real_data, dim, num_samples):\n",
        "    \"\"\"\n",
        "    Returns num_samples numbers of 7 + 2*dim input features \n",
        "    which is later fed into the neural networks.\n",
        "\n",
        "    Args:  \n",
        "      - real_data: pd dataframe containing the values obtained from wrds\n",
        "      - dim: int, the number of underlyings in the basket\n",
        "      - num_samples: number of samples to take  \n",
        "\n",
        "    Output:\n",
        "      - inputs: ndarray, \n",
        "    \n",
        "    \"\"\"\n",
        "    def rand(num = num_samples):\n",
        "      return np.random.random(num)\n",
        "\n",
        "    def corr(dim):\n",
        "      return -0.05 - 0.7 * rand(dim)\n",
        "\n",
        "    # Initial spot price of each sampled from historical data\n",
        "    def spots(dim): \n",
        "      return np.array(real_data['underlyings_price'].sample(n=dim, replace=True))\n",
        "\n",
        "    # randomly sample from historical data\n",
        "    maturity  = np.array(real_data['days_to_maturity'].sample(n = num_samples, replace = True))\n",
        "    rate    = np.array(real_data['rate'].sample(n = num_samples, replace = True))\n",
        "    strikes  = np.array(real_data['strike'].sample(n = num_samples, replace = True))\n",
        "\n",
        "    # randomly generate parameters\n",
        "    rate_reversion  = 0.01 + 5 * rand()          # kappa\n",
        "    vol_of_vol    = 0.01 + 0.7 * rand()         # lambda\n",
        "    long_term_var = 0.001 + 0.05 * rand()         # theta\n",
        "    initial_var  = 0.001 + 0.05 * rand()         # sqrt(v0)\n",
        "\n",
        "    inputs      = np.array([maturity, strikes, initial_var, long_term_var, rate_reversion,\n",
        "                               vol_of_vol, rate]).T.tolist()\n",
        "    for i in range(len(inputs)):\n",
        "        spot = spots(dim)\n",
        "        inputs[i].insert(0, spot)\n",
        "        inputs[i].insert(1, corr(dim))        \n",
        "\n",
        "    inputs = np.array(inputs, dtype = object)\n",
        "    return inputs"
      ]
    },
    {
      "cell_type": "markdown",
      "metadata": {
        "id": "Ku2dh4s07y8o"
      },
      "source": [
        "# 1 Model for Scalar Values"
      ]
    },
    {
      "cell_type": "code",
      "execution_count": 4,
      "metadata": {
        "id": "VnUZl9mZsFl8"
      },
      "outputs": [],
      "source": [
        "def generate_heston_paths(S, T, K, r, kappa, theta, v_0, rho, xi, \n",
        "                          steps, num_sims):  \n",
        "    '''\n",
        "    Produces result for a single heston run.\n",
        "\n",
        "    Args:\n",
        "    - S: np.array, contains spot prices of the underlying assets in the basket\n",
        "    - T: float, days to maturity divided by 365\n",
        "    - K: float, strike price\n",
        "    - r: float, the risk-free rate\n",
        "    - kappa: float, mean reversion rate of variance\n",
        "    - theta: float, long-term average price variance\n",
        "    - v_0: float, initial volatility\n",
        "    - rho: np.array, contains correlations between each random underlying return process and its associated random volatility process  \n",
        "    - xi: float, volatility of variance\n",
        "    - steps: int, num time steps\n",
        "    - num_sims: int, no. of simulations for each sample \n",
        "    '''\n",
        "    dt = T/steps\n",
        "    dim = len(S)\n",
        "    S_t = np.repeat([S], num_sims,axis=0)\n",
        "    v_t = v_0 + np.zeros(num_sims)[:,np.newaxis]\n",
        "\n",
        "    for t in range(steps):\n",
        "        WT1 = np.random.normal(0,1,size=(num_sims,dim))\n",
        "        WT2 = np.random.normal(0,1,size=(num_sims,dim))\n",
        "        WT3 = rho * WT1 + np.sqrt(1-rho**2)*WT2\n",
        "\n",
        "        v_t = np.maximum(v_t, 0)\n",
        "        S_t = S_t*(np.exp( (r - 0.5*v_t)*dt+ np.sqrt(v_t * dt) * WT1)) \n",
        "        v_t = v_t + kappa*(theta-v_t)*dt + xi*np.sqrt(v_t * dt)*WT3    \n",
        "\n",
        "    S_t = np.mean(S_t,axis = 1)\n",
        "    S_call = np.exp(-1 * r * T) * np.sum(np.maximum(S_t - K, 0)) / num_sims\n",
        "    \n",
        "    return S_call"
      ]
    },
    {
      "cell_type": "markdown",
      "metadata": {
        "id": "OEuEmrbnnjCD"
      },
      "source": [
        "# 2 Model for Vector Values"
      ]
    },
    {
      "cell_type": "code",
      "execution_count": 5,
      "metadata": {
        "id": "lXYo06G-niKC"
      },
      "outputs": [],
      "source": [
        "def generate_heston_paths_vec(df, num_samples, steps=1000, num_sims=100000):  \n",
        "    '''\n",
        "    Produces result for multiple heston runs for call options only.\n",
        "\n",
        "    Args:  \n",
        "        - df: dataframe, containing all parameters\n",
        "        - num_samples:\n",
        "        - steps: int, num time steps\n",
        "        - num_sims: int, no. of simulations for each sample  \n",
        "\n",
        "    Output:  \n",
        "        - result: ndarray, containing average prices over num_sims\n",
        "    '''  \n",
        "    N = len(df)\n",
        "    dt    = df['days_to_maturity'].values /steps \n",
        "    S_0   = df['underlyings_price'].values.tolist() # add tolist \n",
        "    v_0   = df['volatility'].values.astype('float')  \n",
        "    r     = df['rate'].values.astype('float')  \n",
        "    theta = df['mean_volatility'].values.astype('float')  \n",
        "    kappa = df['reversion'].values.astype('float')  \n",
        "    xi    = df['vol_of_var'].values.astype('float')  \n",
        "    K     = df['strike'].values.astype('float')[:,np.newaxis]  \n",
        "    rho   = np.array([x.astype('float64') for x in df['rho'].values])\n",
        "    T     = df['days_to_maturity'].values.astype('float') \n",
        "\n",
        "    dim = len(S_0[0])\n",
        "    S_t = np.tile(S_0, (1,num_sims)).reshape(num_samples,num_sims,dim).transpose(1,2,0)\n",
        "    v_t = (v_0 + np.zeros((num_sims,1))[:,np.newaxis])\n",
        "\n",
        "\n",
        "    for t in range(steps):\n",
        "        WT1 = np.random.normal(0,1,size=(num_sims, dim, N))\n",
        "        WT2 = np.random.normal(0,1,size=(num_sims, dim, N))\n",
        "        WT3 = rho.T * WT1 + np.sqrt(1-rho.T**2)*WT2\n",
        "\n",
        "        v_t = np.maximum(v_t, 0)\n",
        "        S_t = S_t*(np.exp( ((r- 0.5*v_t)*dt + np.sqrt((v_t * dt).astype('float')) * WT1 ).astype('float')))\n",
        "        v_t = v_t + kappa*(theta-v_t)*dt + xi*np.sqrt((v_t * dt).astype('float'))*WT3  \n",
        "        \n",
        "    S_t = S_t.transpose(2,0,1)\n",
        "    S_t = np.mean(S_t,axis = 2)\n",
        "    S_call = np.exp(-1 * r * T) * np.sum(np.maximum(S_t-K,0), axis = 1 )/ num_sims\n",
        "    \n",
        "    return S_call"
      ]
    },
    {
      "cell_type": "markdown",
      "metadata": {
        "id": "cLO8YV4h7rqR"
      },
      "source": [
        "# 3 Test implementation"
      ]
    },
    {
      "cell_type": "code",
      "execution_count": 9,
      "metadata": {},
      "outputs": [
        {
          "name": "stdout",
          "output_type": "stream",
          "text": [
            "(10, 9)\n"
          ]
        },
        {
          "data": {
            "text/html": [
              "<div>\n",
              "<style scoped>\n",
              "    .dataframe tbody tr th:only-of-type {\n",
              "        vertical-align: middle;\n",
              "    }\n",
              "\n",
              "    .dataframe tbody tr th {\n",
              "        vertical-align: top;\n",
              "    }\n",
              "\n",
              "    .dataframe thead th {\n",
              "        text-align: right;\n",
              "    }\n",
              "</style>\n",
              "<table border=\"1\" class=\"dataframe\">\n",
              "  <thead>\n",
              "    <tr style=\"text-align: right;\">\n",
              "      <th></th>\n",
              "      <th>underlyings_price</th>\n",
              "      <th>rho</th>\n",
              "      <th>days_to_maturity</th>\n",
              "      <th>strike</th>\n",
              "      <th>volatility</th>\n",
              "      <th>mean_volatility</th>\n",
              "      <th>reversion</th>\n",
              "      <th>vol_of_var</th>\n",
              "      <th>rate</th>\n",
              "    </tr>\n",
              "  </thead>\n",
              "  <tbody>\n",
              "    <tr>\n",
              "      <th>0</th>\n",
              "      <td>[142.45, 10.94219970703125, 14.87875, 4.774700...</td>\n",
              "      <td>[-0.5253102894081183, -0.08267862449961322, -0...</td>\n",
              "      <td>7.0</td>\n",
              "      <td>15.6</td>\n",
              "      <td>0.022738</td>\n",
              "      <td>0.050026</td>\n",
              "      <td>3.757348</td>\n",
              "      <td>0.666204</td>\n",
              "      <td>0.024338</td>\n",
              "    </tr>\n",
              "    <tr>\n",
              "      <th>1</th>\n",
              "      <td>[16.427130126953124, 11.81739990234375, 16.604...</td>\n",
              "      <td>[-0.15359162125842643, -0.22446354245062333, -...</td>\n",
              "      <td>16.0</td>\n",
              "      <td>13.2</td>\n",
              "      <td>0.02319</td>\n",
              "      <td>0.039932</td>\n",
              "      <td>2.800199</td>\n",
              "      <td>0.188256</td>\n",
              "      <td>0.001678</td>\n",
              "    </tr>\n",
              "    <tr>\n",
              "      <th>2</th>\n",
              "      <td>[13.388599853515624, 15.79324951171875, 15.905...</td>\n",
              "      <td>[-0.35742871484591116, -0.7080891695097145, -0...</td>\n",
              "      <td>91.0</td>\n",
              "      <td>4.8</td>\n",
              "      <td>0.029186</td>\n",
              "      <td>0.012507</td>\n",
              "      <td>1.904727</td>\n",
              "      <td>0.271797</td>\n",
              "      <td>0.002458</td>\n",
              "    </tr>\n",
              "    <tr>\n",
              "      <th>3</th>\n",
              "      <td>[13.995, 4.774700012207031, 4.701400146484375,...</td>\n",
              "      <td>[-0.3178805513544719, -0.48628350712969587, -0...</td>\n",
              "      <td>8.0</td>\n",
              "      <td>15.8</td>\n",
              "      <td>0.038362</td>\n",
              "      <td>0.0349</td>\n",
              "      <td>2.66674</td>\n",
              "      <td>0.648392</td>\n",
              "      <td>0.051413</td>\n",
              "    </tr>\n",
              "    <tr>\n",
              "      <th>4</th>\n",
              "      <td>[13.92875, 16.734720458984373, 57.633999023437...</td>\n",
              "      <td>[-0.09894896681770923, -0.49947798081183575, -...</td>\n",
              "      <td>303.0</td>\n",
              "      <td>4.7</td>\n",
              "      <td>0.036798</td>\n",
              "      <td>0.008966</td>\n",
              "      <td>1.362616</td>\n",
              "      <td>0.583793</td>\n",
              "      <td>0.054251</td>\n",
              "    </tr>\n",
              "  </tbody>\n",
              "</table>\n",
              "</div>"
            ],
            "text/plain": [
              "                                   underlyings_price  \\\n",
              "0  [142.45, 10.94219970703125, 14.87875, 4.774700...   \n",
              "1  [16.427130126953124, 11.81739990234375, 16.604...   \n",
              "2  [13.388599853515624, 15.79324951171875, 15.905...   \n",
              "3  [13.995, 4.774700012207031, 4.701400146484375,...   \n",
              "4  [13.92875, 16.734720458984373, 57.633999023437...   \n",
              "\n",
              "                                                 rho days_to_maturity strike  \\\n",
              "0  [-0.5253102894081183, -0.08267862449961322, -0...              7.0   15.6   \n",
              "1  [-0.15359162125842643, -0.22446354245062333, -...             16.0   13.2   \n",
              "2  [-0.35742871484591116, -0.7080891695097145, -0...             91.0    4.8   \n",
              "3  [-0.3178805513544719, -0.48628350712969587, -0...              8.0   15.8   \n",
              "4  [-0.09894896681770923, -0.49947798081183575, -...            303.0    4.7   \n",
              "\n",
              "  volatility mean_volatility reversion vol_of_var      rate  \n",
              "0   0.022738        0.050026  3.757348   0.666204  0.024338  \n",
              "1    0.02319        0.039932  2.800199   0.188256  0.001678  \n",
              "2   0.029186        0.012507  1.904727   0.271797  0.002458  \n",
              "3   0.038362          0.0349   2.66674   0.648392  0.051413  \n",
              "4   0.036798        0.008966  1.362616   0.583793  0.054251  "
            ]
          },
          "execution_count": 9,
          "metadata": {},
          "output_type": "execute_result"
        }
      ],
      "source": [
        "dim  = 7     # Dimension of basket (number of stocks)\n",
        "num_samples = 10\n",
        "inputs_array = generate_inputs_nn(df,dim,num_samples)\n",
        "inputs = pd.DataFrame(inputs_array, columns = ['underlyings_price', 'rho', 'days_to_maturity', \n",
        "                        'strike', 'volatility','mean_volatility','reversion', 'vol_of_var','rate'])\n",
        "print(inputs.shape)\n",
        "inputs.head()"
      ]
    },
    {
      "cell_type": "markdown",
      "metadata": {
        "id": "4yuSTbWGnZ1b"
      },
      "source": [
        "Test the scalar case."
      ]
    },
    {
      "cell_type": "code",
      "execution_count": 10,
      "metadata": {
        "colab": {
          "base_uri": "https://localhost:8080/"
        },
        "id": "socISjcsxat5",
        "outputId": "61982fed-1d16-425d-8a3b-d00e9d51d188"
      },
      "outputs": [
        {
          "data": {
            "text/plain": [
              "18.77136022203655"
            ]
          },
          "execution_count": 10,
          "metadata": {},
          "output_type": "execute_result"
        }
      ],
      "source": [
        "S_0   = inputs['underlyings_price'].values[0] \n",
        "v_0   = inputs['volatility'].values[0] \n",
        "r     = inputs['rate'].values[0] \n",
        "theta = inputs['mean_volatility'].values[0] \n",
        "kappa = inputs['reversion'].values[0] \n",
        "xi    = inputs['vol_of_var'].values[0] \n",
        "K     = inputs['strike'].values[0] \n",
        "rho   = inputs['rho'].values[0] \n",
        "T     = inputs['days_to_maturity'].values[0] \n",
        "\n",
        "generate_heston_paths(S_0, T, K, r, kappa, theta, v_0, rho, xi, \n",
        "                          100, 1000)"
      ]
    },
    {
      "cell_type": "markdown",
      "metadata": {
        "id": "gFRYVHywbdNO"
      },
      "source": [
        "Test the vector case."
      ]
    },
    {
      "cell_type": "code",
      "execution_count": 11,
      "metadata": {
        "colab": {
          "base_uri": "https://localhost:8080/"
        },
        "id": "6rjfa8uTbfzH",
        "outputId": "eea0b5ed-9720-4e44-8081-43f62315be08"
      },
      "outputs": [],
      "source": [
        "result = generate_heston_paths_vec(inputs, num_samples, steps=100, num_sims=1000)"
      ]
    },
    {
      "cell_type": "markdown",
      "metadata": {
        "id": "ApB6KPxOoN6W"
      },
      "source": [
        "We can see that the first element of `generate_heston_paths_vec` is approximately the same as `generate_heston_paths`. This verified that our models are correct."
      ]
    },
    {
      "cell_type": "code",
      "execution_count": 13,
      "metadata": {},
      "outputs": [],
      "source": [
        "inputs['contract_price'] = result"
      ]
    },
    {
      "cell_type": "code",
      "execution_count": 15,
      "metadata": {},
      "outputs": [
        {
          "data": {
            "text/html": [
              "<div>\n",
              "<style scoped>\n",
              "    .dataframe tbody tr th:only-of-type {\n",
              "        vertical-align: middle;\n",
              "    }\n",
              "\n",
              "    .dataframe tbody tr th {\n",
              "        vertical-align: top;\n",
              "    }\n",
              "\n",
              "    .dataframe thead th {\n",
              "        text-align: right;\n",
              "    }\n",
              "</style>\n",
              "<table border=\"1\" class=\"dataframe\">\n",
              "  <thead>\n",
              "    <tr style=\"text-align: right;\">\n",
              "      <th></th>\n",
              "      <th>days_to_maturity</th>\n",
              "      <th>strike</th>\n",
              "      <th>volatility</th>\n",
              "      <th>mean_volatility</th>\n",
              "      <th>reversion</th>\n",
              "      <th>vol_of_var</th>\n",
              "      <th>rate</th>\n",
              "      <th>contract_price</th>\n",
              "      <th>Underlying_0</th>\n",
              "      <th>Underlying_1</th>\n",
              "      <th>...</th>\n",
              "      <th>Underlying_4</th>\n",
              "      <th>Underlying_5</th>\n",
              "      <th>Underlying_6</th>\n",
              "      <th>Rho_0</th>\n",
              "      <th>Rho_1</th>\n",
              "      <th>Rho_2</th>\n",
              "      <th>Rho_3</th>\n",
              "      <th>Rho_4</th>\n",
              "      <th>Rho_5</th>\n",
              "      <th>Rho_6</th>\n",
              "    </tr>\n",
              "  </thead>\n",
              "  <tbody>\n",
              "    <tr>\n",
              "      <th>0</th>\n",
              "      <td>7.0</td>\n",
              "      <td>15.6</td>\n",
              "      <td>0.022738</td>\n",
              "      <td>0.050026</td>\n",
              "      <td>3.757348</td>\n",
              "      <td>0.666204</td>\n",
              "      <td>0.024338</td>\n",
              "      <td>17.028448</td>\n",
              "      <td>142.45000</td>\n",
              "      <td>10.94220</td>\n",
              "      <td>...</td>\n",
              "      <td>15.11500</td>\n",
              "      <td>17.52550</td>\n",
              "      <td>14.727120</td>\n",
              "      <td>-0.525310</td>\n",
              "      <td>-0.082679</td>\n",
              "      <td>-0.147531</td>\n",
              "      <td>-0.555332</td>\n",
              "      <td>-0.701763</td>\n",
              "      <td>-0.404381</td>\n",
              "      <td>-0.596128</td>\n",
              "    </tr>\n",
              "    <tr>\n",
              "      <th>1</th>\n",
              "      <td>16.0</td>\n",
              "      <td>13.2</td>\n",
              "      <td>0.02319</td>\n",
              "      <td>0.039932</td>\n",
              "      <td>2.800199</td>\n",
              "      <td>0.188256</td>\n",
              "      <td>0.001678</td>\n",
              "      <td>1.221938</td>\n",
              "      <td>16.42713</td>\n",
              "      <td>11.81740</td>\n",
              "      <td>...</td>\n",
              "      <td>10.61088</td>\n",
              "      <td>8.01000</td>\n",
              "      <td>4.512700</td>\n",
              "      <td>-0.153592</td>\n",
              "      <td>-0.224464</td>\n",
              "      <td>-0.537282</td>\n",
              "      <td>-0.596806</td>\n",
              "      <td>-0.184586</td>\n",
              "      <td>-0.457355</td>\n",
              "      <td>-0.252248</td>\n",
              "    </tr>\n",
              "    <tr>\n",
              "      <th>2</th>\n",
              "      <td>91.0</td>\n",
              "      <td>4.8</td>\n",
              "      <td>0.029186</td>\n",
              "      <td>0.012507</td>\n",
              "      <td>1.904727</td>\n",
              "      <td>0.271797</td>\n",
              "      <td>0.002458</td>\n",
              "      <td>7.387472</td>\n",
              "      <td>13.38860</td>\n",
              "      <td>15.79325</td>\n",
              "      <td>...</td>\n",
              "      <td>4.80400</td>\n",
              "      <td>7.62600</td>\n",
              "      <td>15.613370</td>\n",
              "      <td>-0.357429</td>\n",
              "      <td>-0.708089</td>\n",
              "      <td>-0.138399</td>\n",
              "      <td>-0.389144</td>\n",
              "      <td>-0.244073</td>\n",
              "      <td>-0.157685</td>\n",
              "      <td>-0.149508</td>\n",
              "    </tr>\n",
              "    <tr>\n",
              "      <th>3</th>\n",
              "      <td>8.0</td>\n",
              "      <td>15.8</td>\n",
              "      <td>0.038362</td>\n",
              "      <td>0.0349</td>\n",
              "      <td>2.66674</td>\n",
              "      <td>0.648392</td>\n",
              "      <td>0.051413</td>\n",
              "      <td>2.112051</td>\n",
              "      <td>13.99500</td>\n",
              "      <td>4.77470</td>\n",
              "      <td>...</td>\n",
              "      <td>15.12350</td>\n",
              "      <td>15.39725</td>\n",
              "      <td>6.645800</td>\n",
              "      <td>-0.317881</td>\n",
              "      <td>-0.486284</td>\n",
              "      <td>-0.465103</td>\n",
              "      <td>-0.405701</td>\n",
              "      <td>-0.068419</td>\n",
              "      <td>-0.643844</td>\n",
              "      <td>-0.523429</td>\n",
              "    </tr>\n",
              "    <tr>\n",
              "      <th>4</th>\n",
              "      <td>303.0</td>\n",
              "      <td>4.7</td>\n",
              "      <td>0.036798</td>\n",
              "      <td>0.008966</td>\n",
              "      <td>1.362616</td>\n",
              "      <td>0.583793</td>\n",
              "      <td>0.054251</td>\n",
              "      <td>16.669164</td>\n",
              "      <td>13.92875</td>\n",
              "      <td>16.73472</td>\n",
              "      <td>...</td>\n",
              "      <td>13.39400</td>\n",
              "      <td>10.63250</td>\n",
              "      <td>60.833999</td>\n",
              "      <td>-0.098949</td>\n",
              "      <td>-0.499478</td>\n",
              "      <td>-0.105192</td>\n",
              "      <td>-0.135804</td>\n",
              "      <td>-0.091670</td>\n",
              "      <td>-0.506185</td>\n",
              "      <td>-0.340715</td>\n",
              "    </tr>\n",
              "  </tbody>\n",
              "</table>\n",
              "<p>5 rows × 22 columns</p>\n",
              "</div>"
            ],
            "text/plain": [
              "  days_to_maturity strike volatility mean_volatility reversion vol_of_var  \\\n",
              "0              7.0   15.6   0.022738        0.050026  3.757348   0.666204   \n",
              "1             16.0   13.2    0.02319        0.039932  2.800199   0.188256   \n",
              "2             91.0    4.8   0.029186        0.012507  1.904727   0.271797   \n",
              "3              8.0   15.8   0.038362          0.0349   2.66674   0.648392   \n",
              "4            303.0    4.7   0.036798        0.008966  1.362616   0.583793   \n",
              "\n",
              "       rate  contract_price  Underlying_0  Underlying_1  ...  Underlying_4  \\\n",
              "0  0.024338       17.028448     142.45000      10.94220  ...      15.11500   \n",
              "1  0.001678        1.221938      16.42713      11.81740  ...      10.61088   \n",
              "2  0.002458        7.387472      13.38860      15.79325  ...       4.80400   \n",
              "3  0.051413        2.112051      13.99500       4.77470  ...      15.12350   \n",
              "4  0.054251       16.669164      13.92875      16.73472  ...      13.39400   \n",
              "\n",
              "   Underlying_5  Underlying_6     Rho_0     Rho_1     Rho_2     Rho_3  \\\n",
              "0      17.52550     14.727120 -0.525310 -0.082679 -0.147531 -0.555332   \n",
              "1       8.01000      4.512700 -0.153592 -0.224464 -0.537282 -0.596806   \n",
              "2       7.62600     15.613370 -0.357429 -0.708089 -0.138399 -0.389144   \n",
              "3      15.39725      6.645800 -0.317881 -0.486284 -0.465103 -0.405701   \n",
              "4      10.63250     60.833999 -0.098949 -0.499478 -0.105192 -0.135804   \n",
              "\n",
              "      Rho_4     Rho_5     Rho_6  \n",
              "0 -0.701763 -0.404381 -0.596128  \n",
              "1 -0.184586 -0.457355 -0.252248  \n",
              "2 -0.244073 -0.157685 -0.149508  \n",
              "3 -0.068419 -0.643844 -0.523429  \n",
              "4 -0.091670 -0.506185 -0.340715  \n",
              "\n",
              "[5 rows x 22 columns]"
            ]
          },
          "execution_count": 15,
          "metadata": {},
          "output_type": "execute_result"
        }
      ],
      "source": [
        "def flattenDim(dim, inputs):\n",
        "    \"\"\"\n",
        "    \n",
        "    Returns a pandas dataframe with assest price and rho expanded.  \n",
        "\n",
        "    Args:  \n",
        "        - dim: dimension of assest price basket\n",
        "        - inputs: pandas dataframe of basket options, containing columns\n",
        "                  'underlyings_price' and 'rho'  \n",
        "\n",
        "    Output:  \n",
        "        - outputs: pandas dataframe\n",
        "    \"\"\"\n",
        "    for i in range(dim):\n",
        "        inputs[f'Underlying_{i}'] = np.vstack(inputs.underlyings_price.values)[:,i]\n",
        "\n",
        "    for i in range(dim):\n",
        "        inputs[f'Rho_{i}'] = np.vstack(inputs.rho.values)[:,i]\n",
        "    inputs = inputs.drop(['underlyings_price', 'rho'], axis=1)\n",
        "    return inputs\n",
        "\n",
        "inputs = flattenDim(7, inputs)\n",
        "inputs.head()"
      ]
    },
    {
      "cell_type": "code",
      "execution_count": 16,
      "metadata": {},
      "outputs": [],
      "source": [
        "inputs.to_csv(os.path.join(parent_path, 'data/small_basket_data.csv'))"
      ]
    },
    {
      "cell_type": "code",
      "execution_count": null,
      "metadata": {},
      "outputs": [],
      "source": []
    }
  ],
  "metadata": {
    "colab": {
      "collapsed_sections": [],
      "provenance": []
    },
    "kernelspec": {
      "display_name": "Python 3.9.13 ('base')",
      "language": "python",
      "name": "python3"
    },
    "language_info": {
      "codemirror_mode": {
        "name": "ipython",
        "version": 3
      },
      "file_extension": ".py",
      "mimetype": "text/x-python",
      "name": "python",
      "nbconvert_exporter": "python",
      "pygments_lexer": "ipython3",
      "version": "3.9.13"
    },
    "vscode": {
      "interpreter": {
        "hash": "c63bf7c73efbaa60a9891fdddd1e96dd0cc596469d20228077150d640c222586"
      }
    }
  },
  "nbformat": 4,
  "nbformat_minor": 0
}
