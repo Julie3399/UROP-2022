{
  "cells": [
    {
      "cell_type": "markdown",
      "metadata": {
        "id": "kXzjiTjTgo5Y"
      },
      "source": [
        "# Heston Basket Options  \n",
        "\n",
        "A basket option is a type of financial derivative where the underlying asset is a basket (group), of commodities, securities, or currencies. In some sense, it is a list of assests associated with a single option. Thus, our dataset will have a list of assest prices and correlations along with the other parameters in the normal case.   "
      ]
    },
    {
      "cell_type": "code",
      "execution_count": 5,
      "metadata": {
        "id": "KohUkyhKZ5Jr"
      },
      "outputs": [],
      "source": [
        "import os\n",
        "import time\n",
        "import pathlib\n",
        "import numpy as np\n",
        "import pandas as pd\n",
        "\n",
        "from heston import *\n",
        "from df_helper import *\n",
        "from blackscholes import *"
      ]
    },
    {
      "cell_type": "markdown",
      "metadata": {},
      "source": [
        "We first load the data to generate the baskets of options using `basket_data.csv`.  \n",
        "\n",
        "Note that the data here will be inputs to our Heston model, which will give simulated option prices for the training of our neural network.  "
      ]
    },
    {
      "cell_type": "code",
      "execution_count": 6,
      "metadata": {},
      "outputs": [
        {
          "data": {
            "text/html": [
              "<div>\n",
              "<style scoped>\n",
              "    .dataframe tbody tr th:only-of-type {\n",
              "        vertical-align: middle;\n",
              "    }\n",
              "\n",
              "    .dataframe tbody tr th {\n",
              "        vertical-align: top;\n",
              "    }\n",
              "\n",
              "    .dataframe thead th {\n",
              "        text-align: right;\n",
              "    }\n",
              "</style>\n",
              "<table border=\"1\" class=\"dataframe\">\n",
              "  <thead>\n",
              "    <tr style=\"text-align: right;\">\n",
              "      <th></th>\n",
              "      <th>optionid</th>\n",
              "      <th>securityid</th>\n",
              "      <th>strike</th>\n",
              "      <th>callput</th>\n",
              "      <th>date_traded</th>\n",
              "      <th>contract_price</th>\n",
              "      <th>market_price</th>\n",
              "      <th>underlyings_price</th>\n",
              "      <th>contract_volume</th>\n",
              "      <th>days_to_maturity</th>\n",
              "      <th>moneyness</th>\n",
              "      <th>rate</th>\n",
              "      <th>volatility</th>\n",
              "      <th>mean_volatility</th>\n",
              "      <th>reversion</th>\n",
              "      <th>var_of_vol</th>\n",
              "      <th>rho</th>\n",
              "    </tr>\n",
              "  </thead>\n",
              "  <tbody>\n",
              "    <tr>\n",
              "      <th>0</th>\n",
              "      <td>150034236.0</td>\n",
              "      <td>504569.0</td>\n",
              "      <td>0.42</td>\n",
              "      <td>C</td>\n",
              "      <td>2006-10-18</td>\n",
              "      <td>0.0715</td>\n",
              "      <td>0.07025</td>\n",
              "      <td>0.488500</td>\n",
              "      <td>5.0</td>\n",
              "      <td>2.0</td>\n",
              "      <td>1.163095</td>\n",
              "      <td>0.053646</td>\n",
              "      <td>0.022956</td>\n",
              "      <td>0.047665</td>\n",
              "      <td>1.741895</td>\n",
              "      <td>0.285332</td>\n",
              "      <td>-0.557252</td>\n",
              "    </tr>\n",
              "    <tr>\n",
              "      <th>1</th>\n",
              "      <td>150247468.0</td>\n",
              "      <td>504880.0</td>\n",
              "      <td>40.00</td>\n",
              "      <td>C</td>\n",
              "      <td>2006-10-18</td>\n",
              "      <td>0.1240</td>\n",
              "      <td>0.12250</td>\n",
              "      <td>39.913799</td>\n",
              "      <td>56137.0</td>\n",
              "      <td>2.0</td>\n",
              "      <td>0.997845</td>\n",
              "      <td>0.053646</td>\n",
              "      <td>0.114784</td>\n",
              "      <td>0.018427</td>\n",
              "      <td>0.765240</td>\n",
              "      <td>0.304296</td>\n",
              "      <td>-0.355317</td>\n",
              "    </tr>\n",
              "    <tr>\n",
              "      <th>2</th>\n",
              "      <td>150255000.0</td>\n",
              "      <td>506496.0</td>\n",
              "      <td>62.00</td>\n",
              "      <td>C</td>\n",
              "      <td>2006-10-18</td>\n",
              "      <td>0.1720</td>\n",
              "      <td>0.17400</td>\n",
              "      <td>61.827798</td>\n",
              "      <td>27369.0</td>\n",
              "      <td>2.0</td>\n",
              "      <td>0.997223</td>\n",
              "      <td>0.053646</td>\n",
              "      <td>0.106823</td>\n",
              "      <td>0.021562</td>\n",
              "      <td>1.578755</td>\n",
              "      <td>0.553407</td>\n",
              "      <td>-0.728337</td>\n",
              "    </tr>\n",
              "    <tr>\n",
              "      <th>3</th>\n",
              "      <td>150255496.0</td>\n",
              "      <td>506497.0</td>\n",
              "      <td>53.50</td>\n",
              "      <td>C</td>\n",
              "      <td>2006-10-18</td>\n",
              "      <td>0.2960</td>\n",
              "      <td>0.26550</td>\n",
              "      <td>53.612900</td>\n",
              "      <td>1224.0</td>\n",
              "      <td>2.0</td>\n",
              "      <td>1.002110</td>\n",
              "      <td>0.053646</td>\n",
              "      <td>0.110336</td>\n",
              "      <td>0.013416</td>\n",
              "      <td>2.370529</td>\n",
              "      <td>0.622139</td>\n",
              "      <td>-0.421136</td>\n",
              "    </tr>\n",
              "    <tr>\n",
              "      <th>4</th>\n",
              "      <td>150255498.0</td>\n",
              "      <td>506497.0</td>\n",
              "      <td>54.00</td>\n",
              "      <td>C</td>\n",
              "      <td>2006-10-18</td>\n",
              "      <td>0.0750</td>\n",
              "      <td>0.06450</td>\n",
              "      <td>53.612900</td>\n",
              "      <td>963.0</td>\n",
              "      <td>2.0</td>\n",
              "      <td>0.992831</td>\n",
              "      <td>0.053646</td>\n",
              "      <td>0.110336</td>\n",
              "      <td>0.011473</td>\n",
              "      <td>3.822598</td>\n",
              "      <td>0.616489</td>\n",
              "      <td>-0.572024</td>\n",
              "    </tr>\n",
              "  </tbody>\n",
              "</table>\n",
              "</div>"
            ],
            "text/plain": [
              "      optionid  securityid  strike callput date_traded  contract_price  \\\n",
              "0  150034236.0    504569.0    0.42       C  2006-10-18          0.0715   \n",
              "1  150247468.0    504880.0   40.00       C  2006-10-18          0.1240   \n",
              "2  150255000.0    506496.0   62.00       C  2006-10-18          0.1720   \n",
              "3  150255496.0    506497.0   53.50       C  2006-10-18          0.2960   \n",
              "4  150255498.0    506497.0   54.00       C  2006-10-18          0.0750   \n",
              "\n",
              "   market_price  underlyings_price  contract_volume  days_to_maturity  \\\n",
              "0       0.07025           0.488500              5.0               2.0   \n",
              "1       0.12250          39.913799          56137.0               2.0   \n",
              "2       0.17400          61.827798          27369.0               2.0   \n",
              "3       0.26550          53.612900           1224.0               2.0   \n",
              "4       0.06450          53.612900            963.0               2.0   \n",
              "\n",
              "   moneyness      rate  volatility  mean_volatility  reversion  var_of_vol  \\\n",
              "0   1.163095  0.053646    0.022956         0.047665   1.741895    0.285332   \n",
              "1   0.997845  0.053646    0.114784         0.018427   0.765240    0.304296   \n",
              "2   0.997223  0.053646    0.106823         0.021562   1.578755    0.553407   \n",
              "3   1.002110  0.053646    0.110336         0.013416   2.370529    0.622139   \n",
              "4   0.992831  0.053646    0.110336         0.011473   3.822598    0.616489   \n",
              "\n",
              "        rho  \n",
              "0 -0.557252  \n",
              "1 -0.355317  \n",
              "2 -0.728337  \n",
              "3 -0.421136  \n",
              "4 -0.572024  "
            ]
          },
          "execution_count": 6,
          "metadata": {},
          "output_type": "execute_result"
        }
      ],
      "source": [
        "parent_path = str(pathlib.Path(os.getcwd()).parent)\n",
        "df = pd.read_csv(os.path.join(parent_path, 'data/basket_data.csv'))\n",
        "df = df.drop(['Unnamed: 0'], axis=1)\n",
        "df.head()"
      ]
    },
    {
      "cell_type": "markdown",
      "metadata": {
        "id": "cLO8YV4h7rqR"
      },
      "source": [
        "## Test implementation"
      ]
    },
    {
      "cell_type": "markdown",
      "metadata": {},
      "source": [
        "We generate basket options below:"
      ]
    },
    {
      "cell_type": "code",
      "execution_count": 7,
      "metadata": {},
      "outputs": [
        {
          "name": "stdout",
          "output_type": "stream",
          "text": [
            "(1000, 9)\n"
          ]
        },
        {
          "data": {
            "text/html": [
              "<div>\n",
              "<style scoped>\n",
              "    .dataframe tbody tr th:only-of-type {\n",
              "        vertical-align: middle;\n",
              "    }\n",
              "\n",
              "    .dataframe tbody tr th {\n",
              "        vertical-align: top;\n",
              "    }\n",
              "\n",
              "    .dataframe thead th {\n",
              "        text-align: right;\n",
              "    }\n",
              "</style>\n",
              "<table border=\"1\" class=\"dataframe\">\n",
              "  <thead>\n",
              "    <tr style=\"text-align: right;\">\n",
              "      <th></th>\n",
              "      <th>underlyings_price</th>\n",
              "      <th>rho</th>\n",
              "      <th>days_to_maturity</th>\n",
              "      <th>strike</th>\n",
              "      <th>volatility</th>\n",
              "      <th>mean_volatility</th>\n",
              "      <th>reversion</th>\n",
              "      <th>vol_of_var</th>\n",
              "      <th>rate</th>\n",
              "    </tr>\n",
              "  </thead>\n",
              "  <tbody>\n",
              "    <tr>\n",
              "      <th>0</th>\n",
              "      <td>[5.609299926757813, 4.368099975585937, 4.71720...</td>\n",
              "      <td>[-0.2568167516127495, -0.23752191383923893, -0...</td>\n",
              "      <td>52.0</td>\n",
              "      <td>4.5</td>\n",
              "      <td>0.023013</td>\n",
              "      <td>0.030609</td>\n",
              "      <td>4.954257</td>\n",
              "      <td>0.544072</td>\n",
              "      <td>0.002241</td>\n",
              "    </tr>\n",
              "    <tr>\n",
              "      <th>1</th>\n",
              "      <td>[20.101500244140624, 15.8725, 16.3272497558593...</td>\n",
              "      <td>[-0.08101871895986272, -0.1380695985531425, -0...</td>\n",
              "      <td>77.0</td>\n",
              "      <td>5.6</td>\n",
              "      <td>0.005833</td>\n",
              "      <td>0.024173</td>\n",
              "      <td>0.540823</td>\n",
              "      <td>0.094257</td>\n",
              "      <td>0.052515</td>\n",
              "    </tr>\n",
              "    <tr>\n",
              "      <th>2</th>\n",
              "      <td>[38.08570068359375, 15.52262939453125, 16.3605...</td>\n",
              "      <td>[-0.10745472257478458, -0.23401761775111257, -...</td>\n",
              "      <td>121.0</td>\n",
              "      <td>11.0</td>\n",
              "      <td>0.050875</td>\n",
              "      <td>0.038243</td>\n",
              "      <td>3.996658</td>\n",
              "      <td>0.693612</td>\n",
              "      <td>0.007357</td>\n",
              "    </tr>\n",
              "    <tr>\n",
              "      <th>3</th>\n",
              "      <td>[4.387200012207031, 14.4225, 4.638200073242188...</td>\n",
              "      <td>[-0.10593952858004502, -0.4332986887223966, -0...</td>\n",
              "      <td>106.0</td>\n",
              "      <td>71.5</td>\n",
              "      <td>0.002178</td>\n",
              "      <td>0.016408</td>\n",
              "      <td>2.74288</td>\n",
              "      <td>0.328159</td>\n",
              "      <td>0.012324</td>\n",
              "    </tr>\n",
              "    <tr>\n",
              "      <th>4</th>\n",
              "      <td>[418.42, 15.706500244140624, 13.83112060546875...</td>\n",
              "      <td>[-0.7393055687670563, -0.2063186248118251, -0....</td>\n",
              "      <td>147.0</td>\n",
              "      <td>16.75</td>\n",
              "      <td>0.020151</td>\n",
              "      <td>0.002684</td>\n",
              "      <td>2.537333</td>\n",
              "      <td>0.564929</td>\n",
              "      <td>0.007098</td>\n",
              "    </tr>\n",
              "  </tbody>\n",
              "</table>\n",
              "</div>"
            ],
            "text/plain": [
              "                                   underlyings_price  \\\n",
              "0  [5.609299926757813, 4.368099975585937, 4.71720...   \n",
              "1  [20.101500244140624, 15.8725, 16.3272497558593...   \n",
              "2  [38.08570068359375, 15.52262939453125, 16.3605...   \n",
              "3  [4.387200012207031, 14.4225, 4.638200073242188...   \n",
              "4  [418.42, 15.706500244140624, 13.83112060546875...   \n",
              "\n",
              "                                                 rho days_to_maturity strike  \\\n",
              "0  [-0.2568167516127495, -0.23752191383923893, -0...             52.0    4.5   \n",
              "1  [-0.08101871895986272, -0.1380695985531425, -0...             77.0    5.6   \n",
              "2  [-0.10745472257478458, -0.23401761775111257, -...            121.0   11.0   \n",
              "3  [-0.10593952858004502, -0.4332986887223966, -0...            106.0   71.5   \n",
              "4  [-0.7393055687670563, -0.2063186248118251, -0....            147.0  16.75   \n",
              "\n",
              "  volatility mean_volatility reversion vol_of_var      rate  \n",
              "0   0.023013        0.030609  4.954257   0.544072  0.002241  \n",
              "1   0.005833        0.024173  0.540823   0.094257  0.052515  \n",
              "2   0.050875        0.038243  3.996658   0.693612  0.007357  \n",
              "3   0.002178        0.016408   2.74288   0.328159  0.012324  \n",
              "4   0.020151        0.002684  2.537333   0.564929  0.007098  "
            ]
          },
          "execution_count": 7,
          "metadata": {},
          "output_type": "execute_result"
        }
      ],
      "source": [
        "dim  = 7     # Dimension of basket (number of stocks)\n",
        "num_samples = 1000\n",
        "inputs_array = generate_inputs_nn(df, dim, num_samples)\n",
        "inputs = pd.DataFrame(inputs_array, columns = ['underlyings_price', 'rho', 'days_to_maturity', \n",
        "                        'strike', 'volatility','mean_volatility','reversion', 'vol_of_var','rate'])\n",
        "print(inputs.shape)\n",
        "inputs.head()"
      ]
    },
    {
      "cell_type": "markdown",
      "metadata": {
        "id": "4yuSTbWGnZ1b"
      },
      "source": [
        "### Test the scalar case"
      ]
    },
    {
      "cell_type": "code",
      "execution_count": 8,
      "metadata": {
        "colab": {
          "base_uri": "https://localhost:8080/"
        },
        "id": "socISjcsxat5",
        "outputId": "61982fed-1d16-425d-8a3b-d00e9d51d188"
      },
      "outputs": [
        {
          "name": "stdout",
          "output_type": "stream",
          "text": [
            "The scalar result is 6.501285395822575\n"
          ]
        }
      ],
      "source": [
        "S_0   = inputs['underlyings_price'].values[0] \n",
        "v_0   = inputs['volatility'].values[0] \n",
        "r     = inputs['rate'].values[0] \n",
        "theta = inputs['mean_volatility'].values[0] \n",
        "kappa = inputs['reversion'].values[0] \n",
        "xi    = inputs['vol_of_var'].values[0] \n",
        "K     = inputs['strike'].values[0] \n",
        "rho   = inputs['rho'].values[0] \n",
        "T     = inputs['days_to_maturity'].values[0] \n",
        "\n",
        "scalar_result = generate_heston_paths_test(S_0, T, K, r, kappa, theta, v_0, rho, xi, \n",
        "                          100, 1000)\n",
        "print(f\"The scalar result is {scalar_result}\")"
      ]
    },
    {
      "cell_type": "markdown",
      "metadata": {
        "id": "gFRYVHywbdNO"
      },
      "source": [
        "### Test the vector case"
      ]
    },
    {
      "cell_type": "code",
      "execution_count": 9,
      "metadata": {},
      "outputs": [
        {
          "data": {
            "text/plain": [
              "array(['days_to_maturity', 'strike', 'volatility', 'mean_volatility',\n",
              "       'reversion', 'vol_of_var', 'rate'], dtype=object)"
            ]
          },
          "execution_count": 9,
          "metadata": {},
          "output_type": "execute_result"
        }
      ],
      "source": [
        "inputs.columns.values[2:]"
      ]
    },
    {
      "cell_type": "code",
      "execution_count": 10,
      "metadata": {
        "colab": {
          "base_uri": "https://localhost:8080/"
        },
        "id": "6rjfa8uTbfzH",
        "outputId": "eea0b5ed-9720-4e44-8081-43f62315be08"
      },
      "outputs": [
        {
          "name": "stdout",
          "output_type": "stream",
          "text": [
            "The vector result is 6.391481383863025\n",
            "The shape of the result is (1000,)\n",
            "Time taken is 39.34797811508179 seconds\n"
          ]
        }
      ],
      "source": [
        "begin = time.time()\n",
        "result = generate_heston_paths_vec(inputs, num_samples, steps=100, num_sims=1000)\n",
        "end = time.time()\n",
        "print(f\"The vector result is {result[0]}\")\n",
        "print(f\"The shape of the result is {result.shape}\")\n",
        "print(f\"Time taken is {end-begin} seconds\")"
      ]
    },
    {
      "cell_type": "markdown",
      "metadata": {
        "id": "ApB6KPxOoN6W"
      },
      "source": [
        "We can see that the first element of `generate_heston_paths_vec` is approximately the same as `generate_heston_paths`. This verified that our models are correct."
      ]
    },
    {
      "cell_type": "markdown",
      "metadata": {},
      "source": [
        "## Processing  \n",
        "\n",
        "We now make the dataframe into the desired form for training the neural network"
      ]
    },
    {
      "cell_type": "code",
      "execution_count": 11,
      "metadata": {},
      "outputs": [
        {
          "data": {
            "text/html": [
              "<div>\n",
              "<style scoped>\n",
              "    .dataframe tbody tr th:only-of-type {\n",
              "        vertical-align: middle;\n",
              "    }\n",
              "\n",
              "    .dataframe tbody tr th {\n",
              "        vertical-align: top;\n",
              "    }\n",
              "\n",
              "    .dataframe thead th {\n",
              "        text-align: right;\n",
              "    }\n",
              "</style>\n",
              "<table border=\"1\" class=\"dataframe\">\n",
              "  <thead>\n",
              "    <tr style=\"text-align: right;\">\n",
              "      <th></th>\n",
              "      <th>days_to_maturity</th>\n",
              "      <th>strike</th>\n",
              "      <th>volatility</th>\n",
              "      <th>mean_volatility</th>\n",
              "      <th>reversion</th>\n",
              "      <th>vol_of_var</th>\n",
              "      <th>rate</th>\n",
              "      <th>contract_price</th>\n",
              "      <th>Underlying_0</th>\n",
              "      <th>Underlying_1</th>\n",
              "      <th>...</th>\n",
              "      <th>Underlying_4</th>\n",
              "      <th>Underlying_5</th>\n",
              "      <th>Underlying_6</th>\n",
              "      <th>Rho_0</th>\n",
              "      <th>Rho_1</th>\n",
              "      <th>Rho_2</th>\n",
              "      <th>Rho_3</th>\n",
              "      <th>Rho_4</th>\n",
              "      <th>Rho_5</th>\n",
              "      <th>Rho_6</th>\n",
              "    </tr>\n",
              "  </thead>\n",
              "  <tbody>\n",
              "    <tr>\n",
              "      <th>0</th>\n",
              "      <td>52.0</td>\n",
              "      <td>4.50</td>\n",
              "      <td>0.023013</td>\n",
              "      <td>0.030609</td>\n",
              "      <td>4.954257</td>\n",
              "      <td>0.544072</td>\n",
              "      <td>0.002241</td>\n",
              "      <td>6.391481</td>\n",
              "      <td>5.609300</td>\n",
              "      <td>4.368100</td>\n",
              "      <td>...</td>\n",
              "      <td>5.508500</td>\n",
              "      <td>14.125000</td>\n",
              "      <td>21.507500</td>\n",
              "      <td>-0.256817</td>\n",
              "      <td>-0.237522</td>\n",
              "      <td>-0.519130</td>\n",
              "      <td>-0.672251</td>\n",
              "      <td>-0.147610</td>\n",
              "      <td>-0.472888</td>\n",
              "      <td>-0.576727</td>\n",
              "    </tr>\n",
              "    <tr>\n",
              "      <th>1</th>\n",
              "      <td>77.0</td>\n",
              "      <td>5.60</td>\n",
              "      <td>0.005833</td>\n",
              "      <td>0.024173</td>\n",
              "      <td>0.540823</td>\n",
              "      <td>0.094257</td>\n",
              "      <td>0.052515</td>\n",
              "      <td>10.890161</td>\n",
              "      <td>20.101500</td>\n",
              "      <td>15.872500</td>\n",
              "      <td>...</td>\n",
              "      <td>5.097700</td>\n",
              "      <td>5.433400</td>\n",
              "      <td>4.833900</td>\n",
              "      <td>-0.081019</td>\n",
              "      <td>-0.138070</td>\n",
              "      <td>-0.496760</td>\n",
              "      <td>-0.608802</td>\n",
              "      <td>-0.737819</td>\n",
              "      <td>-0.317828</td>\n",
              "      <td>-0.268578</td>\n",
              "    </tr>\n",
              "    <tr>\n",
              "      <th>2</th>\n",
              "      <td>121.0</td>\n",
              "      <td>11.00</td>\n",
              "      <td>0.050875</td>\n",
              "      <td>0.038243</td>\n",
              "      <td>3.996658</td>\n",
              "      <td>0.693612</td>\n",
              "      <td>0.007357</td>\n",
              "      <td>33.197303</td>\n",
              "      <td>38.085701</td>\n",
              "      <td>15.522629</td>\n",
              "      <td>...</td>\n",
              "      <td>56.716001</td>\n",
              "      <td>11.949399</td>\n",
              "      <td>56.777002</td>\n",
              "      <td>-0.107455</td>\n",
              "      <td>-0.234018</td>\n",
              "      <td>-0.140495</td>\n",
              "      <td>-0.125982</td>\n",
              "      <td>-0.530276</td>\n",
              "      <td>-0.074410</td>\n",
              "      <td>-0.245753</td>\n",
              "    </tr>\n",
              "    <tr>\n",
              "      <th>3</th>\n",
              "      <td>106.0</td>\n",
              "      <td>71.50</td>\n",
              "      <td>0.002178</td>\n",
              "      <td>0.016408</td>\n",
              "      <td>2.742880</td>\n",
              "      <td>0.328159</td>\n",
              "      <td>0.012324</td>\n",
              "      <td>2.912927</td>\n",
              "      <td>4.387200</td>\n",
              "      <td>14.422500</td>\n",
              "      <td>...</td>\n",
              "      <td>5.460200</td>\n",
              "      <td>13.073130</td>\n",
              "      <td>6.700000</td>\n",
              "      <td>-0.105940</td>\n",
              "      <td>-0.433299</td>\n",
              "      <td>-0.684673</td>\n",
              "      <td>-0.409936</td>\n",
              "      <td>-0.720678</td>\n",
              "      <td>-0.226944</td>\n",
              "      <td>-0.711910</td>\n",
              "    </tr>\n",
              "    <tr>\n",
              "      <th>4</th>\n",
              "      <td>147.0</td>\n",
              "      <td>16.75</td>\n",
              "      <td>0.020151</td>\n",
              "      <td>0.002684</td>\n",
              "      <td>2.537333</td>\n",
              "      <td>0.564929</td>\n",
              "      <td>0.007098</td>\n",
              "      <td>56.492795</td>\n",
              "      <td>418.420000</td>\n",
              "      <td>15.706500</td>\n",
              "      <td>...</td>\n",
              "      <td>4.235600</td>\n",
              "      <td>5.549500</td>\n",
              "      <td>20.665750</td>\n",
              "      <td>-0.739306</td>\n",
              "      <td>-0.206319</td>\n",
              "      <td>-0.599167</td>\n",
              "      <td>-0.557574</td>\n",
              "      <td>-0.079290</td>\n",
              "      <td>-0.262978</td>\n",
              "      <td>-0.103366</td>\n",
              "    </tr>\n",
              "  </tbody>\n",
              "</table>\n",
              "<p>5 rows × 22 columns</p>\n",
              "</div>"
            ],
            "text/plain": [
              "   days_to_maturity  strike  volatility  mean_volatility  reversion  \\\n",
              "0              52.0    4.50    0.023013         0.030609   4.954257   \n",
              "1              77.0    5.60    0.005833         0.024173   0.540823   \n",
              "2             121.0   11.00    0.050875         0.038243   3.996658   \n",
              "3             106.0   71.50    0.002178         0.016408   2.742880   \n",
              "4             147.0   16.75    0.020151         0.002684   2.537333   \n",
              "\n",
              "   vol_of_var      rate  contract_price  Underlying_0  Underlying_1  ...  \\\n",
              "0    0.544072  0.002241        6.391481      5.609300      4.368100  ...   \n",
              "1    0.094257  0.052515       10.890161     20.101500     15.872500  ...   \n",
              "2    0.693612  0.007357       33.197303     38.085701     15.522629  ...   \n",
              "3    0.328159  0.012324        2.912927      4.387200     14.422500  ...   \n",
              "4    0.564929  0.007098       56.492795    418.420000     15.706500  ...   \n",
              "\n",
              "   Underlying_4  Underlying_5  Underlying_6     Rho_0     Rho_1     Rho_2  \\\n",
              "0      5.508500     14.125000     21.507500 -0.256817 -0.237522 -0.519130   \n",
              "1      5.097700      5.433400      4.833900 -0.081019 -0.138070 -0.496760   \n",
              "2     56.716001     11.949399     56.777002 -0.107455 -0.234018 -0.140495   \n",
              "3      5.460200     13.073130      6.700000 -0.105940 -0.433299 -0.684673   \n",
              "4      4.235600      5.549500     20.665750 -0.739306 -0.206319 -0.599167   \n",
              "\n",
              "      Rho_3     Rho_4     Rho_5     Rho_6  \n",
              "0 -0.672251 -0.147610 -0.472888 -0.576727  \n",
              "1 -0.608802 -0.737819 -0.317828 -0.268578  \n",
              "2 -0.125982 -0.530276 -0.074410 -0.245753  \n",
              "3 -0.409936 -0.720678 -0.226944 -0.711910  \n",
              "4 -0.557574 -0.079290 -0.262978 -0.103366  \n",
              "\n",
              "[5 rows x 22 columns]"
            ]
          },
          "execution_count": 11,
          "metadata": {},
          "output_type": "execute_result"
        }
      ],
      "source": [
        "inputs['contract_price'] = result\n",
        "inputs = flattenDim(7, inputs)\n",
        "inputs.head()"
      ]
    },
    {
      "cell_type": "code",
      "execution_count": 12,
      "metadata": {},
      "outputs": [],
      "source": [
        "# uncomment to save the data\n",
        "#inputs.to_csv(os.path.join(parent_path, f'data/small_basket_data_{dim}.csv'))"
      ]
    },
    {
      "cell_type": "markdown",
      "metadata": {},
      "source": [
        "Generate dataframe for each required dimension and store it:"
      ]
    },
    {
      "cell_type": "code",
      "execution_count": 23,
      "metadata": {},
      "outputs": [],
      "source": [
        "dims = [1, 4, 7, 10, 13, 16]\n",
        "generate_and_store(df, dims, 1000, store_time = True, store_data=True)"
      ]
    },
    {
      "cell_type": "code",
      "execution_count": 22,
      "metadata": {},
      "outputs": [],
      "source": [
        "generate_and_store(df, dims, 50, store_time = True, store_data=True)"
      ]
    }
  ],
  "metadata": {
    "colab": {
      "collapsed_sections": [],
      "provenance": []
    },
    "kernelspec": {
      "display_name": "Python 3.9.7",
      "language": "python",
      "name": "python3"
    },
    "language_info": {
      "codemirror_mode": {
        "name": "ipython",
        "version": 3
      },
      "file_extension": ".py",
      "mimetype": "text/x-python",
      "name": "python",
      "nbconvert_exporter": "python",
      "pygments_lexer": "ipython3",
      "version": "3.9.7"
    },
    "vscode": {
      "interpreter": {
        "hash": "c5c01fc7f2c09a7ff055bf7d223c0e3ccc523ed1043413d7a6c1ecb70918dda6"
      }
    }
  },
  "nbformat": 4,
  "nbformat_minor": 0
}
