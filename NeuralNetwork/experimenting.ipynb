{
 "cells": [
  {
   "cell_type": "markdown",
   "metadata": {},
   "source": [
    "# Testing the implementation"
   ]
  },
  {
   "cell_type": "code",
   "execution_count": 1,
   "metadata": {},
   "outputs": [
    {
     "name": "stderr",
     "output_type": "stream",
     "text": [
      "/Users/customer/miniforge3/lib/python3.9/site-packages/tqdm/auto.py:22: TqdmWarning: IProgress not found. Please update jupyter and ipywidgets. See https://ipywidgets.readthedocs.io/en/stable/user_install.html\n",
      "  from .autonotebook import tqdm as notebook_tqdm\n"
     ]
    }
   ],
   "source": [
    "import os\n",
    "import gzip\n",
    "import pathlib\n",
    "import numpy as np\n",
    "import pandas as pd\n",
    "import tensorflow as tf\n",
    "import keras_tuner as kt\n",
    "import tensorflow_datasets as tfds\n",
    "\n",
    "from models import *\n",
    "from trainer import *\n",
    "from preprocess import *\n",
    "from callbacks import *"
   ]
  },
  {
   "cell_type": "markdown",
   "metadata": {},
   "source": [
    "## 0 Data"
   ]
  },
  {
   "cell_type": "code",
   "execution_count": 2,
   "metadata": {},
   "outputs": [
    {
     "data": {
      "text/html": [
       "<div>\n",
       "<style scoped>\n",
       "    .dataframe tbody tr th:only-of-type {\n",
       "        vertical-align: middle;\n",
       "    }\n",
       "\n",
       "    .dataframe tbody tr th {\n",
       "        vertical-align: top;\n",
       "    }\n",
       "\n",
       "    .dataframe thead th {\n",
       "        text-align: right;\n",
       "    }\n",
       "</style>\n",
       "<table border=\"1\" class=\"dataframe\">\n",
       "  <thead>\n",
       "    <tr style=\"text-align: right;\">\n",
       "      <th></th>\n",
       "      <th>optionid</th>\n",
       "      <th>securityid</th>\n",
       "      <th>strike</th>\n",
       "      <th>callput</th>\n",
       "      <th>date_traded</th>\n",
       "      <th>contract_price</th>\n",
       "      <th>market_price</th>\n",
       "      <th>underlyings_price</th>\n",
       "      <th>contract_volume</th>\n",
       "      <th>days_to_maturity</th>\n",
       "      <th>moneyness</th>\n",
       "      <th>rate</th>\n",
       "      <th>volatility</th>\n",
       "    </tr>\n",
       "  </thead>\n",
       "  <tbody>\n",
       "    <tr>\n",
       "      <th>18812</th>\n",
       "      <td>150044566.0</td>\n",
       "      <td>506534.0</td>\n",
       "      <td>4.00</td>\n",
       "      <td>C</td>\n",
       "      <td>2006-01-19</td>\n",
       "      <td>0.3850</td>\n",
       "      <td>0.38200</td>\n",
       "      <td>4.77470</td>\n",
       "      <td>6.0</td>\n",
       "      <td>148.0</td>\n",
       "      <td>1.193675</td>\n",
       "      <td>0.047639</td>\n",
       "      <td>0.368776</td>\n",
       "    </tr>\n",
       "    <tr>\n",
       "      <th>11330</th>\n",
       "      <td>150374157.0</td>\n",
       "      <td>506534.0</td>\n",
       "      <td>5.10</td>\n",
       "      <td>C</td>\n",
       "      <td>2007-01-25</td>\n",
       "      <td>0.0705</td>\n",
       "      <td>0.07150</td>\n",
       "      <td>5.03030</td>\n",
       "      <td>435.0</td>\n",
       "      <td>50.0</td>\n",
       "      <td>0.986333</td>\n",
       "      <td>0.053997</td>\n",
       "      <td>0.105159</td>\n",
       "    </tr>\n",
       "    <tr>\n",
       "      <th>11560</th>\n",
       "      <td>155057994.0</td>\n",
       "      <td>701057.0</td>\n",
       "      <td>450.00</td>\n",
       "      <td>C</td>\n",
       "      <td>2006-12-28</td>\n",
       "      <td>0.2000</td>\n",
       "      <td>0.25000</td>\n",
       "      <td>414.01000</td>\n",
       "      <td>11.0</td>\n",
       "      <td>78.0</td>\n",
       "      <td>0.920022</td>\n",
       "      <td>0.054046</td>\n",
       "      <td>0.129193</td>\n",
       "    </tr>\n",
       "    <tr>\n",
       "      <th>9701</th>\n",
       "      <td>150256898.0</td>\n",
       "      <td>506534.0</td>\n",
       "      <td>4.65</td>\n",
       "      <td>C</td>\n",
       "      <td>2006-11-06</td>\n",
       "      <td>0.3005</td>\n",
       "      <td>0.31875</td>\n",
       "      <td>4.94060</td>\n",
       "      <td>13.0</td>\n",
       "      <td>39.0</td>\n",
       "      <td>1.062495</td>\n",
       "      <td>0.054198</td>\n",
       "      <td>0.087583</td>\n",
       "    </tr>\n",
       "    <tr>\n",
       "      <th>47091</th>\n",
       "      <td>153775435.0</td>\n",
       "      <td>702263.0</td>\n",
       "      <td>11.60</td>\n",
       "      <td>C</td>\n",
       "      <td>2013-03-04</td>\n",
       "      <td>0.2700</td>\n",
       "      <td>0.29875</td>\n",
       "      <td>11.99125</td>\n",
       "      <td>200.0</td>\n",
       "      <td>74.0</td>\n",
       "      <td>1.033728</td>\n",
       "      <td>0.002703</td>\n",
       "      <td>0.129568</td>\n",
       "    </tr>\n",
       "  </tbody>\n",
       "</table>\n",
       "</div>"
      ],
      "text/plain": [
       "          optionid  securityid  strike callput date_traded  contract_price  \\\n",
       "18812  150044566.0    506534.0    4.00       C  2006-01-19          0.3850   \n",
       "11330  150374157.0    506534.0    5.10       C  2007-01-25          0.0705   \n",
       "11560  155057994.0    701057.0  450.00       C  2006-12-28          0.2000   \n",
       "9701   150256898.0    506534.0    4.65       C  2006-11-06          0.3005   \n",
       "47091  153775435.0    702263.0   11.60       C  2013-03-04          0.2700   \n",
       "\n",
       "       market_price  underlyings_price  contract_volume  days_to_maturity  \\\n",
       "18812       0.38200            4.77470              6.0             148.0   \n",
       "11330       0.07150            5.03030            435.0              50.0   \n",
       "11560       0.25000          414.01000             11.0              78.0   \n",
       "9701        0.31875            4.94060             13.0              39.0   \n",
       "47091       0.29875           11.99125            200.0              74.0   \n",
       "\n",
       "       moneyness      rate  volatility  \n",
       "18812   1.193675  0.047639    0.368776  \n",
       "11330   0.986333  0.053997    0.105159  \n",
       "11560   0.920022  0.054046    0.129193  \n",
       "9701    1.062495  0.054198    0.087583  \n",
       "47091   1.033728  0.002703    0.129568  "
      ]
     },
     "execution_count": 2,
     "metadata": {},
     "output_type": "execute_result"
    }
   ],
   "source": [
    "parent_path = str(pathlib.Path(os.getcwd()).parent)\n",
    "df = pd.read_csv(os.path.join(parent_path, 'data/data.csv'))\n",
    "df = df.drop(['Unnamed: 0'], axis=1)\n",
    "df.sample(5)"
   ]
  },
  {
   "cell_type": "markdown",
   "metadata": {},
   "source": [
    "Create the first neueral network that uses the same set of inputs as the *Black-Scholes model*"
   ]
  },
  {
   "cell_type": "code",
   "execution_count": 3,
   "metadata": {},
   "outputs": [],
   "source": [
    "dataframe_BS = np.vstack((df['strike'].values,\n",
    "                      df['underlyings_price'].values,\n",
    "                      df['days_to_maturity'].values,\n",
    "                      df['volatility'].values,\n",
    "                      df['rate'].values,\n",
    "                      df['contract_price'].values)).T                "
   ]
  },
  {
   "cell_type": "code",
   "execution_count": 4,
   "metadata": {},
   "outputs": [
    {
     "name": "stdout",
     "output_type": "stream",
     "text": [
      "(85999, 6) (10750, 6) (10750, 6)\n",
      "Metal device set to: Apple M1\n",
      "\n",
      "systemMemory: 8.00 GB\n",
      "maxCacheSize: 2.67 GB\n",
      "\n",
      "(85999, 6) (10750, 6) (10750, 6)\n"
     ]
    },
    {
     "name": "stderr",
     "output_type": "stream",
     "text": [
      "2022-09-01 19:40:19.781599: I tensorflow/core/common_runtime/pluggable_device/pluggable_device_factory.cc:305] Could not identify NUMA node of platform GPU ID 0, defaulting to 0. Your kernel may not have been built with NUMA support.\n",
      "2022-09-01 19:40:19.781754: I tensorflow/core/common_runtime/pluggable_device/pluggable_device_factory.cc:271] Created TensorFlow device (/job:localhost/replica:0/task:0/device:GPU:0 with 0 MB memory) -> physical PluggableDevice (device: 0, name: METAL, pci bus id: <undefined>)\n"
     ]
    }
   ],
   "source": [
    "train_ds, valid_ds, test_ds = pipeline1(dataframe_BS, scaling=False)\n",
    "\n",
    "train_copy, valid_copy, test_copy = pipeline1(dataframe_BS, prefetch=False)"
   ]
  },
  {
   "cell_type": "markdown",
   "metadata": {},
   "source": [
    "## 1 Start training"
   ]
  },
  {
   "cell_type": "markdown",
   "metadata": {},
   "source": [
    "Define some parameters"
   ]
  },
  {
   "cell_type": "code",
   "execution_count": 5,
   "metadata": {},
   "outputs": [
    {
     "name": "stdout",
     "output_type": "stream",
     "text": [
      "Model: \"model\"\n",
      "_________________________________________________________________\n",
      " Layer (type)                Output Shape              Param #   \n",
      "=================================================================\n",
      " input_1 (InputLayer)        [(None, 5)]               0         \n",
      "                                                                 \n",
      " flatten (Flatten)           (None, 5)                 0         \n",
      "                                                                 \n",
      " dense (Dense)               (None, 14)                84        \n",
      "                                                                 \n",
      " batch_normalization (BatchN  (None, 14)               56        \n",
      " ormalization)                                                   \n",
      "                                                                 \n",
      " dense_1 (Dense)             (None, 14)                210       \n",
      "                                                                 \n",
      " batch_normalization_1 (Batc  (None, 14)               56        \n",
      " hNormalization)                                                 \n",
      "                                                                 \n",
      " dense_2 (Dense)             (None, 14)                210       \n",
      "                                                                 \n",
      " batch_normalization_2 (Batc  (None, 14)               56        \n",
      " hNormalization)                                                 \n",
      "                                                                 \n",
      " dense_3 (Dense)             (None, 1)                 15        \n",
      "                                                                 \n",
      "=================================================================\n",
      "Total params: 687\n",
      "Trainable params: 603\n",
      "Non-trainable params: 84\n",
      "_________________________________________________________________\n"
     ]
    }
   ],
   "source": [
    "print_num_epochs = 5 # print progress every print_num_epochs epochs\n",
    "\n",
    "path_to_save = os.path.join(parent_path, 'NeuralNetwork/models/')  # path to save the model\n",
    "\n",
    "patience = 10  \n",
    "\n",
    "optimizer = tf.keras.optimizers.Adam(learning_rate=0.001)\n",
    "\n",
    "loss = tf.keras.losses.MeanAbsoluteError(name='loss')\n",
    "\n",
    "metrics = tf.keras.metrics.MeanAbsolutePercentageError(name='accuracy')\n",
    "\n",
    "num_epochs = 10  \n",
    "\n",
    "input_shape = (5,)\n",
    "\n",
    "num_layers = 3\n",
    "\n",
    "hidden_units = [14, 14, 14]\n",
    "\n",
    "output_shape = (1, )\n",
    "\n",
    "batchnorm = True  \n",
    "\n",
    "dropout = None\n",
    "\n",
    "model = getModel(input_shape = input_shape,\n",
    "                num_layers   = num_layers,\n",
    "                 hidden_units = hidden_units,\n",
    "                 output_shape = output_shape,\n",
    "                 batchnorm = batchnorm,\n",
    "                 dropout = dropout)\n",
    "model.summary()"
   ]
  },
  {
   "cell_type": "markdown",
   "metadata": {},
   "source": [
    "Define some callbacks  "
   ]
  },
  {
   "cell_type": "code",
   "execution_count": 6,
   "metadata": {},
   "outputs": [],
   "source": [
    "ckpt = CheckpointCallback(path_to_save)\n",
    "printing =PrintProgress(num_epochs=print_num_epochs)\n",
    "early_stop = tf.keras.callbacks.EarlyStopping(patience=patience, monitor='val_loss')\n",
    "callbacks = [ckpt, printing, early_stop]"
   ]
  },
  {
   "cell_type": "code",
   "execution_count": null,
   "metadata": {},
   "outputs": [],
   "source": [
    "history = compile_and_fit(model,\n",
    "                          optimizer,\n",
    "                          loss,\n",
    "                          num_epochs,\n",
    "                          train_ds,\n",
    "                          valid_ds,\n",
    "                          metrics,\n",
    "                          callbacks\n",
    "                          )"
   ]
  },
  {
   "cell_type": "markdown",
   "metadata": {},
   "source": [
    "# 1.1 Tuning the hyperparameters"
   ]
  },
  {
   "cell_type": "markdown",
   "metadata": {},
   "source": [
    "To tune the hyperparameter, we can use `keras_tuner`, which provides `RandomSearch`, `Hyperband`, and `BayesianSearch` methods for searching the best hyperparameters.  \n",
    "\n",
    "To get started, we only tune the number of layers and the hidden units in each layer first, then we tune with learning rate together."
   ]
  },
  {
   "cell_type": "code",
   "execution_count": 7,
   "metadata": {},
   "outputs": [],
   "source": [
    "import keras_tuner"
   ]
  },
  {
   "cell_type": "markdown",
   "metadata": {},
   "source": [
    "We initialize the `keras_tuner` object for tuning hyperparameters; currently, there are two hyper models implemented, `tuneLayer` and `tuneLR`"
   ]
  },
  {
   "cell_type": "code",
   "execution_count": 8,
   "metadata": {},
   "outputs": [
    {
     "name": "stdout",
     "output_type": "stream",
     "text": [
      "Search space summary\n",
      "Default search space size: 7\n",
      "num_layers (Int)\n",
      "{'default': None, 'conditions': [], 'min_value': 1, 'max_value': 5, 'step': 1, 'sampling': None}\n",
      "activation (Choice)\n",
      "{'default': 'elu', 'conditions': [], 'values': ['elu', 'tanh'], 'ordered': False}\n",
      "learning_rate (Float)\n",
      "{'default': 0.0001, 'conditions': [], 'min_value': 0.0001, 'max_value': 0.01, 'step': None, 'sampling': 'log'}\n",
      "rate_decay (Float)\n",
      "{'default': 0.85, 'conditions': [], 'min_value': 0.85, 'max_value': 0.9995, 'step': None, 'sampling': None}\n",
      "l1_coeff (Float)\n",
      "{'default': 1e-08, 'conditions': [], 'min_value': 1e-08, 'max_value': 3.162277660168379e-07, 'step': None, 'sampling': None}\n",
      "l2_coeff (Float)\n",
      "{'default': 1e-08, 'conditions': [], 'min_value': 1e-08, 'max_value': 3.162277660168379e-07, 'step': None, 'sampling': None}\n",
      "units_1 (Int)\n",
      "{'default': None, 'conditions': [], 'min_value': 5, 'max_value': 7, 'step': 1, 'sampling': None}\n"
     ]
    }
   ],
   "source": [
    "random_tuner = keras_tuner.RandomSearch(\n",
    "    hypermodel=tunedModel, # the hypermodel to tune # can be tuneLR or tuneLayer\n",
    "    objective=\"val_loss\", # the objective to optimize\n",
    "    max_trials=3, # the maximum number of trials to run\n",
    "    executions_per_trial=2, # the number of models generated on each trial\n",
    "    overwrite=True, # whether to overwrite previous trials\n",
    "    directory=\"hyperparams/RandomSearch\", # the directory to save the trials\n",
    "    project_name=\"1\", # the name of the project\n",
    ")  \n",
    "\n",
    "# get a summary of the range of hyperparameters to tune\n",
    "random_tuner.search_space_summary()"
   ]
  },
  {
   "cell_type": "code",
   "execution_count": 9,
   "metadata": {},
   "outputs": [
    {
     "name": "stdout",
     "output_type": "stream",
     "text": [
      "Trial 3 Complete [00h 01m 13s]\n",
      "val_loss: 44.001516342163086\n",
      "\n",
      "Best val_loss So Far: 39.983163833618164\n",
      "Total elapsed time: 00h 04m 27s\n",
      "INFO:tensorflow:Oracle triggered exit\n"
     ]
    }
   ],
   "source": [
    "# start the search\n",
    "random_tuner.search(train_ds, epochs = 2, validation_data = valid_ds)    "
   ]
  },
  {
   "cell_type": "markdown",
   "metadata": {},
   "source": [
    "Get the best compiled models"
   ]
  },
  {
   "cell_type": "code",
   "execution_count": 10,
   "metadata": {},
   "outputs": [
    {
     "name": "stdout",
     "output_type": "stream",
     "text": [
      "Model: \"model\"\n",
      "_________________________________________________________________\n",
      " Layer (type)                Output Shape              Param #   \n",
      "=================================================================\n",
      " input_1 (InputLayer)        [(None, 5)]               0         \n",
      "                                                                 \n",
      " flatten (Flatten)           (None, 5)                 0         \n",
      "                                                                 \n",
      " dense (Dense)               (None, 6)                 36        \n",
      "                                                                 \n",
      " dense_1 (Dense)             (None, 6)                 42        \n",
      "                                                                 \n",
      " dense_2 (Dense)             (None, 6)                 42        \n",
      "                                                                 \n",
      " dense_3 (Dense)             (None, 5)                 35        \n",
      "                                                                 \n",
      " dense_4 (Dense)             (None, 1)                 6         \n",
      "                                                                 \n",
      "=================================================================\n",
      "Total params: 161\n",
      "Trainable params: 161\n",
      "Non-trainable params: 0\n",
      "_________________________________________________________________\n"
     ]
    }
   ],
   "source": [
    "models = random_tuner.get_best_models(num_models=1)\n",
    "best_model = models[0]\n",
    "\n",
    "best_model.summary()"
   ]
  },
  {
   "cell_type": "markdown",
   "metadata": {},
   "source": [
    "We can view the results of the search and use the hyperparameters displayed to train the model."
   ]
  },
  {
   "cell_type": "code",
   "execution_count": 11,
   "metadata": {},
   "outputs": [
    {
     "name": "stdout",
     "output_type": "stream",
     "text": [
      "Results summary\n",
      "Results in hyperparams/RandomSearch/1\n",
      "Showing 10 best trials\n",
      "<keras_tuner.engine.objective.Objective object at 0x17ba756d0>\n",
      "Trial summary\n",
      "Hyperparameters:\n",
      "num_layers: 4\n",
      "activation: elu\n",
      "learning_rate: 0.0016288864664974797\n",
      "rate_decay: 0.9173374660739638\n",
      "l1_coeff: 1.42192594929355e-07\n",
      "l2_coeff: 3.659583114428574e-08\n",
      "units_1: 6\n",
      "units_2: 6\n",
      "units_3: 6\n",
      "units_4: 5\n",
      "Score: 39.983163833618164\n",
      "Trial summary\n",
      "Hyperparameters:\n",
      "num_layers: 3\n",
      "activation: tanh\n",
      "learning_rate: 0.001023588238883239\n",
      "rate_decay: 0.9343507716282039\n",
      "l1_coeff: 1.0050528182507988e-07\n",
      "l2_coeff: 4.591369951915932e-08\n",
      "units_1: 6\n",
      "units_2: 7\n",
      "units_3: 7\n",
      "units_4: 5\n",
      "Score: 44.001516342163086\n",
      "Trial summary\n",
      "Hyperparameters:\n",
      "num_layers: 3\n",
      "activation: tanh\n",
      "learning_rate: 0.0008458403820081236\n",
      "rate_decay: 0.8727872979789447\n",
      "l1_coeff: 1.4061275790324222e-07\n",
      "l2_coeff: 2.6722175775868732e-08\n",
      "units_1: 5\n",
      "units_2: 5\n",
      "units_3: 5\n",
      "Score: 44.31102752685547\n"
     ]
    }
   ],
   "source": [
    "random_tuner.results_summary()"
   ]
  },
  {
   "cell_type": "markdown",
   "metadata": {},
   "source": [
    "Now train the best model obtained"
   ]
  },
  {
   "cell_type": "code",
   "execution_count": 12,
   "metadata": {},
   "outputs": [
    {
     "name": "stdout",
     "output_type": "stream",
     "text": [
      "Epoch 1/5\n",
      "   6/2688 [..............................] - ETA: 29s - loss: 38.4511 - mean_squared_error: 0.0099  "
     ]
    },
    {
     "name": "stderr",
     "output_type": "stream",
     "text": [
      "2022-09-01 19:47:48.983083: I tensorflow/core/grappler/optimizers/custom_graph_optimizer_registry.cc:113] Plugin optimizer for device_type GPU is enabled.\n"
     ]
    },
    {
     "name": "stdout",
     "output_type": "stream",
     "text": [
      "2686/2688 [============================>.] - ETA: 0s - loss: 36.7604 - mean_squared_error: 0.0084"
     ]
    },
    {
     "name": "stderr",
     "output_type": "stream",
     "text": [
      "2022-09-01 19:48:17.878414: I tensorflow/core/grappler/optimizers/custom_graph_optimizer_registry.cc:113] Plugin optimizer for device_type GPU is enabled.\n"
     ]
    },
    {
     "name": "stdout",
     "output_type": "stream",
     "text": [
      "2688/2688 [==============================] - 31s 11ms/step - loss: 36.7566 - mean_squared_error: 0.0084 - val_loss: 32.2790 - val_mean_squared_error: 0.0069\n",
      "Epoch 2/5\n",
      "2688/2688 [==============================] - 31s 11ms/step - loss: 32.7288 - mean_squared_error: 0.0067 - val_loss: 31.4902 - val_mean_squared_error: 0.0052\n",
      "Epoch 3/5\n",
      "2688/2688 [==============================] - 31s 11ms/step - loss: 30.5293 - mean_squared_error: 0.0060 - val_loss: 29.6905 - val_mean_squared_error: 0.0056\n",
      "Epoch 4/5\n",
      "2688/2688 [==============================] - 31s 11ms/step - loss: 29.6575 - mean_squared_error: 0.0056 - val_loss: 28.7736 - val_mean_squared_error: 0.0050\n",
      "Epoch 5/5\n",
      "2688/2688 [==============================] - 31s 11ms/step - loss: 28.7102 - mean_squared_error: 0.0052 - val_loss: 27.8096 - val_mean_squared_error: 0.0050\n"
     ]
    },
    {
     "data": {
      "text/plain": [
       "<keras.callbacks.History at 0x171a9d940>"
      ]
     },
     "execution_count": 12,
     "metadata": {},
     "output_type": "execute_result"
    }
   ],
   "source": [
    "best_model.fit(train_ds, epochs = 5, validation_data = valid_ds)"
   ]
  },
  {
   "cell_type": "markdown",
   "metadata": {},
   "source": [
    "We also try `Hyperband` which generates a large number of models and discard them in a tournament style."
   ]
  },
  {
   "cell_type": "code",
   "execution_count": null,
   "metadata": {},
   "outputs": [],
   "source": [
    "band_tuner = keras_tuner.Hyperband(\n",
    "    hypermodel=tuneLR,\n",
    "    objective=\"val_loss\",\n",
    "    max_epochs=10,\n",
    "    factor=3,\n",
    "    directory=\"hyperparams/Hyperband\",\n",
    "    project_name=\"1\"\n",
    ")\n",
    "band_tuner.search_space_summary()\n",
    "band_tuner.search(train_ds, epochs = 2, validation_data = valid_ds)  "
   ]
  },
  {
   "cell_type": "code",
   "execution_count": null,
   "metadata": {},
   "outputs": [],
   "source": [
    "band_tuner.results_summary()"
   ]
  },
  {
   "cell_type": "markdown",
   "metadata": {},
   "source": [
    "Finally, we try `BayesianOptimization`."
   ]
  },
  {
   "cell_type": "code",
   "execution_count": null,
   "metadata": {},
   "outputs": [],
   "source": [
    "bayes_tuner = keras_tuner.BayesianOptimization(\n",
    "    hypermodel=tuneLR,\n",
    "    objective=\"val_loss\",\n",
    "    max_trials=3,\n",
    "    directory=\"hyperparams/BayesianOptimization\",\n",
    "    project_name=\"1\"\n",
    ")\n",
    "bayes_tuner.search_space_summary()\n",
    "bayes_tuner.search(train_ds, epochs = 2, validation_data = valid_ds) "
   ]
  },
  {
   "cell_type": "code",
   "execution_count": null,
   "metadata": {},
   "outputs": [],
   "source": [
    "bayes_tuner.results_summary()"
   ]
  },
  {
   "cell_type": "code",
   "execution_count": null,
   "metadata": {},
   "outputs": [],
   "source": []
  }
 ],
 "metadata": {
  "kernelspec": {
   "display_name": "Python 3.9.13 ('base')",
   "language": "python",
   "name": "python3"
  },
  "language_info": {
   "codemirror_mode": {
    "name": "ipython",
    "version": 3
   },
   "file_extension": ".py",
   "mimetype": "text/x-python",
   "name": "python",
   "nbconvert_exporter": "python",
   "pygments_lexer": "ipython3",
   "version": "3.9.13"
  },
  "orig_nbformat": 4,
  "vscode": {
   "interpreter": {
    "hash": "c63bf7c73efbaa60a9891fdddd1e96dd0cc596469d20228077150d640c222586"
   }
  }
 },
 "nbformat": 4,
 "nbformat_minor": 2
}
