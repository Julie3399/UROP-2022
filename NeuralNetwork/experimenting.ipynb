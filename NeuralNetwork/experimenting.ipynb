{
 "cells": [
  {
   "cell_type": "markdown",
   "metadata": {},
   "source": [
    "# Testing the implementation"
   ]
  },
  {
   "cell_type": "code",
   "execution_count": 2,
   "metadata": {},
   "outputs": [
    {
     "name": "stderr",
     "output_type": "stream",
     "text": [
      "/Users/customer/miniforge3/lib/python3.9/site-packages/tqdm/auto.py:22: TqdmWarning: IProgress not found. Please update jupyter and ipywidgets. See https://ipywidgets.readthedocs.io/en/stable/user_install.html\n",
      "  from .autonotebook import tqdm as notebook_tqdm\n"
     ]
    }
   ],
   "source": [
    "import os\n",
    "import gzip\n",
    "import pathlib\n",
    "import numpy as np\n",
    "import pandas as pd\n",
    "import tensorflow as tf\n",
    "import keras_tuner as kt\n",
    "import tensorflow_datasets as tfds\n",
    "\n",
    "from tuner import *\n",
    "from models import *\n",
    "from trainer import *\n",
    "from preprocess import *\n",
    "from callbacks import *"
   ]
  },
  {
   "cell_type": "markdown",
   "metadata": {},
   "source": [
    "## 0 Data"
   ]
  },
  {
   "cell_type": "markdown",
   "metadata": {},
   "source": [
    "Obtain the full data"
   ]
  },
  {
   "cell_type": "code",
   "execution_count": 3,
   "metadata": {},
   "outputs": [
    {
     "data": {
      "text/html": [
       "<div>\n",
       "<style scoped>\n",
       "    .dataframe tbody tr th:only-of-type {\n",
       "        vertical-align: middle;\n",
       "    }\n",
       "\n",
       "    .dataframe tbody tr th {\n",
       "        vertical-align: top;\n",
       "    }\n",
       "\n",
       "    .dataframe thead th {\n",
       "        text-align: right;\n",
       "    }\n",
       "</style>\n",
       "<table border=\"1\" class=\"dataframe\">\n",
       "  <thead>\n",
       "    <tr style=\"text-align: right;\">\n",
       "      <th></th>\n",
       "      <th>optionid</th>\n",
       "      <th>securityid</th>\n",
       "      <th>strike</th>\n",
       "      <th>callput</th>\n",
       "      <th>date_traded</th>\n",
       "      <th>contract_price</th>\n",
       "      <th>market_price</th>\n",
       "      <th>underlyings_price</th>\n",
       "      <th>contract_volume</th>\n",
       "      <th>days_to_maturity</th>\n",
       "      <th>moneyness</th>\n",
       "      <th>rate</th>\n",
       "      <th>volatility</th>\n",
       "    </tr>\n",
       "  </thead>\n",
       "  <tbody>\n",
       "    <tr>\n",
       "      <th>64127</th>\n",
       "      <td>156792096.0</td>\n",
       "      <td>702263.0</td>\n",
       "      <td>14.00</td>\n",
       "      <td>C</td>\n",
       "      <td>2007-07-31</td>\n",
       "      <td>0.0575</td>\n",
       "      <td>0.05000</td>\n",
       "      <td>12.459380</td>\n",
       "      <td>15.0</td>\n",
       "      <td>87.0</td>\n",
       "      <td>0.889956</td>\n",
       "      <td>0.053617</td>\n",
       "      <td>0.185943</td>\n",
       "    </tr>\n",
       "    <tr>\n",
       "      <th>19125</th>\n",
       "      <td>150041380.0</td>\n",
       "      <td>506497.0</td>\n",
       "      <td>55.00</td>\n",
       "      <td>C</td>\n",
       "      <td>2006-09-12</td>\n",
       "      <td>0.3600</td>\n",
       "      <td>0.37300</td>\n",
       "      <td>51.259702</td>\n",
       "      <td>32.0</td>\n",
       "      <td>94.0</td>\n",
       "      <td>0.931995</td>\n",
       "      <td>0.054609</td>\n",
       "      <td>0.110531</td>\n",
       "    </tr>\n",
       "    <tr>\n",
       "      <th>106345</th>\n",
       "      <td>174523773.0</td>\n",
       "      <td>702263.0</td>\n",
       "      <td>21.85</td>\n",
       "      <td>C</td>\n",
       "      <td>2021-03-29</td>\n",
       "      <td>0.1100</td>\n",
       "      <td>0.04950</td>\n",
       "      <td>21.699851</td>\n",
       "      <td>12.0</td>\n",
       "      <td>4.0</td>\n",
       "      <td>0.993128</td>\n",
       "      <td>0.000826</td>\n",
       "      <td>0.156564</td>\n",
       "    </tr>\n",
       "    <tr>\n",
       "      <th>68071</th>\n",
       "      <td>157895599.0</td>\n",
       "      <td>702263.0</td>\n",
       "      <td>11.60</td>\n",
       "      <td>C</td>\n",
       "      <td>2012-04-10</td>\n",
       "      <td>0.2100</td>\n",
       "      <td>0.19625</td>\n",
       "      <td>10.151250</td>\n",
       "      <td>372.0</td>\n",
       "      <td>255.0</td>\n",
       "      <td>0.875108</td>\n",
       "      <td>0.005222</td>\n",
       "      <td>0.258637</td>\n",
       "    </tr>\n",
       "    <tr>\n",
       "      <th>99852</th>\n",
       "      <td>165109107.0</td>\n",
       "      <td>702263.0</td>\n",
       "      <td>18.25</td>\n",
       "      <td>C</td>\n",
       "      <td>2020-01-17</td>\n",
       "      <td>0.1200</td>\n",
       "      <td>0.11500</td>\n",
       "      <td>18.260500</td>\n",
       "      <td>3.0</td>\n",
       "      <td>7.0</td>\n",
       "      <td>1.000575</td>\n",
       "      <td>0.015771</td>\n",
       "      <td>0.144167</td>\n",
       "    </tr>\n",
       "  </tbody>\n",
       "</table>\n",
       "</div>"
      ],
      "text/plain": [
       "           optionid  securityid  strike callput date_traded  contract_price  \\\n",
       "64127   156792096.0    702263.0   14.00       C  2007-07-31          0.0575   \n",
       "19125   150041380.0    506497.0   55.00       C  2006-09-12          0.3600   \n",
       "106345  174523773.0    702263.0   21.85       C  2021-03-29          0.1100   \n",
       "68071   157895599.0    702263.0   11.60       C  2012-04-10          0.2100   \n",
       "99852   165109107.0    702263.0   18.25       C  2020-01-17          0.1200   \n",
       "\n",
       "        market_price  underlyings_price  contract_volume  days_to_maturity  \\\n",
       "64127        0.05000          12.459380             15.0              87.0   \n",
       "19125        0.37300          51.259702             32.0              94.0   \n",
       "106345       0.04950          21.699851             12.0               4.0   \n",
       "68071        0.19625          10.151250            372.0             255.0   \n",
       "99852        0.11500          18.260500              3.0               7.0   \n",
       "\n",
       "        moneyness      rate  volatility  \n",
       "64127    0.889956  0.053617    0.185943  \n",
       "19125    0.931995  0.054609    0.110531  \n",
       "106345   0.993128  0.000826    0.156564  \n",
       "68071    0.875108  0.005222    0.258637  \n",
       "99852    1.000575  0.015771    0.144167  "
      ]
     },
     "execution_count": 3,
     "metadata": {},
     "output_type": "execute_result"
    }
   ],
   "source": [
    "parent_path = str(pathlib.Path(os.getcwd()).parent)\n",
    "df = pd.read_csv(os.path.join(parent_path, 'data/data.csv'))\n",
    "df = df.drop(['Unnamed: 0'], axis=1)\n",
    "df.sample(5)"
   ]
  },
  {
   "cell_type": "markdown",
   "metadata": {},
   "source": [
    "Create the first neueral network that uses the same set of inputs as the *Black-Scholes model*"
   ]
  },
  {
   "cell_type": "code",
   "execution_count": 4,
   "metadata": {},
   "outputs": [],
   "source": [
    "dataframe_BS = np.vstack((df['strike'].values,\n",
    "                      df['underlyings_price'].values,\n",
    "                      df['days_to_maturity'].values,\n",
    "                      df['volatility'].values,\n",
    "                      df['rate'].values,\n",
    "                      df['contract_price'].values)).T                "
   ]
  },
  {
   "cell_type": "code",
   "execution_count": 5,
   "metadata": {},
   "outputs": [
    {
     "name": "stdout",
     "output_type": "stream",
     "text": [
      "(85999, 6) (10750, 6) (10750, 6)\n",
      "Metal device set to: Apple M1\n",
      "\n",
      "systemMemory: 8.00 GB\n",
      "maxCacheSize: 2.67 GB\n",
      "\n",
      "(85999, 6) (10750, 6) (10750, 6)\n"
     ]
    },
    {
     "name": "stderr",
     "output_type": "stream",
     "text": [
      "2022-09-09 19:16:27.232451: I tensorflow/core/common_runtime/pluggable_device/pluggable_device_factory.cc:305] Could not identify NUMA node of platform GPU ID 0, defaulting to 0. Your kernel may not have been built with NUMA support.\n",
      "2022-09-09 19:16:27.232610: I tensorflow/core/common_runtime/pluggable_device/pluggable_device_factory.cc:271] Created TensorFlow device (/job:localhost/replica:0/task:0/device:GPU:0 with 0 MB memory) -> physical PluggableDevice (device: 0, name: METAL, pci bus id: <undefined>)\n"
     ]
    }
   ],
   "source": [
    "train_ds, valid_ds, test_ds = pipeline1(dataframe_BS, scaling=False)\n",
    "\n",
    "train_copy, valid_copy, test_copy = pipeline1(dataframe_BS, prefetch=False)"
   ]
  },
  {
   "cell_type": "markdown",
   "metadata": {},
   "source": [
    "## 1 Start training"
   ]
  },
  {
   "cell_type": "markdown",
   "metadata": {},
   "source": [
    "Define some parameters"
   ]
  },
  {
   "cell_type": "code",
   "execution_count": 6,
   "metadata": {},
   "outputs": [
    {
     "name": "stdout",
     "output_type": "stream",
     "text": [
      "Model: \"model\"\n",
      "_________________________________________________________________\n",
      " Layer (type)                Output Shape              Param #   \n",
      "=================================================================\n",
      " input_1 (InputLayer)        [(None, 5)]               0         \n",
      "                                                                 \n",
      " flatten (Flatten)           (None, 5)                 0         \n",
      "                                                                 \n",
      " dense (Dense)               (None, 14)                84        \n",
      "                                                                 \n",
      " batch_normalization (BatchN  (None, 14)               56        \n",
      " ormalization)                                                   \n",
      "                                                                 \n",
      " dense_1 (Dense)             (None, 14)                210       \n",
      "                                                                 \n",
      " batch_normalization_1 (Batc  (None, 14)               56        \n",
      " hNormalization)                                                 \n",
      "                                                                 \n",
      " dense_2 (Dense)             (None, 14)                210       \n",
      "                                                                 \n",
      " batch_normalization_2 (Batc  (None, 14)               56        \n",
      " hNormalization)                                                 \n",
      "                                                                 \n",
      " dense_3 (Dense)             (None, 1)                 15        \n",
      "                                                                 \n",
      "=================================================================\n",
      "Total params: 687\n",
      "Trainable params: 603\n",
      "Non-trainable params: 84\n",
      "_________________________________________________________________\n"
     ]
    }
   ],
   "source": [
    "print_num_epochs = 5 # print progress every print_num_epochs epochs\n",
    "\n",
    "path_to_save = os.path.join(parent_path, 'NeuralNetwork/models/roughwork')  # path to save the model\n",
    "\n",
    "patience = 10  \n",
    "\n",
    "optimizer = tf.keras.optimizers.Adam(learning_rate=0.01)\n",
    "\n",
    "loss = tf.keras.losses.MeanAbsoluteError(name='loss')\n",
    "\n",
    "metrics = tf.keras.metrics.MeanAbsolutePercentageError(name='accuracy')\n",
    "\n",
    "num_epochs = 10  \n",
    "\n",
    "input_shape = (5,)\n",
    "\n",
    "num_layers = 3\n",
    "\n",
    "hidden_units = [14, 14, 14]\n",
    "\n",
    "output_shape = (1, )\n",
    "\n",
    "batchnorm = True  \n",
    "\n",
    "dropout = None\n",
    "\n",
    "model = getModel(input_shape = input_shape,\n",
    "                num_layers   = num_layers,\n",
    "                 hidden_units = hidden_units,\n",
    "                 output_shape = output_shape,\n",
    "                 batchnorm = batchnorm,\n",
    "                 dropout = dropout)\n",
    "model.summary()"
   ]
  },
  {
   "cell_type": "markdown",
   "metadata": {},
   "source": [
    "Define some callbacks  "
   ]
  },
  {
   "cell_type": "code",
   "execution_count": 7,
   "metadata": {},
   "outputs": [],
   "source": [
    "ckpt = CheckpointCallback(path_to_save)\n",
    "printing =PrintProgress(num_epochs=print_num_epochs)\n",
    "early_stop = tf.keras.callbacks.EarlyStopping(patience=patience, monitor='val_loss')\n",
    "callbacks = [ckpt, printing, early_stop]"
   ]
  },
  {
   "cell_type": "code",
   "execution_count": 8,
   "metadata": {},
   "outputs": [],
   "source": [
    "testing = False\n",
    "if testing:\n",
    "    history = compile_and_fit(model,\n",
    "                          optimizer,\n",
    "                          loss,\n",
    "                          num_epochs,\n",
    "                          train_ds,\n",
    "                          valid_ds,\n",
    "                          metrics,\n",
    "                          callbacks,\n",
    "                          verbose=True\n",
    "                          )"
   ]
  },
  {
   "cell_type": "markdown",
   "metadata": {},
   "source": [
    "# 1.1 Tuning the hyperparameters"
   ]
  },
  {
   "cell_type": "markdown",
   "metadata": {},
   "source": [
    "To tune the hyperparameter, we can use `keras_tuner`, which provides `RandomSearch`, `Hyperband`, and `BayesianSearch` methods for searching the best hyperparameters.  \n",
    "\n",
    "To get started, we only tune the number of layers and the hidden units in each layer first, then we tune with learning rate together."
   ]
  },
  {
   "cell_type": "code",
   "execution_count": 9,
   "metadata": {},
   "outputs": [],
   "source": [
    "import keras_tuner"
   ]
  },
  {
   "cell_type": "markdown",
   "metadata": {},
   "source": [
    "We initialize the `keras_tuner` object for tuning hyperparameters; currently, there are two hyper models implemented, `tuneLayer` and `tuneLR`"
   ]
  },
  {
   "cell_type": "code",
   "execution_count": 10,
   "metadata": {},
   "outputs": [
    {
     "name": "stdout",
     "output_type": "stream",
     "text": [
      "Search space summary\n",
      "Default search space size: 0\n"
     ]
    }
   ],
   "source": [
    "# random_tuner = keras_tuner.RandomSearch(\n",
    "#     hypermodel=tunedModel, # the hypermodel to tune # can be tuneLR or tuneLayer\n",
    "#     objective=\"val_loss\", # the objective to optimize\n",
    "#     max_trials=3, # the maximum number of trials to run\n",
    "#     executions_per_trial=2, # the number of models generated on each trial\n",
    "#     overwrite=True, # whether to overwrite previous trials\n",
    "#     directory=\"hyperparams/RandomSearch\", # the directory to save the trials\n",
    "#     project_name=\"1\", # the name of the project\n",
    "# )  \n",
    "\n",
    "# # get a summary of the range of hyperparameters to tune\n",
    "\n",
    "\n",
    "random_tuner = customTuner(input_shape, output_shape, \n",
    "                            objective='val_loss', \n",
    "                            max_trials=3,\n",
    "                            executions_per_trial=1,\n",
    "                            overwrite=True,\n",
    "                            directory='hyperparams/RandomSearch',\n",
    "                            project_name='Black-Scholes')\n",
    "random_tuner.search_space_summary()"
   ]
  },
  {
   "cell_type": "code",
   "execution_count": 11,
   "metadata": {},
   "outputs": [
    {
     "name": "stdout",
     "output_type": "stream",
     "text": [
      "Trial 3 Complete [00h 01m 21s]\n",
      "val_loss: 43.519309997558594\n",
      "\n",
      "Best val_loss So Far: 35.3779296875\n",
      "Total elapsed time: 00h 04m 50s\n",
      "INFO:tensorflow:Oracle triggered exit\n"
     ]
    }
   ],
   "source": [
    "# start the search\n",
    "random_tuner.search(train_ds, valid_ds, epochs=5)"
   ]
  },
  {
   "cell_type": "markdown",
   "metadata": {},
   "source": [
    "Get the best compiled models"
   ]
  },
  {
   "cell_type": "code",
   "execution_count": 12,
   "metadata": {},
   "outputs": [
    {
     "name": "stdout",
     "output_type": "stream",
     "text": [
      "Model: \"model_4\"\n",
      "_________________________________________________________________\n",
      " Layer (type)                Output Shape              Param #   \n",
      "=================================================================\n",
      " input_5 (InputLayer)        [(None, 5)]               0         \n",
      "                                                                 \n",
      " flatten_4 (Flatten)         (None, 5)                 0         \n",
      "                                                                 \n",
      " dense_12 (Dense)            (None, 200)               1200      \n",
      "                                                                 \n",
      " dense_13 (Dense)            (None, 50)                10050     \n",
      "                                                                 \n",
      " dense_14 (Dense)            (None, 50)                2550      \n",
      "                                                                 \n",
      " dense_15 (Dense)            (None, 1)                 51        \n",
      "                                                                 \n",
      "=================================================================\n",
      "Total params: 13,851\n",
      "Trainable params: 13,851\n",
      "Non-trainable params: 0\n",
      "_________________________________________________________________\n"
     ]
    }
   ],
   "source": [
    "hypermodel = customHyperModel()\n",
    "\n",
    "best_model = hypermodel.build(random_tuner.get_best_hyperparameters()[0])\n",
    "\n",
    "best_model.summary()"
   ]
  },
  {
   "cell_type": "markdown",
   "metadata": {},
   "source": [
    "We can view the results of the search and use the hyperparameters displayed to train the model."
   ]
  },
  {
   "cell_type": "code",
   "execution_count": 13,
   "metadata": {},
   "outputs": [
    {
     "name": "stdout",
     "output_type": "stream",
     "text": [
      "Results summary\n",
      "Results in hyperparams/RandomSearch/Black-Scholes\n",
      "Showing 10 best trials\n",
      "<keras_tuner.engine.objective.Objective object at 0x288453610>\n",
      "Trial summary\n",
      "Hyperparameters:\n",
      "num_layers: 3\n",
      "learning_rate: 0.0002157147399339997\n",
      "rate_decay: 0.9794184370846655\n",
      "l1_coeff: 3.0867496112040877e-07\n",
      "l2_coeff: 1.276252438847092e-07\n",
      "units_1: 200\n",
      "units_2: 50\n",
      "units_3: 50\n",
      "Score: 35.3779296875\n",
      "Trial summary\n",
      "Hyperparameters:\n",
      "num_layers: 1\n",
      "learning_rate: 0.0019513235178244249\n",
      "rate_decay: 0.958098743823176\n",
      "l1_coeff: 3.0165387229242814e-07\n",
      "l2_coeff: 1.1356922506654835e-07\n",
      "units_1: 250\n",
      "units_2: 50\n",
      "units_3: 200\n",
      "Score: 43.519309997558594\n",
      "Trial summary\n",
      "Hyperparameters:\n",
      "num_layers: 1\n",
      "learning_rate: 0.0001\n",
      "rate_decay: 0.85\n",
      "l1_coeff: 1e-08\n",
      "l2_coeff: 1e-08\n",
      "units_1: 50\n",
      "Score: 56.22092056274414\n"
     ]
    }
   ],
   "source": [
    "random_tuner.results_summary()"
   ]
  },
  {
   "cell_type": "markdown",
   "metadata": {},
   "source": [
    "Now train the best model obtained"
   ]
  },
  {
   "cell_type": "code",
   "execution_count": 14,
   "metadata": {},
   "outputs": [
    {
     "name": "stdout",
     "output_type": "stream",
     "text": [
      "Epoch 1/10\n",
      "   7/2688 [..............................] - ETA: 25s - loss: 2427.5752 - mean_squared_error: 27.1018  "
     ]
    },
    {
     "name": "stderr",
     "output_type": "stream",
     "text": [
      "2022-09-09 19:21:55.573373: I tensorflow/core/grappler/optimizers/custom_graph_optimizer_registry.cc:113] Plugin optimizer for device_type GPU is enabled.\n"
     ]
    },
    {
     "name": "stdout",
     "output_type": "stream",
     "text": [
      "2687/2688 [============================>.] - ETA: 0s - loss: 68.5073 - mean_squared_error: 0.1125"
     ]
    },
    {
     "name": "stderr",
     "output_type": "stream",
     "text": [
      "2022-09-09 19:22:19.970756: I tensorflow/core/grappler/optimizers/custom_graph_optimizer_registry.cc:113] Plugin optimizer for device_type GPU is enabled.\n"
     ]
    },
    {
     "name": "stdout",
     "output_type": "stream",
     "text": [
      "2688/2688 [==============================] - 26s 10ms/step - loss: 68.5046 - mean_squared_error: 0.1125 - val_loss: 50.7631 - val_mean_squared_error: 0.0141\n",
      "Epoch 2/10\n",
      "2688/2688 [==============================] - 26s 10ms/step - loss: 51.0126 - mean_squared_error: 0.0144 - val_loss: 43.5753 - val_mean_squared_error: 0.0102\n",
      "Epoch 3/10\n",
      "2688/2688 [==============================] - 26s 10ms/step - loss: 46.1343 - mean_squared_error: 0.0123 - val_loss: 39.0990 - val_mean_squared_error: 0.0113\n",
      "Epoch 4/10\n",
      "2688/2688 [==============================] - 26s 10ms/step - loss: 42.5243 - mean_squared_error: 0.0103 - val_loss: 41.9373 - val_mean_squared_error: 0.0109\n",
      "Epoch 5/10\n",
      "2688/2688 [==============================] - 26s 10ms/step - loss: 40.1001 - mean_squared_error: 0.0088 - val_loss: 35.3779 - val_mean_squared_error: 0.0073\n",
      "Epoch 6/10\n",
      "2688/2688 [==============================] - 26s 10ms/step - loss: 37.9027 - mean_squared_error: 0.0076 - val_loss: 34.0149 - val_mean_squared_error: 0.0073\n",
      "Epoch 7/10\n",
      "2688/2688 [==============================] - 26s 10ms/step - loss: 36.1153 - mean_squared_error: 0.0068 - val_loss: 34.5314 - val_mean_squared_error: 0.0052\n",
      "Epoch 8/10\n",
      "2688/2688 [==============================] - 26s 10ms/step - loss: 34.6536 - mean_squared_error: 0.0062 - val_loss: 33.7074 - val_mean_squared_error: 0.0044\n",
      "Epoch 9/10\n",
      "2688/2688 [==============================] - 26s 10ms/step - loss: 32.5650 - mean_squared_error: 0.0056 - val_loss: 29.0523 - val_mean_squared_error: 0.0046\n",
      "Epoch 10/10\n",
      "2688/2688 [==============================] - 26s 10ms/step - loss: 30.7835 - mean_squared_error: 0.0052 - val_loss: 27.1930 - val_mean_squared_error: 0.0042\n"
     ]
    },
    {
     "data": {
      "text/plain": [
       "<keras.callbacks.History at 0x28f5262b0>"
      ]
     },
     "execution_count": 14,
     "metadata": {},
     "output_type": "execute_result"
    }
   ],
   "source": [
    "best_model.fit(train_ds, epochs = 10, validation_data = valid_ds)"
   ]
  },
  {
   "cell_type": "markdown",
   "metadata": {},
   "source": [
    "Save the trained model"
   ]
  },
  {
   "cell_type": "code",
   "execution_count": 17,
   "metadata": {},
   "outputs": [],
   "source": [
    "path_to_model = os.path.join(parent_path, 'NeuralNetwork/models/BS-0909')"
   ]
  },
  {
   "cell_type": "code",
   "execution_count": 15,
   "metadata": {},
   "outputs": [
    {
     "name": "stdout",
     "output_type": "stream",
     "text": [
      "INFO:tensorflow:Assets written to: /Users/customer/projects/UROP-2022/NeuralNetwork/models/BS-0909/assets\n"
     ]
    }
   ],
   "source": [
    "best_model.save(path_to_model)"
   ]
  },
  {
   "cell_type": "markdown",
   "metadata": {},
   "source": [
    "To load the model, use `tf.keras.models.load_model`"
   ]
  },
  {
   "cell_type": "code",
   "execution_count": 18,
   "metadata": {},
   "outputs": [
    {
     "name": "stdout",
     "output_type": "stream",
     "text": [
      " 20/336 [>.............................] - ETA: 1s - loss: 26.0230 - mean_squared_error: 0.0037"
     ]
    },
    {
     "name": "stderr",
     "output_type": "stream",
     "text": [
      "2022-09-09 19:37:46.091810: I tensorflow/core/grappler/optimizers/custom_graph_optimizer_registry.cc:113] Plugin optimizer for device_type GPU is enabled.\n"
     ]
    },
    {
     "name": "stdout",
     "output_type": "stream",
     "text": [
      "336/336 [==============================] - 2s 5ms/step - loss: 27.2961 - mean_squared_error: 0.0044\n"
     ]
    },
    {
     "data": {
      "text/plain": [
       "[27.29612159729004, 0.004369616508483887]"
      ]
     },
     "execution_count": 18,
     "metadata": {},
     "output_type": "execute_result"
    }
   ],
   "source": [
    "from tensorflow import keras\n",
    "model = keras.models.load_model(path_to_model)\n",
    "model.evaluate(test_ds)"
   ]
  },
  {
   "cell_type": "markdown",
   "metadata": {},
   "source": [
    "## Some other Tuners to try out  \n",
    "\n",
    "But this is not the goal of the project right now."
   ]
  },
  {
   "cell_type": "markdown",
   "metadata": {},
   "source": [
    "We also try `Hyperband` which generates a large number of models and discard them in a tournament style."
   ]
  },
  {
   "cell_type": "code",
   "execution_count": null,
   "metadata": {},
   "outputs": [],
   "source": [
    "band_tuner = keras_tuner.Hyperband(\n",
    "    hypermodel=tuneLR,\n",
    "    objective=\"val_loss\",\n",
    "    max_epochs=10,\n",
    "    factor=3,\n",
    "    directory=\"hyperparams/Hyperband\",\n",
    "    project_name=\"1\"\n",
    ")\n",
    "band_tuner.search_space_summary()\n",
    "band_tuner.search(train_ds, epochs = 2, validation_data = valid_ds)  "
   ]
  },
  {
   "cell_type": "code",
   "execution_count": null,
   "metadata": {},
   "outputs": [],
   "source": [
    "band_tuner.results_summary()"
   ]
  },
  {
   "cell_type": "markdown",
   "metadata": {},
   "source": [
    "Finally, we try `BayesianOptimization`."
   ]
  },
  {
   "cell_type": "code",
   "execution_count": null,
   "metadata": {},
   "outputs": [],
   "source": [
    "bayes_tuner = keras_tuner.BayesianOptimization(\n",
    "    hypermodel=tuneLR,\n",
    "    objective=\"val_loss\",\n",
    "    max_trials=3,\n",
    "    directory=\"hyperparams/BayesianOptimization\",\n",
    "    project_name=\"1\"\n",
    ")\n",
    "bayes_tuner.search_space_summary()\n",
    "bayes_tuner.search(train_ds, epochs = 2, validation_data = valid_ds) "
   ]
  },
  {
   "cell_type": "code",
   "execution_count": null,
   "metadata": {},
   "outputs": [],
   "source": [
    "bayes_tuner.results_summary()"
   ]
  }
 ],
 "metadata": {
  "kernelspec": {
   "display_name": "Python 3.9.13 ('base')",
   "language": "python",
   "name": "python3"
  },
  "language_info": {
   "codemirror_mode": {
    "name": "ipython",
    "version": 3
   },
   "file_extension": ".py",
   "mimetype": "text/x-python",
   "name": "python",
   "nbconvert_exporter": "python",
   "pygments_lexer": "ipython3",
   "version": "3.9.13"
  },
  "orig_nbformat": 4,
  "vscode": {
   "interpreter": {
    "hash": "c63bf7c73efbaa60a9891fdddd1e96dd0cc596469d20228077150d640c222586"
   }
  }
 },
 "nbformat": 4,
 "nbformat_minor": 2
}
