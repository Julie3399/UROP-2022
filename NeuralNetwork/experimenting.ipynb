{
 "cells": [
  {
   "cell_type": "markdown",
   "metadata": {},
   "source": [
    "# Testing the implementation"
   ]
  },
  {
   "cell_type": "code",
   "execution_count": 1,
   "metadata": {},
   "outputs": [],
   "source": [
    "import os\n",
    "import gzip\n",
    "import pathlib\n",
    "import numpy as np\n",
    "import pandas as pd\n",
    "import tensorflow as tf\n",
    "import keras_tuner as kt\n",
    "import tensorflow_datasets as tfds\n",
    "\n",
    "from tuner import *\n",
    "from models import *\n",
    "from trainer import *\n",
    "from preprocess import *\n",
    "from callbacks import *"
   ]
  },
  {
   "cell_type": "markdown",
   "metadata": {},
   "source": [
    "## 0 Data"
   ]
  },
  {
   "cell_type": "markdown",
   "metadata": {},
   "source": [
    "Obtain the full data"
   ]
  },
  {
   "cell_type": "code",
   "execution_count": 2,
   "metadata": {},
   "outputs": [
    {
     "data": {
      "text/html": [
       "<div>\n",
       "<style scoped>\n",
       "    .dataframe tbody tr th:only-of-type {\n",
       "        vertical-align: middle;\n",
       "    }\n",
       "\n",
       "    .dataframe tbody tr th {\n",
       "        vertical-align: top;\n",
       "    }\n",
       "\n",
       "    .dataframe thead th {\n",
       "        text-align: right;\n",
       "    }\n",
       "</style>\n",
       "<table border=\"1\" class=\"dataframe\">\n",
       "  <thead>\n",
       "    <tr style=\"text-align: right;\">\n",
       "      <th></th>\n",
       "      <th>optionid</th>\n",
       "      <th>securityid</th>\n",
       "      <th>strike</th>\n",
       "      <th>callput</th>\n",
       "      <th>date_traded</th>\n",
       "      <th>contract_price</th>\n",
       "      <th>market_price</th>\n",
       "      <th>underlyings_price</th>\n",
       "      <th>contract_volume</th>\n",
       "      <th>days_to_maturity</th>\n",
       "      <th>moneyness</th>\n",
       "      <th>rate</th>\n",
       "      <th>volatility</th>\n",
       "    </tr>\n",
       "  </thead>\n",
       "  <tbody>\n",
       "    <tr>\n",
       "      <th>30623</th>\n",
       "      <td>150542330.0</td>\n",
       "      <td>506534.0</td>\n",
       "      <td>5.425</td>\n",
       "      <td>C</td>\n",
       "      <td>2007-07-02</td>\n",
       "      <td>0.0890</td>\n",
       "      <td>0.08950</td>\n",
       "      <td>5.498400</td>\n",
       "      <td>164.0</td>\n",
       "      <td>4.0</td>\n",
       "      <td>1.013530</td>\n",
       "      <td>0.053877</td>\n",
       "      <td>0.112082</td>\n",
       "    </tr>\n",
       "    <tr>\n",
       "      <th>42849</th>\n",
       "      <td>150384996.0</td>\n",
       "      <td>702263.0</td>\n",
       "      <td>12.400</td>\n",
       "      <td>C</td>\n",
       "      <td>2007-08-24</td>\n",
       "      <td>0.3250</td>\n",
       "      <td>0.37375</td>\n",
       "      <td>12.007600</td>\n",
       "      <td>472.0</td>\n",
       "      <td>63.0</td>\n",
       "      <td>0.968355</td>\n",
       "      <td>0.054433</td>\n",
       "      <td>0.301770</td>\n",
       "    </tr>\n",
       "    <tr>\n",
       "      <th>100504</th>\n",
       "      <td>165244417.0</td>\n",
       "      <td>702263.0</td>\n",
       "      <td>18.050</td>\n",
       "      <td>C</td>\n",
       "      <td>2020-02-26</td>\n",
       "      <td>0.1425</td>\n",
       "      <td>0.15750</td>\n",
       "      <td>17.808000</td>\n",
       "      <td>4.0</td>\n",
       "      <td>9.0</td>\n",
       "      <td>0.986593</td>\n",
       "      <td>0.016077</td>\n",
       "      <td>0.208561</td>\n",
       "    </tr>\n",
       "    <tr>\n",
       "      <th>13162</th>\n",
       "      <td>150247574.0</td>\n",
       "      <td>504880.0</td>\n",
       "      <td>40.000</td>\n",
       "      <td>C</td>\n",
       "      <td>2006-09-27</td>\n",
       "      <td>0.3930</td>\n",
       "      <td>0.39700</td>\n",
       "      <td>38.961799</td>\n",
       "      <td>7544.0</td>\n",
       "      <td>51.0</td>\n",
       "      <td>0.974045</td>\n",
       "      <td>0.054138</td>\n",
       "      <td>0.117770</td>\n",
       "    </tr>\n",
       "    <tr>\n",
       "      <th>40489</th>\n",
       "      <td>162271087.0</td>\n",
       "      <td>702263.0</td>\n",
       "      <td>16.200</td>\n",
       "      <td>C</td>\n",
       "      <td>2018-07-24</td>\n",
       "      <td>0.2250</td>\n",
       "      <td>0.21500</td>\n",
       "      <td>15.987000</td>\n",
       "      <td>20.0</td>\n",
       "      <td>59.0</td>\n",
       "      <td>0.986852</td>\n",
       "      <td>0.022610</td>\n",
       "      <td>0.137587</td>\n",
       "    </tr>\n",
       "  </tbody>\n",
       "</table>\n",
       "</div>"
      ],
      "text/plain": [
       "           optionid  securityid  strike callput date_traded  contract_price  \\\n",
       "30623   150542330.0    506534.0   5.425       C  2007-07-02          0.0890   \n",
       "42849   150384996.0    702263.0  12.400       C  2007-08-24          0.3250   \n",
       "100504  165244417.0    702263.0  18.050       C  2020-02-26          0.1425   \n",
       "13162   150247574.0    504880.0  40.000       C  2006-09-27          0.3930   \n",
       "40489   162271087.0    702263.0  16.200       C  2018-07-24          0.2250   \n",
       "\n",
       "        market_price  underlyings_price  contract_volume  days_to_maturity  \\\n",
       "30623        0.08950           5.498400            164.0               4.0   \n",
       "42849        0.37375          12.007600            472.0              63.0   \n",
       "100504       0.15750          17.808000              4.0               9.0   \n",
       "13162        0.39700          38.961799           7544.0              51.0   \n",
       "40489        0.21500          15.987000             20.0              59.0   \n",
       "\n",
       "        moneyness      rate  volatility  \n",
       "30623    1.013530  0.053877    0.112082  \n",
       "42849    0.968355  0.054433    0.301770  \n",
       "100504   0.986593  0.016077    0.208561  \n",
       "13162    0.974045  0.054138    0.117770  \n",
       "40489    0.986852  0.022610    0.137587  "
      ]
     },
     "execution_count": 2,
     "metadata": {},
     "output_type": "execute_result"
    }
   ],
   "source": [
    "parent_path = str(pathlib.Path(os.getcwd()).parent)\n",
    "df = pd.read_csv(os.path.join(parent_path, 'data/data.csv'))\n",
    "df = df.drop(['Unnamed: 0'], axis=1)\n",
    "df.sample(5)"
   ]
  },
  {
   "cell_type": "markdown",
   "metadata": {},
   "source": [
    "Create the first neueral network that uses the same set of inputs as the *Black-Scholes model*"
   ]
  },
  {
   "cell_type": "code",
   "execution_count": 3,
   "metadata": {},
   "outputs": [],
   "source": [
    "dataframe_BS = np.vstack((df['strike'].values,\n",
    "                      df['underlyings_price'].values,\n",
    "                      df['days_to_maturity'].values,\n",
    "                      df['volatility'].values,\n",
    "                      df['rate'].values,\n",
    "                      df['contract_price'].values)).T                "
   ]
  },
  {
   "cell_type": "code",
   "execution_count": 4,
   "metadata": {},
   "outputs": [
    {
     "name": "stdout",
     "output_type": "stream",
     "text": [
      "(85999, 6) (10750, 6) (10750, 6)\n",
      "(85999, 6) (10750, 6) (10750, 6)\n"
     ]
    }
   ],
   "source": [
    "train_ds, valid_ds, test_ds = pipeline1(dataframe_BS, scaling=False)\n",
    "\n",
    "train_copy, valid_copy, test_copy = pipeline1(dataframe_BS, prefetch=False)"
   ]
  },
  {
   "cell_type": "markdown",
   "metadata": {},
   "source": [
    "We can use the `StandardScaler` to normalize the data or the `MinMaxScaler` to scale the data, but note that the latter approach will turn the `days_to_maturity` times to zero for the options with `2` days, which is actually a lot."
   ]
  },
  {
   "cell_type": "code",
   "execution_count": 10,
   "metadata": {},
   "outputs": [
    {
     "data": {
      "text/plain": [
       "2667"
      ]
     },
     "execution_count": 10,
     "metadata": {},
     "output_type": "execute_result"
    }
   ],
   "source": [
    "df['days_to_maturity'].value_counts().to_dict()[2.0]"
   ]
  },
  {
   "cell_type": "code",
   "execution_count": null,
   "metadata": {},
   "outputs": [],
   "source": [
    "normal_train_ds, normal_valid_ds, normal_test_ds = pipeline2(df, True, 'normalize', 32, 1000)\n",
    "scaled_train_ds, scaled_valid_ds, scaled_test_ds = pipeline2(df, True, 'minmax', 32, 1000)"
   ]
  },
  {
   "cell_type": "markdown",
   "metadata": {},
   "source": [
    "Inspect the elements in the datasets"
   ]
  },
  {
   "cell_type": "code",
   "execution_count": 11,
   "metadata": {},
   "outputs": [
    {
     "data": {
      "text/plain": [
       "(TensorSpec(shape=(None, 5), dtype=tf.float32, name=None),\n",
       " TensorSpec(shape=(None,), dtype=tf.float32, name=None))"
      ]
     },
     "execution_count": 11,
     "metadata": {},
     "output_type": "execute_result"
    }
   ],
   "source": [
    "normal_test_ds.element_spec"
   ]
  },
  {
   "cell_type": "markdown",
   "metadata": {},
   "source": [
    "## 1 Start training"
   ]
  },
  {
   "cell_type": "markdown",
   "metadata": {},
   "source": [
    "Define some parameters"
   ]
  },
  {
   "cell_type": "code",
   "execution_count": null,
   "metadata": {},
   "outputs": [],
   "source": [
    "print_num_epochs = 5 # print progress every print_num_epochs epochs\n",
    "\n",
    "path_to_save = os.path.join(parent_path, 'NeuralNetwork/models/roughwork')  # path to save the model\n",
    "\n",
    "patience = 10  \n",
    "\n",
    "optimizer = tf.keras.optimizers.Adam(learning_rate=0.01)\n",
    "\n",
    "loss = tf.keras.losses.MeanAbsoluteError(name='loss')\n",
    "\n",
    "metrics = tf.keras.metrics.MeanAbsolutePercentageError(name='accuracy')\n",
    "\n",
    "num_epochs = 10  \n",
    "\n",
    "input_shape = (5,)\n",
    "\n",
    "num_layers = 3\n",
    "\n",
    "hidden_units = [14, 14, 14]\n",
    "\n",
    "output_shape = (1, )\n",
    "\n",
    "batchnorm = True  \n",
    "\n",
    "dropout = None\n",
    "\n",
    "model = getModel(input_shape = input_shape,\n",
    "                num_layers   = num_layers,\n",
    "                 hidden_units = hidden_units,\n",
    "                 output_shape = output_shape,\n",
    "                 batchnorm = batchnorm,\n",
    "                 dropout = dropout)\n",
    "model.summary()"
   ]
  },
  {
   "cell_type": "markdown",
   "metadata": {},
   "source": [
    "Define some callbacks  "
   ]
  },
  {
   "cell_type": "code",
   "execution_count": null,
   "metadata": {},
   "outputs": [],
   "source": [
    "ckpt = CheckpointCallback(path_to_save)\n",
    "printing =PrintProgress(num_epochs=print_num_epochs)\n",
    "early_stop = tf.keras.callbacks.EarlyStopping(patience=patience, monitor='val_loss')\n",
    "callbacks = [ckpt, printing, early_stop]"
   ]
  },
  {
   "cell_type": "code",
   "execution_count": null,
   "metadata": {},
   "outputs": [],
   "source": [
    "testing = False\n",
    "if testing:\n",
    "    history = compile_and_fit(model,\n",
    "                          optimizer,\n",
    "                          loss,\n",
    "                          num_epochs,\n",
    "                          train_ds,\n",
    "                          valid_ds,\n",
    "                          metrics,\n",
    "                          callbacks,\n",
    "                          verbose=True\n",
    "                          )"
   ]
  },
  {
   "cell_type": "markdown",
   "metadata": {},
   "source": [
    "# 1.1 Tuning the hyperparameters"
   ]
  },
  {
   "cell_type": "markdown",
   "metadata": {},
   "source": [
    "To tune the hyperparameter, we can use `keras_tuner`, which provides `RandomSearch`, `Hyperband`, and `BayesianSearch` methods for searching the best hyperparameters.  \n",
    "\n",
    "To get started, we only tune the number of layers and the hidden units in each layer first, then we tune with learning rate together."
   ]
  },
  {
   "cell_type": "code",
   "execution_count": null,
   "metadata": {},
   "outputs": [],
   "source": [
    "import keras_tuner"
   ]
  },
  {
   "cell_type": "markdown",
   "metadata": {},
   "source": [
    "We initialize the `keras_tuner` object for tuning hyperparameters; currently, there are two hyper models implemented, `tuneLayer` and `tuneLR`"
   ]
  },
  {
   "cell_type": "code",
   "execution_count": null,
   "metadata": {},
   "outputs": [],
   "source": [
    "# random_tuner = keras_tuner.RandomSearch(\n",
    "#     hypermodel=tunedModel, # the hypermodel to tune # can be tuneLR or tuneLayer\n",
    "#     objective=\"val_loss\", # the objective to optimize\n",
    "#     max_trials=3, # the maximum number of trials to run\n",
    "#     executions_per_trial=2, # the number of models generated on each trial\n",
    "#     overwrite=True, # whether to overwrite previous trials\n",
    "#     directory=\"hyperparams/RandomSearch\", # the directory to save the trials\n",
    "#     project_name=\"1\", # the name of the project\n",
    "# )  \n",
    "\n",
    "# # get a summary of the range of hyperparameters to tune\n",
    "\n",
    "\n",
    "random_tuner = customTuner(input_shape, output_shape, \n",
    "                            objective='val_loss', \n",
    "                            max_trials=10,\n",
    "                            executions_per_trial=1,\n",
    "                            overwrite=True,\n",
    "                            directory='hyperparams/RandomSearch',\n",
    "                            project_name='Black-Scholes')\n",
    "random_tuner.search_space_summary()"
   ]
  },
  {
   "cell_type": "code",
   "execution_count": null,
   "metadata": {},
   "outputs": [],
   "source": [
    "# start the search\n",
    "random_tuner.search(train_ds, valid_ds, epochs=5)"
   ]
  },
  {
   "cell_type": "markdown",
   "metadata": {},
   "source": [
    "Get the best compiled models"
   ]
  },
  {
   "cell_type": "code",
   "execution_count": null,
   "metadata": {},
   "outputs": [],
   "source": [
    "hypermodel = customHyperModel()\n",
    "\n",
    "best_model = hypermodel.build(random_tuner.get_best_hyperparameters()[0])\n",
    "\n",
    "best_model.summary()"
   ]
  },
  {
   "cell_type": "markdown",
   "metadata": {},
   "source": [
    "We can view the results of the search and use the hyperparameters displayed to train the model."
   ]
  },
  {
   "cell_type": "code",
   "execution_count": null,
   "metadata": {},
   "outputs": [],
   "source": [
    "random_tuner.results_summary()"
   ]
  },
  {
   "cell_type": "markdown",
   "metadata": {},
   "source": [
    "Now train the best model obtained"
   ]
  },
  {
   "cell_type": "code",
   "execution_count": null,
   "metadata": {},
   "outputs": [],
   "source": [
    "best_model.fit(train_ds, epochs = 10, validation_data = valid_ds)"
   ]
  },
  {
   "cell_type": "markdown",
   "metadata": {},
   "source": [
    "Save the trained model"
   ]
  },
  {
   "cell_type": "code",
   "execution_count": null,
   "metadata": {},
   "outputs": [],
   "source": [
    "path_to_model = os.path.join(parent_path, 'NeuralNetwork/models/BS-0909')"
   ]
  },
  {
   "cell_type": "code",
   "execution_count": null,
   "metadata": {},
   "outputs": [],
   "source": [
    "best_model.save(path_to_model)"
   ]
  },
  {
   "cell_type": "markdown",
   "metadata": {},
   "source": [
    "To load the model, use `tf.keras.models.load_model`"
   ]
  },
  {
   "cell_type": "code",
   "execution_count": null,
   "metadata": {},
   "outputs": [],
   "source": [
    "from tensorflow import keras\n",
    "model = keras.models.load_model(path_to_model)\n",
    "model.evaluate(test_ds)"
   ]
  },
  {
   "cell_type": "markdown",
   "metadata": {},
   "source": [
    "## Some other Tuners to try out  \n",
    "\n",
    "But this is not the goal of the project right now."
   ]
  },
  {
   "cell_type": "markdown",
   "metadata": {},
   "source": [
    "We also try `Hyperband` which generates a large number of models and discard them in a tournament style."
   ]
  },
  {
   "cell_type": "code",
   "execution_count": null,
   "metadata": {},
   "outputs": [],
   "source": [
    "band_tuner = keras_tuner.Hyperband(\n",
    "    hypermodel=tuneLR,\n",
    "    objective=\"val_loss\",\n",
    "    max_epochs=10,\n",
    "    factor=3,\n",
    "    directory=\"hyperparams/Hyperband\",\n",
    "    project_name=\"1\"\n",
    ")\n",
    "band_tuner.search_space_summary()\n",
    "band_tuner.search(train_ds, epochs = 2, validation_data = valid_ds)  "
   ]
  },
  {
   "cell_type": "code",
   "execution_count": null,
   "metadata": {},
   "outputs": [],
   "source": [
    "band_tuner.results_summary()"
   ]
  },
  {
   "cell_type": "markdown",
   "metadata": {},
   "source": [
    "Finally, we try `BayesianOptimization`."
   ]
  },
  {
   "cell_type": "code",
   "execution_count": null,
   "metadata": {},
   "outputs": [],
   "source": [
    "bayes_tuner = keras_tuner.BayesianOptimization(\n",
    "    hypermodel=tuneLR,\n",
    "    objective=\"val_loss\",\n",
    "    max_trials=3,\n",
    "    directory=\"hyperparams/BayesianOptimization\",\n",
    "    project_name=\"1\"\n",
    ")\n",
    "bayes_tuner.search_space_summary()\n",
    "bayes_tuner.search(train_ds, epochs = 2, validation_data = valid_ds) "
   ]
  },
  {
   "cell_type": "code",
   "execution_count": null,
   "metadata": {},
   "outputs": [],
   "source": [
    "bayes_tuner.results_summary()"
   ]
  }
 ],
 "metadata": {
  "kernelspec": {
   "display_name": "Python 3.8.13 ('base')",
   "language": "python",
   "name": "python3"
  },
  "language_info": {
   "codemirror_mode": {
    "name": "ipython",
    "version": 3
   },
   "file_extension": ".py",
   "mimetype": "text/x-python",
   "name": "python",
   "nbconvert_exporter": "python",
   "pygments_lexer": "ipython3",
   "version": "3.8.13"
  },
  "orig_nbformat": 4,
  "vscode": {
   "interpreter": {
    "hash": "214ae085943121352a1c46be52870768915bb1800a79b1ca0ca08a53dfbff110"
   }
  }
 },
 "nbformat": 4,
 "nbformat_minor": 2
}
