{
 "cells": [
  {
   "cell_type": "markdown",
   "metadata": {},
   "source": [
    "# Testing the implementation"
   ]
  },
  {
   "cell_type": "code",
   "execution_count": null,
   "metadata": {},
   "outputs": [],
   "source": [
    "import os\n",
    "import gzip\n",
    "import pathlib\n",
    "import numpy as np\n",
    "import pandas as pd\n",
    "import tensorflow as tf\n",
    "import keras_tuner as kt\n",
    "import tensorflow_datasets as tfds\n",
    "\n",
    "from models import *\n",
    "from trainer import *\n",
    "from preprocess import *\n",
    "from callbacks import *"
   ]
  },
  {
   "cell_type": "markdown",
   "metadata": {},
   "source": [
    "## 0 Data"
   ]
  },
  {
   "cell_type": "code",
   "execution_count": null,
   "metadata": {},
   "outputs": [],
   "source": [
    "parent_path = str(pathlib.Path(os.getcwd()).parent)\n",
    "df = pd.read_csv(os.path.join(parent_path, 'data/processed_data.csv'))\n",
    "df = df.drop(['Unnamed: 0', 'Unnamed: 0.1', 'optionid', 'securityid'], axis=1)\n",
    "df.sample(5)"
   ]
  },
  {
   "cell_type": "markdown",
   "metadata": {},
   "source": [
    "Create the first neueral network that uses the same set of inputs as the *Black-Scholes model*"
   ]
  },
  {
   "cell_type": "code",
   "execution_count": null,
   "metadata": {},
   "outputs": [],
   "source": [
    "dataframe_BS = np.vstack((df['strike'].values,\n",
    "                      df['asset_price'].values,\n",
    "                      df['days_to_maturity'].values,\n",
    "                      df['volatility'].values,\n",
    "                      df['rate'].values,\n",
    "                      df['contract_price'].values)).T                "
   ]
  },
  {
   "cell_type": "code",
   "execution_count": null,
   "metadata": {},
   "outputs": [],
   "source": [
    "train_ds, valid_ds, test_ds = pipeline1(dataframe_BS, scaling=False)\n",
    "\n",
    "train_copy, valid_copy, test_copy = pipeline1(dataframe_BS, prefetch=False)"
   ]
  },
  {
   "cell_type": "markdown",
   "metadata": {},
   "source": [
    "## 1 Start training"
   ]
  },
  {
   "cell_type": "markdown",
   "metadata": {},
   "source": [
    "Define some parameters"
   ]
  },
  {
   "cell_type": "code",
   "execution_count": null,
   "metadata": {},
   "outputs": [],
   "source": [
    "print_num_epochs = 5 # print progress every print_num_epochs epochs\n",
    "\n",
    "path_to_save = os.path.join(parent_path, 'NeuralNetwork/models/')  # path to save the model\n",
    "\n",
    "patience = 10  \n",
    "\n",
    "optimizer = tf.keras.optimizers.Adam(learning_rate=0.001)\n",
    "\n",
    "loss = tf.keras.losses.MeanAbsoluteError(name='loss')\n",
    "\n",
    "metrics = tf.keras.metrics.MeanAbsolutePercentageError(name='accuracy')\n",
    "\n",
    "num_epochs = 10  \n",
    "\n",
    "input_shape = (5,)\n",
    "\n",
    "num_layers = 3\n",
    "\n",
    "hidden_units = [14, 14, 14]\n",
    "\n",
    "output_shape = (1, )\n",
    "\n",
    "batchnorm = True  \n",
    "\n",
    "dropout = None\n",
    "\n",
    "model = getModel(input_shape = input_shape,\n",
    "                num_layers   = num_layers,\n",
    "                 hidden_units = hidden_units,\n",
    "                 output_shape = output_shape,\n",
    "                 batchnorm = batchnorm,\n",
    "                 dropout = dropout)\n",
    "model.summary()"
   ]
  },
  {
   "cell_type": "markdown",
   "metadata": {},
   "source": [
    "Define some callbacks  "
   ]
  },
  {
   "cell_type": "code",
   "execution_count": null,
   "metadata": {},
   "outputs": [],
   "source": [
    "ckpt = CheckpointCallback(path_to_save)\n",
    "printing =PrintProgress(num_epochs=print_num_epochs)\n",
    "early_stop = tf.keras.callbacks.EarlyStopping(patience=patience, monitor='val_loss')\n",
    "callbacks = [ckpt, printing, early_stop]"
   ]
  },
  {
   "cell_type": "code",
   "execution_count": null,
   "metadata": {},
   "outputs": [],
   "source": [
    "# history = compile_and_fit(model,\n",
    "#                           optimizer,\n",
    "#                           loss,\n",
    "#                           num_epochs,\n",
    "#                           train_ds,\n",
    "#                           valid_ds,\n",
    "#                           metrics,\n",
    "#                           callbacks\n",
    "#                           )"
   ]
  },
  {
   "cell_type": "markdown",
   "metadata": {},
   "source": [
    "# 1.1 Tuning the hyperparameters"
   ]
  },
  {
   "cell_type": "markdown",
   "metadata": {},
   "source": [
    "To tune the hyperparameter, we can use `keras_tuner`, which provides `RandomSearch`, `Hyperband`, and `BayesianSearch` methods for searching the best hyperparameters.  \n",
    "\n",
    "To get started, we only tune the number of layers and the hidden units in each layer first, then we tune with learning rate together."
   ]
  },
  {
   "cell_type": "code",
   "execution_count": null,
   "metadata": {},
   "outputs": [],
   "source": [
    "import keras_tuner"
   ]
  },
  {
   "cell_type": "markdown",
   "metadata": {},
   "source": [
    "We initialize the `keras_tuner` object for tuning hyperparameters; currently, there are two hyper models implemented, `tuneLayer` and `tuneLR`"
   ]
  },
  {
   "cell_type": "code",
   "execution_count": 25,
   "metadata": {},
   "outputs": [
    {
     "name": "stdout",
     "output_type": "stream",
     "text": [
      "Search space summary\n",
      "Default search space size: 3\n",
      "num_layers (Int)\n",
      "{'default': None, 'conditions': [], 'min_value': 1, 'max_value': 5, 'step': 1, 'sampling': None}\n",
      "units_1 (Int)\n",
      "{'default': None, 'conditions': [], 'min_value': 5, 'max_value': 50, 'step': 5, 'sampling': None}\n",
      "learning_rate (Float)\n",
      "{'default': 0.0001, 'conditions': [], 'min_value': 0.0001, 'max_value': 0.01, 'step': None, 'sampling': 'log'}\n"
     ]
    }
   ],
   "source": [
    "random_tuner = keras_tuner.RandomSearch(\n",
    "    hypermodel=tuneLR, # the hypermodel to tune # can be tuneLR or tuneLayer\n",
    "    objective=\"val_loss\", ## the objective to optimize\n",
    "    max_trials=3, # the maximum number of trials to run\n",
    "    executions_per_trial=2, # the number of models generated on each trial\n",
    "    overwrite=True, # whether to overwrite previous trials\n",
    "    directory=\"hyperparams/RandomSearch\", # the directory to save the trials\n",
    "    project_name=\"1\", # the name of the project\n",
    ")  \n",
    "\n",
    "# get a summary of the range of hyperparameters to tune\n",
    "random_tuner.search_space_summary()"
   ]
  },
  {
   "cell_type": "code",
   "execution_count": null,
   "metadata": {},
   "outputs": [],
   "source": [
    "# start the search\n",
    "random_tuner.search(train_ds, epochs = 2, validation_data = valid_ds)    "
   ]
  },
  {
   "cell_type": "markdown",
   "metadata": {},
   "source": [
    "Get the best compiled models"
   ]
  },
  {
   "cell_type": "code",
   "execution_count": null,
   "metadata": {},
   "outputs": [],
   "source": [
    "models = random_tuner.get_best_models(num_models=1)\n",
    "best_model = models[0]\n",
    "\n",
    "best_model.summary()"
   ]
  },
  {
   "cell_type": "markdown",
   "metadata": {},
   "source": [
    "We can view the results of the search and use the hyperparameters displayed to train the model."
   ]
  },
  {
   "cell_type": "code",
   "execution_count": null,
   "metadata": {},
   "outputs": [],
   "source": [
    "random_tuner.results_summary()"
   ]
  },
  {
   "cell_type": "markdown",
   "metadata": {},
   "source": [
    "We also try `Hyperband` which generates a large number of models and discard them in a tournament style."
   ]
  },
  {
   "cell_type": "code",
   "execution_count": null,
   "metadata": {},
   "outputs": [],
   "source": [
    "band_tuner = keras_tuner.Hyperband(\n",
    "    hypermodel=tuneLR,\n",
    "    objective=\"val_loss\",\n",
    "    max_epochs=10,\n",
    "    factor=3,\n",
    "    directory=\"hyperparams/Hyperband\",\n",
    "    project_name=\"1\"\n",
    ")\n",
    "band_tuner.search_space_summary()\n",
    "band_tuner.search(train_ds, epochs = 2, validation_data = valid_ds)  "
   ]
  },
  {
   "cell_type": "code",
   "execution_count": null,
   "metadata": {},
   "outputs": [],
   "source": [
    "band_tuner.results_summary()"
   ]
  },
  {
   "cell_type": "markdown",
   "metadata": {},
   "source": [
    "Finally, we try `BayesianOptimization`."
   ]
  },
  {
   "cell_type": "code",
   "execution_count": 27,
   "metadata": {},
   "outputs": [
    {
     "name": "stdout",
     "output_type": "stream",
     "text": [
      "Trial 3 Complete [00h 00m 01s]\n",
      "val_loss: 2.6899940967559814\n",
      "\n",
      "Best val_loss So Far: 2.6899940967559814\n",
      "Total elapsed time: 00h 00m 09s\n",
      "INFO:tensorflow:Oracle triggered exit\n"
     ]
    }
   ],
   "source": [
    "bayes_tuner = keras_tuner.BayesianOptimization(\n",
    "    hypermodel=tuneLR,\n",
    "    objective=\"val_loss\",\n",
    "    max_trials=3,\n",
    "    directory=\"hyperparams/BayesianOptimization\",\n",
    "    project_name=\"1\"\n",
    ")\n",
    "bayes_tuner.search_space_summary()\n",
    "bayes_tuner.search(train_ds, epochs = 2, validation_data = valid_ds) "
   ]
  },
  {
   "cell_type": "code",
   "execution_count": 28,
   "metadata": {},
   "outputs": [
    {
     "name": "stdout",
     "output_type": "stream",
     "text": [
      "Results summary\n",
      "Results in hyperparams/BayesianOptimization/1\n",
      "Showing 10 best trials\n",
      "<keras_tuner.engine.objective.Objective object at 0x2e9d76c40>\n",
      "Trial summary\n",
      "Hyperparameters:\n",
      "num_layers: 1\n",
      "units_1: 5\n",
      "learning_rate: 0.01\n",
      "units_2: 50\n",
      "units_3: 50\n",
      "units_4: 50\n",
      "units_5: 50\n",
      "Score: 2.6899940967559814\n",
      "Trial summary\n",
      "Hyperparameters:\n",
      "num_layers: 4\n",
      "units_1: 20\n",
      "learning_rate: 0.000881825746836976\n",
      "units_2: 35\n",
      "units_3: 25\n",
      "units_4: 45\n",
      "units_5: 35\n",
      "Score: 3.1345088481903076\n",
      "Trial summary\n",
      "Hyperparameters:\n",
      "num_layers: 5\n",
      "units_1: 30\n",
      "learning_rate: 0.00010014380923497382\n",
      "units_2: 5\n",
      "units_3: 5\n",
      "units_4: 5\n",
      "units_5: 5\n",
      "Score: 4.473343372344971\n"
     ]
    }
   ],
   "source": [
    "bayes_tuner.results_summary()"
   ]
  },
  {
   "cell_type": "code",
   "execution_count": null,
   "metadata": {},
   "outputs": [],
   "source": []
  }
 ],
 "metadata": {
  "kernelspec": {
   "display_name": "Python 3.9.13 ('base')",
   "language": "python",
   "name": "python3"
  },
  "language_info": {
   "codemirror_mode": {
    "name": "ipython",
    "version": 3
   },
   "file_extension": ".py",
   "mimetype": "text/x-python",
   "name": "python",
   "nbconvert_exporter": "python",
   "pygments_lexer": "ipython3",
   "version": "3.9.13"
  },
  "orig_nbformat": 4,
  "vscode": {
   "interpreter": {
    "hash": "c63bf7c73efbaa60a9891fdddd1e96dd0cc596469d20228077150d640c222586"
   }
  }
 },
 "nbformat": 4,
 "nbformat_minor": 2
}
