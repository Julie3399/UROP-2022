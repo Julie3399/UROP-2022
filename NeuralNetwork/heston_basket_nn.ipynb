{
 "cells": [
  {
   "cell_type": "code",
   "execution_count": 1,
   "metadata": {},
   "outputs": [
    {
     "name": "stderr",
     "output_type": "stream",
     "text": [
      "/Users/customer/miniforge3/lib/python3.9/site-packages/tqdm/auto.py:22: TqdmWarning: IProgress not found. Please update jupyter and ipywidgets. See https://ipywidgets.readthedocs.io/en/stable/user_install.html\n",
      "  from .autonotebook import tqdm as notebook_tqdm\n"
     ]
    }
   ],
   "source": [
    "import os\n",
    "import gzip\n",
    "import pathlib\n",
    "import numpy as np\n",
    "import pandas as pd\n",
    "import tensorflow as tf\n",
    "import keras_tuner as kt\n",
    "import tensorflow_datasets as tfds\n",
    "\n",
    "from models import *\n",
    "from trainer import *\n",
    "from preprocess import *\n",
    "from callbacks import *"
   ]
  },
  {
   "cell_type": "markdown",
   "metadata": {},
   "source": [
    "# 0 Data"
   ]
  },
  {
   "cell_type": "code",
   "execution_count": null,
   "metadata": {},
   "outputs": [],
   "source": []
  },
  {
   "cell_type": "markdown",
   "metadata": {},
   "source": [
    "# 1 Start Training"
   ]
  },
  {
   "cell_type": "markdown",
   "metadata": {},
   "source": [
    "Define some parameters:"
   ]
  },
  {
   "cell_type": "code",
   "execution_count": null,
   "metadata": {},
   "outputs": [],
   "source": [
    "print_num_epochs = 5 # print progress every print_num_epochs epochs\n",
    "\n",
    "path_to_save = os.path.join(parent_path, 'NeuralNetwork/models/')  # path to save the model\n",
    "\n",
    "patience = 10  \n",
    "\n",
    "num_epochs = 10  \n",
    "\n",
    "output_shape = (1, )"
   ]
  },
  {
   "cell_type": "code",
   "execution_count": null,
   "metadata": {},
   "outputs": [],
   "source": [
    "for dim in [1, 4, 7, 10, 13, 16]:\n",
    "    print(f\"Start training for basket option with size {dim}:\")\n",
    "\n",
    "    random_tuner = keras_tuner.RandomSearch(\n",
    "    hypermodel=tunedModel, # the hypermodel to tune # can be tuneLR or tuneLayer\n",
    "    objective=\"val_loss\", # the objective to optimize\n",
    "    max_trials=3, # the maximum number of trials to run\n",
    "    executions_per_trial=2, # the number of models generated on each trial\n",
    "    overwrite=True, # whether to overwrite previous trials\n",
    "    directory=\"hyperparams/RandomSearch\", # the directory to save the trials\n",
    "    project_name=f\"basket_option_{dim}\", # the name of the project\n",
    "    )  \n",
    "\n",
    "    random_tuner.search_space_summary()\n",
    "    random_tuner.search(train_ds, epochs = 2, validation_data = valid_ds)    \n",
    "\n",
    "    models = random_tuner.get_best_models(num_models=1)\n",
    "    best_model = models[0]\n",
    "    best_model.summary()\n",
    "\n",
    "    random_tuner.results_summary()\n",
    "    \n",
    "    best_model.fit(train_ds, epochs = 5, validation_data = valid_ds)\n"
   ]
  }
 ],
 "metadata": {
  "kernelspec": {
   "display_name": "Python 3.9.13 ('base')",
   "language": "python",
   "name": "python3"
  },
  "language_info": {
   "codemirror_mode": {
    "name": "ipython",
    "version": 3
   },
   "file_extension": ".py",
   "mimetype": "text/x-python",
   "name": "python",
   "nbconvert_exporter": "python",
   "pygments_lexer": "ipython3",
   "version": "3.9.13"
  },
  "orig_nbformat": 4,
  "vscode": {
   "interpreter": {
    "hash": "c63bf7c73efbaa60a9891fdddd1e96dd0cc596469d20228077150d640c222586"
   }
  }
 },
 "nbformat": 4,
 "nbformat_minor": 2
}
