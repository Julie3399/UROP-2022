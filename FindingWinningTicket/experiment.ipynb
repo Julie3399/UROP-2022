{
 "cells": [
  {
   "cell_type": "markdown",
   "metadata": {},
   "source": [
    "# Testing\n",
    "\n",
    "A notebook to test the implementation"
   ]
  },
  {
   "cell_type": "code",
   "execution_count": 1,
   "metadata": {},
   "outputs": [
    {
     "name": "stdout",
     "output_type": "stream",
     "text": [
      "[PhysicalDevice(name='/physical_device:GPU:0', device_type='GPU')]\n"
     ]
    }
   ],
   "source": [
    "import gzip\n",
    "import numpy as np\n",
    "import tensorflow as tf\n",
    "import tensorflow_datasets as tfds\n",
    "import matplotlib.pyplot as plt\n",
    "print(tf.config.list_physical_devices('GPU'))"
   ]
  },
  {
   "cell_type": "code",
   "execution_count": 2,
   "metadata": {},
   "outputs": [
    {
     "name": "stdout",
     "output_type": "stream",
     "text": [
      "Model: \"sequential\"\n",
      "_________________________________________________________________\n",
      " Layer (type)                Output Shape              Param #   \n",
      "=================================================================\n",
      " flatten (Flatten)           (None, 784)               0         \n",
      "                                                                 \n",
      " dense (Dense)               (None, 300)               235500    \n",
      "                                                                 \n",
      " batch_normalization (BatchN  (None, 300)              1200      \n",
      " ormalization)                                                   \n",
      "                                                                 \n",
      "=================================================================\n",
      "Total params: 236,700\n",
      "Trainable params: 236,100\n",
      "Non-trainable params: 600\n",
      "_________________________________________________________________\n"
     ]
    }
   ],
   "source": [
    "model_test = tf.keras.Sequential([tf.keras.layers.Flatten(input_shape=(28, 28)),\n",
    "                                 tf.keras.layers.Dense(300, activation=tf.nn.relu),\n",
    "                                 tf.keras.layers.BatchNormalization()])\n",
    "model_test.summary()"
   ]
  },
  {
   "cell_type": "markdown",
   "metadata": {},
   "source": [
    "## 0 Preprocessing"
   ]
  },
  {
   "cell_type": "markdown",
   "metadata": {},
   "source": [
    "For testing, we use the `MNIST` data. We first extract the data from `gzip` file."
   ]
  },
  {
   "cell_type": "code",
   "execution_count": 3,
   "metadata": {},
   "outputs": [],
   "source": [
    "def normalize_img(image, label):\n",
    "  \"\"\"Normalizes images: `uint8` -> `float32`.\"\"\"\n",
    "  return (tf.cast(image, tf.float32)/255.0 , label)  \n",
    "\n",
    "def preProcess(dset, batch_size):\n",
    "  '''Pre-processes the dataset.'''\n",
    "  dset = dset.map(normalize_img)\n",
    "  dset = dset.shuffle(len(dset))\n",
    "  dset = dset.batch(batch_size)\n",
    "  return dset\n",
    "  \n",
    "# prepare data\n",
    "def get_imgs(dir):\n",
    "    with gzip.open(dir, 'r') as f:\n",
    "        # first 4 bytes (some number)\n",
    "        _ = int.from_bytes(f.read(4), 'big')\n",
    "        # no. of images\n",
    "        num_imgs = int.from_bytes(f.read(4), 'big')\n",
    "        # row count\n",
    "        row_cnt = int.from_bytes(f.read(4), 'big')\n",
    "        # column count\n",
    "        col_cnt = int.from_bytes(f.read(4), 'big')\n",
    "\n",
    "        img_data = f.read()\n",
    "        images = np.frombuffer(img_data, dtype=np.uint8).\\\n",
    "            reshape((num_imgs, row_cnt, col_cnt))\n",
    "        return images\n",
    "\n",
    "def get_labels(dir):\n",
    "    with gzip.open(dir, 'r') as f:\n",
    "        _ = int.from_bytes(f.read(4), 'big')\n",
    "        label_cnt = int.from_bytes(f.read(4), 'big')\n",
    "        print(label_cnt)\n",
    "        label_data = f.read()\n",
    "        labels = np.frombuffer(label_data, dtype=np.uint8)\n",
    "        return labels"
   ]
  },
  {
   "cell_type": "markdown",
   "metadata": {},
   "source": [
    "We now make `dataset`. Note that we used the `tf.data.Dataset.from_tensor_slices` to create dataset from a tuple of numpy arrays; if they were instead lists, then there will be an error"
   ]
  },
  {
   "cell_type": "code",
   "execution_count": 4,
   "metadata": {},
   "outputs": [],
   "source": [
    "def getLocalDset(batch_size = 128):\n",
    "    imgs     = get_imgs('data/train-images-idx3-ubyte.gz')\n",
    "    labels   = get_labels('data/train-labels-idx1-ubyte.gz')\n",
    "    split    = int(0.75*len(imgs))\n",
    "    ds_train = tf.data.Dataset.from_tensor_slices((imgs[:split], labels[:split]))\n",
    "    ds_test  = tf.data.Dataset.from_tensor_slices((imgs[split:], labels[split:]))\n",
    "    print(len(ds_train))\n",
    "    print(len(ds_test))\n",
    "    return preProcess(ds_train, batch_size), preProcess(ds_test, batch_size)"
   ]
  },
  {
   "cell_type": "markdown",
   "metadata": {},
   "source": [
    "We can also get the data by downloading"
   ]
  },
  {
   "cell_type": "code",
   "execution_count": 5,
   "metadata": {},
   "outputs": [
    {
     "name": "stdout",
     "output_type": "stream",
     "text": [
      "\u001b[1mDownloading and preparing dataset Unknown size (download: Unknown size, generated: Unknown size, total: Unknown size) to ~\\tensorflow_datasets\\mnist\\3.0.1...\u001b[0m\n"
     ]
    },
    {
     "data": {
      "application/vnd.jupyter.widget-view+json": {
       "model_id": "dced6fb4d4a945e282f4c43595d7b9a5",
       "version_major": 2,
       "version_minor": 0
      },
      "text/plain": [
       "Dl Completed...: 0 url [00:00, ? url/s]"
      ]
     },
     "metadata": {},
     "output_type": "display_data"
    },
    {
     "data": {
      "application/vnd.jupyter.widget-view+json": {
       "model_id": "4ef34c1fdd0a4bd09108fa68305ca38b",
       "version_major": 2,
       "version_minor": 0
      },
      "text/plain": [
       "Dl Size...: 0 MiB [00:00, ? MiB/s]"
      ]
     },
     "metadata": {},
     "output_type": "display_data"
    },
    {
     "data": {
      "application/vnd.jupyter.widget-view+json": {
       "model_id": "252d05995d78497a991f7f4b17686c57",
       "version_major": 2,
       "version_minor": 0
      },
      "text/plain": [
       "Extraction completed...: 0 file [00:00, ? file/s]"
      ]
     },
     "metadata": {},
     "output_type": "display_data"
    },
    {
     "data": {
      "application/vnd.jupyter.widget-view+json": {
       "model_id": "8cad588f366748149d3620388d792939",
       "version_major": 2,
       "version_minor": 0
      },
      "text/plain": [
       "Generating splits...:   0%|          | 0/2 [00:00<?, ? splits/s]"
      ]
     },
     "metadata": {},
     "output_type": "display_data"
    },
    {
     "data": {
      "application/vnd.jupyter.widget-view+json": {
       "model_id": "85724200366d454fa5254876fa761b5c",
       "version_major": 2,
       "version_minor": 0
      },
      "text/plain": [
       "Generating train examples...: 0 examples [00:00, ? examples/s]"
      ]
     },
     "metadata": {},
     "output_type": "display_data"
    },
    {
     "data": {
      "application/vnd.jupyter.widget-view+json": {
       "model_id": "f363786fdc8041c4a2fb32bbf5dece66",
       "version_major": 2,
       "version_minor": 0
      },
      "text/plain": [
       "Shuffling ~\\tensorflow_datasets\\mnist\\3.0.1.incompleteAFUHB9\\mnist-train.tfrecord*...:   0%|          | 0/6000…"
      ]
     },
     "metadata": {},
     "output_type": "display_data"
    },
    {
     "data": {
      "application/vnd.jupyter.widget-view+json": {
       "model_id": "5563028ddd5d465da6f653b8de07483e",
       "version_major": 2,
       "version_minor": 0
      },
      "text/plain": [
       "Generating test examples...: 0 examples [00:00, ? examples/s]"
      ]
     },
     "metadata": {},
     "output_type": "display_data"
    },
    {
     "data": {
      "application/vnd.jupyter.widget-view+json": {
       "model_id": "43f1aa01ce424ac7ba27189489f29bf8",
       "version_major": 2,
       "version_minor": 0
      },
      "text/plain": [
       "Shuffling ~\\tensorflow_datasets\\mnist\\3.0.1.incompleteAFUHB9\\mnist-test.tfrecord*...:   0%|          | 0/10000…"
      ]
     },
     "metadata": {},
     "output_type": "display_data"
    },
    {
     "name": "stdout",
     "output_type": "stream",
     "text": [
      "\u001b[1mDataset mnist downloaded and prepared to ~\\tensorflow_datasets\\mnist\\3.0.1. Subsequent calls will reuse this data.\u001b[0m\n"
     ]
    }
   ],
   "source": [
    "def fetch_img(ds, batch_size = 128):\n",
    "  ds = ds.cache()\n",
    "  # ds = ds.shuffle(ds_info.splits['train'].num_examples)\n",
    "  ds = ds.batch(batch_size)\n",
    "  # ds = ds.prefetch(tf.data.AUTOTUNE)\n",
    "  return ds\n",
    "\n",
    "def getRemoteDset(batch_size = 128, name = 'MNIST'):\n",
    "\n",
    "  '''Prepares the MNIST dataset for training.'''  \n",
    "\n",
    "  if name == 'MNIST':\n",
    "    (ds_train, ds_test), ds_info = tfds.load(\n",
    "    'mnist',\n",
    "    # split=['test', 'train[0%:10%]','train[10%:]'],\n",
    "    split = ['train', 'test'],\n",
    "    shuffle_files=True,\n",
    "    as_supervised=True,\n",
    "    with_info = True\n",
    "    )\n",
    "\n",
    "  ds_train = ds_train.map(normalize_img, \n",
    "                          num_parallel_calls=tf.data.AUTOTUNE)\n",
    "  ds_test = ds_test.map(normalize_img, \n",
    "                          num_parallel_calls=tf.data.AUTOTUNE)\n",
    "  ds_train = fetch_img(ds_train, batch_size)\n",
    "  ds_test = fetch_img(ds_test, batch_size)\n",
    "\n",
    "  return (ds_train, ds_test), ds_info\n",
    "\n",
    "(ds_train, ds_test), ds_info = getRemoteDset()"
   ]
  },
  {
   "cell_type": "markdown",
   "metadata": {},
   "source": [
    "## 1 Running experiment"
   ]
  },
  {
   "cell_type": "markdown",
   "metadata": {},
   "source": [
    "First define some hyperparameters"
   ]
  },
  {
   "cell_type": "code",
   "execution_count": 6,
   "metadata": {},
   "outputs": [],
   "source": [
    "layers = [300, 100, 10] # use [784, 100, 10]\n",
    "\n",
    "activation = 'relu'\n",
    "\n",
    "lr = 0.001\n",
    "\n",
    "patience = 3\n",
    "\n",
    "loss_fn = tf.keras.losses.SparseCategoricalCrossentropy(from_logits=True)\n",
    "\n",
    "metrics = tf.keras.metrics.SparseCategoricalAccuracy()    \n",
    "\n",
    "train_loss = tf.keras.metrics.Mean\n",
    "\n",
    "train_acc = tf.keras.metrics.SparseCategoricalAccuracy  \n",
    "\n",
    "epochs = 1 # use a much bigger int\n",
    "\n",
    "num_pruning = 1 # use 5 or more  \n",
    "\n",
    "step_perc = 0.5"
   ]
  },
  {
   "cell_type": "code",
   "execution_count": 7,
   "metadata": {},
   "outputs": [],
   "source": [
    "from pruning import *\n",
    "from models import *\n",
    "\n",
    "model_params = {'layers': layers,\n",
    "                'activation': 'relu',\n",
    "                'BatchNorm':True,\n",
    "                'Dropout': [0.5,0.5,0.4],\n",
    "                'optimizer': tf.keras.optimizers.Adam(lr),\n",
    "                'loss_fn': loss_fn,\n",
    "                'metrics': metrics\n",
    "                }\n",
    "\n",
    "train_params = {'train_loss': train_loss,\n",
    "                'train_acc': train_acc,\n",
    "                'patience': 3\n",
    "                }\n",
    "\n",
    "prune_exp = pruning(ds_train, ds_test, model_params,\n",
    "                    train_params,\n",
    "                    epochs, num_pruning, step_perc)\n",
    "                    \n",
    "# prune_exp.test_training()\n",
    "# prune_exp.test_model()"
   ]
  },
  {
   "cell_type": "code",
   "execution_count": 8,
   "metadata": {},
   "outputs": [
    {
     "name": "stdout",
     "output_type": "stream",
     "text": [
      "\n",
      " \n",
      " Iterative pruning round: 0 \n",
      " \n",
      "\n",
      "\n",
      " \n",
      " After pruning, the total no. of nonzero weights is: 266200 \n",
      " \n",
      "\n",
      "\n",
      " Start original model training. \n",
      "\n",
      "Epoch 0 for original\n",
      "OG train acc 0.5376333594322205\n",
      "Original model accuracy 0.9380000233650208 \n",
      "\n",
      "\n",
      " \n",
      " After pruning, the total no. of nonzero weights is: 133100 \n",
      " \n",
      "\n",
      "\n",
      " Start Lottery ticket training \n",
      "\n",
      "Epoch 0 for lottery ticket\n",
      "Ticket train acc 0.531416654586792 \n",
      "\n",
      "Lottery ticket accuracy 0.9322999715805054 \n",
      "\n",
      "\n",
      " Lottery ticket training finished. Highest Accuracy 0.9322999715805054 \n",
      "\n",
      "INFO:tensorflow:Assets written to: saved_models/ticket_acc_0.9322999715805054 pruning round_0\\assets\n"
     ]
    },
    {
     "name": "stderr",
     "output_type": "stream",
     "text": [
      "INFO:tensorflow:Assets written to: saved_models/ticket_acc_0.9322999715805054 pruning round_0\\assets\n"
     ]
    }
   ],
   "source": [
    "prune_exp.prune()"
   ]
  },
  {
   "cell_type": "code",
   "execution_count": 9,
   "metadata": {},
   "outputs": [
    {
     "name": "stdout",
     "output_type": "stream",
     "text": [
      "Removing 20220823-084832\n"
     ]
    }
   ],
   "source": [
    "prune_exp.removeLogs()"
   ]
  },
  {
   "cell_type": "code",
   "execution_count": 10,
   "metadata": {},
   "outputs": [
    {
     "name": "stdout",
     "output_type": "stream",
     "text": [
      "Removing ticket_acc_0.9322999715805054 pruning round_0\n"
     ]
    }
   ],
   "source": [
    "prune_exp.removeModels()"
   ]
  },
  {
   "cell_type": "code",
   "execution_count": null,
   "metadata": {},
   "outputs": [],
   "source": []
  }
 ],
 "metadata": {
  "kernelspec": {
   "display_name": "Python 3.8.13 ('base')",
   "language": "python",
   "name": "python3"
  },
  "language_info": {
   "codemirror_mode": {
    "name": "ipython",
    "version": 3
   },
   "file_extension": ".py",
   "mimetype": "text/x-python",
   "name": "python",
   "nbconvert_exporter": "python",
   "pygments_lexer": "ipython3",
   "version": "3.8.13"
  },
  "orig_nbformat": 4,
  "vscode": {
   "interpreter": {
    "hash": "214ae085943121352a1c46be52870768915bb1800a79b1ca0ca08a53dfbff110"
   }
  }
 },
 "nbformat": 4,
 "nbformat_minor": 2
}
