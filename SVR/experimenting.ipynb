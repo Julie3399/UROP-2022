{
  "cells": [
    {
      "cell_type": "code",
      "execution_count": 90,
      "metadata": {
        "id": "0OL3tD0mC2xK"
      },
      "outputs": [],
      "source": [
        "import pandas as pd\n",
        "import numpy as np\n",
        "import tensorflow as tf\n",
        "from sklearn.svm import SVR\n",
        "import matplotlib.pyplot as plt\n",
        "\n",
        "from preprocess import *\n",
        "\n",
        "from sklearn.model_selection import GridSearchCV, RandomizedSearchCV"
      ]
    },
    {
      "cell_type": "markdown",
      "metadata": {
        "id": "BLj7afMzB2Cy"
      },
      "source": [
        "# 0 Support Vector Regression (SVR) Algorithm"
      ]
    },
    {
      "cell_type": "markdown",
      "metadata": {
        "id": "_-ThLVqLI475"
      },
      "source": [
        "Given a data set $D=\\left\\{x_i, y_i\\right\\}_{i=1}^n$ of $N$ points, the method of $\\varepsilon$-Support Vector Regression(denoted SVR) fits a function $f$ to the data $D$ of the following form:\n",
        "$$\n",
        "f(x)=w^T \\phi(x)+b\n",
        "$$\n",
        "\n",
        "\n",
        "We aim to minimize\n",
        "$$\n",
        "\\frac{1}{2}|| w||^2+C \\sum_{i=1}^n\\left|\\xi_i\\right|\n",
        "$$\n",
        "with constraints\n",
        "$$\n",
        "\\left|y_i-w_i \\phi(x_i)\\right| \\leq \\varepsilon+\\left|\\xi_i\\right|\n",
        "$$\n",
        "where:\n",
        "\n",
        "*   $w, b$: coefficients to be estimated\n",
        "*   $\\phi$: mapping from lower dimensional $x$-space to higer dimensional feature space\n",
        "* $C$: a hyperparameter that can be tuned, as C increases, the tolerence for points outside margin increases\n",
        "* $\\xi$: slack variable, for any data point that falls outside of $\\varepsilon$, its deviation from the margin is denoted as $\\xi$ \n",
        "* $\\varepsilon$ : distance from margins to hyperplane, only data points with absolute error less than or equal to $\\varepsilon$ will be considered\n"
      ]
    },
    {
      "cell_type": "markdown",
      "metadata": {
        "id": "lERWcL7JB8Mh"
      },
      "source": [
        "# 1 Data"
      ]
    },
    {
      "cell_type": "code",
      "execution_count": 13,
      "metadata": {
        "colab": {
          "base_uri": "https://localhost:8080/"
        },
        "id": "8llrjEgFB7si",
        "outputId": "5efcef1f-eef0-4949-b5f5-09d10d353cab"
      },
      "outputs": [
        {
          "name": "stdout",
          "output_type": "stream",
          "text": [
            "Mounted at /content/drive\n"
          ]
        }
      ],
      "source": [
        "from google.colab import drive\n",
        "drive.mount('/content/drive')"
      ]
    },
    {
      "cell_type": "code",
      "execution_count": 14,
      "metadata": {
        "colab": {
          "base_uri": "https://localhost:8080/",
          "height": 287
        },
        "id": "vaJfwjTy2iIa",
        "outputId": "664fdfb9-ebf7-43a7-a740-bc78df29a907"
      },
      "outputs": [
        {
          "data": {
            "text/html": [
              "\n",
              "  <div id=\"df-f0933ebb-47e2-4014-8bb4-279d832eae90\">\n",
              "    <div class=\"colab-df-container\">\n",
              "      <div>\n",
              "<style scoped>\n",
              "    .dataframe tbody tr th:only-of-type {\n",
              "        vertical-align: middle;\n",
              "    }\n",
              "\n",
              "    .dataframe tbody tr th {\n",
              "        vertical-align: top;\n",
              "    }\n",
              "\n",
              "    .dataframe thead th {\n",
              "        text-align: right;\n",
              "    }\n",
              "</style>\n",
              "<table border=\"1\" class=\"dataframe\">\n",
              "  <thead>\n",
              "    <tr style=\"text-align: right;\">\n",
              "      <th></th>\n",
              "      <th>Unnamed: 0</th>\n",
              "      <th>optionid</th>\n",
              "      <th>securityid</th>\n",
              "      <th>strike</th>\n",
              "      <th>callput</th>\n",
              "      <th>date_traded</th>\n",
              "      <th>contract_price</th>\n",
              "      <th>market_price</th>\n",
              "      <th>underlyings_price</th>\n",
              "      <th>contract_volume</th>\n",
              "      <th>days_to_maturity</th>\n",
              "      <th>moneyness</th>\n",
              "      <th>rate</th>\n",
              "      <th>volatility</th>\n",
              "    </tr>\n",
              "  </thead>\n",
              "  <tbody>\n",
              "    <tr>\n",
              "      <th>0</th>\n",
              "      <td>0</td>\n",
              "      <td>150034236.0</td>\n",
              "      <td>504569.0</td>\n",
              "      <td>0.42</td>\n",
              "      <td>C</td>\n",
              "      <td>2006-10-18</td>\n",
              "      <td>0.0715</td>\n",
              "      <td>0.07025</td>\n",
              "      <td>0.488500</td>\n",
              "      <td>5.0</td>\n",
              "      <td>2.0</td>\n",
              "      <td>1.163095</td>\n",
              "      <td>0.053646</td>\n",
              "      <td>0.022956</td>\n",
              "    </tr>\n",
              "    <tr>\n",
              "      <th>1</th>\n",
              "      <td>1</td>\n",
              "      <td>150247468.0</td>\n",
              "      <td>504880.0</td>\n",
              "      <td>40.00</td>\n",
              "      <td>C</td>\n",
              "      <td>2006-10-18</td>\n",
              "      <td>0.1240</td>\n",
              "      <td>0.12250</td>\n",
              "      <td>39.913799</td>\n",
              "      <td>56137.0</td>\n",
              "      <td>2.0</td>\n",
              "      <td>0.997845</td>\n",
              "      <td>0.053646</td>\n",
              "      <td>0.114784</td>\n",
              "    </tr>\n",
              "    <tr>\n",
              "      <th>2</th>\n",
              "      <td>2</td>\n",
              "      <td>150255000.0</td>\n",
              "      <td>506496.0</td>\n",
              "      <td>62.00</td>\n",
              "      <td>C</td>\n",
              "      <td>2006-10-18</td>\n",
              "      <td>0.1720</td>\n",
              "      <td>0.17400</td>\n",
              "      <td>61.827798</td>\n",
              "      <td>27369.0</td>\n",
              "      <td>2.0</td>\n",
              "      <td>0.997223</td>\n",
              "      <td>0.053646</td>\n",
              "      <td>0.106823</td>\n",
              "    </tr>\n",
              "    <tr>\n",
              "      <th>3</th>\n",
              "      <td>3</td>\n",
              "      <td>150255496.0</td>\n",
              "      <td>506497.0</td>\n",
              "      <td>53.50</td>\n",
              "      <td>C</td>\n",
              "      <td>2006-10-18</td>\n",
              "      <td>0.2960</td>\n",
              "      <td>0.26550</td>\n",
              "      <td>53.612900</td>\n",
              "      <td>1224.0</td>\n",
              "      <td>2.0</td>\n",
              "      <td>1.002110</td>\n",
              "      <td>0.053646</td>\n",
              "      <td>0.110336</td>\n",
              "    </tr>\n",
              "    <tr>\n",
              "      <th>4</th>\n",
              "      <td>4</td>\n",
              "      <td>150255498.0</td>\n",
              "      <td>506497.0</td>\n",
              "      <td>54.00</td>\n",
              "      <td>C</td>\n",
              "      <td>2006-10-18</td>\n",
              "      <td>0.0750</td>\n",
              "      <td>0.06450</td>\n",
              "      <td>53.612900</td>\n",
              "      <td>963.0</td>\n",
              "      <td>2.0</td>\n",
              "      <td>0.992831</td>\n",
              "      <td>0.053646</td>\n",
              "      <td>0.110336</td>\n",
              "    </tr>\n",
              "  </tbody>\n",
              "</table>\n",
              "</div>\n",
              "      <button class=\"colab-df-convert\" onclick=\"convertToInteractive('df-f0933ebb-47e2-4014-8bb4-279d832eae90')\"\n",
              "              title=\"Convert this dataframe to an interactive table.\"\n",
              "              style=\"display:none;\">\n",
              "        \n",
              "  <svg xmlns=\"http://www.w3.org/2000/svg\" height=\"24px\"viewBox=\"0 0 24 24\"\n",
              "       width=\"24px\">\n",
              "    <path d=\"M0 0h24v24H0V0z\" fill=\"none\"/>\n",
              "    <path d=\"M18.56 5.44l.94 2.06.94-2.06 2.06-.94-2.06-.94-.94-2.06-.94 2.06-2.06.94zm-11 1L8.5 8.5l.94-2.06 2.06-.94-2.06-.94L8.5 2.5l-.94 2.06-2.06.94zm10 10l.94 2.06.94-2.06 2.06-.94-2.06-.94-.94-2.06-.94 2.06-2.06.94z\"/><path d=\"M17.41 7.96l-1.37-1.37c-.4-.4-.92-.59-1.43-.59-.52 0-1.04.2-1.43.59L10.3 9.45l-7.72 7.72c-.78.78-.78 2.05 0 2.83L4 21.41c.39.39.9.59 1.41.59.51 0 1.02-.2 1.41-.59l7.78-7.78 2.81-2.81c.8-.78.8-2.07 0-2.86zM5.41 20L4 18.59l7.72-7.72 1.47 1.35L5.41 20z\"/>\n",
              "  </svg>\n",
              "      </button>\n",
              "      \n",
              "  <style>\n",
              "    .colab-df-container {\n",
              "      display:flex;\n",
              "      flex-wrap:wrap;\n",
              "      gap: 12px;\n",
              "    }\n",
              "\n",
              "    .colab-df-convert {\n",
              "      background-color: #E8F0FE;\n",
              "      border: none;\n",
              "      border-radius: 50%;\n",
              "      cursor: pointer;\n",
              "      display: none;\n",
              "      fill: #1967D2;\n",
              "      height: 32px;\n",
              "      padding: 0 0 0 0;\n",
              "      width: 32px;\n",
              "    }\n",
              "\n",
              "    .colab-df-convert:hover {\n",
              "      background-color: #E2EBFA;\n",
              "      box-shadow: 0px 1px 2px rgba(60, 64, 67, 0.3), 0px 1px 3px 1px rgba(60, 64, 67, 0.15);\n",
              "      fill: #174EA6;\n",
              "    }\n",
              "\n",
              "    [theme=dark] .colab-df-convert {\n",
              "      background-color: #3B4455;\n",
              "      fill: #D2E3FC;\n",
              "    }\n",
              "\n",
              "    [theme=dark] .colab-df-convert:hover {\n",
              "      background-color: #434B5C;\n",
              "      box-shadow: 0px 1px 3px 1px rgba(0, 0, 0, 0.15);\n",
              "      filter: drop-shadow(0px 1px 2px rgba(0, 0, 0, 0.3));\n",
              "      fill: #FFFFFF;\n",
              "    }\n",
              "  </style>\n",
              "\n",
              "      <script>\n",
              "        const buttonEl =\n",
              "          document.querySelector('#df-f0933ebb-47e2-4014-8bb4-279d832eae90 button.colab-df-convert');\n",
              "        buttonEl.style.display =\n",
              "          google.colab.kernel.accessAllowed ? 'block' : 'none';\n",
              "\n",
              "        async function convertToInteractive(key) {\n",
              "          const element = document.querySelector('#df-f0933ebb-47e2-4014-8bb4-279d832eae90');\n",
              "          const dataTable =\n",
              "            await google.colab.kernel.invokeFunction('convertToInteractive',\n",
              "                                                     [key], {});\n",
              "          if (!dataTable) return;\n",
              "\n",
              "          const docLinkHtml = 'Like what you see? Visit the ' +\n",
              "            '<a target=\"_blank\" href=https://colab.research.google.com/notebooks/data_table.ipynb>data table notebook</a>'\n",
              "            + ' to learn more about interactive tables.';\n",
              "          element.innerHTML = '';\n",
              "          dataTable['output_type'] = 'display_data';\n",
              "          await google.colab.output.renderOutput(dataTable, element);\n",
              "          const docLink = document.createElement('div');\n",
              "          docLink.innerHTML = docLinkHtml;\n",
              "          element.appendChild(docLink);\n",
              "        }\n",
              "      </script>\n",
              "    </div>\n",
              "  </div>\n",
              "  "
            ],
            "text/plain": [
              "   Unnamed: 0     optionid  securityid  strike callput date_traded  \\\n",
              "0           0  150034236.0    504569.0    0.42       C  2006-10-18   \n",
              "1           1  150247468.0    504880.0   40.00       C  2006-10-18   \n",
              "2           2  150255000.0    506496.0   62.00       C  2006-10-18   \n",
              "3           3  150255496.0    506497.0   53.50       C  2006-10-18   \n",
              "4           4  150255498.0    506497.0   54.00       C  2006-10-18   \n",
              "\n",
              "   contract_price  market_price  underlyings_price  contract_volume  \\\n",
              "0          0.0715       0.07025           0.488500              5.0   \n",
              "1          0.1240       0.12250          39.913799          56137.0   \n",
              "2          0.1720       0.17400          61.827798          27369.0   \n",
              "3          0.2960       0.26550          53.612900           1224.0   \n",
              "4          0.0750       0.06450          53.612900            963.0   \n",
              "\n",
              "   days_to_maturity  moneyness      rate  volatility  \n",
              "0               2.0   1.163095  0.053646    0.022956  \n",
              "1               2.0   0.997845  0.053646    0.114784  \n",
              "2               2.0   0.997223  0.053646    0.106823  \n",
              "3               2.0   1.002110  0.053646    0.110336  \n",
              "4               2.0   0.992831  0.053646    0.110336  "
            ]
          },
          "execution_count": 14,
          "metadata": {},
          "output_type": "execute_result"
        }
      ],
      "source": [
        "df = pd.read_csv('/content/drive/MyDrive/data (2).csv')\n",
        "df.head()"
      ]
    },
    {
      "cell_type": "code",
      "execution_count": 17,
      "metadata": {
        "id": "26x4saW0DMOy"
      },
      "outputs": [],
      "source": [
        "dataframe_BS = np.vstack((df['strike'].values,\n",
        "                      df['underlyings_price'].values,\n",
        "                      df['days_to_maturity'].values,\n",
        "                      df['volatility'].values,\n",
        "                      df['rate'].values,\n",
        "                      df['contract_price'].values)).T  "
      ]
    },
    {
      "cell_type": "markdown",
      "metadata": {
        "id": "TAcf7uj-GqNr"
      },
      "source": [
        "Get train and test data in tuples of features and targets. Print out their dimensions to check they are in shapes we want."
      ]
    },
    {
      "cell_type": "code",
      "execution_count": 112,
      "metadata": {
        "colab": {
          "base_uri": "https://localhost:8080/"
        },
        "id": "rQHHJWyu1UvS",
        "outputId": "927ca2f3-c55f-4880-d363-0b6f865b6b7d"
      },
      "outputs": [
        {
          "name": "stdout",
          "output_type": "stream",
          "text": [
            "(85999, 5) (85999,) (21500, 5) (21500,)\n"
          ]
        }
      ],
      "source": [
        "(x_train, y_train) , (x_test, y_test)= propocessed(dataframe_BS)\n",
        "print(np.shape(x_train), np.shape(y_train), np.shape(x_test), np.shape(y_test))"
      ]
    },
    {
      "cell_type": "markdown",
      "metadata": {
        "id": "9MRIgpGFDiby"
      },
      "source": [
        "# 2 Model"
      ]
    },
    {
      "cell_type": "markdown",
      "metadata": {
        "id": "UNeJNhRU2P-A"
      },
      "source": [
        "Fit the model:"
      ]
    },
    {
      "cell_type": "code",
      "execution_count": 113,
      "metadata": {
        "colab": {
          "base_uri": "https://localhost:8080/"
        },
        "id": "yQOsIvloDiEs",
        "outputId": "95fd6cd5-7a52-4fae-98c6-10d6455581dc"
      },
      "outputs": [
        {
          "data": {
            "text/plain": [
              "SVR()"
            ]
          },
          "execution_count": 113,
          "metadata": {},
          "output_type": "execute_result"
        }
      ],
      "source": [
        "regressor = SVR(kernel = 'rbf')\n",
        "regressor.fit(x_train, y_train)"
      ]
    },
    {
      "cell_type": "markdown",
      "metadata": {
        "id": "4xy3LbUg2RY5"
      },
      "source": [
        "Evaluate the model:"
      ]
    },
    {
      "cell_type": "code",
      "execution_count": 114,
      "metadata": {
        "colab": {
          "base_uri": "https://localhost:8080/"
        },
        "id": "ksMnp_0F2Wks",
        "outputId": "129b03fc-b93c-4991-dd17-35297f06124d"
      },
      "outputs": [
        {
          "data": {
            "text/plain": [
              "0.09538321117538016"
            ]
          },
          "execution_count": 114,
          "metadata": {},
          "output_type": "execute_result"
        }
      ],
      "source": [
        "y_pred = regressor.predict(x_test)\n",
        "rmse = np.sqrt(np.mean((y_test-y_pred)**2))\n",
        "rmse"
      ]
    },
    {
      "cell_type": "markdown",
      "metadata": {
        "id": "UnKBHPyQ2csL"
      },
      "source": [
        "# 3 Tuning hyperparameters"
      ]
    },
    {
      "cell_type": "markdown",
      "metadata": {
        "id": "KuClKa-A8P7y"
      },
      "source": [
        "## Set up ranges of hyperparameters for searching"
      ]
    },
    {
      "cell_type": "markdown",
      "metadata": {
        "id": "WWga0vRW41kO"
      },
      "source": [
        "The ranges of hyperparameter are chosen based on experiments in [Practical Option Pricing with\n",
        "Support Vector Regression and MART\n",
        "by\n",
        "Ian I-En Choo\n",
        "Stanford University](http://cs229.stanford.edu/proj2009/Choo.pdf)."
      ]
    },
    {
      "cell_type": "code",
      "execution_count": 115,
      "metadata": {
        "colab": {
          "base_uri": "https://localhost:8080/"
        },
        "id": "KUSwiRo02mDc",
        "outputId": "4d3bc5d9-c4aa-46ce-8611-d995a28b8332"
      },
      "outputs": [
        {
          "name": "stdout",
          "output_type": "stream",
          "text": [
            "The list of values for C are [  10.  100. 1000.]\n",
            "The list of values for epsilon are [0.1   0.01  0.001]\n",
            "The list of values for gamma are [1.e-05 1.e-04 1.e-03 1.e-02]\n"
          ]
        }
      ],
      "source": [
        "C_range = np.logspace(1,3,3)\n",
        "print(f'The list of values for C are {C_range}')\n",
        "\n",
        "epsilon_range = np.logspace(-1,-3,3)\n",
        "print(f'The list of values for epsilon are {epsilon_range}')\n",
        "\n",
        "gamma_range = np.logspace(-5, -2, 4)\n",
        "print(f'The list of values for gamma are {gamma_range}')"
      ]
    },
    {
      "cell_type": "code",
      "execution_count": 116,
      "metadata": {
        "id": "1PlGC9HV307z"
      },
      "outputs": [],
      "source": [
        "param_grid = { \n",
        "    # Regularization parameter\n",
        "    \"C\": C_range,\n",
        "    # Kernel type\n",
        "    \"kernel\": ['rbf', 'poly'],\n",
        "    # margin parameter\n",
        "    \"epsilon\":epsilon_range,\n",
        "    # Gamma is the Kernel coefficient for ‘rbf’, ‘poly’ and ‘sigmoid’\n",
        "    \"gamma\": gamma_range\n",
        "    }\n",
        "\n",
        "# Set up score\n",
        "scoring = ['accuracy']"
      ]
    },
    {
      "cell_type": "markdown",
      "metadata": {
        "id": "HqeUS72-2iL-"
      },
      "source": [
        "## Hyperparameter Tuning Using Grid Search"
      ]
    },
    {
      "cell_type": "code",
      "execution_count": 117,
      "metadata": {
        "id": "ZrXTHl1v4KuX"
      },
      "outputs": [],
      "source": [
        "# Define grid search\n",
        "grid_search = GridSearchCV(estimator=regressor, \n",
        "                           param_grid=param_grid, \n",
        "                           refit= 'neg_root_mean_squared_error', \n",
        "                           verbose=0)"
      ]
    },
    {
      "cell_type": "code",
      "execution_count": null,
      "metadata": {
        "id": "ypN8FiWD4MxB"
      },
      "outputs": [],
      "source": [
        "# Fit grid search\n",
        "grid_result = grid_search.fit(x_train, y_train)\n",
        "# Print grid search summary\n",
        "grid_result"
      ]
    },
    {
      "cell_type": "code",
      "execution_count": null,
      "metadata": {
        "id": "HTtW0EpF4QGN"
      },
      "outputs": [],
      "source": [
        "# Print the best accuracy score for the training dataset\n",
        "print(f'The best accuracy score for the training dataset is {grid_result.best_score_:.4f}')\n",
        "# Print the hyperparameters for the best score\n",
        "print(f'The best hyperparameters are {grid_result.best_params_}')\n",
        "# Print the best accuracy score for the testing dataset\n",
        "print(f'The accuracy score for the testing dataset is {grid_search.score(x_test, y_test):.4f}')"
      ]
    },
    {
      "cell_type": "code",
      "execution_count": null,
      "metadata": {
        "id": "GOVpAawHT5W9"
      },
      "outputs": [],
      "source": [
        "best_regressor = grid_result.best_estimator_\n",
        "y_pred = best_regressor.predict(x_test)\n",
        "rmse = np.sqrt(np.mean((y_test-y_pred)**2))\n",
        "rmse"
      ]
    },
    {
      "cell_type": "markdown",
      "metadata": {
        "id": "HaJJtGrK8Y5v"
      },
      "source": [
        "## Hyperparameter Tuning Using Random Search"
      ]
    },
    {
      "cell_type": "code",
      "execution_count": null,
      "metadata": {
        "id": "VM6YkisO8Zqq"
      },
      "outputs": [],
      "source": [
        "# Define random search\n",
        "random_search = RandomizedSearchCV(estimator=regressor, \n",
        "                           param_distributions=param_grid, \n",
        "                           n_iter=100,\n",
        "                           scoring=scoring, \n",
        "                           refit='accuracy', \n",
        "                           n_jobs=-1, \n",
        "                           cv=kfold, \n",
        "                           verbose=0)\n",
        "# Fit grid search\n",
        "random_result = random_search.fit(x_train, y_train)\n",
        "# Print random search summary\n",
        "random_result"
      ]
    }
  ],
  "metadata": {
    "colab": {
      "collapsed_sections": [],
      "provenance": []
    },
    "kernelspec": {
      "display_name": "Python 3",
      "name": "python3"
    },
    "language_info": {
      "name": "python"
    }
  },
  "nbformat": 4,
  "nbformat_minor": 0
}
